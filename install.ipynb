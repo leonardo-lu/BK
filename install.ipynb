{
 "cells": [
  {
   "cell_type": "markdown",
   "id": "95bc0f49",
   "metadata": {},
   "source": [
    "## Install list"
   ]
  },
  {
   "cell_type": "markdown",
   "id": "61c44cee",
   "metadata": {
    "heading_collapsed": true
   },
   "source": [
    "### Nbextensions 설치"
   ]
  },
  {
   "cell_type": "code",
   "execution_count": 1,
   "id": "49fa1b32",
   "metadata": {
    "hidden": true,
    "scrolled": true
   },
   "outputs": [
    {
     "name": "stdout",
     "output_type": "stream",
     "text": [
      "Collecting jupyter_contrib_nbextensions\n",
      "  Downloading jupyter_contrib_nbextensions-0.5.1-py2.py3-none-any.whl (20.9 MB)\n",
      "Collecting jupyter-latex-envs>=1.3.8\n",
      "  Downloading jupyter_latex_envs-1.4.6.tar.gz (861 kB)\n",
      "Requirement already satisfied: tornado in c:\\users\\administrator\\miniconda3\\lib\\site-packages (from jupyter_contrib_nbextensions) (6.2)\n",
      "Collecting pyyaml\n",
      "  Downloading PyYAML-6.0-cp39-cp39-win_amd64.whl (151 kB)\n",
      "Collecting jupyter-highlight-selected-word>=0.1.1\n",
      "  Downloading jupyter_highlight_selected_word-0.2.0-py2.py3-none-any.whl (11 kB)\n",
      "Requirement already satisfied: nbconvert>=4.2 in c:\\users\\administrator\\miniconda3\\lib\\site-packages (from jupyter_contrib_nbextensions) (6.4.4)\n",
      "Requirement already satisfied: ipython-genutils in c:\\users\\administrator\\miniconda3\\lib\\site-packages (from jupyter_contrib_nbextensions) (0.2.0)\n",
      "Collecting jupyter-nbextensions-configurator>=0.4.0\n",
      "  Downloading jupyter_nbextensions_configurator-0.5.0-py2.py3-none-any.whl (467 kB)\n",
      "Requirement already satisfied: notebook>=4.0 in c:\\users\\administrator\\miniconda3\\lib\\site-packages (from jupyter_contrib_nbextensions) (6.4.12)\n",
      "Requirement already satisfied: jupyter-core in c:\\users\\administrator\\miniconda3\\lib\\site-packages (from jupyter_contrib_nbextensions) (4.11.1)\n",
      "Requirement already satisfied: traitlets>=4.1 in c:\\users\\administrator\\miniconda3\\lib\\site-packages (from jupyter_contrib_nbextensions) (5.1.1)\n",
      "Collecting jupyter-contrib-core>=0.3.3\n",
      "  Downloading jupyter_contrib_core-0.4.0-py2.py3-none-any.whl (17 kB)\n",
      "Collecting lxml\n",
      "  Downloading lxml-4.9.1-cp39-cp39-win_amd64.whl (3.6 MB)\n",
      "Requirement already satisfied: setuptools in c:\\users\\administrator\\miniconda3\\lib\\site-packages (from jupyter-contrib-core>=0.3.3->jupyter_contrib_nbextensions) (61.2.0)\n",
      "Requirement already satisfied: ipython in c:\\users\\administrator\\miniconda3\\lib\\site-packages (from jupyter-latex-envs>=1.3.8->jupyter_contrib_nbextensions) (8.4.0)\n",
      "Requirement already satisfied: jinja2>=2.4 in c:\\users\\administrator\\miniconda3\\lib\\site-packages (from nbconvert>=4.2->jupyter_contrib_nbextensions) (3.1.2)\n",
      "Requirement already satisfied: bleach in c:\\users\\administrator\\miniconda3\\lib\\site-packages (from nbconvert>=4.2->jupyter_contrib_nbextensions) (4.1.0)\n",
      "Requirement already satisfied: jupyterlab-pygments in c:\\users\\administrator\\miniconda3\\lib\\site-packages (from nbconvert>=4.2->jupyter_contrib_nbextensions) (0.1.2)\n",
      "Requirement already satisfied: pandocfilters>=1.4.1 in c:\\users\\administrator\\miniconda3\\lib\\site-packages (from nbconvert>=4.2->jupyter_contrib_nbextensions) (1.5.0)\n",
      "Requirement already satisfied: nbclient<0.6.0,>=0.5.0 in c:\\users\\administrator\\miniconda3\\lib\\site-packages (from nbconvert>=4.2->jupyter_contrib_nbextensions) (0.5.13)\n",
      "Requirement already satisfied: defusedxml in c:\\users\\administrator\\miniconda3\\lib\\site-packages (from nbconvert>=4.2->jupyter_contrib_nbextensions) (0.7.1)\n",
      "Requirement already satisfied: pygments>=2.4.1 in c:\\users\\administrator\\miniconda3\\lib\\site-packages (from nbconvert>=4.2->jupyter_contrib_nbextensions) (2.11.2)\n",
      "Requirement already satisfied: entrypoints>=0.2.2 in c:\\users\\administrator\\miniconda3\\lib\\site-packages (from nbconvert>=4.2->jupyter_contrib_nbextensions) (0.4)\n",
      "Requirement already satisfied: mistune<2,>=0.8.1 in c:\\users\\administrator\\miniconda3\\lib\\site-packages (from nbconvert>=4.2->jupyter_contrib_nbextensions) (0.8.4)\n",
      "Requirement already satisfied: testpath in c:\\users\\administrator\\miniconda3\\lib\\site-packages (from nbconvert>=4.2->jupyter_contrib_nbextensions) (0.6.0)\n",
      "Requirement already satisfied: nbformat>=4.4 in c:\\users\\administrator\\miniconda3\\lib\\site-packages (from nbconvert>=4.2->jupyter_contrib_nbextensions) (5.5.0)\n",
      "Requirement already satisfied: beautifulsoup4 in c:\\users\\administrator\\miniconda3\\lib\\site-packages (from nbconvert>=4.2->jupyter_contrib_nbextensions) (4.11.1)\n",
      "Requirement already satisfied: MarkupSafe>=2.0 in c:\\users\\administrator\\miniconda3\\lib\\site-packages (from jinja2>=2.4->nbconvert>=4.2->jupyter_contrib_nbextensions) (2.1.1)\n",
      "Requirement already satisfied: jupyter-client>=6.1.5 in c:\\users\\administrator\\miniconda3\\lib\\site-packages (from nbclient<0.6.0,>=0.5.0->nbconvert>=4.2->jupyter_contrib_nbextensions) (7.3.5)\n",
      "Requirement already satisfied: nest-asyncio in c:\\users\\administrator\\miniconda3\\lib\\site-packages (from nbclient<0.6.0,>=0.5.0->nbconvert>=4.2->jupyter_contrib_nbextensions) (1.5.5)\n",
      "Requirement already satisfied: python-dateutil>=2.8.2 in c:\\users\\administrator\\miniconda3\\lib\\site-packages (from jupyter-client>=6.1.5->nbclient<0.6.0,>=0.5.0->nbconvert>=4.2->jupyter_contrib_nbextensions) (2.8.2)\n",
      "Requirement already satisfied: pyzmq>=23.0 in c:\\users\\administrator\\miniconda3\\lib\\site-packages (from jupyter-client>=6.1.5->nbclient<0.6.0,>=0.5.0->nbconvert>=4.2->jupyter_contrib_nbextensions) (23.2.0)\n",
      "Requirement already satisfied: pywin32>=1.0 in c:\\users\\administrator\\miniconda3\\lib\\site-packages (from jupyter-core->jupyter_contrib_nbextensions) (302)\n",
      "Requirement already satisfied: jsonschema>=2.6 in c:\\users\\administrator\\miniconda3\\lib\\site-packages (from nbformat>=4.4->nbconvert>=4.2->jupyter_contrib_nbextensions) (4.16.0)\n",
      "Requirement already satisfied: fastjsonschema in c:\\users\\administrator\\miniconda3\\lib\\site-packages (from nbformat>=4.4->nbconvert>=4.2->jupyter_contrib_nbextensions) (2.16.2)\n",
      "Requirement already satisfied: pyrsistent!=0.17.0,!=0.17.1,!=0.17.2,>=0.14.0 in c:\\users\\administrator\\miniconda3\\lib\\site-packages (from jsonschema>=2.6->nbformat>=4.4->nbconvert>=4.2->jupyter_contrib_nbextensions) (0.18.0)\n",
      "Requirement already satisfied: attrs>=17.4.0 in c:\\users\\administrator\\miniconda3\\lib\\site-packages (from jsonschema>=2.6->nbformat>=4.4->nbconvert>=4.2->jupyter_contrib_nbextensions) (21.4.0)\n",
      "Requirement already satisfied: prometheus-client in c:\\users\\administrator\\miniconda3\\lib\\site-packages (from notebook>=4.0->jupyter_contrib_nbextensions) (0.14.1)\n",
      "Requirement already satisfied: ipykernel in c:\\users\\administrator\\miniconda3\\lib\\site-packages (from notebook>=4.0->jupyter_contrib_nbextensions) (6.15.2)\n",
      "Requirement already satisfied: Send2Trash>=1.8.0 in c:\\users\\administrator\\miniconda3\\lib\\site-packages (from notebook>=4.0->jupyter_contrib_nbextensions) (1.8.0)\n",
      "Requirement already satisfied: argon2-cffi in c:\\users\\administrator\\miniconda3\\lib\\site-packages (from notebook>=4.0->jupyter_contrib_nbextensions) (21.3.0)\n",
      "Requirement already satisfied: terminado>=0.8.3 in c:\\users\\administrator\\miniconda3\\lib\\site-packages (from notebook>=4.0->jupyter_contrib_nbextensions) (0.13.1)\n",
      "Requirement already satisfied: six>=1.5 in c:\\users\\administrator\\miniconda3\\lib\\site-packages (from python-dateutil>=2.8.2->jupyter-client>=6.1.5->nbclient<0.6.0,>=0.5.0->nbconvert>=4.2->jupyter_contrib_nbextensions) (1.16.0)\n",
      "Requirement already satisfied: pywinpty>=1.1.0 in c:\\users\\administrator\\miniconda3\\lib\\site-packages (from terminado>=0.8.3->notebook>=4.0->jupyter_contrib_nbextensions) (2.0.2)\n",
      "Requirement already satisfied: argon2-cffi-bindings in c:\\users\\administrator\\miniconda3\\lib\\site-packages (from argon2-cffi->notebook>=4.0->jupyter_contrib_nbextensions) (21.2.0)\n",
      "Requirement already satisfied: cffi>=1.0.1 in c:\\users\\administrator\\miniconda3\\lib\\site-packages (from argon2-cffi-bindings->argon2-cffi->notebook>=4.0->jupyter_contrib_nbextensions) (1.15.0)\n",
      "Requirement already satisfied: pycparser in c:\\users\\administrator\\miniconda3\\lib\\site-packages (from cffi>=1.0.1->argon2-cffi-bindings->argon2-cffi->notebook>=4.0->jupyter_contrib_nbextensions) (2.21)\n",
      "Requirement already satisfied: soupsieve>1.2 in c:\\users\\administrator\\miniconda3\\lib\\site-packages (from beautifulsoup4->nbconvert>=4.2->jupyter_contrib_nbextensions) (2.3.2.post1)\n",
      "Requirement already satisfied: packaging in c:\\users\\administrator\\miniconda3\\lib\\site-packages (from bleach->nbconvert>=4.2->jupyter_contrib_nbextensions) (21.3)\n",
      "Requirement already satisfied: webencodings in c:\\users\\administrator\\miniconda3\\lib\\site-packages (from bleach->nbconvert>=4.2->jupyter_contrib_nbextensions) (0.5.1)\n",
      "Requirement already satisfied: matplotlib-inline>=0.1 in c:\\users\\administrator\\miniconda3\\lib\\site-packages (from ipykernel->notebook>=4.0->jupyter_contrib_nbextensions) (0.1.6)\n",
      "Requirement already satisfied: psutil in c:\\users\\administrator\\miniconda3\\lib\\site-packages (from ipykernel->notebook>=4.0->jupyter_contrib_nbextensions) (5.9.0)\n",
      "Requirement already satisfied: debugpy>=1.0 in c:\\users\\administrator\\miniconda3\\lib\\site-packages (from ipykernel->notebook>=4.0->jupyter_contrib_nbextensions) (1.5.1)\n",
      "Requirement already satisfied: backcall in c:\\users\\administrator\\miniconda3\\lib\\site-packages (from ipython->jupyter-latex-envs>=1.3.8->jupyter_contrib_nbextensions) (0.2.0)\n",
      "Requirement already satisfied: jedi>=0.16 in c:\\users\\administrator\\miniconda3\\lib\\site-packages (from ipython->jupyter-latex-envs>=1.3.8->jupyter_contrib_nbextensions) (0.18.1)\n",
      "Requirement already satisfied: pickleshare in c:\\users\\administrator\\miniconda3\\lib\\site-packages (from ipython->jupyter-latex-envs>=1.3.8->jupyter_contrib_nbextensions) (0.7.5)\n",
      "Requirement already satisfied: colorama in c:\\users\\administrator\\miniconda3\\lib\\site-packages (from ipython->jupyter-latex-envs>=1.3.8->jupyter_contrib_nbextensions) (0.4.4)\n",
      "Requirement already satisfied: stack-data in c:\\users\\administrator\\miniconda3\\lib\\site-packages (from ipython->jupyter-latex-envs>=1.3.8->jupyter_contrib_nbextensions) (0.2.0)\n",
      "Requirement already satisfied: prompt-toolkit!=3.0.0,!=3.0.1,<3.1.0,>=2.0.0 in c:\\users\\administrator\\miniconda3\\lib\\site-packages (from ipython->jupyter-latex-envs>=1.3.8->jupyter_contrib_nbextensions) (3.0.20)\n",
      "Requirement already satisfied: decorator in c:\\users\\administrator\\miniconda3\\lib\\site-packages (from ipython->jupyter-latex-envs>=1.3.8->jupyter_contrib_nbextensions) (5.1.1)\n",
      "Requirement already satisfied: parso<0.9.0,>=0.8.0 in c:\\users\\administrator\\miniconda3\\lib\\site-packages (from jedi>=0.16->ipython->jupyter-latex-envs>=1.3.8->jupyter_contrib_nbextensions) (0.8.3)\n",
      "Requirement already satisfied: wcwidth in c:\\users\\administrator\\miniconda3\\lib\\site-packages (from prompt-toolkit!=3.0.0,!=3.0.1,<3.1.0,>=2.0.0->ipython->jupyter-latex-envs>=1.3.8->jupyter_contrib_nbextensions) (0.2.5)\n",
      "Requirement already satisfied: pyparsing!=3.0.5,>=2.0.2 in c:\\users\\administrator\\miniconda3\\lib\\site-packages (from packaging->bleach->nbconvert>=4.2->jupyter_contrib_nbextensions) (3.0.9)\n",
      "Requirement already satisfied: pure-eval in c:\\users\\administrator\\miniconda3\\lib\\site-packages (from stack-data->ipython->jupyter-latex-envs>=1.3.8->jupyter_contrib_nbextensions) (0.2.2)\n",
      "Requirement already satisfied: executing in c:\\users\\administrator\\miniconda3\\lib\\site-packages (from stack-data->ipython->jupyter-latex-envs>=1.3.8->jupyter_contrib_nbextensions) (0.8.3)\n",
      "Requirement already satisfied: asttokens in c:\\users\\administrator\\miniconda3\\lib\\site-packages (from stack-data->ipython->jupyter-latex-envs>=1.3.8->jupyter_contrib_nbextensions) (2.0.5)\n",
      "Building wheels for collected packages: jupyter-latex-envs\n",
      "  Building wheel for jupyter-latex-envs (setup.py): started\n",
      "  Building wheel for jupyter-latex-envs (setup.py): finished with status 'done'\n",
      "  Created wheel for jupyter-latex-envs: filename=jupyter_latex_envs-1.4.6-py2.py3-none-any.whl size=963413 sha256=f2cdb99b5f69871d4b6500643a7591efb3ab7303e9f1e2be6c41cb43148d184b\n",
      "  Stored in directory: c:\\users\\administrator\\appdata\\local\\pip\\cache\\wheels\\f7\\b5\\78\\f5b899dd8fc137fe0bfe26b382713f6d171c9eac2fb1fa091f\n",
      "Successfully built jupyter-latex-envs\n",
      "Installing collected packages: pyyaml, jupyter-contrib-core, lxml, jupyter-nbextensions-configurator, jupyter-latex-envs, jupyter-highlight-selected-word, jupyter-contrib-nbextensions\n",
      "Successfully installed jupyter-contrib-core-0.4.0 jupyter-contrib-nbextensions-0.5.1 jupyter-highlight-selected-word-0.2.0 jupyter-latex-envs-1.4.6 jupyter-nbextensions-configurator-0.5.0 lxml-4.9.1 pyyaml-6.0\n",
      "Note: you may need to restart the kernel to use updated packages.\n"
     ]
    },
    {
     "name": "stderr",
     "output_type": "stream",
     "text": [
      "[I 19:33:00 InstallContribNbextensionsApp] jupyter contrib nbextension install \n",
      "[I 19:33:00 InstallContribNbextensionsApp] Installing jupyter_contrib_nbextensions nbextension files to jupyter data directory\n",
      "[I 19:33:00 InstallContribNbextensionsApp] Installing C:\\Users\\Administrator\\miniconda3\\lib\\site-packages\\jupyter_contrib_nbextensions\\nbextensions\\addbefore -> addbefore\n",
      "[I 19:33:00 InstallContribNbextensionsApp] Making directory: C:\\ProgramData\\jupyter\\nbextensions\\addbefore\\\n",
      "[I 19:33:00 InstallContribNbextensionsApp] Copying: C:\\Users\\Administrator\\miniconda3\\lib\\site-packages\\jupyter_contrib_nbextensions\\nbextensions\\addbefore\\addbefore.yaml -> C:\\ProgramData\\jupyter\\nbextensions\\addbefore\\addbefore.yaml\n",
      "[I 19:33:00 InstallContribNbextensionsApp] Copying: C:\\Users\\Administrator\\miniconda3\\lib\\site-packages\\jupyter_contrib_nbextensions\\nbextensions\\addbefore\\icon.png -> C:\\ProgramData\\jupyter\\nbextensions\\addbefore\\icon.png\n",
      "[I 19:33:00 InstallContribNbextensionsApp] Copying: C:\\Users\\Administrator\\miniconda3\\lib\\site-packages\\jupyter_contrib_nbextensions\\nbextensions\\addbefore\\main.js -> C:\\ProgramData\\jupyter\\nbextensions\\addbefore\\main.js\n",
      "[I 19:33:00 InstallContribNbextensionsApp] Copying: C:\\Users\\Administrator\\miniconda3\\lib\\site-packages\\jupyter_contrib_nbextensions\\nbextensions\\addbefore\\readme.md -> C:\\ProgramData\\jupyter\\nbextensions\\addbefore\\readme.md\n",
      "[I 19:33:00 InstallContribNbextensionsApp] - Validating: ok\n",
      "[I 19:33:00 InstallContribNbextensionsApp] Installing C:\\Users\\Administrator\\miniconda3\\lib\\site-packages\\jupyter_contrib_nbextensions\\nbextensions\\autosavetime -> autosavetime\n",
      "[I 19:33:00 InstallContribNbextensionsApp] Making directory: C:\\ProgramData\\jupyter\\nbextensions\\autosavetime\\\n",
      "[I 19:33:00 InstallContribNbextensionsApp] Copying: C:\\Users\\Administrator\\miniconda3\\lib\\site-packages\\jupyter_contrib_nbextensions\\nbextensions\\autosavetime\\autosavetime.yaml -> C:\\ProgramData\\jupyter\\nbextensions\\autosavetime\\autosavetime.yaml\n",
      "[I 19:33:00 InstallContribNbextensionsApp] Copying: C:\\Users\\Administrator\\miniconda3\\lib\\site-packages\\jupyter_contrib_nbextensions\\nbextensions\\autosavetime\\icon.png -> C:\\ProgramData\\jupyter\\nbextensions\\autosavetime\\icon.png\n",
      "[I 19:33:00 InstallContribNbextensionsApp] Copying: C:\\Users\\Administrator\\miniconda3\\lib\\site-packages\\jupyter_contrib_nbextensions\\nbextensions\\autosavetime\\main.js -> C:\\ProgramData\\jupyter\\nbextensions\\autosavetime\\main.js\n",
      "[I 19:33:00 InstallContribNbextensionsApp] Copying: C:\\Users\\Administrator\\miniconda3\\lib\\site-packages\\jupyter_contrib_nbextensions\\nbextensions\\autosavetime\\README.md -> C:\\ProgramData\\jupyter\\nbextensions\\autosavetime\\README.md\n",
      "[I 19:33:00 InstallContribNbextensionsApp] - Validating: ok\n",
      "[I 19:33:00 InstallContribNbextensionsApp] Installing C:\\Users\\Administrator\\miniconda3\\lib\\site-packages\\jupyter_contrib_nbextensions\\nbextensions\\autoscroll -> autoscroll\n",
      "[I 19:33:00 InstallContribNbextensionsApp] Making directory: C:\\ProgramData\\jupyter\\nbextensions\\autoscroll\\\n",
      "[I 19:33:00 InstallContribNbextensionsApp] Copying: C:\\Users\\Administrator\\miniconda3\\lib\\site-packages\\jupyter_contrib_nbextensions\\nbextensions\\autoscroll\\autoscroll.yaml -> C:\\ProgramData\\jupyter\\nbextensions\\autoscroll\\autoscroll.yaml\n",
      "[I 19:33:00 InstallContribNbextensionsApp] Copying: C:\\Users\\Administrator\\miniconda3\\lib\\site-packages\\jupyter_contrib_nbextensions\\nbextensions\\autoscroll\\icon.png -> C:\\ProgramData\\jupyter\\nbextensions\\autoscroll\\icon.png\n",
      "[I 19:33:00 InstallContribNbextensionsApp] Copying: C:\\Users\\Administrator\\miniconda3\\lib\\site-packages\\jupyter_contrib_nbextensions\\nbextensions\\autoscroll\\main.js -> C:\\ProgramData\\jupyter\\nbextensions\\autoscroll\\main.js\n",
      "[I 19:33:00 InstallContribNbextensionsApp] Copying: C:\\Users\\Administrator\\miniconda3\\lib\\site-packages\\jupyter_contrib_nbextensions\\nbextensions\\autoscroll\\README.md -> C:\\ProgramData\\jupyter\\nbextensions\\autoscroll\\README.md\n",
      "[I 19:33:00 InstallContribNbextensionsApp] - Validating: ok\n",
      "[I 19:33:00 InstallContribNbextensionsApp] Installing C:\\Users\\Administrator\\miniconda3\\lib\\site-packages\\jupyter_contrib_nbextensions\\nbextensions\\cell_filter -> cell_filter\n",
      "[I 19:33:00 InstallContribNbextensionsApp] Making directory: C:\\ProgramData\\jupyter\\nbextensions\\cell_filter\\\n",
      "[I 19:33:00 InstallContribNbextensionsApp] Copying: C:\\Users\\Administrator\\miniconda3\\lib\\site-packages\\jupyter_contrib_nbextensions\\nbextensions\\cell_filter\\cell_filter.js -> C:\\ProgramData\\jupyter\\nbextensions\\cell_filter\\cell_filter.js\n",
      "[I 19:33:00 InstallContribNbextensionsApp] Copying: C:\\Users\\Administrator\\miniconda3\\lib\\site-packages\\jupyter_contrib_nbextensions\\nbextensions\\cell_filter\\cell_filter.yml -> C:\\ProgramData\\jupyter\\nbextensions\\cell_filter\\cell_filter.yml\n",
      "[I 19:33:00 InstallContribNbextensionsApp] Copying: C:\\Users\\Administrator\\miniconda3\\lib\\site-packages\\jupyter_contrib_nbextensions\\nbextensions\\cell_filter\\README.md -> C:\\ProgramData\\jupyter\\nbextensions\\cell_filter\\README.md\n",
      "[I 19:33:00 InstallContribNbextensionsApp] - Validating: ok\n",
      "[I 19:33:00 InstallContribNbextensionsApp] Installing C:\\Users\\Administrator\\miniconda3\\lib\\site-packages\\jupyter_contrib_nbextensions\\nbextensions\\codefolding -> codefolding\n",
      "[I 19:33:00 InstallContribNbextensionsApp] Making directory: C:\\ProgramData\\jupyter\\nbextensions\\codefolding\\\n",
      "[I 19:33:00 InstallContribNbextensionsApp] Copying: C:\\Users\\Administrator\\miniconda3\\lib\\site-packages\\jupyter_contrib_nbextensions\\nbextensions\\codefolding\\codefolding.yaml -> C:\\ProgramData\\jupyter\\nbextensions\\codefolding\\codefolding.yaml\n",
      "[I 19:33:00 InstallContribNbextensionsApp] Copying: C:\\Users\\Administrator\\miniconda3\\lib\\site-packages\\jupyter_contrib_nbextensions\\nbextensions\\codefolding\\codefolding_editor.png -> C:\\ProgramData\\jupyter\\nbextensions\\codefolding\\codefolding_editor.png\n",
      "[I 19:33:00 InstallContribNbextensionsApp] Copying: C:\\Users\\Administrator\\miniconda3\\lib\\site-packages\\jupyter_contrib_nbextensions\\nbextensions\\codefolding\\codefolding_editor.yaml -> C:\\ProgramData\\jupyter\\nbextensions\\codefolding\\codefolding_editor.yaml\n",
      "[I 19:33:00 InstallContribNbextensionsApp] Copying: C:\\Users\\Administrator\\miniconda3\\lib\\site-packages\\jupyter_contrib_nbextensions\\nbextensions\\codefolding\\codefolding_firstline_folded.png -> C:\\ProgramData\\jupyter\\nbextensions\\codefolding\\codefolding_firstline_folded.png\n",
      "[I 19:33:00 InstallContribNbextensionsApp] Copying: C:\\Users\\Administrator\\miniconda3\\lib\\site-packages\\jupyter_contrib_nbextensions\\nbextensions\\codefolding\\codefolding_firstline_unfolded.png -> C:\\ProgramData\\jupyter\\nbextensions\\codefolding\\codefolding_firstline_unfolded.png\n",
      "[I 19:33:00 InstallContribNbextensionsApp] Copying: C:\\Users\\Administrator\\miniconda3\\lib\\site-packages\\jupyter_contrib_nbextensions\\nbextensions\\codefolding\\codefolding_indent_folded_1.png -> C:\\ProgramData\\jupyter\\nbextensions\\codefolding\\codefolding_indent_folded_1.png\n",
      "[I 19:33:00 InstallContribNbextensionsApp] Copying: C:\\Users\\Administrator\\miniconda3\\lib\\site-packages\\jupyter_contrib_nbextensions\\nbextensions\\codefolding\\codefolding_indent_folded_2.png -> C:\\ProgramData\\jupyter\\nbextensions\\codefolding\\codefolding_indent_folded_2.png\n",
      "[I 19:33:00 InstallContribNbextensionsApp] Copying: C:\\Users\\Administrator\\miniconda3\\lib\\site-packages\\jupyter_contrib_nbextensions\\nbextensions\\codefolding\\codefolding_indent_unfolded.png -> C:\\ProgramData\\jupyter\\nbextensions\\codefolding\\codefolding_indent_unfolded.png\n",
      "[I 19:33:00 InstallContribNbextensionsApp] Copying: C:\\Users\\Administrator\\miniconda3\\lib\\site-packages\\jupyter_contrib_nbextensions\\nbextensions\\codefolding\\edit.js -> C:\\ProgramData\\jupyter\\nbextensions\\codefolding\\edit.js\n",
      "[I 19:33:00 InstallContribNbextensionsApp] Copying: C:\\Users\\Administrator\\miniconda3\\lib\\site-packages\\jupyter_contrib_nbextensions\\nbextensions\\codefolding\\firstline-fold.js -> C:\\ProgramData\\jupyter\\nbextensions\\codefolding\\firstline-fold.js\n",
      "[I 19:33:00 InstallContribNbextensionsApp] Copying: C:\\Users\\Administrator\\miniconda3\\lib\\site-packages\\jupyter_contrib_nbextensions\\nbextensions\\codefolding\\foldgutter.css -> C:\\ProgramData\\jupyter\\nbextensions\\codefolding\\foldgutter.css\n",
      "[I 19:33:00 InstallContribNbextensionsApp] Copying: C:\\Users\\Administrator\\miniconda3\\lib\\site-packages\\jupyter_contrib_nbextensions\\nbextensions\\codefolding\\icon.png -> C:\\ProgramData\\jupyter\\nbextensions\\codefolding\\icon.png\n",
      "[I 19:33:00 InstallContribNbextensionsApp] Copying: C:\\Users\\Administrator\\miniconda3\\lib\\site-packages\\jupyter_contrib_nbextensions\\nbextensions\\codefolding\\magic-fold.js -> C:\\ProgramData\\jupyter\\nbextensions\\codefolding\\magic-fold.js\n",
      "[I 19:33:00 InstallContribNbextensionsApp] Copying: C:\\Users\\Administrator\\miniconda3\\lib\\site-packages\\jupyter_contrib_nbextensions\\nbextensions\\codefolding\\magic-folded.png -> C:\\ProgramData\\jupyter\\nbextensions\\codefolding\\magic-folded.png\n",
      "[I 19:33:00 InstallContribNbextensionsApp] Copying: C:\\Users\\Administrator\\miniconda3\\lib\\site-packages\\jupyter_contrib_nbextensions\\nbextensions\\codefolding\\magic-unfolded.png -> C:\\ProgramData\\jupyter\\nbextensions\\codefolding\\magic-unfolded.png\n",
      "[I 19:33:00 InstallContribNbextensionsApp] Copying: C:\\Users\\Administrator\\miniconda3\\lib\\site-packages\\jupyter_contrib_nbextensions\\nbextensions\\codefolding\\main.js -> C:\\ProgramData\\jupyter\\nbextensions\\codefolding\\main.js\n",
      "[I 19:33:00 InstallContribNbextensionsApp] Copying: C:\\Users\\Administrator\\miniconda3\\lib\\site-packages\\jupyter_contrib_nbextensions\\nbextensions\\codefolding\\readme.md -> C:\\ProgramData\\jupyter\\nbextensions\\codefolding\\readme.md\n",
      "[I 19:33:00 InstallContribNbextensionsApp] - Validating: ok\n",
      "[I 19:33:00 InstallContribNbextensionsApp] Installing C:\\Users\\Administrator\\miniconda3\\lib\\site-packages\\jupyter_contrib_nbextensions\\nbextensions\\codefolding -> codefolding\n",
      "[I 19:33:00 InstallContribNbextensionsApp] Up to date: C:\\ProgramData\\jupyter\\nbextensions\\codefolding\\codefolding.yaml\n",
      "[I 19:33:00 InstallContribNbextensionsApp] Up to date: C:\\ProgramData\\jupyter\\nbextensions\\codefolding\\codefolding_editor.png\n",
      "[I 19:33:00 InstallContribNbextensionsApp] Up to date: C:\\ProgramData\\jupyter\\nbextensions\\codefolding\\codefolding_editor.yaml\n",
      "[I 19:33:00 InstallContribNbextensionsApp] Up to date: C:\\ProgramData\\jupyter\\nbextensions\\codefolding\\codefolding_firstline_folded.png\n",
      "[I 19:33:00 InstallContribNbextensionsApp] Up to date: C:\\ProgramData\\jupyter\\nbextensions\\codefolding\\codefolding_firstline_unfolded.png\n",
      "[I 19:33:00 InstallContribNbextensionsApp] Up to date: C:\\ProgramData\\jupyter\\nbextensions\\codefolding\\codefolding_indent_folded_1.png\n",
      "[I 19:33:00 InstallContribNbextensionsApp] Up to date: C:\\ProgramData\\jupyter\\nbextensions\\codefolding\\codefolding_indent_folded_2.png\n",
      "[I 19:33:00 InstallContribNbextensionsApp] Up to date: C:\\ProgramData\\jupyter\\nbextensions\\codefolding\\codefolding_indent_unfolded.png\n",
      "[I 19:33:00 InstallContribNbextensionsApp] Up to date: C:\\ProgramData\\jupyter\\nbextensions\\codefolding\\edit.js\n",
      "[I 19:33:00 InstallContribNbextensionsApp] Up to date: C:\\ProgramData\\jupyter\\nbextensions\\codefolding\\firstline-fold.js\n",
      "[I 19:33:00 InstallContribNbextensionsApp] Up to date: C:\\ProgramData\\jupyter\\nbextensions\\codefolding\\foldgutter.css\n",
      "[I 19:33:00 InstallContribNbextensionsApp] Up to date: C:\\ProgramData\\jupyter\\nbextensions\\codefolding\\icon.png\n",
      "[I 19:33:00 InstallContribNbextensionsApp] Up to date: C:\\ProgramData\\jupyter\\nbextensions\\codefolding\\magic-fold.js\n",
      "[I 19:33:00 InstallContribNbextensionsApp] Up to date: C:\\ProgramData\\jupyter\\nbextensions\\codefolding\\magic-folded.png\n",
      "[I 19:33:00 InstallContribNbextensionsApp] Up to date: C:\\ProgramData\\jupyter\\nbextensions\\codefolding\\magic-unfolded.png\n",
      "[I 19:33:00 InstallContribNbextensionsApp] Up to date: C:\\ProgramData\\jupyter\\nbextensions\\codefolding\\main.js\n",
      "[I 19:33:00 InstallContribNbextensionsApp] Up to date: C:\\ProgramData\\jupyter\\nbextensions\\codefolding\\readme.md\n",
      "[I 19:33:00 InstallContribNbextensionsApp] - Validating: ok\n",
      "[I 19:33:00 InstallContribNbextensionsApp] Installing C:\\Users\\Administrator\\miniconda3\\lib\\site-packages\\jupyter_contrib_nbextensions\\nbextensions\\codemirror_mode_extensions -> codemirror_mode_extensions\n",
      "[I 19:33:00 InstallContribNbextensionsApp] Making directory: C:\\ProgramData\\jupyter\\nbextensions\\codemirror_mode_extensions\\\n",
      "[I 19:33:00 InstallContribNbextensionsApp] Copying: C:\\Users\\Administrator\\miniconda3\\lib\\site-packages\\jupyter_contrib_nbextensions\\nbextensions\\codemirror_mode_extensions\\codemirror_mode_extensions.yaml -> C:\\ProgramData\\jupyter\\nbextensions\\codemirror_mode_extensions\\codemirror_mode_extensions.yaml\n",
      "[I 19:33:00 InstallContribNbextensionsApp] Copying: C:\\Users\\Administrator\\miniconda3\\lib\\site-packages\\jupyter_contrib_nbextensions\\nbextensions\\codemirror_mode_extensions\\main.js -> C:\\ProgramData\\jupyter\\nbextensions\\codemirror_mode_extensions\\main.js\n",
      "[I 19:33:00 InstallContribNbextensionsApp] - Validating: ok\n",
      "[I 19:33:00 InstallContribNbextensionsApp] Installing C:\\Users\\Administrator\\miniconda3\\lib\\site-packages\\jupyter_contrib_nbextensions\\nbextensions\\code_font_size -> code_font_size\n",
      "[I 19:33:00 InstallContribNbextensionsApp] Making directory: C:\\ProgramData\\jupyter\\nbextensions\\code_font_size\\\n",
      "[I 19:33:00 InstallContribNbextensionsApp] Copying: C:\\Users\\Administrator\\miniconda3\\lib\\site-packages\\jupyter_contrib_nbextensions\\nbextensions\\code_font_size\\code_font_size.js -> C:\\ProgramData\\jupyter\\nbextensions\\code_font_size\\code_font_size.js\n",
      "[I 19:33:00 InstallContribNbextensionsApp] Copying: C:\\Users\\Administrator\\miniconda3\\lib\\site-packages\\jupyter_contrib_nbextensions\\nbextensions\\code_font_size\\code_font_size.yaml -> C:\\ProgramData\\jupyter\\nbextensions\\code_font_size\\code_font_size.yaml\n",
      "[I 19:33:00 InstallContribNbextensionsApp] Copying: C:\\Users\\Administrator\\miniconda3\\lib\\site-packages\\jupyter_contrib_nbextensions\\nbextensions\\code_font_size\\README.md -> C:\\ProgramData\\jupyter\\nbextensions\\code_font_size\\README.md\n",
      "[I 19:33:00 InstallContribNbextensionsApp] - Validating: ok\n",
      "[I 19:33:00 InstallContribNbextensionsApp] Installing C:\\Users\\Administrator\\miniconda3\\lib\\site-packages\\jupyter_contrib_nbextensions\\nbextensions\\code_prettify -> code_prettify\n",
      "[I 19:33:00 InstallContribNbextensionsApp] Making directory: C:\\ProgramData\\jupyter\\nbextensions\\code_prettify\\\n",
      "[I 19:33:00 InstallContribNbextensionsApp] Copying: C:\\Users\\Administrator\\miniconda3\\lib\\site-packages\\jupyter_contrib_nbextensions\\nbextensions\\code_prettify\\2to3.js -> C:\\ProgramData\\jupyter\\nbextensions\\code_prettify\\2to3.js\n",
      "[I 19:33:00 InstallContribNbextensionsApp] Copying: C:\\Users\\Administrator\\miniconda3\\lib\\site-packages\\jupyter_contrib_nbextensions\\nbextensions\\code_prettify\\2to3.yaml -> C:\\ProgramData\\jupyter\\nbextensions\\code_prettify\\2to3.yaml\n",
      "[I 19:33:00 InstallContribNbextensionsApp] Copying: C:\\Users\\Administrator\\miniconda3\\lib\\site-packages\\jupyter_contrib_nbextensions\\nbextensions\\code_prettify\\autopep8.js -> C:\\ProgramData\\jupyter\\nbextensions\\code_prettify\\autopep8.js\n",
      "[I 19:33:00 InstallContribNbextensionsApp] Copying: C:\\Users\\Administrator\\miniconda3\\lib\\site-packages\\jupyter_contrib_nbextensions\\nbextensions\\code_prettify\\autopep8.yaml -> C:\\ProgramData\\jupyter\\nbextensions\\code_prettify\\autopep8.yaml\n",
      "[I 19:33:00 InstallContribNbextensionsApp] Copying: C:\\Users\\Administrator\\miniconda3\\lib\\site-packages\\jupyter_contrib_nbextensions\\nbextensions\\code_prettify\\code_prettify.js -> C:\\ProgramData\\jupyter\\nbextensions\\code_prettify\\code_prettify.js\n",
      "[I 19:33:00 InstallContribNbextensionsApp] Copying: C:\\Users\\Administrator\\miniconda3\\lib\\site-packages\\jupyter_contrib_nbextensions\\nbextensions\\code_prettify\\code_prettify.yaml -> C:\\ProgramData\\jupyter\\nbextensions\\code_prettify\\code_prettify.yaml\n",
      "[I 19:33:00 InstallContribNbextensionsApp] Copying: C:\\Users\\Administrator\\miniconda3\\lib\\site-packages\\jupyter_contrib_nbextensions\\nbextensions\\code_prettify\\demo-jv.gif -> C:\\ProgramData\\jupyter\\nbextensions\\code_prettify\\demo-jv.gif\n",
      "[I 19:33:00 InstallContribNbextensionsApp] Copying: C:\\Users\\Administrator\\miniconda3\\lib\\site-packages\\jupyter_contrib_nbextensions\\nbextensions\\code_prettify\\demo-py.gif -> C:\\ProgramData\\jupyter\\nbextensions\\code_prettify\\demo-py.gif\n",
      "[I 19:33:00 InstallContribNbextensionsApp] Copying: C:\\Users\\Administrator\\miniconda3\\lib\\site-packages\\jupyter_contrib_nbextensions\\nbextensions\\code_prettify\\demo-R.gif -> C:\\ProgramData\\jupyter\\nbextensions\\code_prettify\\demo-R.gif\n",
      "[I 19:33:00 InstallContribNbextensionsApp] Copying: C:\\Users\\Administrator\\miniconda3\\lib\\site-packages\\jupyter_contrib_nbextensions\\nbextensions\\code_prettify\\demo_2to3.gif -> C:\\ProgramData\\jupyter\\nbextensions\\code_prettify\\demo_2to3.gif\n",
      "[I 19:33:00 InstallContribNbextensionsApp] Copying: C:\\Users\\Administrator\\miniconda3\\lib\\site-packages\\jupyter_contrib_nbextensions\\nbextensions\\code_prettify\\isort.js -> C:\\ProgramData\\jupyter\\nbextensions\\code_prettify\\isort.js\n",
      "[I 19:33:00 InstallContribNbextensionsApp] Copying: C:\\Users\\Administrator\\miniconda3\\lib\\site-packages\\jupyter_contrib_nbextensions\\nbextensions\\code_prettify\\isort.yaml -> C:\\ProgramData\\jupyter\\nbextensions\\code_prettify\\isort.yaml\n",
      "[I 19:33:00 InstallContribNbextensionsApp] Copying: C:\\Users\\Administrator\\miniconda3\\lib\\site-packages\\jupyter_contrib_nbextensions\\nbextensions\\code_prettify\\kernel_exec_on_cell.js -> C:\\ProgramData\\jupyter\\nbextensions\\code_prettify\\kernel_exec_on_cell.js\n",
      "[I 19:33:00 InstallContribNbextensionsApp] Copying: C:\\Users\\Administrator\\miniconda3\\lib\\site-packages\\jupyter_contrib_nbextensions\\nbextensions\\code_prettify\\README.md -> C:\\ProgramData\\jupyter\\nbextensions\\code_prettify\\README.md\n",
      "[I 19:33:00 InstallContribNbextensionsApp] Copying: C:\\Users\\Administrator\\miniconda3\\lib\\site-packages\\jupyter_contrib_nbextensions\\nbextensions\\code_prettify\\README_2to3.md -> C:\\ProgramData\\jupyter\\nbextensions\\code_prettify\\README_2to3.md\n",
      "[I 19:33:00 InstallContribNbextensionsApp] Copying: C:\\Users\\Administrator\\miniconda3\\lib\\site-packages\\jupyter_contrib_nbextensions\\nbextensions\\code_prettify\\README_autopep8.md -> C:\\ProgramData\\jupyter\\nbextensions\\code_prettify\\README_autopep8.md\n",
      "[I 19:33:00 InstallContribNbextensionsApp] Copying: C:\\Users\\Administrator\\miniconda3\\lib\\site-packages\\jupyter_contrib_nbextensions\\nbextensions\\code_prettify\\README_code_prettify.md -> C:\\ProgramData\\jupyter\\nbextensions\\code_prettify\\README_code_prettify.md\n",
      "[I 19:33:00 InstallContribNbextensionsApp] Copying: C:\\Users\\Administrator\\miniconda3\\lib\\site-packages\\jupyter_contrib_nbextensions\\nbextensions\\code_prettify\\README_isort.md -> C:\\ProgramData\\jupyter\\nbextensions\\code_prettify\\README_isort.md\n",
      "[I 19:33:00 InstallContribNbextensionsApp] - Validating: ok\n",
      "[I 19:33:00 InstallContribNbextensionsApp] Installing C:\\Users\\Administrator\\miniconda3\\lib\\site-packages\\jupyter_contrib_nbextensions\\nbextensions\\code_prettify -> code_prettify\n",
      "[I 19:33:00 InstallContribNbextensionsApp] Up to date: C:\\ProgramData\\jupyter\\nbextensions\\code_prettify\\2to3.js\n",
      "[I 19:33:00 InstallContribNbextensionsApp] Up to date: C:\\ProgramData\\jupyter\\nbextensions\\code_prettify\\2to3.yaml\n",
      "[I 19:33:00 InstallContribNbextensionsApp] Up to date: C:\\ProgramData\\jupyter\\nbextensions\\code_prettify\\autopep8.js\n",
      "[I 19:33:00 InstallContribNbextensionsApp] Up to date: C:\\ProgramData\\jupyter\\nbextensions\\code_prettify\\autopep8.yaml\n",
      "[I 19:33:00 InstallContribNbextensionsApp] Up to date: C:\\ProgramData\\jupyter\\nbextensions\\code_prettify\\code_prettify.js\n",
      "[I 19:33:00 InstallContribNbextensionsApp] Up to date: C:\\ProgramData\\jupyter\\nbextensions\\code_prettify\\code_prettify.yaml\n",
      "[I 19:33:00 InstallContribNbextensionsApp] Up to date: C:\\ProgramData\\jupyter\\nbextensions\\code_prettify\\demo-jv.gif\n",
      "[I 19:33:00 InstallContribNbextensionsApp] Up to date: C:\\ProgramData\\jupyter\\nbextensions\\code_prettify\\demo-py.gif\n",
      "[I 19:33:00 InstallContribNbextensionsApp] Up to date: C:\\ProgramData\\jupyter\\nbextensions\\code_prettify\\demo-R.gif\n",
      "[I 19:33:00 InstallContribNbextensionsApp] Up to date: C:\\ProgramData\\jupyter\\nbextensions\\code_prettify\\demo_2to3.gif\n",
      "[I 19:33:00 InstallContribNbextensionsApp] Up to date: C:\\ProgramData\\jupyter\\nbextensions\\code_prettify\\isort.js\n",
      "[I 19:33:00 InstallContribNbextensionsApp] Up to date: C:\\ProgramData\\jupyter\\nbextensions\\code_prettify\\isort.yaml\n",
      "[I 19:33:00 InstallContribNbextensionsApp] Up to date: C:\\ProgramData\\jupyter\\nbextensions\\code_prettify\\kernel_exec_on_cell.js\n",
      "[I 19:33:00 InstallContribNbextensionsApp] Up to date: C:\\ProgramData\\jupyter\\nbextensions\\code_prettify\\README.md\n",
      "[I 19:33:00 InstallContribNbextensionsApp] Up to date: C:\\ProgramData\\jupyter\\nbextensions\\code_prettify\\README_2to3.md\n",
      "[I 19:33:00 InstallContribNbextensionsApp] Up to date: C:\\ProgramData\\jupyter\\nbextensions\\code_prettify\\README_autopep8.md\n",
      "[I 19:33:00 InstallContribNbextensionsApp] Up to date: C:\\ProgramData\\jupyter\\nbextensions\\code_prettify\\README_code_prettify.md\n",
      "[I 19:33:00 InstallContribNbextensionsApp] Up to date: C:\\ProgramData\\jupyter\\nbextensions\\code_prettify\\README_isort.md\n",
      "[I 19:33:00 InstallContribNbextensionsApp] - Validating: ok\n",
      "[I 19:33:00 InstallContribNbextensionsApp] Installing C:\\Users\\Administrator\\miniconda3\\lib\\site-packages\\jupyter_contrib_nbextensions\\nbextensions\\code_prettify -> code_prettify\n",
      "[I 19:33:00 InstallContribNbextensionsApp] Up to date: C:\\ProgramData\\jupyter\\nbextensions\\code_prettify\\2to3.js\n",
      "[I 19:33:00 InstallContribNbextensionsApp] Up to date: C:\\ProgramData\\jupyter\\nbextensions\\code_prettify\\2to3.yaml\n",
      "[I 19:33:00 InstallContribNbextensionsApp] Up to date: C:\\ProgramData\\jupyter\\nbextensions\\code_prettify\\autopep8.js\n",
      "[I 19:33:00 InstallContribNbextensionsApp] Up to date: C:\\ProgramData\\jupyter\\nbextensions\\code_prettify\\autopep8.yaml\n",
      "[I 19:33:00 InstallContribNbextensionsApp] Up to date: C:\\ProgramData\\jupyter\\nbextensions\\code_prettify\\code_prettify.js\n",
      "[I 19:33:00 InstallContribNbextensionsApp] Up to date: C:\\ProgramData\\jupyter\\nbextensions\\code_prettify\\code_prettify.yaml\n",
      "[I 19:33:00 InstallContribNbextensionsApp] Up to date: C:\\ProgramData\\jupyter\\nbextensions\\code_prettify\\demo-jv.gif\n",
      "[I 19:33:00 InstallContribNbextensionsApp] Up to date: C:\\ProgramData\\jupyter\\nbextensions\\code_prettify\\demo-py.gif\n",
      "[I 19:33:00 InstallContribNbextensionsApp] Up to date: C:\\ProgramData\\jupyter\\nbextensions\\code_prettify\\demo-R.gif\n",
      "[I 19:33:00 InstallContribNbextensionsApp] Up to date: C:\\ProgramData\\jupyter\\nbextensions\\code_prettify\\demo_2to3.gif\n",
      "[I 19:33:00 InstallContribNbextensionsApp] Up to date: C:\\ProgramData\\jupyter\\nbextensions\\code_prettify\\isort.js\n",
      "[I 19:33:00 InstallContribNbextensionsApp] Up to date: C:\\ProgramData\\jupyter\\nbextensions\\code_prettify\\isort.yaml\n",
      "[I 19:33:00 InstallContribNbextensionsApp] Up to date: C:\\ProgramData\\jupyter\\nbextensions\\code_prettify\\kernel_exec_on_cell.js\n",
      "[I 19:33:00 InstallContribNbextensionsApp] Up to date: C:\\ProgramData\\jupyter\\nbextensions\\code_prettify\\README.md\n",
      "[I 19:33:00 InstallContribNbextensionsApp] Up to date: C:\\ProgramData\\jupyter\\nbextensions\\code_prettify\\README_2to3.md\n",
      "[I 19:33:00 InstallContribNbextensionsApp] Up to date: C:\\ProgramData\\jupyter\\nbextensions\\code_prettify\\README_autopep8.md\n",
      "[I 19:33:00 InstallContribNbextensionsApp] Up to date: C:\\ProgramData\\jupyter\\nbextensions\\code_prettify\\README_code_prettify.md\n",
      "[I 19:33:00 InstallContribNbextensionsApp] Up to date: C:\\ProgramData\\jupyter\\nbextensions\\code_prettify\\README_isort.md\n",
      "[I 19:33:00 InstallContribNbextensionsApp] - Validating: ok\n",
      "[I 19:33:00 InstallContribNbextensionsApp] Installing C:\\Users\\Administrator\\miniconda3\\lib\\site-packages\\jupyter_contrib_nbextensions\\nbextensions\\code_prettify -> code_prettify\n",
      "[I 19:33:00 InstallContribNbextensionsApp] Up to date: C:\\ProgramData\\jupyter\\nbextensions\\code_prettify\\2to3.js\n",
      "[I 19:33:00 InstallContribNbextensionsApp] Up to date: C:\\ProgramData\\jupyter\\nbextensions\\code_prettify\\2to3.yaml\n",
      "[I 19:33:00 InstallContribNbextensionsApp] Up to date: C:\\ProgramData\\jupyter\\nbextensions\\code_prettify\\autopep8.js\n",
      "[I 19:33:00 InstallContribNbextensionsApp] Up to date: C:\\ProgramData\\jupyter\\nbextensions\\code_prettify\\autopep8.yaml\n",
      "[I 19:33:00 InstallContribNbextensionsApp] Up to date: C:\\ProgramData\\jupyter\\nbextensions\\code_prettify\\code_prettify.js\n",
      "[I 19:33:00 InstallContribNbextensionsApp] Up to date: C:\\ProgramData\\jupyter\\nbextensions\\code_prettify\\code_prettify.yaml\n",
      "[I 19:33:00 InstallContribNbextensionsApp] Up to date: C:\\ProgramData\\jupyter\\nbextensions\\code_prettify\\demo-jv.gif\n",
      "[I 19:33:00 InstallContribNbextensionsApp] Up to date: C:\\ProgramData\\jupyter\\nbextensions\\code_prettify\\demo-py.gif\n",
      "[I 19:33:00 InstallContribNbextensionsApp] Up to date: C:\\ProgramData\\jupyter\\nbextensions\\code_prettify\\demo-R.gif\n",
      "[I 19:33:00 InstallContribNbextensionsApp] Up to date: C:\\ProgramData\\jupyter\\nbextensions\\code_prettify\\demo_2to3.gif\n",
      "[I 19:33:00 InstallContribNbextensionsApp] Up to date: C:\\ProgramData\\jupyter\\nbextensions\\code_prettify\\isort.js\n",
      "[I 19:33:00 InstallContribNbextensionsApp] Up to date: C:\\ProgramData\\jupyter\\nbextensions\\code_prettify\\isort.yaml\n",
      "[I 19:33:00 InstallContribNbextensionsApp] Up to date: C:\\ProgramData\\jupyter\\nbextensions\\code_prettify\\kernel_exec_on_cell.js\n",
      "[I 19:33:00 InstallContribNbextensionsApp] Up to date: C:\\ProgramData\\jupyter\\nbextensions\\code_prettify\\README.md\n",
      "[I 19:33:00 InstallContribNbextensionsApp] Up to date: C:\\ProgramData\\jupyter\\nbextensions\\code_prettify\\README_2to3.md\n",
      "[I 19:33:00 InstallContribNbextensionsApp] Up to date: C:\\ProgramData\\jupyter\\nbextensions\\code_prettify\\README_autopep8.md\n",
      "[I 19:33:00 InstallContribNbextensionsApp] Up to date: C:\\ProgramData\\jupyter\\nbextensions\\code_prettify\\README_code_prettify.md\n",
      "[I 19:33:00 InstallContribNbextensionsApp] Up to date: C:\\ProgramData\\jupyter\\nbextensions\\code_prettify\\README_isort.md\n",
      "[I 19:33:00 InstallContribNbextensionsApp] - Validating: ok\n",
      "[I 19:33:00 InstallContribNbextensionsApp] Installing C:\\Users\\Administrator\\miniconda3\\lib\\site-packages\\jupyter_contrib_nbextensions\\nbextensions\\collapsible_headings -> collapsible_headings\n",
      "[I 19:33:00 InstallContribNbextensionsApp] Making directory: C:\\ProgramData\\jupyter\\nbextensions\\collapsible_headings\\\n",
      "[I 19:33:00 InstallContribNbextensionsApp] Copying: C:\\Users\\Administrator\\miniconda3\\lib\\site-packages\\jupyter_contrib_nbextensions\\nbextensions\\collapsible_headings\\collapsible_headings.yaml -> C:\\ProgramData\\jupyter\\nbextensions\\collapsible_headings\\collapsible_headings.yaml\n",
      "[I 19:33:00 InstallContribNbextensionsApp] Copying: C:\\Users\\Administrator\\miniconda3\\lib\\site-packages\\jupyter_contrib_nbextensions\\nbextensions\\collapsible_headings\\icon.png -> C:\\ProgramData\\jupyter\\nbextensions\\collapsible_headings\\icon.png\n",
      "[I 19:33:00 InstallContribNbextensionsApp] Copying: C:\\Users\\Administrator\\miniconda3\\lib\\site-packages\\jupyter_contrib_nbextensions\\nbextensions\\collapsible_headings\\main.css -> C:\\ProgramData\\jupyter\\nbextensions\\collapsible_headings\\main.css\n",
      "[I 19:33:00 InstallContribNbextensionsApp] Copying: C:\\Users\\Administrator\\miniconda3\\lib\\site-packages\\jupyter_contrib_nbextensions\\nbextensions\\collapsible_headings\\main.js -> C:\\ProgramData\\jupyter\\nbextensions\\collapsible_headings\\main.js\n",
      "[I 19:33:00 InstallContribNbextensionsApp] Copying: C:\\Users\\Administrator\\miniconda3\\lib\\site-packages\\jupyter_contrib_nbextensions\\nbextensions\\collapsible_headings\\readme.md -> C:\\ProgramData\\jupyter\\nbextensions\\collapsible_headings\\readme.md\n",
      "[I 19:33:00 InstallContribNbextensionsApp] Copying: C:\\Users\\Administrator\\miniconda3\\lib\\site-packages\\jupyter_contrib_nbextensions\\nbextensions\\collapsible_headings\\screenshot.png -> C:\\ProgramData\\jupyter\\nbextensions\\collapsible_headings\\screenshot.png\n",
      "[I 19:33:00 InstallContribNbextensionsApp] - Validating: ok\n",
      "[I 19:33:00 InstallContribNbextensionsApp] Installing C:\\Users\\Administrator\\miniconda3\\lib\\site-packages\\jupyter_contrib_nbextensions\\nbextensions\\comment-uncomment -> comment-uncomment\n",
      "[I 19:33:00 InstallContribNbextensionsApp] Making directory: C:\\ProgramData\\jupyter\\nbextensions\\comment-uncomment\\\n",
      "[I 19:33:00 InstallContribNbextensionsApp] Copying: C:\\Users\\Administrator\\miniconda3\\lib\\site-packages\\jupyter_contrib_nbextensions\\nbextensions\\comment-uncomment\\comment-uncomment.yaml -> C:\\ProgramData\\jupyter\\nbextensions\\comment-uncomment\\comment-uncomment.yaml\n",
      "[I 19:33:00 InstallContribNbextensionsApp] Copying: C:\\Users\\Administrator\\miniconda3\\lib\\site-packages\\jupyter_contrib_nbextensions\\nbextensions\\comment-uncomment\\icon.png -> C:\\ProgramData\\jupyter\\nbextensions\\comment-uncomment\\icon.png\n",
      "[I 19:33:00 InstallContribNbextensionsApp] Copying: C:\\Users\\Administrator\\miniconda3\\lib\\site-packages\\jupyter_contrib_nbextensions\\nbextensions\\comment-uncomment\\main.js -> C:\\ProgramData\\jupyter\\nbextensions\\comment-uncomment\\main.js\n",
      "[I 19:33:00 InstallContribNbextensionsApp] Copying: C:\\Users\\Administrator\\miniconda3\\lib\\site-packages\\jupyter_contrib_nbextensions\\nbextensions\\comment-uncomment\\readme.md -> C:\\ProgramData\\jupyter\\nbextensions\\comment-uncomment\\readme.md\n",
      "[I 19:33:00 InstallContribNbextensionsApp] - Validating: ok\n",
      "[I 19:33:00 InstallContribNbextensionsApp] Installing C:\\Users\\Administrator\\miniconda3\\lib\\site-packages\\jupyter_contrib_nbextensions\\nbextensions\\contrib_nbextensions_help_item -> contrib_nbextensions_help_item\n",
      "[I 19:33:00 InstallContribNbextensionsApp] Making directory: C:\\ProgramData\\jupyter\\nbextensions\\contrib_nbextensions_help_item\\\n",
      "[I 19:33:00 InstallContribNbextensionsApp] Copying: C:\\Users\\Administrator\\miniconda3\\lib\\site-packages\\jupyter_contrib_nbextensions\\nbextensions\\contrib_nbextensions_help_item\\contrib_nbextensions_help_item.yaml -> C:\\ProgramData\\jupyter\\nbextensions\\contrib_nbextensions_help_item\\contrib_nbextensions_help_item.yaml\n",
      "[I 19:33:00 InstallContribNbextensionsApp] Copying: C:\\Users\\Administrator\\miniconda3\\lib\\site-packages\\jupyter_contrib_nbextensions\\nbextensions\\contrib_nbextensions_help_item\\main.js -> C:\\ProgramData\\jupyter\\nbextensions\\contrib_nbextensions_help_item\\main.js\n",
      "[I 19:33:00 InstallContribNbextensionsApp] Copying: C:\\Users\\Administrator\\miniconda3\\lib\\site-packages\\jupyter_contrib_nbextensions\\nbextensions\\contrib_nbextensions_help_item\\README.md -> C:\\ProgramData\\jupyter\\nbextensions\\contrib_nbextensions_help_item\\README.md\n",
      "[I 19:33:00 InstallContribNbextensionsApp] - Validating: ok\n",
      "[I 19:33:00 InstallContribNbextensionsApp] Installing C:\\Users\\Administrator\\miniconda3\\lib\\site-packages\\jupyter_contrib_nbextensions\\nbextensions\\datestamper -> datestamper\n",
      "[I 19:33:00 InstallContribNbextensionsApp] Making directory: C:\\ProgramData\\jupyter\\nbextensions\\datestamper\\\n",
      "[I 19:33:00 InstallContribNbextensionsApp] Copying: C:\\Users\\Administrator\\miniconda3\\lib\\site-packages\\jupyter_contrib_nbextensions\\nbextensions\\datestamper\\icon.png -> C:\\ProgramData\\jupyter\\nbextensions\\datestamper\\icon.png\n",
      "[I 19:33:00 InstallContribNbextensionsApp] Copying: C:\\Users\\Administrator\\miniconda3\\lib\\site-packages\\jupyter_contrib_nbextensions\\nbextensions\\datestamper\\main.js -> C:\\ProgramData\\jupyter\\nbextensions\\datestamper\\main.js\n",
      "[I 19:33:00 InstallContribNbextensionsApp] Copying: C:\\Users\\Administrator\\miniconda3\\lib\\site-packages\\jupyter_contrib_nbextensions\\nbextensions\\datestamper\\main.yaml -> C:\\ProgramData\\jupyter\\nbextensions\\datestamper\\main.yaml\n",
      "[I 19:33:00 InstallContribNbextensionsApp] Copying: C:\\Users\\Administrator\\miniconda3\\lib\\site-packages\\jupyter_contrib_nbextensions\\nbextensions\\datestamper\\readme.md -> C:\\ProgramData\\jupyter\\nbextensions\\datestamper\\readme.md\n",
      "[I 19:33:00 InstallContribNbextensionsApp] - Validating: ok\n",
      "[I 19:33:00 InstallContribNbextensionsApp] Installing C:\\Users\\Administrator\\miniconda3\\lib\\site-packages\\jupyter_contrib_nbextensions\\nbextensions\\equation-numbering -> equation-numbering\n",
      "[I 19:33:00 InstallContribNbextensionsApp] Making directory: C:\\ProgramData\\jupyter\\nbextensions\\equation-numbering\\\n",
      "[I 19:33:00 InstallContribNbextensionsApp] Copying: C:\\Users\\Administrator\\miniconda3\\lib\\site-packages\\jupyter_contrib_nbextensions\\nbextensions\\equation-numbering\\button.png -> C:\\ProgramData\\jupyter\\nbextensions\\equation-numbering\\button.png\n",
      "[I 19:33:00 InstallContribNbextensionsApp] Copying: C:\\Users\\Administrator\\miniconda3\\lib\\site-packages\\jupyter_contrib_nbextensions\\nbextensions\\equation-numbering\\icon.png -> C:\\ProgramData\\jupyter\\nbextensions\\equation-numbering\\icon.png\n",
      "[I 19:33:00 InstallContribNbextensionsApp] Copying: C:\\Users\\Administrator\\miniconda3\\lib\\site-packages\\jupyter_contrib_nbextensions\\nbextensions\\equation-numbering\\info.yaml -> C:\\ProgramData\\jupyter\\nbextensions\\equation-numbering\\info.yaml\n",
      "[I 19:33:00 InstallContribNbextensionsApp] Copying: C:\\Users\\Administrator\\miniconda3\\lib\\site-packages\\jupyter_contrib_nbextensions\\nbextensions\\equation-numbering\\main.js -> C:\\ProgramData\\jupyter\\nbextensions\\equation-numbering\\main.js\n",
      "[I 19:33:00 InstallContribNbextensionsApp] Copying: C:\\Users\\Administrator\\miniconda3\\lib\\site-packages\\jupyter_contrib_nbextensions\\nbextensions\\equation-numbering\\readme.md -> C:\\ProgramData\\jupyter\\nbextensions\\equation-numbering\\readme.md\n",
      "[I 19:33:00 InstallContribNbextensionsApp] - Validating: ok\n",
      "[I 19:33:00 InstallContribNbextensionsApp] Installing C:\\Users\\Administrator\\miniconda3\\lib\\site-packages\\jupyter_contrib_nbextensions\\nbextensions\\execute_time -> execute_time\n",
      "[I 19:33:00 InstallContribNbextensionsApp] Making directory: C:\\ProgramData\\jupyter\\nbextensions\\execute_time\\\n",
      "[I 19:33:00 InstallContribNbextensionsApp] Copying: C:\\Users\\Administrator\\miniconda3\\lib\\site-packages\\jupyter_contrib_nbextensions\\nbextensions\\execute_time\\ExecuteTime.css -> C:\\ProgramData\\jupyter\\nbextensions\\execute_time\\ExecuteTime.css\n",
      "[I 19:33:00 InstallContribNbextensionsApp] Copying: C:\\Users\\Administrator\\miniconda3\\lib\\site-packages\\jupyter_contrib_nbextensions\\nbextensions\\execute_time\\ExecuteTime.js -> C:\\ProgramData\\jupyter\\nbextensions\\execute_time\\ExecuteTime.js\n",
      "[I 19:33:00 InstallContribNbextensionsApp] Copying: C:\\Users\\Administrator\\miniconda3\\lib\\site-packages\\jupyter_contrib_nbextensions\\nbextensions\\execute_time\\ExecuteTime.yaml -> C:\\ProgramData\\jupyter\\nbextensions\\execute_time\\ExecuteTime.yaml\n",
      "[I 19:33:00 InstallContribNbextensionsApp] Copying: C:\\Users\\Administrator\\miniconda3\\lib\\site-packages\\jupyter_contrib_nbextensions\\nbextensions\\execute_time\\execution-timings-box.png -> C:\\ProgramData\\jupyter\\nbextensions\\execute_time\\execution-timings-box.png\n",
      "[I 19:33:00 InstallContribNbextensionsApp] Copying: C:\\Users\\Administrator\\miniconda3\\lib\\site-packages\\jupyter_contrib_nbextensions\\nbextensions\\execute_time\\execution-timings-menu.png -> C:\\ProgramData\\jupyter\\nbextensions\\execute_time\\execution-timings-menu.png\n",
      "[I 19:33:00 InstallContribNbextensionsApp] Copying: C:\\Users\\Administrator\\miniconda3\\lib\\site-packages\\jupyter_contrib_nbextensions\\nbextensions\\execute_time\\icon.png -> C:\\ProgramData\\jupyter\\nbextensions\\execute_time\\icon.png\n",
      "[I 19:33:00 InstallContribNbextensionsApp] Copying: C:\\Users\\Administrator\\miniconda3\\lib\\site-packages\\jupyter_contrib_nbextensions\\nbextensions\\execute_time\\readme.md -> C:\\ProgramData\\jupyter\\nbextensions\\execute_time\\readme.md\n",
      "[I 19:33:00 InstallContribNbextensionsApp] - Validating: ok\n",
      "[I 19:33:00 InstallContribNbextensionsApp] Installing C:\\Users\\Administrator\\miniconda3\\lib\\site-packages\\jupyter_contrib_nbextensions\\nbextensions\\execution_dependencies -> execution_dependencies\n",
      "[I 19:33:00 InstallContribNbextensionsApp] Making directory: C:\\ProgramData\\jupyter\\nbextensions\\execution_dependencies\\\n",
      "[I 19:33:00 InstallContribNbextensionsApp] Copying: C:\\Users\\Administrator\\miniconda3\\lib\\site-packages\\jupyter_contrib_nbextensions\\nbextensions\\execution_dependencies\\execution_dependencies.js -> C:\\ProgramData\\jupyter\\nbextensions\\execution_dependencies\\execution_dependencies.js\n",
      "[I 19:33:00 InstallContribNbextensionsApp] Copying: C:\\Users\\Administrator\\miniconda3\\lib\\site-packages\\jupyter_contrib_nbextensions\\nbextensions\\execution_dependencies\\execution_dependencies.yml -> C:\\ProgramData\\jupyter\\nbextensions\\execution_dependencies\\execution_dependencies.yml\n",
      "[I 19:33:00 InstallContribNbextensionsApp] Copying: C:\\Users\\Administrator\\miniconda3\\lib\\site-packages\\jupyter_contrib_nbextensions\\nbextensions\\execution_dependencies\\README.md -> C:\\ProgramData\\jupyter\\nbextensions\\execution_dependencies\\README.md\n",
      "[I 19:33:00 InstallContribNbextensionsApp] - Validating: ok\n",
      "[I 19:33:00 InstallContribNbextensionsApp] Installing C:\\Users\\Administrator\\miniconda3\\lib\\site-packages\\jupyter_contrib_nbextensions\\nbextensions\\exercise -> exercise\n",
      "[I 19:33:00 InstallContribNbextensionsApp] Making directory: C:\\ProgramData\\jupyter\\nbextensions\\exercise\\\n",
      "[I 19:33:00 InstallContribNbextensionsApp] Copying: C:\\Users\\Administrator\\miniconda3\\lib\\site-packages\\jupyter_contrib_nbextensions\\nbextensions\\exercise\\exercise.yaml -> C:\\ProgramData\\jupyter\\nbextensions\\exercise\\exercise.yaml\n",
      "[I 19:33:00 InstallContribNbextensionsApp] Copying: C:\\Users\\Administrator\\miniconda3\\lib\\site-packages\\jupyter_contrib_nbextensions\\nbextensions\\exercise\\history.md -> C:\\ProgramData\\jupyter\\nbextensions\\exercise\\history.md\n",
      "[I 19:33:00 InstallContribNbextensionsApp] Copying: C:\\Users\\Administrator\\miniconda3\\lib\\site-packages\\jupyter_contrib_nbextensions\\nbextensions\\exercise\\icon.png -> C:\\ProgramData\\jupyter\\nbextensions\\exercise\\icon.png\n",
      "[I 19:33:00 InstallContribNbextensionsApp] Copying: C:\\Users\\Administrator\\miniconda3\\lib\\site-packages\\jupyter_contrib_nbextensions\\nbextensions\\exercise\\image.gif -> C:\\ProgramData\\jupyter\\nbextensions\\exercise\\image.gif\n",
      "[I 19:33:00 InstallContribNbextensionsApp] Copying: C:\\Users\\Administrator\\miniconda3\\lib\\site-packages\\jupyter_contrib_nbextensions\\nbextensions\\exercise\\main.css -> C:\\ProgramData\\jupyter\\nbextensions\\exercise\\main.css\n",
      "[I 19:33:00 InstallContribNbextensionsApp] Copying: C:\\Users\\Administrator\\miniconda3\\lib\\site-packages\\jupyter_contrib_nbextensions\\nbextensions\\exercise\\main.js -> C:\\ProgramData\\jupyter\\nbextensions\\exercise\\main.js\n",
      "[I 19:33:00 InstallContribNbextensionsApp] Copying: C:\\Users\\Administrator\\miniconda3\\lib\\site-packages\\jupyter_contrib_nbextensions\\nbextensions\\exercise\\readme.md -> C:\\ProgramData\\jupyter\\nbextensions\\exercise\\readme.md\n",
      "[I 19:33:00 InstallContribNbextensionsApp] - Validating: ok\n",
      "[I 19:33:00 InstallContribNbextensionsApp] Installing C:\\Users\\Administrator\\miniconda3\\lib\\site-packages\\jupyter_contrib_nbextensions\\nbextensions\\exercise2 -> exercise2\n",
      "[I 19:33:00 InstallContribNbextensionsApp] Making directory: C:\\ProgramData\\jupyter\\nbextensions\\exercise2\\\n",
      "[I 19:33:00 InstallContribNbextensionsApp] Copying: C:\\Users\\Administrator\\miniconda3\\lib\\site-packages\\jupyter_contrib_nbextensions\\nbextensions\\exercise2\\exercise2.yaml -> C:\\ProgramData\\jupyter\\nbextensions\\exercise2\\exercise2.yaml\n",
      "[I 19:33:00 InstallContribNbextensionsApp] Copying: C:\\Users\\Administrator\\miniconda3\\lib\\site-packages\\jupyter_contrib_nbextensions\\nbextensions\\exercise2\\icon.png -> C:\\ProgramData\\jupyter\\nbextensions\\exercise2\\icon.png\n",
      "[I 19:33:00 InstallContribNbextensionsApp] Copying: C:\\Users\\Administrator\\miniconda3\\lib\\site-packages\\jupyter_contrib_nbextensions\\nbextensions\\exercise2\\image.gif -> C:\\ProgramData\\jupyter\\nbextensions\\exercise2\\image.gif\n",
      "[I 19:33:00 InstallContribNbextensionsApp] Copying: C:\\Users\\Administrator\\miniconda3\\lib\\site-packages\\jupyter_contrib_nbextensions\\nbextensions\\exercise2\\main.css -> C:\\ProgramData\\jupyter\\nbextensions\\exercise2\\main.css\n",
      "[I 19:33:00 InstallContribNbextensionsApp] Copying: C:\\Users\\Administrator\\miniconda3\\lib\\site-packages\\jupyter_contrib_nbextensions\\nbextensions\\exercise2\\main.js -> C:\\ProgramData\\jupyter\\nbextensions\\exercise2\\main.js\n",
      "[I 19:33:00 InstallContribNbextensionsApp] Copying: C:\\Users\\Administrator\\miniconda3\\lib\\site-packages\\jupyter_contrib_nbextensions\\nbextensions\\exercise2\\readme.md -> C:\\ProgramData\\jupyter\\nbextensions\\exercise2\\readme.md\n",
      "[I 19:33:00 InstallContribNbextensionsApp] - Validating: ok\n",
      "[I 19:33:00 InstallContribNbextensionsApp] Installing C:\\Users\\Administrator\\miniconda3\\lib\\site-packages\\jupyter_contrib_nbextensions\\nbextensions\\export_embedded -> export_embedded\n",
      "[I 19:33:00 InstallContribNbextensionsApp] Making directory: C:\\ProgramData\\jupyter\\nbextensions\\export_embedded\\\n",
      "[I 19:33:00 InstallContribNbextensionsApp] Copying: C:\\Users\\Administrator\\miniconda3\\lib\\site-packages\\jupyter_contrib_nbextensions\\nbextensions\\export_embedded\\export_embedded.yaml -> C:\\ProgramData\\jupyter\\nbextensions\\export_embedded\\export_embedded.yaml\n",
      "[I 19:33:00 InstallContribNbextensionsApp] Copying: C:\\Users\\Administrator\\miniconda3\\lib\\site-packages\\jupyter_contrib_nbextensions\\nbextensions\\export_embedded\\icon.png -> C:\\ProgramData\\jupyter\\nbextensions\\export_embedded\\icon.png\n",
      "[I 19:33:00 InstallContribNbextensionsApp] Copying: C:\\Users\\Administrator\\miniconda3\\lib\\site-packages\\jupyter_contrib_nbextensions\\nbextensions\\export_embedded\\main.js -> C:\\ProgramData\\jupyter\\nbextensions\\export_embedded\\main.js\n",
      "[I 19:33:00 InstallContribNbextensionsApp] Copying: C:\\Users\\Administrator\\miniconda3\\lib\\site-packages\\jupyter_contrib_nbextensions\\nbextensions\\export_embedded\\readme.md -> C:\\ProgramData\\jupyter\\nbextensions\\export_embedded\\readme.md\n",
      "[I 19:33:00 InstallContribNbextensionsApp] - Validating: ok\n",
      "[I 19:33:00 InstallContribNbextensionsApp] Installing C:\\Users\\Administrator\\miniconda3\\lib\\site-packages\\jupyter_contrib_nbextensions\\nbextensions\\freeze -> freeze\n",
      "[I 19:33:00 InstallContribNbextensionsApp] Making directory: C:\\ProgramData\\jupyter\\nbextensions\\freeze\\\n",
      "[I 19:33:00 InstallContribNbextensionsApp] Copying: C:\\Users\\Administrator\\miniconda3\\lib\\site-packages\\jupyter_contrib_nbextensions\\nbextensions\\freeze\\config.yaml -> C:\\ProgramData\\jupyter\\nbextensions\\freeze\\config.yaml\n",
      "[I 19:33:00 InstallContribNbextensionsApp] Copying: C:\\Users\\Administrator\\miniconda3\\lib\\site-packages\\jupyter_contrib_nbextensions\\nbextensions\\freeze\\icon.png -> C:\\ProgramData\\jupyter\\nbextensions\\freeze\\icon.png\n",
      "[I 19:33:00 InstallContribNbextensionsApp] Copying: C:\\Users\\Administrator\\miniconda3\\lib\\site-packages\\jupyter_contrib_nbextensions\\nbextensions\\freeze\\main.js -> C:\\ProgramData\\jupyter\\nbextensions\\freeze\\main.js\n",
      "[I 19:33:00 InstallContribNbextensionsApp] Copying: C:\\Users\\Administrator\\miniconda3\\lib\\site-packages\\jupyter_contrib_nbextensions\\nbextensions\\freeze\\readme.md -> C:\\ProgramData\\jupyter\\nbextensions\\freeze\\readme.md\n",
      "[I 19:33:00 InstallContribNbextensionsApp] - Validating: ok\n",
      "[I 19:33:00 InstallContribNbextensionsApp] Installing C:\\Users\\Administrator\\miniconda3\\lib\\site-packages\\jupyter_contrib_nbextensions\\nbextensions\\gist_it -> gist_it\n",
      "[I 19:33:00 InstallContribNbextensionsApp] Making directory: C:\\ProgramData\\jupyter\\nbextensions\\gist_it\\\n",
      "[I 19:33:00 InstallContribNbextensionsApp] Copying: C:\\Users\\Administrator\\miniconda3\\lib\\site-packages\\jupyter_contrib_nbextensions\\nbextensions\\gist_it\\gist_it.yaml -> C:\\ProgramData\\jupyter\\nbextensions\\gist_it\\gist_it.yaml\n",
      "[I 19:33:00 InstallContribNbextensionsApp] Copying: C:\\Users\\Administrator\\miniconda3\\lib\\site-packages\\jupyter_contrib_nbextensions\\nbextensions\\gist_it\\icon.png -> C:\\ProgramData\\jupyter\\nbextensions\\gist_it\\icon.png\n",
      "[I 19:33:00 InstallContribNbextensionsApp] Copying: C:\\Users\\Administrator\\miniconda3\\lib\\site-packages\\jupyter_contrib_nbextensions\\nbextensions\\gist_it\\main.js -> C:\\ProgramData\\jupyter\\nbextensions\\gist_it\\main.js\n",
      "[I 19:33:00 InstallContribNbextensionsApp] Copying: C:\\Users\\Administrator\\miniconda3\\lib\\site-packages\\jupyter_contrib_nbextensions\\nbextensions\\gist_it\\readme.md -> C:\\ProgramData\\jupyter\\nbextensions\\gist_it\\readme.md\n",
      "[I 19:33:00 InstallContribNbextensionsApp] - Validating: ok\n",
      "[I 19:33:00 InstallContribNbextensionsApp] Installing C:\\Users\\Administrator\\miniconda3\\lib\\site-packages\\jupyter_contrib_nbextensions\\nbextensions\\help_panel -> help_panel\n",
      "[I 19:33:00 InstallContribNbextensionsApp] Making directory: C:\\ProgramData\\jupyter\\nbextensions\\help_panel\\\n",
      "[I 19:33:00 InstallContribNbextensionsApp] Copying: C:\\Users\\Administrator\\miniconda3\\lib\\site-packages\\jupyter_contrib_nbextensions\\nbextensions\\help_panel\\help_panel.css -> C:\\ProgramData\\jupyter\\nbextensions\\help_panel\\help_panel.css\n",
      "[I 19:33:00 InstallContribNbextensionsApp] Copying: C:\\Users\\Administrator\\miniconda3\\lib\\site-packages\\jupyter_contrib_nbextensions\\nbextensions\\help_panel\\help_panel.js -> C:\\ProgramData\\jupyter\\nbextensions\\help_panel\\help_panel.js\n",
      "[I 19:33:00 InstallContribNbextensionsApp] Copying: C:\\Users\\Administrator\\miniconda3\\lib\\site-packages\\jupyter_contrib_nbextensions\\nbextensions\\help_panel\\help_panel.yaml -> C:\\ProgramData\\jupyter\\nbextensions\\help_panel\\help_panel.yaml\n",
      "[I 19:33:00 InstallContribNbextensionsApp] Copying: C:\\Users\\Administrator\\miniconda3\\lib\\site-packages\\jupyter_contrib_nbextensions\\nbextensions\\help_panel\\help_panel_ext.png -> C:\\ProgramData\\jupyter\\nbextensions\\help_panel\\help_panel_ext.png\n",
      "[I 19:33:00 InstallContribNbextensionsApp] Copying: C:\\Users\\Administrator\\miniconda3\\lib\\site-packages\\jupyter_contrib_nbextensions\\nbextensions\\help_panel\\help_panel_ext_fullscreen.png -> C:\\ProgramData\\jupyter\\nbextensions\\help_panel\\help_panel_ext_fullscreen.png\n",
      "[I 19:33:00 InstallContribNbextensionsApp] Copying: C:\\Users\\Administrator\\miniconda3\\lib\\site-packages\\jupyter_contrib_nbextensions\\nbextensions\\help_panel\\icon.png -> C:\\ProgramData\\jupyter\\nbextensions\\help_panel\\icon.png\n",
      "[I 19:33:00 InstallContribNbextensionsApp] Copying: C:\\Users\\Administrator\\miniconda3\\lib\\site-packages\\jupyter_contrib_nbextensions\\nbextensions\\help_panel\\readme.md -> C:\\ProgramData\\jupyter\\nbextensions\\help_panel\\readme.md\n",
      "[I 19:33:00 InstallContribNbextensionsApp] Making directory: C:\\ProgramData\\jupyter\\nbextensions\\help_panel\\img\n",
      "[I 19:33:00 InstallContribNbextensionsApp] Copying: C:\\Users\\Administrator\\miniconda3\\lib\\site-packages\\jupyter_contrib_nbextensions\\nbextensions\\help_panel\\img\\handle-v.png -> C:\\ProgramData\\jupyter\\nbextensions\\help_panel\\img\\handle-v.png\n",
      "[I 19:33:00 InstallContribNbextensionsApp] - Validating: ok\n",
      "[I 19:33:00 InstallContribNbextensionsApp] Installing C:\\Users\\Administrator\\miniconda3\\lib\\site-packages\\jupyter_contrib_nbextensions\\nbextensions\\hide_header -> hide_header\n",
      "[I 19:33:00 InstallContribNbextensionsApp] Making directory: C:\\ProgramData\\jupyter\\nbextensions\\hide_header\\\n",
      "[I 19:33:00 InstallContribNbextensionsApp] Copying: C:\\Users\\Administrator\\miniconda3\\lib\\site-packages\\jupyter_contrib_nbextensions\\nbextensions\\hide_header\\hide_header.yaml -> C:\\ProgramData\\jupyter\\nbextensions\\hide_header\\hide_header.yaml\n",
      "[I 19:33:00 InstallContribNbextensionsApp] Copying: C:\\Users\\Administrator\\miniconda3\\lib\\site-packages\\jupyter_contrib_nbextensions\\nbextensions\\hide_header\\main.js -> C:\\ProgramData\\jupyter\\nbextensions\\hide_header\\main.js\n",
      "[I 19:33:00 InstallContribNbextensionsApp] Copying: C:\\Users\\Administrator\\miniconda3\\lib\\site-packages\\jupyter_contrib_nbextensions\\nbextensions\\hide_header\\README.md -> C:\\ProgramData\\jupyter\\nbextensions\\hide_header\\README.md\n",
      "[I 19:33:00 InstallContribNbextensionsApp] - Validating: ok\n",
      "[I 19:33:00 InstallContribNbextensionsApp] Installing C:\\Users\\Administrator\\miniconda3\\lib\\site-packages\\jupyter_contrib_nbextensions\\nbextensions\\hide_input -> hide_input\n",
      "[I 19:33:00 InstallContribNbextensionsApp] Making directory: C:\\ProgramData\\jupyter\\nbextensions\\hide_input\\\n",
      "[I 19:33:00 InstallContribNbextensionsApp] Copying: C:\\Users\\Administrator\\miniconda3\\lib\\site-packages\\jupyter_contrib_nbextensions\\nbextensions\\hide_input\\hide-input.yaml -> C:\\ProgramData\\jupyter\\nbextensions\\hide_input\\hide-input.yaml\n",
      "[I 19:33:00 InstallContribNbextensionsApp] Copying: C:\\Users\\Administrator\\miniconda3\\lib\\site-packages\\jupyter_contrib_nbextensions\\nbextensions\\hide_input\\icon.png -> C:\\ProgramData\\jupyter\\nbextensions\\hide_input\\icon.png\n",
      "[I 19:33:00 InstallContribNbextensionsApp] Copying: C:\\Users\\Administrator\\miniconda3\\lib\\site-packages\\jupyter_contrib_nbextensions\\nbextensions\\hide_input\\main.js -> C:\\ProgramData\\jupyter\\nbextensions\\hide_input\\main.js\n",
      "[I 19:33:00 InstallContribNbextensionsApp] Copying: C:\\Users\\Administrator\\miniconda3\\lib\\site-packages\\jupyter_contrib_nbextensions\\nbextensions\\hide_input\\readme.md -> C:\\ProgramData\\jupyter\\nbextensions\\hide_input\\readme.md\n",
      "[I 19:33:00 InstallContribNbextensionsApp] - Validating: ok\n",
      "[I 19:33:00 InstallContribNbextensionsApp] Installing C:\\Users\\Administrator\\miniconda3\\lib\\site-packages\\jupyter_contrib_nbextensions\\nbextensions\\hide_input_all -> hide_input_all\n",
      "[I 19:33:00 InstallContribNbextensionsApp] Making directory: C:\\ProgramData\\jupyter\\nbextensions\\hide_input_all\\\n",
      "[I 19:33:00 InstallContribNbextensionsApp] Copying: C:\\Users\\Administrator\\miniconda3\\lib\\site-packages\\jupyter_contrib_nbextensions\\nbextensions\\hide_input_all\\hide_input_all.yaml -> C:\\ProgramData\\jupyter\\nbextensions\\hide_input_all\\hide_input_all.yaml\n",
      "[I 19:33:00 InstallContribNbextensionsApp] Copying: C:\\Users\\Administrator\\miniconda3\\lib\\site-packages\\jupyter_contrib_nbextensions\\nbextensions\\hide_input_all\\hide_input_all_hide.png -> C:\\ProgramData\\jupyter\\nbextensions\\hide_input_all\\hide_input_all_hide.png\n",
      "[I 19:33:00 InstallContribNbextensionsApp] Copying: C:\\Users\\Administrator\\miniconda3\\lib\\site-packages\\jupyter_contrib_nbextensions\\nbextensions\\hide_input_all\\hide_input_all_show.png -> C:\\ProgramData\\jupyter\\nbextensions\\hide_input_all\\hide_input_all_show.png\n",
      "[I 19:33:00 InstallContribNbextensionsApp] Copying: C:\\Users\\Administrator\\miniconda3\\lib\\site-packages\\jupyter_contrib_nbextensions\\nbextensions\\hide_input_all\\icon.png -> C:\\ProgramData\\jupyter\\nbextensions\\hide_input_all\\icon.png\n",
      "[I 19:33:00 InstallContribNbextensionsApp] Copying: C:\\Users\\Administrator\\miniconda3\\lib\\site-packages\\jupyter_contrib_nbextensions\\nbextensions\\hide_input_all\\main.js -> C:\\ProgramData\\jupyter\\nbextensions\\hide_input_all\\main.js\n",
      "[I 19:33:00 InstallContribNbextensionsApp] Copying: C:\\Users\\Administrator\\miniconda3\\lib\\site-packages\\jupyter_contrib_nbextensions\\nbextensions\\hide_input_all\\readme.md -> C:\\ProgramData\\jupyter\\nbextensions\\hide_input_all\\readme.md\n",
      "[I 19:33:00 InstallContribNbextensionsApp] - Validating: ok\n",
      "[I 19:33:00 InstallContribNbextensionsApp] Installing C:\\Users\\Administrator\\miniconda3\\lib\\site-packages\\jupyter_contrib_nbextensions\\nbextensions\\highlighter -> highlighter\n",
      "[I 19:33:00 InstallContribNbextensionsApp] Making directory: C:\\ProgramData\\jupyter\\nbextensions\\highlighter\\\n",
      "[I 19:33:00 InstallContribNbextensionsApp] Copying: C:\\Users\\Administrator\\miniconda3\\lib\\site-packages\\jupyter_contrib_nbextensions\\nbextensions\\highlighter\\demo_highlighter.html -> C:\\ProgramData\\jupyter\\nbextensions\\highlighter\\demo_highlighter.html\n",
      "[I 19:33:00 InstallContribNbextensionsApp] Copying: C:\\Users\\Administrator\\miniconda3\\lib\\site-packages\\jupyter_contrib_nbextensions\\nbextensions\\highlighter\\demo_highlighter.ipynb -> C:\\ProgramData\\jupyter\\nbextensions\\highlighter\\demo_highlighter.ipynb\n",
      "[I 19:33:00 InstallContribNbextensionsApp] Copying: C:\\Users\\Administrator\\miniconda3\\lib\\site-packages\\jupyter_contrib_nbextensions\\nbextensions\\highlighter\\export_highlights.html -> C:\\ProgramData\\jupyter\\nbextensions\\highlighter\\export_highlights.html\n",
      "[I 19:33:00 InstallContribNbextensionsApp] Copying: C:\\Users\\Administrator\\miniconda3\\lib\\site-packages\\jupyter_contrib_nbextensions\\nbextensions\\highlighter\\export_highlights.ipynb -> C:\\ProgramData\\jupyter\\nbextensions\\highlighter\\export_highlights.ipynb\n",
      "[I 19:33:00 InstallContribNbextensionsApp] Copying: C:\\Users\\Administrator\\miniconda3\\lib\\site-packages\\jupyter_contrib_nbextensions\\nbextensions\\highlighter\\export_highlights.pdf -> C:\\ProgramData\\jupyter\\nbextensions\\highlighter\\export_highlights.pdf\n",
      "[I 19:33:00 InstallContribNbextensionsApp] Copying: C:\\Users\\Administrator\\miniconda3\\lib\\site-packages\\jupyter_contrib_nbextensions\\nbextensions\\highlighter\\export_highlights.tex -> C:\\ProgramData\\jupyter\\nbextensions\\highlighter\\export_highlights.tex\n",
      "[I 19:33:00 InstallContribNbextensionsApp] Copying: C:\\Users\\Administrator\\miniconda3\\lib\\site-packages\\jupyter_contrib_nbextensions\\nbextensions\\highlighter\\highlighter.css -> C:\\ProgramData\\jupyter\\nbextensions\\highlighter\\highlighter.css\n",
      "[I 19:33:00 InstallContribNbextensionsApp] Copying: C:\\Users\\Administrator\\miniconda3\\lib\\site-packages\\jupyter_contrib_nbextensions\\nbextensions\\highlighter\\highlighter.js -> C:\\ProgramData\\jupyter\\nbextensions\\highlighter\\highlighter.js\n",
      "[I 19:33:00 InstallContribNbextensionsApp] Copying: C:\\Users\\Administrator\\miniconda3\\lib\\site-packages\\jupyter_contrib_nbextensions\\nbextensions\\highlighter\\highlighter.yaml -> C:\\ProgramData\\jupyter\\nbextensions\\highlighter\\highlighter.yaml\n",
      "[I 19:33:00 InstallContribNbextensionsApp] Copying: C:\\Users\\Administrator\\miniconda3\\lib\\site-packages\\jupyter_contrib_nbextensions\\nbextensions\\highlighter\\icon.png -> C:\\ProgramData\\jupyter\\nbextensions\\highlighter\\icon.png\n",
      "[I 19:33:00 InstallContribNbextensionsApp] Copying: C:\\Users\\Administrator\\miniconda3\\lib\\site-packages\\jupyter_contrib_nbextensions\\nbextensions\\highlighter\\image.gif -> C:\\ProgramData\\jupyter\\nbextensions\\highlighter\\image.gif\n",
      "[I 19:33:00 InstallContribNbextensionsApp] Copying: C:\\Users\\Administrator\\miniconda3\\lib\\site-packages\\jupyter_contrib_nbextensions\\nbextensions\\highlighter\\readme.md -> C:\\ProgramData\\jupyter\\nbextensions\\highlighter\\readme.md\n",
      "[I 19:33:00 InstallContribNbextensionsApp] Copying: C:\\Users\\Administrator\\miniconda3\\lib\\site-packages\\jupyter_contrib_nbextensions\\nbextensions\\highlighter\\tst_highlights.html -> C:\\ProgramData\\jupyter\\nbextensions\\highlighter\\tst_highlights.html\n",
      "[I 19:33:00 InstallContribNbextensionsApp] Copying: C:\\Users\\Administrator\\miniconda3\\lib\\site-packages\\jupyter_contrib_nbextensions\\nbextensions\\highlighter\\tst_highlights.ipynb -> C:\\ProgramData\\jupyter\\nbextensions\\highlighter\\tst_highlights.ipynb\n",
      "[I 19:33:00 InstallContribNbextensionsApp] Copying: C:\\Users\\Administrator\\miniconda3\\lib\\site-packages\\jupyter_contrib_nbextensions\\nbextensions\\highlighter\\tst_highlights.pdf -> C:\\ProgramData\\jupyter\\nbextensions\\highlighter\\tst_highlights.pdf\n",
      "[I 19:33:00 InstallContribNbextensionsApp] Copying: C:\\Users\\Administrator\\miniconda3\\lib\\site-packages\\jupyter_contrib_nbextensions\\nbextensions\\highlighter\\tst_highlights.tex -> C:\\ProgramData\\jupyter\\nbextensions\\highlighter\\tst_highlights.tex\n",
      "[I 19:33:00 InstallContribNbextensionsApp] - Validating: ok\n",
      "[I 19:33:00 InstallContribNbextensionsApp] Installing C:\\Users\\Administrator\\miniconda3\\lib\\site-packages\\jupyter_contrib_nbextensions\\nbextensions\\hinterland -> hinterland\n",
      "[I 19:33:00 InstallContribNbextensionsApp] Making directory: C:\\ProgramData\\jupyter\\nbextensions\\hinterland\\\n",
      "[I 19:33:00 InstallContribNbextensionsApp] Copying: C:\\Users\\Administrator\\miniconda3\\lib\\site-packages\\jupyter_contrib_nbextensions\\nbextensions\\hinterland\\hinterland.js -> C:\\ProgramData\\jupyter\\nbextensions\\hinterland\\hinterland.js\n",
      "[I 19:33:00 InstallContribNbextensionsApp] Copying: C:\\Users\\Administrator\\miniconda3\\lib\\site-packages\\jupyter_contrib_nbextensions\\nbextensions\\hinterland\\hinterland.yaml -> C:\\ProgramData\\jupyter\\nbextensions\\hinterland\\hinterland.yaml\n",
      "[I 19:33:00 InstallContribNbextensionsApp] Copying: C:\\Users\\Administrator\\miniconda3\\lib\\site-packages\\jupyter_contrib_nbextensions\\nbextensions\\hinterland\\README.md -> C:\\ProgramData\\jupyter\\nbextensions\\hinterland\\README.md\n",
      "[I 19:33:00 InstallContribNbextensionsApp] - Validating: ok\n",
      "[I 19:33:00 InstallContribNbextensionsApp] Installing C:\\Users\\Administrator\\miniconda3\\lib\\site-packages\\jupyter_contrib_nbextensions\\nbextensions\\init_cell -> init_cell\n",
      "[I 19:33:00 InstallContribNbextensionsApp] Making directory: C:\\ProgramData\\jupyter\\nbextensions\\init_cell\\\n",
      "[I 19:33:00 InstallContribNbextensionsApp] Copying: C:\\Users\\Administrator\\miniconda3\\lib\\site-packages\\jupyter_contrib_nbextensions\\nbextensions\\init_cell\\cell_toolbar_menu.png -> C:\\ProgramData\\jupyter\\nbextensions\\init_cell\\cell_toolbar_menu.png\n",
      "[I 19:33:00 InstallContribNbextensionsApp] Copying: C:\\Users\\Administrator\\miniconda3\\lib\\site-packages\\jupyter_contrib_nbextensions\\nbextensions\\init_cell\\icon.png -> C:\\ProgramData\\jupyter\\nbextensions\\init_cell\\icon.png\n",
      "[I 19:33:00 InstallContribNbextensionsApp] Copying: C:\\Users\\Administrator\\miniconda3\\lib\\site-packages\\jupyter_contrib_nbextensions\\nbextensions\\init_cell\\init_cell.yaml -> C:\\ProgramData\\jupyter\\nbextensions\\init_cell\\init_cell.yaml\n",
      "[I 19:33:00 InstallContribNbextensionsApp] Copying: C:\\Users\\Administrator\\miniconda3\\lib\\site-packages\\jupyter_contrib_nbextensions\\nbextensions\\init_cell\\main.js -> C:\\ProgramData\\jupyter\\nbextensions\\init_cell\\main.js\n",
      "[I 19:33:00 InstallContribNbextensionsApp] Copying: C:\\Users\\Administrator\\miniconda3\\lib\\site-packages\\jupyter_contrib_nbextensions\\nbextensions\\init_cell\\README.md -> C:\\ProgramData\\jupyter\\nbextensions\\init_cell\\README.md\n",
      "[I 19:33:00 InstallContribNbextensionsApp] - Validating: ok\n",
      "[I 19:33:00 InstallContribNbextensionsApp] Installing C:\\Users\\Administrator\\miniconda3\\lib\\site-packages\\jupyter_contrib_nbextensions\\nbextensions\\keyboard_shortcut_editor -> keyboard_shortcut_editor\n",
      "[I 19:33:00 InstallContribNbextensionsApp] Making directory: C:\\ProgramData\\jupyter\\nbextensions\\keyboard_shortcut_editor\\\n",
      "[I 19:33:00 InstallContribNbextensionsApp] Copying: C:\\Users\\Administrator\\miniconda3\\lib\\site-packages\\jupyter_contrib_nbextensions\\nbextensions\\keyboard_shortcut_editor\\icon.png -> C:\\ProgramData\\jupyter\\nbextensions\\keyboard_shortcut_editor\\icon.png\n",
      "[I 19:33:00 InstallContribNbextensionsApp] Copying: C:\\Users\\Administrator\\miniconda3\\lib\\site-packages\\jupyter_contrib_nbextensions\\nbextensions\\keyboard_shortcut_editor\\keyboard_shortcut_editor.yaml -> C:\\ProgramData\\jupyter\\nbextensions\\keyboard_shortcut_editor\\keyboard_shortcut_editor.yaml\n",
      "[I 19:33:00 InstallContribNbextensionsApp] Copying: C:\\Users\\Administrator\\miniconda3\\lib\\site-packages\\jupyter_contrib_nbextensions\\nbextensions\\keyboard_shortcut_editor\\kse_components.js -> C:\\ProgramData\\jupyter\\nbextensions\\keyboard_shortcut_editor\\kse_components.js\n",
      "[I 19:33:00 InstallContribNbextensionsApp] Copying: C:\\Users\\Administrator\\miniconda3\\lib\\site-packages\\jupyter_contrib_nbextensions\\nbextensions\\keyboard_shortcut_editor\\main.css -> C:\\ProgramData\\jupyter\\nbextensions\\keyboard_shortcut_editor\\main.css\n",
      "[I 19:33:00 InstallContribNbextensionsApp] Copying: C:\\Users\\Administrator\\miniconda3\\lib\\site-packages\\jupyter_contrib_nbextensions\\nbextensions\\keyboard_shortcut_editor\\main.js -> C:\\ProgramData\\jupyter\\nbextensions\\keyboard_shortcut_editor\\main.js\n",
      "[I 19:33:00 InstallContribNbextensionsApp] Copying: C:\\Users\\Administrator\\miniconda3\\lib\\site-packages\\jupyter_contrib_nbextensions\\nbextensions\\keyboard_shortcut_editor\\quickhelp_shim.js -> C:\\ProgramData\\jupyter\\nbextensions\\keyboard_shortcut_editor\\quickhelp_shim.js\n",
      "[I 19:33:00 InstallContribNbextensionsApp] Copying: C:\\Users\\Administrator\\miniconda3\\lib\\site-packages\\jupyter_contrib_nbextensions\\nbextensions\\keyboard_shortcut_editor\\README.md -> C:\\ProgramData\\jupyter\\nbextensions\\keyboard_shortcut_editor\\README.md\n",
      "[I 19:33:00 InstallContribNbextensionsApp] Copying: C:\\Users\\Administrator\\miniconda3\\lib\\site-packages\\jupyter_contrib_nbextensions\\nbextensions\\keyboard_shortcut_editor\\readme_add_new_link.png -> C:\\ProgramData\\jupyter\\nbextensions\\keyboard_shortcut_editor\\readme_add_new_link.png\n",
      "[I 19:33:00 InstallContribNbextensionsApp] Copying: C:\\Users\\Administrator\\miniconda3\\lib\\site-packages\\jupyter_contrib_nbextensions\\nbextensions\\keyboard_shortcut_editor\\readme_add_new_select_action.png -> C:\\ProgramData\\jupyter\\nbextensions\\keyboard_shortcut_editor\\readme_add_new_select_action.png\n",
      "[I 19:33:00 InstallContribNbextensionsApp] Copying: C:\\Users\\Administrator\\miniconda3\\lib\\site-packages\\jupyter_contrib_nbextensions\\nbextensions\\keyboard_shortcut_editor\\readme_comma.png -> C:\\ProgramData\\jupyter\\nbextensions\\keyboard_shortcut_editor\\readme_comma.png\n",
      "[I 19:33:00 InstallContribNbextensionsApp] Copying: C:\\Users\\Administrator\\miniconda3\\lib\\site-packages\\jupyter_contrib_nbextensions\\nbextensions\\keyboard_shortcut_editor\\readme_conflict.png -> C:\\ProgramData\\jupyter\\nbextensions\\keyboard_shortcut_editor\\readme_conflict.png\n",
      "[I 19:33:00 InstallContribNbextensionsApp] Copying: C:\\Users\\Administrator\\miniconda3\\lib\\site-packages\\jupyter_contrib_nbextensions\\nbextensions\\keyboard_shortcut_editor\\readme_dropdown.png -> C:\\ProgramData\\jupyter\\nbextensions\\keyboard_shortcut_editor\\readme_dropdown.png\n",
      "[I 19:33:00 InstallContribNbextensionsApp] Copying: C:\\Users\\Administrator\\miniconda3\\lib\\site-packages\\jupyter_contrib_nbextensions\\nbextensions\\keyboard_shortcut_editor\\readme_menu_item.png -> C:\\ProgramData\\jupyter\\nbextensions\\keyboard_shortcut_editor\\readme_menu_item.png\n",
      "[I 19:33:00 InstallContribNbextensionsApp] Copying: C:\\Users\\Administrator\\miniconda3\\lib\\site-packages\\jupyter_contrib_nbextensions\\nbextensions\\keyboard_shortcut_editor\\readme_reset_disabled.png -> C:\\ProgramData\\jupyter\\nbextensions\\keyboard_shortcut_editor\\readme_reset_disabled.png\n",
      "[I 19:33:00 InstallContribNbextensionsApp] Copying: C:\\Users\\Administrator\\miniconda3\\lib\\site-packages\\jupyter_contrib_nbextensions\\nbextensions\\keyboard_shortcut_editor\\readme_shortcut_editor_blank.png -> C:\\ProgramData\\jupyter\\nbextensions\\keyboard_shortcut_editor\\readme_shortcut_editor_blank.png\n",
      "[I 19:33:00 InstallContribNbextensionsApp] Copying: C:\\Users\\Administrator\\miniconda3\\lib\\site-packages\\jupyter_contrib_nbextensions\\nbextensions\\keyboard_shortcut_editor\\readme_shortcut_editor_success.png -> C:\\ProgramData\\jupyter\\nbextensions\\keyboard_shortcut_editor\\readme_shortcut_editor_success.png\n",
      "[I 19:33:00 InstallContribNbextensionsApp] Copying: C:\\Users\\Administrator\\miniconda3\\lib\\site-packages\\jupyter_contrib_nbextensions\\nbextensions\\keyboard_shortcut_editor\\readme_undefined_key.png -> C:\\ProgramData\\jupyter\\nbextensions\\keyboard_shortcut_editor\\readme_undefined_key.png\n",
      "[I 19:33:00 InstallContribNbextensionsApp] - Validating: ok\n",
      "[I 19:33:00 InstallContribNbextensionsApp] Installing C:\\Users\\Administrator\\miniconda3\\lib\\site-packages\\jupyter_contrib_nbextensions\\nbextensions\\limit_output -> limit_output\n",
      "[I 19:33:00 InstallContribNbextensionsApp] Making directory: C:\\ProgramData\\jupyter\\nbextensions\\limit_output\\\n",
      "[I 19:33:00 InstallContribNbextensionsApp] Copying: C:\\Users\\Administrator\\miniconda3\\lib\\site-packages\\jupyter_contrib_nbextensions\\nbextensions\\limit_output\\icon.png -> C:\\ProgramData\\jupyter\\nbextensions\\limit_output\\icon.png\n",
      "[I 19:33:00 InstallContribNbextensionsApp] Copying: C:\\Users\\Administrator\\miniconda3\\lib\\site-packages\\jupyter_contrib_nbextensions\\nbextensions\\limit_output\\limit-output.yaml -> C:\\ProgramData\\jupyter\\nbextensions\\limit_output\\limit-output.yaml\n",
      "[I 19:33:00 InstallContribNbextensionsApp] Copying: C:\\Users\\Administrator\\miniconda3\\lib\\site-packages\\jupyter_contrib_nbextensions\\nbextensions\\limit_output\\main.js -> C:\\ProgramData\\jupyter\\nbextensions\\limit_output\\main.js\n",
      "[I 19:33:00 InstallContribNbextensionsApp] Copying: C:\\Users\\Administrator\\miniconda3\\lib\\site-packages\\jupyter_contrib_nbextensions\\nbextensions\\limit_output\\readme.md -> C:\\ProgramData\\jupyter\\nbextensions\\limit_output\\readme.md\n",
      "[I 19:33:00 InstallContribNbextensionsApp] - Validating: ok\n",
      "[I 19:33:00 InstallContribNbextensionsApp] Installing C:\\Users\\Administrator\\miniconda3\\lib\\site-packages\\jupyter_contrib_nbextensions\\nbextensions\\livemdpreview -> livemdpreview\n",
      "[I 19:33:00 InstallContribNbextensionsApp] Making directory: C:\\ProgramData\\jupyter\\nbextensions\\livemdpreview\\\n",
      "[I 19:33:00 InstallContribNbextensionsApp] Copying: C:\\Users\\Administrator\\miniconda3\\lib\\site-packages\\jupyter_contrib_nbextensions\\nbextensions\\livemdpreview\\livemdpreview.js -> C:\\ProgramData\\jupyter\\nbextensions\\livemdpreview\\livemdpreview.js\n",
      "[I 19:33:00 InstallContribNbextensionsApp] Copying: C:\\Users\\Administrator\\miniconda3\\lib\\site-packages\\jupyter_contrib_nbextensions\\nbextensions\\livemdpreview\\livemdpreview.yml -> C:\\ProgramData\\jupyter\\nbextensions\\livemdpreview\\livemdpreview.yml\n",
      "[I 19:33:00 InstallContribNbextensionsApp] - Validating: ok\n",
      "[I 19:33:00 InstallContribNbextensionsApp] Installing C:\\Users\\Administrator\\miniconda3\\lib\\site-packages\\jupyter_contrib_nbextensions\\nbextensions\\load_tex_macros -> load_tex_macros\n",
      "[I 19:33:00 InstallContribNbextensionsApp] Making directory: C:\\ProgramData\\jupyter\\nbextensions\\load_tex_macros\\\n",
      "[I 19:33:00 InstallContribNbextensionsApp] Copying: C:\\Users\\Administrator\\miniconda3\\lib\\site-packages\\jupyter_contrib_nbextensions\\nbextensions\\load_tex_macros\\icon.png -> C:\\ProgramData\\jupyter\\nbextensions\\load_tex_macros\\icon.png\n",
      "[I 19:33:00 InstallContribNbextensionsApp] Copying: C:\\Users\\Administrator\\miniconda3\\lib\\site-packages\\jupyter_contrib_nbextensions\\nbextensions\\load_tex_macros\\load_tex_macros.yaml -> C:\\ProgramData\\jupyter\\nbextensions\\load_tex_macros\\load_tex_macros.yaml\n",
      "[I 19:33:00 InstallContribNbextensionsApp] Copying: C:\\Users\\Administrator\\miniconda3\\lib\\site-packages\\jupyter_contrib_nbextensions\\nbextensions\\load_tex_macros\\main.js -> C:\\ProgramData\\jupyter\\nbextensions\\load_tex_macros\\main.js\n",
      "[I 19:33:00 InstallContribNbextensionsApp] Copying: C:\\Users\\Administrator\\miniconda3\\lib\\site-packages\\jupyter_contrib_nbextensions\\nbextensions\\load_tex_macros\\readme.md -> C:\\ProgramData\\jupyter\\nbextensions\\load_tex_macros\\readme.md\n",
      "[I 19:33:00 InstallContribNbextensionsApp] - Validating: ok\n",
      "[I 19:33:00 InstallContribNbextensionsApp] Installing C:\\Users\\Administrator\\miniconda3\\lib\\site-packages\\jupyter_contrib_nbextensions\\nbextensions\\move_selected_cells -> move_selected_cells\n",
      "[I 19:33:00 InstallContribNbextensionsApp] Making directory: C:\\ProgramData\\jupyter\\nbextensions\\move_selected_cells\\\n",
      "[I 19:33:00 InstallContribNbextensionsApp] Copying: C:\\Users\\Administrator\\miniconda3\\lib\\site-packages\\jupyter_contrib_nbextensions\\nbextensions\\move_selected_cells\\main.js -> C:\\ProgramData\\jupyter\\nbextensions\\move_selected_cells\\main.js\n",
      "[I 19:33:00 InstallContribNbextensionsApp] Copying: C:\\Users\\Administrator\\miniconda3\\lib\\site-packages\\jupyter_contrib_nbextensions\\nbextensions\\move_selected_cells\\move_selected_cells.yaml -> C:\\ProgramData\\jupyter\\nbextensions\\move_selected_cells\\move_selected_cells.yaml\n",
      "[I 19:33:00 InstallContribNbextensionsApp] Copying: C:\\Users\\Administrator\\miniconda3\\lib\\site-packages\\jupyter_contrib_nbextensions\\nbextensions\\move_selected_cells\\README.md -> C:\\ProgramData\\jupyter\\nbextensions\\move_selected_cells\\README.md\n",
      "[I 19:33:00 InstallContribNbextensionsApp] - Validating: ok\n",
      "[I 19:33:00 InstallContribNbextensionsApp] Installing C:\\Users\\Administrator\\miniconda3\\lib\\site-packages\\jupyter_contrib_nbextensions\\nbextensions\\navigation-hotkeys -> navigation-hotkeys\n",
      "[I 19:33:00 InstallContribNbextensionsApp] Making directory: C:\\ProgramData\\jupyter\\nbextensions\\navigation-hotkeys\\\n",
      "[I 19:33:00 InstallContribNbextensionsApp] Copying: C:\\Users\\Administrator\\miniconda3\\lib\\site-packages\\jupyter_contrib_nbextensions\\nbextensions\\navigation-hotkeys\\hotkeys.yaml -> C:\\ProgramData\\jupyter\\nbextensions\\navigation-hotkeys\\hotkeys.yaml\n",
      "[I 19:33:00 InstallContribNbextensionsApp] Copying: C:\\Users\\Administrator\\miniconda3\\lib\\site-packages\\jupyter_contrib_nbextensions\\nbextensions\\navigation-hotkeys\\icon.png -> C:\\ProgramData\\jupyter\\nbextensions\\navigation-hotkeys\\icon.png\n",
      "[I 19:33:00 InstallContribNbextensionsApp] Copying: C:\\Users\\Administrator\\miniconda3\\lib\\site-packages\\jupyter_contrib_nbextensions\\nbextensions\\navigation-hotkeys\\main.js -> C:\\ProgramData\\jupyter\\nbextensions\\navigation-hotkeys\\main.js\n",
      "[I 19:33:00 InstallContribNbextensionsApp] Copying: C:\\Users\\Administrator\\miniconda3\\lib\\site-packages\\jupyter_contrib_nbextensions\\nbextensions\\navigation-hotkeys\\readme.md -> C:\\ProgramData\\jupyter\\nbextensions\\navigation-hotkeys\\readme.md\n",
      "[I 19:33:00 InstallContribNbextensionsApp] - Validating: ok\n",
      "[I 19:33:00 InstallContribNbextensionsApp] Installing C:\\Users\\Administrator\\miniconda3\\lib\\site-packages\\jupyter_contrib_nbextensions\\nbextensions\\nbTranslate -> nbTranslate\n",
      "[I 19:33:00 InstallContribNbextensionsApp] Making directory: C:\\ProgramData\\jupyter\\nbextensions\\nbTranslate\\\n",
      "[I 19:33:00 InstallContribNbextensionsApp] Copying: C:\\Users\\Administrator\\miniconda3\\lib\\site-packages\\jupyter_contrib_nbextensions\\nbextensions\\nbTranslate\\demo1.gif -> C:\\ProgramData\\jupyter\\nbextensions\\nbTranslate\\demo1.gif\n",
      "[I 19:33:00 InstallContribNbextensionsApp] Copying: C:\\Users\\Administrator\\miniconda3\\lib\\site-packages\\jupyter_contrib_nbextensions\\nbextensions\\nbTranslate\\demo2.gif -> C:\\ProgramData\\jupyter\\nbextensions\\nbTranslate\\demo2.gif\n",
      "[I 19:33:00 InstallContribNbextensionsApp] Copying: C:\\Users\\Administrator\\miniconda3\\lib\\site-packages\\jupyter_contrib_nbextensions\\nbextensions\\nbTranslate\\languages.js -> C:\\ProgramData\\jupyter\\nbextensions\\nbTranslate\\languages.js\n",
      "[I 19:33:00 InstallContribNbextensionsApp] Copying: C:\\Users\\Administrator\\miniconda3\\lib\\site-packages\\jupyter_contrib_nbextensions\\nbextensions\\nbTranslate\\main.js -> C:\\ProgramData\\jupyter\\nbextensions\\nbTranslate\\main.js\n",
      "[I 19:33:00 InstallContribNbextensionsApp] Copying: C:\\Users\\Administrator\\miniconda3\\lib\\site-packages\\jupyter_contrib_nbextensions\\nbextensions\\nbTranslate\\mutils.js -> C:\\ProgramData\\jupyter\\nbextensions\\nbTranslate\\mutils.js\n",
      "[I 19:33:00 InstallContribNbextensionsApp] Copying: C:\\Users\\Administrator\\miniconda3\\lib\\site-packages\\jupyter_contrib_nbextensions\\nbextensions\\nbTranslate\\nbTranslate.js -> C:\\ProgramData\\jupyter\\nbextensions\\nbTranslate\\nbTranslate.js\n",
      "[I 19:33:00 InstallContribNbextensionsApp] Copying: C:\\Users\\Administrator\\miniconda3\\lib\\site-packages\\jupyter_contrib_nbextensions\\nbextensions\\nbTranslate\\nbTranslate.yaml -> C:\\ProgramData\\jupyter\\nbextensions\\nbTranslate\\nbTranslate.yaml\n",
      "[I 19:33:00 InstallContribNbextensionsApp] Copying: C:\\Users\\Administrator\\miniconda3\\lib\\site-packages\\jupyter_contrib_nbextensions\\nbextensions\\nbTranslate\\README.md -> C:\\ProgramData\\jupyter\\nbextensions\\nbTranslate\\README.md\n",
      "[I 19:33:00 InstallContribNbextensionsApp] - Validating: ok\n",
      "[I 19:33:00 InstallContribNbextensionsApp] Installing C:\\Users\\Administrator\\miniconda3\\lib\\site-packages\\jupyter_contrib_nbextensions\\nbextensions\\notify -> notify\n",
      "[I 19:33:00 InstallContribNbextensionsApp] Making directory: C:\\ProgramData\\jupyter\\nbextensions\\notify\\\n",
      "[I 19:33:00 InstallContribNbextensionsApp] Copying: C:\\Users\\Administrator\\miniconda3\\lib\\site-packages\\jupyter_contrib_nbextensions\\nbextensions\\notify\\notification.png -> C:\\ProgramData\\jupyter\\nbextensions\\notify\\notification.png\n",
      "[I 19:33:00 InstallContribNbextensionsApp] Copying: C:\\Users\\Administrator\\miniconda3\\lib\\site-packages\\jupyter_contrib_nbextensions\\nbextensions\\notify\\notify.js -> C:\\ProgramData\\jupyter\\nbextensions\\notify\\notify.js\n",
      "[I 19:33:00 InstallContribNbextensionsApp] Copying: C:\\Users\\Administrator\\miniconda3\\lib\\site-packages\\jupyter_contrib_nbextensions\\nbextensions\\notify\\notify.mp3 -> C:\\ProgramData\\jupyter\\nbextensions\\notify\\notify.mp3\n",
      "[I 19:33:00 InstallContribNbextensionsApp] Copying: C:\\Users\\Administrator\\miniconda3\\lib\\site-packages\\jupyter_contrib_nbextensions\\nbextensions\\notify\\notify.yaml -> C:\\ProgramData\\jupyter\\nbextensions\\notify\\notify.yaml\n",
      "[I 19:33:00 InstallContribNbextensionsApp] Copying: C:\\Users\\Administrator\\miniconda3\\lib\\site-packages\\jupyter_contrib_nbextensions\\nbextensions\\notify\\readme.md -> C:\\ProgramData\\jupyter\\nbextensions\\notify\\readme.md\n",
      "[I 19:33:00 InstallContribNbextensionsApp] - Validating: ok\n",
      "[I 19:33:00 InstallContribNbextensionsApp] Installing C:\\Users\\Administrator\\miniconda3\\lib\\site-packages\\jupyter_contrib_nbextensions\\nbextensions\\printview -> printview\n",
      "[I 19:33:00 InstallContribNbextensionsApp] Making directory: C:\\ProgramData\\jupyter\\nbextensions\\printview\\\n",
      "[I 19:33:00 InstallContribNbextensionsApp] Copying: C:\\Users\\Administrator\\miniconda3\\lib\\site-packages\\jupyter_contrib_nbextensions\\nbextensions\\printview\\icon.png -> C:\\ProgramData\\jupyter\\nbextensions\\printview\\icon.png\n",
      "[I 19:33:00 InstallContribNbextensionsApp] Copying: C:\\Users\\Administrator\\miniconda3\\lib\\site-packages\\jupyter_contrib_nbextensions\\nbextensions\\printview\\main.js -> C:\\ProgramData\\jupyter\\nbextensions\\printview\\main.js\n",
      "[I 19:33:00 InstallContribNbextensionsApp] Copying: C:\\Users\\Administrator\\miniconda3\\lib\\site-packages\\jupyter_contrib_nbextensions\\nbextensions\\printview\\printview-button.png -> C:\\ProgramData\\jupyter\\nbextensions\\printview\\printview-button.png\n",
      "[I 19:33:00 InstallContribNbextensionsApp] Copying: C:\\Users\\Administrator\\miniconda3\\lib\\site-packages\\jupyter_contrib_nbextensions\\nbextensions\\printview\\printview.yaml -> C:\\ProgramData\\jupyter\\nbextensions\\printview\\printview.yaml\n",
      "[I 19:33:00 InstallContribNbextensionsApp] Copying: C:\\Users\\Administrator\\miniconda3\\lib\\site-packages\\jupyter_contrib_nbextensions\\nbextensions\\printview\\readme.md -> C:\\ProgramData\\jupyter\\nbextensions\\printview\\readme.md\n",
      "[I 19:33:00 InstallContribNbextensionsApp] - Validating: ok\n",
      "[I 19:33:00 InstallContribNbextensionsApp] Installing C:\\Users\\Administrator\\miniconda3\\lib\\site-packages\\jupyter_contrib_nbextensions\\nbextensions\\python-markdown -> python-markdown\n",
      "[I 19:33:00 InstallContribNbextensionsApp] Making directory: C:\\ProgramData\\jupyter\\nbextensions\\python-markdown\\\n",
      "[I 19:33:00 InstallContribNbextensionsApp] Copying: C:\\Users\\Administrator\\miniconda3\\lib\\site-packages\\jupyter_contrib_nbextensions\\nbextensions\\python-markdown\\main.css -> C:\\ProgramData\\jupyter\\nbextensions\\python-markdown\\main.css\n",
      "[I 19:33:00 InstallContribNbextensionsApp] Copying: C:\\Users\\Administrator\\miniconda3\\lib\\site-packages\\jupyter_contrib_nbextensions\\nbextensions\\python-markdown\\main.js -> C:\\ProgramData\\jupyter\\nbextensions\\python-markdown\\main.js\n",
      "[I 19:33:00 InstallContribNbextensionsApp] Copying: C:\\Users\\Administrator\\miniconda3\\lib\\site-packages\\jupyter_contrib_nbextensions\\nbextensions\\python-markdown\\python-markdown-post.png -> C:\\ProgramData\\jupyter\\nbextensions\\python-markdown\\python-markdown-post.png\n",
      "[I 19:33:00 InstallContribNbextensionsApp] Copying: C:\\Users\\Administrator\\miniconda3\\lib\\site-packages\\jupyter_contrib_nbextensions\\nbextensions\\python-markdown\\python-markdown-pre.png -> C:\\ProgramData\\jupyter\\nbextensions\\python-markdown\\python-markdown-pre.png\n",
      "[I 19:33:00 InstallContribNbextensionsApp] Copying: C:\\Users\\Administrator\\miniconda3\\lib\\site-packages\\jupyter_contrib_nbextensions\\nbextensions\\python-markdown\\python-markdown.png -> C:\\ProgramData\\jupyter\\nbextensions\\python-markdown\\python-markdown.png\n",
      "[I 19:33:00 InstallContribNbextensionsApp] Copying: C:\\Users\\Administrator\\miniconda3\\lib\\site-packages\\jupyter_contrib_nbextensions\\nbextensions\\python-markdown\\python-markdown.yaml -> C:\\ProgramData\\jupyter\\nbextensions\\python-markdown\\python-markdown.yaml\n",
      "[I 19:33:00 InstallContribNbextensionsApp] Copying: C:\\Users\\Administrator\\miniconda3\\lib\\site-packages\\jupyter_contrib_nbextensions\\nbextensions\\python-markdown\\readme.md -> C:\\ProgramData\\jupyter\\nbextensions\\python-markdown\\readme.md\n",
      "[I 19:33:00 InstallContribNbextensionsApp] Copying: C:\\Users\\Administrator\\miniconda3\\lib\\site-packages\\jupyter_contrib_nbextensions\\nbextensions\\python-markdown\\trusted.png -> C:\\ProgramData\\jupyter\\nbextensions\\python-markdown\\trusted.png\n",
      "[I 19:33:00 InstallContribNbextensionsApp] Copying: C:\\Users\\Administrator\\miniconda3\\lib\\site-packages\\jupyter_contrib_nbextensions\\nbextensions\\python-markdown\\untrusted.png -> C:\\ProgramData\\jupyter\\nbextensions\\python-markdown\\untrusted.png\n",
      "[I 19:33:00 InstallContribNbextensionsApp] - Validating: ok\n",
      "[I 19:33:00 InstallContribNbextensionsApp] Installing C:\\Users\\Administrator\\miniconda3\\lib\\site-packages\\jupyter_contrib_nbextensions\\nbextensions\\qtconsole -> qtconsole\n",
      "[I 19:33:00 InstallContribNbextensionsApp] Making directory: C:\\ProgramData\\jupyter\\nbextensions\\qtconsole\\\n",
      "[I 19:33:00 InstallContribNbextensionsApp] Copying: C:\\Users\\Administrator\\miniconda3\\lib\\site-packages\\jupyter_contrib_nbextensions\\nbextensions\\qtconsole\\qtconsole.js -> C:\\ProgramData\\jupyter\\nbextensions\\qtconsole\\qtconsole.js\n",
      "[I 19:33:00 InstallContribNbextensionsApp] Copying: C:\\Users\\Administrator\\miniconda3\\lib\\site-packages\\jupyter_contrib_nbextensions\\nbextensions\\qtconsole\\qtconsole.yaml -> C:\\ProgramData\\jupyter\\nbextensions\\qtconsole\\qtconsole.yaml\n",
      "[I 19:33:00 InstallContribNbextensionsApp] Copying: C:\\Users\\Administrator\\miniconda3\\lib\\site-packages\\jupyter_contrib_nbextensions\\nbextensions\\qtconsole\\README.md -> C:\\ProgramData\\jupyter\\nbextensions\\qtconsole\\README.md\n",
      "[I 19:33:00 InstallContribNbextensionsApp] - Validating: ok\n",
      "[I 19:33:00 InstallContribNbextensionsApp] Installing C:\\Users\\Administrator\\miniconda3\\lib\\site-packages\\jupyter_contrib_nbextensions\\nbextensions\\rubberband -> rubberband\n",
      "[I 19:33:00 InstallContribNbextensionsApp] Making directory: C:\\ProgramData\\jupyter\\nbextensions\\rubberband\\\n",
      "[I 19:33:00 InstallContribNbextensionsApp] Copying: C:\\Users\\Administrator\\miniconda3\\lib\\site-packages\\jupyter_contrib_nbextensions\\nbextensions\\rubberband\\icon.png -> C:\\ProgramData\\jupyter\\nbextensions\\rubberband\\icon.png\n",
      "[I 19:33:00 InstallContribNbextensionsApp] Copying: C:\\Users\\Administrator\\miniconda3\\lib\\site-packages\\jupyter_contrib_nbextensions\\nbextensions\\rubberband\\main.css -> C:\\ProgramData\\jupyter\\nbextensions\\rubberband\\main.css\n",
      "[I 19:33:00 InstallContribNbextensionsApp] Copying: C:\\Users\\Administrator\\miniconda3\\lib\\site-packages\\jupyter_contrib_nbextensions\\nbextensions\\rubberband\\main.js -> C:\\ProgramData\\jupyter\\nbextensions\\rubberband\\main.js\n",
      "[I 19:33:00 InstallContribNbextensionsApp] Copying: C:\\Users\\Administrator\\miniconda3\\lib\\site-packages\\jupyter_contrib_nbextensions\\nbextensions\\rubberband\\readme.md -> C:\\ProgramData\\jupyter\\nbextensions\\rubberband\\readme.md\n",
      "[I 19:33:00 InstallContribNbextensionsApp] Copying: C:\\Users\\Administrator\\miniconda3\\lib\\site-packages\\jupyter_contrib_nbextensions\\nbextensions\\rubberband\\rubberband.yaml -> C:\\ProgramData\\jupyter\\nbextensions\\rubberband\\rubberband.yaml\n",
      "[I 19:33:00 InstallContribNbextensionsApp] - Validating: ok\n",
      "[I 19:33:00 InstallContribNbextensionsApp] Installing C:\\Users\\Administrator\\miniconda3\\lib\\site-packages\\jupyter_contrib_nbextensions\\nbextensions\\ruler -> ruler\n",
      "[I 19:33:00 InstallContribNbextensionsApp] Making directory: C:\\ProgramData\\jupyter\\nbextensions\\ruler\\\n",
      "[I 19:33:00 InstallContribNbextensionsApp] Copying: C:\\Users\\Administrator\\miniconda3\\lib\\site-packages\\jupyter_contrib_nbextensions\\nbextensions\\ruler\\edit.js -> C:\\ProgramData\\jupyter\\nbextensions\\ruler\\edit.js\n",
      "[I 19:33:00 InstallContribNbextensionsApp] Copying: C:\\Users\\Administrator\\miniconda3\\lib\\site-packages\\jupyter_contrib_nbextensions\\nbextensions\\ruler\\icon.png -> C:\\ProgramData\\jupyter\\nbextensions\\ruler\\icon.png\n",
      "[I 19:33:00 InstallContribNbextensionsApp] Copying: C:\\Users\\Administrator\\miniconda3\\lib\\site-packages\\jupyter_contrib_nbextensions\\nbextensions\\ruler\\main.js -> C:\\ProgramData\\jupyter\\nbextensions\\ruler\\main.js\n",
      "[I 19:33:00 InstallContribNbextensionsApp] Copying: C:\\Users\\Administrator\\miniconda3\\lib\\site-packages\\jupyter_contrib_nbextensions\\nbextensions\\ruler\\readme.md -> C:\\ProgramData\\jupyter\\nbextensions\\ruler\\readme.md\n",
      "[I 19:33:00 InstallContribNbextensionsApp] Copying: C:\\Users\\Administrator\\miniconda3\\lib\\site-packages\\jupyter_contrib_nbextensions\\nbextensions\\ruler\\ruler.yaml -> C:\\ProgramData\\jupyter\\nbextensions\\ruler\\ruler.yaml\n",
      "[I 19:33:00 InstallContribNbextensionsApp] Copying: C:\\Users\\Administrator\\miniconda3\\lib\\site-packages\\jupyter_contrib_nbextensions\\nbextensions\\ruler\\ruler_editor.yaml -> C:\\ProgramData\\jupyter\\nbextensions\\ruler\\ruler_editor.yaml\n",
      "[I 19:33:00 InstallContribNbextensionsApp] - Validating: ok\n",
      "[I 19:33:00 InstallContribNbextensionsApp] Installing C:\\Users\\Administrator\\miniconda3\\lib\\site-packages\\jupyter_contrib_nbextensions\\nbextensions\\ruler -> ruler\n",
      "[I 19:33:00 InstallContribNbextensionsApp] Up to date: C:\\ProgramData\\jupyter\\nbextensions\\ruler\\edit.js\n",
      "[I 19:33:00 InstallContribNbextensionsApp] Up to date: C:\\ProgramData\\jupyter\\nbextensions\\ruler\\icon.png\n",
      "[I 19:33:00 InstallContribNbextensionsApp] Up to date: C:\\ProgramData\\jupyter\\nbextensions\\ruler\\main.js\n",
      "[I 19:33:00 InstallContribNbextensionsApp] Up to date: C:\\ProgramData\\jupyter\\nbextensions\\ruler\\readme.md\n",
      "[I 19:33:00 InstallContribNbextensionsApp] Up to date: C:\\ProgramData\\jupyter\\nbextensions\\ruler\\ruler.yaml\n",
      "[I 19:33:00 InstallContribNbextensionsApp] Up to date: C:\\ProgramData\\jupyter\\nbextensions\\ruler\\ruler_editor.yaml\n",
      "[I 19:33:00 InstallContribNbextensionsApp] - Validating: ok\n",
      "[I 19:33:00 InstallContribNbextensionsApp] Installing C:\\Users\\Administrator\\miniconda3\\lib\\site-packages\\jupyter_contrib_nbextensions\\nbextensions\\runtools -> runtools\n",
      "[I 19:33:00 InstallContribNbextensionsApp] Making directory: C:\\ProgramData\\jupyter\\nbextensions\\runtools\\\n",
      "[I 19:33:00 InstallContribNbextensionsApp] Copying: C:\\Users\\Administrator\\miniconda3\\lib\\site-packages\\jupyter_contrib_nbextensions\\nbextensions\\runtools\\annotations.odg -> C:\\ProgramData\\jupyter\\nbextensions\\runtools\\annotations.odg\n",
      "[I 19:33:00 InstallContribNbextensionsApp] Copying: C:\\Users\\Administrator\\miniconda3\\lib\\site-packages\\jupyter_contrib_nbextensions\\nbextensions\\runtools\\cellstate.js -> C:\\ProgramData\\jupyter\\nbextensions\\runtools\\cellstate.js\n",
      "[I 19:33:00 InstallContribNbextensionsApp] Copying: C:\\Users\\Administrator\\miniconda3\\lib\\site-packages\\jupyter_contrib_nbextensions\\nbextensions\\runtools\\demo.gif -> C:\\ProgramData\\jupyter\\nbextensions\\runtools\\demo.gif\n",
      "[I 19:33:00 InstallContribNbextensionsApp] Copying: C:\\Users\\Administrator\\miniconda3\\lib\\site-packages\\jupyter_contrib_nbextensions\\nbextensions\\runtools\\gutter.css -> C:\\ProgramData\\jupyter\\nbextensions\\runtools\\gutter.css\n",
      "[I 19:33:00 InstallContribNbextensionsApp] Copying: C:\\Users\\Administrator\\miniconda3\\lib\\site-packages\\jupyter_contrib_nbextensions\\nbextensions\\runtools\\icon.png -> C:\\ProgramData\\jupyter\\nbextensions\\runtools\\icon.png\n",
      "[I 19:33:00 InstallContribNbextensionsApp] Copying: C:\\Users\\Administrator\\miniconda3\\lib\\site-packages\\jupyter_contrib_nbextensions\\nbextensions\\runtools\\main.css -> C:\\ProgramData\\jupyter\\nbextensions\\runtools\\main.css\n",
      "[I 19:33:00 InstallContribNbextensionsApp] Copying: C:\\Users\\Administrator\\miniconda3\\lib\\site-packages\\jupyter_contrib_nbextensions\\nbextensions\\runtools\\main.js -> C:\\ProgramData\\jupyter\\nbextensions\\runtools\\main.js\n",
      "[I 19:33:00 InstallContribNbextensionsApp] Copying: C:\\Users\\Administrator\\miniconda3\\lib\\site-packages\\jupyter_contrib_nbextensions\\nbextensions\\runtools\\readme.md -> C:\\ProgramData\\jupyter\\nbextensions\\runtools\\readme.md\n",
      "[I 19:33:00 InstallContribNbextensionsApp] Copying: C:\\Users\\Administrator\\miniconda3\\lib\\site-packages\\jupyter_contrib_nbextensions\\nbextensions\\runtools\\runtools.yaml -> C:\\ProgramData\\jupyter\\nbextensions\\runtools\\runtools.yaml\n",
      "[I 19:33:00 InstallContribNbextensionsApp] Copying: C:\\Users\\Administrator\\miniconda3\\lib\\site-packages\\jupyter_contrib_nbextensions\\nbextensions\\runtools\\runtools_execute.png -> C:\\ProgramData\\jupyter\\nbextensions\\runtools\\runtools_execute.png\n",
      "[I 19:33:00 InstallContribNbextensionsApp] Copying: C:\\Users\\Administrator\\miniconda3\\lib\\site-packages\\jupyter_contrib_nbextensions\\nbextensions\\runtools\\runtools_lock.png -> C:\\ProgramData\\jupyter\\nbextensions\\runtools\\runtools_lock.png\n",
      "[I 19:33:00 InstallContribNbextensionsApp] Copying: C:\\Users\\Administrator\\miniconda3\\lib\\site-packages\\jupyter_contrib_nbextensions\\nbextensions\\runtools\\runtools_marker.png -> C:\\ProgramData\\jupyter\\nbextensions\\runtools\\runtools_marker.png\n",
      "[I 19:33:00 InstallContribNbextensionsApp] Copying: C:\\Users\\Administrator\\miniconda3\\lib\\site-packages\\jupyter_contrib_nbextensions\\nbextensions\\runtools\\runtools_nb.png -> C:\\ProgramData\\jupyter\\nbextensions\\runtools\\runtools_nb.png\n",
      "[I 19:33:00 InstallContribNbextensionsApp] Copying: C:\\Users\\Administrator\\miniconda3\\lib\\site-packages\\jupyter_contrib_nbextensions\\nbextensions\\runtools\\runtools_show_hide.png -> C:\\ProgramData\\jupyter\\nbextensions\\runtools\\runtools_show_hide.png\n",
      "[I 19:33:00 InstallContribNbextensionsApp] - Validating: ok\n",
      "[I 19:33:00 InstallContribNbextensionsApp] Installing C:\\Users\\Administrator\\miniconda3\\lib\\site-packages\\jupyter_contrib_nbextensions\\nbextensions\\scratchpad -> scratchpad\n",
      "[I 19:33:00 InstallContribNbextensionsApp] Making directory: C:\\ProgramData\\jupyter\\nbextensions\\scratchpad\\\n",
      "[I 19:33:00 InstallContribNbextensionsApp] Copying: C:\\Users\\Administrator\\miniconda3\\lib\\site-packages\\jupyter_contrib_nbextensions\\nbextensions\\scratchpad\\demo.gif -> C:\\ProgramData\\jupyter\\nbextensions\\scratchpad\\demo.gif\n",
      "[I 19:33:00 InstallContribNbextensionsApp] Copying: C:\\Users\\Administrator\\miniconda3\\lib\\site-packages\\jupyter_contrib_nbextensions\\nbextensions\\scratchpad\\LICENSE -> C:\\ProgramData\\jupyter\\nbextensions\\scratchpad\\LICENSE\n",
      "[I 19:33:00 InstallContribNbextensionsApp] Copying: C:\\Users\\Administrator\\miniconda3\\lib\\site-packages\\jupyter_contrib_nbextensions\\nbextensions\\scratchpad\\main.js -> C:\\ProgramData\\jupyter\\nbextensions\\scratchpad\\main.js\n",
      "[I 19:33:00 InstallContribNbextensionsApp] Copying: C:\\Users\\Administrator\\miniconda3\\lib\\site-packages\\jupyter_contrib_nbextensions\\nbextensions\\scratchpad\\README.md -> C:\\ProgramData\\jupyter\\nbextensions\\scratchpad\\README.md\n",
      "[I 19:33:00 InstallContribNbextensionsApp] Copying: C:\\Users\\Administrator\\miniconda3\\lib\\site-packages\\jupyter_contrib_nbextensions\\nbextensions\\scratchpad\\scratchpad.css -> C:\\ProgramData\\jupyter\\nbextensions\\scratchpad\\scratchpad.css\n",
      "[I 19:33:00 InstallContribNbextensionsApp] Copying: C:\\Users\\Administrator\\miniconda3\\lib\\site-packages\\jupyter_contrib_nbextensions\\nbextensions\\scratchpad\\scratchpad.yaml -> C:\\ProgramData\\jupyter\\nbextensions\\scratchpad\\scratchpad.yaml\n",
      "[I 19:33:00 InstallContribNbextensionsApp] - Validating: ok\n",
      "[I 19:33:00 InstallContribNbextensionsApp] Installing C:\\Users\\Administrator\\miniconda3\\lib\\site-packages\\jupyter_contrib_nbextensions\\nbextensions\\scroll_down -> scroll_down\n",
      "[I 19:33:00 InstallContribNbextensionsApp] Making directory: C:\\ProgramData\\jupyter\\nbextensions\\scroll_down\\\n",
      "[I 19:33:00 InstallContribNbextensionsApp] Copying: C:\\Users\\Administrator\\miniconda3\\lib\\site-packages\\jupyter_contrib_nbextensions\\nbextensions\\scroll_down\\config.yaml -> C:\\ProgramData\\jupyter\\nbextensions\\scroll_down\\config.yaml\n",
      "[I 19:33:00 InstallContribNbextensionsApp] Copying: C:\\Users\\Administrator\\miniconda3\\lib\\site-packages\\jupyter_contrib_nbextensions\\nbextensions\\scroll_down\\icon.png -> C:\\ProgramData\\jupyter\\nbextensions\\scroll_down\\icon.png\n",
      "[I 19:33:00 InstallContribNbextensionsApp] Copying: C:\\Users\\Administrator\\miniconda3\\lib\\site-packages\\jupyter_contrib_nbextensions\\nbextensions\\scroll_down\\main.js -> C:\\ProgramData\\jupyter\\nbextensions\\scroll_down\\main.js\n",
      "[I 19:33:00 InstallContribNbextensionsApp] Copying: C:\\Users\\Administrator\\miniconda3\\lib\\site-packages\\jupyter_contrib_nbextensions\\nbextensions\\scroll_down\\readme.md -> C:\\ProgramData\\jupyter\\nbextensions\\scroll_down\\readme.md\n",
      "[I 19:33:00 InstallContribNbextensionsApp] - Validating: ok\n",
      "[I 19:33:00 InstallContribNbextensionsApp] Installing C:\\Users\\Administrator\\miniconda3\\lib\\site-packages\\jupyter_contrib_nbextensions\\nbextensions\\select_keymap -> select_keymap\n",
      "[I 19:33:00 InstallContribNbextensionsApp] Making directory: C:\\ProgramData\\jupyter\\nbextensions\\select_keymap\\\n",
      "[I 19:33:00 InstallContribNbextensionsApp] Copying: C:\\Users\\Administrator\\miniconda3\\lib\\site-packages\\jupyter_contrib_nbextensions\\nbextensions\\select_keymap\\main.js -> C:\\ProgramData\\jupyter\\nbextensions\\select_keymap\\main.js\n",
      "[I 19:33:00 InstallContribNbextensionsApp] Copying: C:\\Users\\Administrator\\miniconda3\\lib\\site-packages\\jupyter_contrib_nbextensions\\nbextensions\\select_keymap\\README.md -> C:\\ProgramData\\jupyter\\nbextensions\\select_keymap\\README.md\n",
      "[I 19:33:00 InstallContribNbextensionsApp] Copying: C:\\Users\\Administrator\\miniconda3\\lib\\site-packages\\jupyter_contrib_nbextensions\\nbextensions\\select_keymap\\select_keymap.png -> C:\\ProgramData\\jupyter\\nbextensions\\select_keymap\\select_keymap.png\n",
      "[I 19:33:00 InstallContribNbextensionsApp] Copying: C:\\Users\\Administrator\\miniconda3\\lib\\site-packages\\jupyter_contrib_nbextensions\\nbextensions\\select_keymap\\select_keymap.yaml -> C:\\ProgramData\\jupyter\\nbextensions\\select_keymap\\select_keymap.yaml\n",
      "[I 19:33:00 InstallContribNbextensionsApp] - Validating: ok\n",
      "[I 19:33:00 InstallContribNbextensionsApp] Installing C:\\Users\\Administrator\\miniconda3\\lib\\site-packages\\jupyter_contrib_nbextensions\\nbextensions\\skill -> skill\n",
      "[I 19:33:00 InstallContribNbextensionsApp] Making directory: C:\\ProgramData\\jupyter\\nbextensions\\skill\\\n",
      "[I 19:33:00 InstallContribNbextensionsApp] Copying: C:\\Users\\Administrator\\miniconda3\\lib\\site-packages\\jupyter_contrib_nbextensions\\nbextensions\\skill\\main.js -> C:\\ProgramData\\jupyter\\nbextensions\\skill\\main.js\n",
      "[I 19:33:00 InstallContribNbextensionsApp] Copying: C:\\Users\\Administrator\\miniconda3\\lib\\site-packages\\jupyter_contrib_nbextensions\\nbextensions\\skill\\README.md -> C:\\ProgramData\\jupyter\\nbextensions\\skill\\README.md\n",
      "[I 19:33:00 InstallContribNbextensionsApp] Copying: C:\\Users\\Administrator\\miniconda3\\lib\\site-packages\\jupyter_contrib_nbextensions\\nbextensions\\skill\\skill.js -> C:\\ProgramData\\jupyter\\nbextensions\\skill\\skill.js\n",
      "[I 19:33:00 InstallContribNbextensionsApp] Copying: C:\\Users\\Administrator\\miniconda3\\lib\\site-packages\\jupyter_contrib_nbextensions\\nbextensions\\skill\\skill.yaml -> C:\\ProgramData\\jupyter\\nbextensions\\skill\\skill.yaml\n",
      "[I 19:33:00 InstallContribNbextensionsApp] - Validating: ok\n",
      "[I 19:33:00 InstallContribNbextensionsApp] Installing C:\\Users\\Administrator\\miniconda3\\lib\\site-packages\\jupyter_contrib_nbextensions\\nbextensions\\skip-traceback -> skip-traceback\n",
      "[I 19:33:00 InstallContribNbextensionsApp] Making directory: C:\\ProgramData\\jupyter\\nbextensions\\skip-traceback\\\n",
      "[I 19:33:00 InstallContribNbextensionsApp] Copying: C:\\Users\\Administrator\\miniconda3\\lib\\site-packages\\jupyter_contrib_nbextensions\\nbextensions\\skip-traceback\\icon.png -> C:\\ProgramData\\jupyter\\nbextensions\\skip-traceback\\icon.png\n",
      "[I 19:33:00 InstallContribNbextensionsApp] Copying: C:\\Users\\Administrator\\miniconda3\\lib\\site-packages\\jupyter_contrib_nbextensions\\nbextensions\\skip-traceback\\main.js -> C:\\ProgramData\\jupyter\\nbextensions\\skip-traceback\\main.js\n",
      "[I 19:33:00 InstallContribNbextensionsApp] Copying: C:\\Users\\Administrator\\miniconda3\\lib\\site-packages\\jupyter_contrib_nbextensions\\nbextensions\\skip-traceback\\readme.md -> C:\\ProgramData\\jupyter\\nbextensions\\skip-traceback\\readme.md\n",
      "[I 19:33:00 InstallContribNbextensionsApp] Copying: C:\\Users\\Administrator\\miniconda3\\lib\\site-packages\\jupyter_contrib_nbextensions\\nbextensions\\skip-traceback\\skip-traceback.png -> C:\\ProgramData\\jupyter\\nbextensions\\skip-traceback\\skip-traceback.png\n",
      "[I 19:33:00 InstallContribNbextensionsApp] Copying: C:\\Users\\Administrator\\miniconda3\\lib\\site-packages\\jupyter_contrib_nbextensions\\nbextensions\\skip-traceback\\skip-traceback.yaml -> C:\\ProgramData\\jupyter\\nbextensions\\skip-traceback\\skip-traceback.yaml\n",
      "[I 19:33:00 InstallContribNbextensionsApp] Copying: C:\\Users\\Administrator\\miniconda3\\lib\\site-packages\\jupyter_contrib_nbextensions\\nbextensions\\skip-traceback\\traceback.png -> C:\\ProgramData\\jupyter\\nbextensions\\skip-traceback\\traceback.png\n",
      "[I 19:33:00 InstallContribNbextensionsApp] - Validating: ok\n",
      "[I 19:33:00 InstallContribNbextensionsApp] Installing C:\\Users\\Administrator\\miniconda3\\lib\\site-packages\\jupyter_contrib_nbextensions\\nbextensions\\snippets -> snippets\n",
      "[I 19:33:00 InstallContribNbextensionsApp] Making directory: C:\\ProgramData\\jupyter\\nbextensions\\snippets\\\n",
      "[I 19:33:00 InstallContribNbextensionsApp] Copying: C:\\Users\\Administrator\\miniconda3\\lib\\site-packages\\jupyter_contrib_nbextensions\\nbextensions\\snippets\\main.js -> C:\\ProgramData\\jupyter\\nbextensions\\snippets\\main.js\n",
      "[I 19:33:00 InstallContribNbextensionsApp] Copying: C:\\Users\\Administrator\\miniconda3\\lib\\site-packages\\jupyter_contrib_nbextensions\\nbextensions\\snippets\\README.md -> C:\\ProgramData\\jupyter\\nbextensions\\snippets\\README.md\n",
      "[I 19:33:00 InstallContribNbextensionsApp] Copying: C:\\Users\\Administrator\\miniconda3\\lib\\site-packages\\jupyter_contrib_nbextensions\\nbextensions\\snippets\\snippets-demo.gif -> C:\\ProgramData\\jupyter\\nbextensions\\snippets\\snippets-demo.gif\n",
      "[I 19:33:00 InstallContribNbextensionsApp] Copying: C:\\Users\\Administrator\\miniconda3\\lib\\site-packages\\jupyter_contrib_nbextensions\\nbextensions\\snippets\\snippets.json -> C:\\ProgramData\\jupyter\\nbextensions\\snippets\\snippets.json\n",
      "[I 19:33:00 InstallContribNbextensionsApp] Copying: C:\\Users\\Administrator\\miniconda3\\lib\\site-packages\\jupyter_contrib_nbextensions\\nbextensions\\snippets\\snippets.yaml -> C:\\ProgramData\\jupyter\\nbextensions\\snippets\\snippets.yaml\n",
      "[I 19:33:00 InstallContribNbextensionsApp] - Validating: ok\n",
      "[I 19:33:00 InstallContribNbextensionsApp] Installing C:\\Users\\Administrator\\miniconda3\\lib\\site-packages\\jupyter_contrib_nbextensions\\nbextensions\\snippets_menu -> snippets_menu\n",
      "[I 19:33:00 InstallContribNbextensionsApp] Making directory: C:\\ProgramData\\jupyter\\nbextensions\\snippets_menu\\\n",
      "[I 19:33:00 InstallContribNbextensionsApp] Copying: C:\\Users\\Administrator\\miniconda3\\lib\\site-packages\\jupyter_contrib_nbextensions\\nbextensions\\snippets_menu\\config.yaml -> C:\\ProgramData\\jupyter\\nbextensions\\snippets_menu\\config.yaml\n",
      "[I 19:33:00 InstallContribNbextensionsApp] Copying: C:\\Users\\Administrator\\miniconda3\\lib\\site-packages\\jupyter_contrib_nbextensions\\nbextensions\\snippets_menu\\examples_for_custom.js -> C:\\ProgramData\\jupyter\\nbextensions\\snippets_menu\\examples_for_custom.js\n",
      "[I 19:33:00 InstallContribNbextensionsApp] Copying: C:\\Users\\Administrator\\miniconda3\\lib\\site-packages\\jupyter_contrib_nbextensions\\nbextensions\\snippets_menu\\main.js -> C:\\ProgramData\\jupyter\\nbextensions\\snippets_menu\\main.js\n",
      "[I 19:33:00 InstallContribNbextensionsApp] Copying: C:\\Users\\Administrator\\miniconda3\\lib\\site-packages\\jupyter_contrib_nbextensions\\nbextensions\\snippets_menu\\readme.md -> C:\\ProgramData\\jupyter\\nbextensions\\snippets_menu\\readme.md\n",
      "[I 19:33:00 InstallContribNbextensionsApp] Copying: C:\\Users\\Administrator\\miniconda3\\lib\\site-packages\\jupyter_contrib_nbextensions\\nbextensions\\snippets_menu\\screenshot1.png -> C:\\ProgramData\\jupyter\\nbextensions\\snippets_menu\\screenshot1.png\n",
      "[I 19:33:00 InstallContribNbextensionsApp] Copying: C:\\Users\\Administrator\\miniconda3\\lib\\site-packages\\jupyter_contrib_nbextensions\\nbextensions\\snippets_menu\\screenshot2.png -> C:\\ProgramData\\jupyter\\nbextensions\\snippets_menu\\screenshot2.png\n",
      "[I 19:33:00 InstallContribNbextensionsApp] Copying: C:\\Users\\Administrator\\miniconda3\\lib\\site-packages\\jupyter_contrib_nbextensions\\nbextensions\\snippets_menu\\screenshot3.png -> C:\\ProgramData\\jupyter\\nbextensions\\snippets_menu\\screenshot3.png\n",
      "[I 19:33:00 InstallContribNbextensionsApp] Copying: C:\\Users\\Administrator\\miniconda3\\lib\\site-packages\\jupyter_contrib_nbextensions\\nbextensions\\snippets_menu\\snippets_menu.css -> C:\\ProgramData\\jupyter\\nbextensions\\snippets_menu\\snippets_menu.css\n",
      "[I 19:33:00 InstallContribNbextensionsApp] Copying: C:\\Users\\Administrator\\miniconda3\\lib\\site-packages\\jupyter_contrib_nbextensions\\nbextensions\\snippets_menu\\snippets_submenu_markdown.js -> C:\\ProgramData\\jupyter\\nbextensions\\snippets_menu\\snippets_submenu_markdown.js\n",
      "[I 19:33:00 InstallContribNbextensionsApp] Copying: C:\\Users\\Administrator\\miniconda3\\lib\\site-packages\\jupyter_contrib_nbextensions\\nbextensions\\snippets_menu\\snippets_submenu_python.js -> C:\\ProgramData\\jupyter\\nbextensions\\snippets_menu\\snippets_submenu_python.js\n",
      "[I 19:33:00 InstallContribNbextensionsApp] Copying: C:\\Users\\Administrator\\miniconda3\\lib\\site-packages\\jupyter_contrib_nbextensions\\nbextensions\\snippets_menu\\thumbnail.png -> C:\\ProgramData\\jupyter\\nbextensions\\snippets_menu\\thumbnail.png\n",
      "[I 19:33:00 InstallContribNbextensionsApp] Making directory: C:\\ProgramData\\jupyter\\nbextensions\\snippets_menu\\snippets_submenus_python\n",
      "[I 19:33:00 InstallContribNbextensionsApp] Copying: C:\\Users\\Administrator\\miniconda3\\lib\\site-packages\\jupyter_contrib_nbextensions\\nbextensions\\snippets_menu\\snippets_submenus_python\\astropy.js -> C:\\ProgramData\\jupyter\\nbextensions\\snippets_menu\\snippets_submenus_python\\astropy.js\n",
      "[I 19:33:00 InstallContribNbextensionsApp] Copying: C:\\Users\\Administrator\\miniconda3\\lib\\site-packages\\jupyter_contrib_nbextensions\\nbextensions\\snippets_menu\\snippets_submenus_python\\h5py.js -> C:\\ProgramData\\jupyter\\nbextensions\\snippets_menu\\snippets_submenus_python\\h5py.js\n",
      "[I 19:33:00 InstallContribNbextensionsApp] Copying: C:\\Users\\Administrator\\miniconda3\\lib\\site-packages\\jupyter_contrib_nbextensions\\nbextensions\\snippets_menu\\snippets_submenus_python\\matplotlib.js -> C:\\ProgramData\\jupyter\\nbextensions\\snippets_menu\\snippets_submenus_python\\matplotlib.js\n",
      "[I 19:33:00 InstallContribNbextensionsApp] Copying: C:\\Users\\Administrator\\miniconda3\\lib\\site-packages\\jupyter_contrib_nbextensions\\nbextensions\\snippets_menu\\snippets_submenus_python\\numba.js -> C:\\ProgramData\\jupyter\\nbextensions\\snippets_menu\\snippets_submenus_python\\numba.js\n",
      "[I 19:33:00 InstallContribNbextensionsApp] Copying: C:\\Users\\Administrator\\miniconda3\\lib\\site-packages\\jupyter_contrib_nbextensions\\nbextensions\\snippets_menu\\snippets_submenus_python\\numpy.js -> C:\\ProgramData\\jupyter\\nbextensions\\snippets_menu\\snippets_submenus_python\\numpy.js\n",
      "[I 19:33:00 InstallContribNbextensionsApp] Copying: C:\\Users\\Administrator\\miniconda3\\lib\\site-packages\\jupyter_contrib_nbextensions\\nbextensions\\snippets_menu\\snippets_submenus_python\\numpy_polynomial.js -> C:\\ProgramData\\jupyter\\nbextensions\\snippets_menu\\snippets_submenus_python\\numpy_polynomial.js\n",
      "[I 19:33:00 InstallContribNbextensionsApp] Copying: C:\\Users\\Administrator\\miniconda3\\lib\\site-packages\\jupyter_contrib_nbextensions\\nbextensions\\snippets_menu\\snippets_submenus_python\\numpy_ufuncs.js -> C:\\ProgramData\\jupyter\\nbextensions\\snippets_menu\\snippets_submenus_python\\numpy_ufuncs.js\n",
      "[I 19:33:00 InstallContribNbextensionsApp] Copying: C:\\Users\\Administrator\\miniconda3\\lib\\site-packages\\jupyter_contrib_nbextensions\\nbextensions\\snippets_menu\\snippets_submenus_python\\pandas.js -> C:\\ProgramData\\jupyter\\nbextensions\\snippets_menu\\snippets_submenus_python\\pandas.js\n",
      "[I 19:33:00 InstallContribNbextensionsApp] Copying: C:\\Users\\Administrator\\miniconda3\\lib\\site-packages\\jupyter_contrib_nbextensions\\nbextensions\\snippets_menu\\snippets_submenus_python\\python.js -> C:\\ProgramData\\jupyter\\nbextensions\\snippets_menu\\snippets_submenus_python\\python.js\n",
      "[I 19:33:00 InstallContribNbextensionsApp] Copying: C:\\Users\\Administrator\\miniconda3\\lib\\site-packages\\jupyter_contrib_nbextensions\\nbextensions\\snippets_menu\\snippets_submenus_python\\python_regex.js -> C:\\ProgramData\\jupyter\\nbextensions\\snippets_menu\\snippets_submenus_python\\python_regex.js\n",
      "[I 19:33:00 InstallContribNbextensionsApp] Copying: C:\\Users\\Administrator\\miniconda3\\lib\\site-packages\\jupyter_contrib_nbextensions\\nbextensions\\snippets_menu\\snippets_submenus_python\\scipy.js -> C:\\ProgramData\\jupyter\\nbextensions\\snippets_menu\\snippets_submenus_python\\scipy.js\n",
      "[I 19:33:00 InstallContribNbextensionsApp] Copying: C:\\Users\\Administrator\\miniconda3\\lib\\site-packages\\jupyter_contrib_nbextensions\\nbextensions\\snippets_menu\\snippets_submenus_python\\scipy_constants.js -> C:\\ProgramData\\jupyter\\nbextensions\\snippets_menu\\snippets_submenus_python\\scipy_constants.js\n",
      "[I 19:33:00 InstallContribNbextensionsApp] Copying: C:\\Users\\Administrator\\miniconda3\\lib\\site-packages\\jupyter_contrib_nbextensions\\nbextensions\\snippets_menu\\snippets_submenus_python\\scipy_special.js -> C:\\ProgramData\\jupyter\\nbextensions\\snippets_menu\\snippets_submenus_python\\scipy_special.js\n",
      "[I 19:33:00 InstallContribNbextensionsApp] Copying: C:\\Users\\Administrator\\miniconda3\\lib\\site-packages\\jupyter_contrib_nbextensions\\nbextensions\\snippets_menu\\snippets_submenus_python\\sympy.js -> C:\\ProgramData\\jupyter\\nbextensions\\snippets_menu\\snippets_submenus_python\\sympy.js\n",
      "[I 19:33:00 InstallContribNbextensionsApp] Copying: C:\\Users\\Administrator\\miniconda3\\lib\\site-packages\\jupyter_contrib_nbextensions\\nbextensions\\snippets_menu\\snippets_submenus_python\\sympy_assumptions.js -> C:\\ProgramData\\jupyter\\nbextensions\\snippets_menu\\snippets_submenus_python\\sympy_assumptions.js\n",
      "[I 19:33:00 InstallContribNbextensionsApp] Copying: C:\\Users\\Administrator\\miniconda3\\lib\\site-packages\\jupyter_contrib_nbextensions\\nbextensions\\snippets_menu\\snippets_submenus_python\\sympy_functions.js -> C:\\ProgramData\\jupyter\\nbextensions\\snippets_menu\\snippets_submenus_python\\sympy_functions.js\n",
      "[I 19:33:00 InstallContribNbextensionsApp] - Validating: ok\n",
      "[I 19:33:00 InstallContribNbextensionsApp] Installing C:\\Users\\Administrator\\miniconda3\\lib\\site-packages\\jupyter_contrib_nbextensions\\nbextensions\\spellchecker -> spellchecker\n",
      "[I 19:33:00 InstallContribNbextensionsApp] Making directory: C:\\ProgramData\\jupyter\\nbextensions\\spellchecker\\\n",
      "[I 19:33:00 InstallContribNbextensionsApp] Copying: C:\\Users\\Administrator\\miniconda3\\lib\\site-packages\\jupyter_contrib_nbextensions\\nbextensions\\spellchecker\\config.yaml -> C:\\ProgramData\\jupyter\\nbextensions\\spellchecker\\config.yaml\n",
      "[I 19:33:00 InstallContribNbextensionsApp] Copying: C:\\Users\\Administrator\\miniconda3\\lib\\site-packages\\jupyter_contrib_nbextensions\\nbextensions\\spellchecker\\download_new_dict.py -> C:\\ProgramData\\jupyter\\nbextensions\\spellchecker\\download_new_dict.py\n",
      "[I 19:33:00 InstallContribNbextensionsApp] Copying: C:\\Users\\Administrator\\miniconda3\\lib\\site-packages\\jupyter_contrib_nbextensions\\nbextensions\\spellchecker\\main.css -> C:\\ProgramData\\jupyter\\nbextensions\\spellchecker\\main.css\n",
      "[I 19:33:00 InstallContribNbextensionsApp] Copying: C:\\Users\\Administrator\\miniconda3\\lib\\site-packages\\jupyter_contrib_nbextensions\\nbextensions\\spellchecker\\main.js -> C:\\ProgramData\\jupyter\\nbextensions\\spellchecker\\main.js\n",
      "[I 19:33:00 InstallContribNbextensionsApp] Copying: C:\\Users\\Administrator\\miniconda3\\lib\\site-packages\\jupyter_contrib_nbextensions\\nbextensions\\spellchecker\\README.md -> C:\\ProgramData\\jupyter\\nbextensions\\spellchecker\\README.md\n",
      "[I 19:33:00 InstallContribNbextensionsApp] Copying: C:\\Users\\Administrator\\miniconda3\\lib\\site-packages\\jupyter_contrib_nbextensions\\nbextensions\\spellchecker\\screenshot.png -> C:\\ProgramData\\jupyter\\nbextensions\\spellchecker\\screenshot.png\n",
      "[I 19:33:00 InstallContribNbextensionsApp] Making directory: C:\\ProgramData\\jupyter\\nbextensions\\spellchecker\\typo\n",
      "[I 19:33:00 InstallContribNbextensionsApp] Copying: C:\\Users\\Administrator\\miniconda3\\lib\\site-packages\\jupyter_contrib_nbextensions\\nbextensions\\spellchecker\\typo\\LICENSE.txt -> C:\\ProgramData\\jupyter\\nbextensions\\spellchecker\\typo\\LICENSE.txt\n",
      "[I 19:33:00 InstallContribNbextensionsApp] Copying: C:\\Users\\Administrator\\miniconda3\\lib\\site-packages\\jupyter_contrib_nbextensions\\nbextensions\\spellchecker\\typo\\typo.js -> C:\\ProgramData\\jupyter\\nbextensions\\spellchecker\\typo\\typo.js\n",
      "[I 19:33:00 InstallContribNbextensionsApp] Making directory: C:\\ProgramData\\jupyter\\nbextensions\\spellchecker\\__pycache__\n",
      "[I 19:33:00 InstallContribNbextensionsApp] Copying: C:\\Users\\Administrator\\miniconda3\\lib\\site-packages\\jupyter_contrib_nbextensions\\nbextensions\\spellchecker\\__pycache__\\download_new_dict.cpython-39.pyc -> C:\\ProgramData\\jupyter\\nbextensions\\spellchecker\\__pycache__\\download_new_dict.cpython-39.pyc\n",
      "[I 19:33:00 InstallContribNbextensionsApp] - Validating: ok\n",
      "[I 19:33:00 InstallContribNbextensionsApp] Installing C:\\Users\\Administrator\\miniconda3\\lib\\site-packages\\jupyter_contrib_nbextensions\\nbextensions\\splitcell -> splitcell\n",
      "[I 19:33:00 InstallContribNbextensionsApp] Making directory: C:\\ProgramData\\jupyter\\nbextensions\\splitcell\\\n",
      "[I 19:33:00 InstallContribNbextensionsApp] Copying: C:\\Users\\Administrator\\miniconda3\\lib\\site-packages\\jupyter_contrib_nbextensions\\nbextensions\\splitcell\\icon.png -> C:\\ProgramData\\jupyter\\nbextensions\\splitcell\\icon.png\n",
      "[I 19:33:00 InstallContribNbextensionsApp] Copying: C:\\Users\\Administrator\\miniconda3\\lib\\site-packages\\jupyter_contrib_nbextensions\\nbextensions\\splitcell\\readme.md -> C:\\ProgramData\\jupyter\\nbextensions\\splitcell\\readme.md\n",
      "[I 19:33:00 InstallContribNbextensionsApp] Copying: C:\\Users\\Administrator\\miniconda3\\lib\\site-packages\\jupyter_contrib_nbextensions\\nbextensions\\splitcell\\splitcell.js -> C:\\ProgramData\\jupyter\\nbextensions\\splitcell\\splitcell.js\n",
      "[I 19:33:00 InstallContribNbextensionsApp] Copying: C:\\Users\\Administrator\\miniconda3\\lib\\site-packages\\jupyter_contrib_nbextensions\\nbextensions\\splitcell\\splitcell.yaml -> C:\\ProgramData\\jupyter\\nbextensions\\splitcell\\splitcell.yaml\n",
      "[I 19:33:00 InstallContribNbextensionsApp] - Validating: ok\n",
      "[I 19:33:00 InstallContribNbextensionsApp] Installing C:\\Users\\Administrator\\miniconda3\\lib\\site-packages\\jupyter_contrib_nbextensions\\nbextensions\\table_beautifier -> table_beautifier\n",
      "[I 19:33:00 InstallContribNbextensionsApp] Making directory: C:\\ProgramData\\jupyter\\nbextensions\\table_beautifier\\\n",
      "[I 19:33:00 InstallContribNbextensionsApp] Copying: C:\\Users\\Administrator\\miniconda3\\lib\\site-packages\\jupyter_contrib_nbextensions\\nbextensions\\table_beautifier\\main.css -> C:\\ProgramData\\jupyter\\nbextensions\\table_beautifier\\main.css\n",
      "[I 19:33:00 InstallContribNbextensionsApp] Copying: C:\\Users\\Administrator\\miniconda3\\lib\\site-packages\\jupyter_contrib_nbextensions\\nbextensions\\table_beautifier\\main.js -> C:\\ProgramData\\jupyter\\nbextensions\\table_beautifier\\main.js\n",
      "[I 19:33:00 InstallContribNbextensionsApp] Copying: C:\\Users\\Administrator\\miniconda3\\lib\\site-packages\\jupyter_contrib_nbextensions\\nbextensions\\table_beautifier\\README.md -> C:\\ProgramData\\jupyter\\nbextensions\\table_beautifier\\README.md\n",
      "[I 19:33:00 InstallContribNbextensionsApp] Copying: C:\\Users\\Administrator\\miniconda3\\lib\\site-packages\\jupyter_contrib_nbextensions\\nbextensions\\table_beautifier\\table_beautifier.yaml -> C:\\ProgramData\\jupyter\\nbextensions\\table_beautifier\\table_beautifier.yaml\n",
      "[I 19:33:00 InstallContribNbextensionsApp] - Validating: ok\n",
      "[I 19:33:00 InstallContribNbextensionsApp] Installing C:\\Users\\Administrator\\miniconda3\\lib\\site-packages\\jupyter_contrib_nbextensions\\nbextensions\\toc2 -> toc2\n",
      "[I 19:33:00 InstallContribNbextensionsApp] Making directory: C:\\ProgramData\\jupyter\\nbextensions\\toc2\\\n",
      "[I 19:33:00 InstallContribNbextensionsApp] Copying: C:\\Users\\Administrator\\miniconda3\\lib\\site-packages\\jupyter_contrib_nbextensions\\nbextensions\\toc2\\demo.gif -> C:\\ProgramData\\jupyter\\nbextensions\\toc2\\demo.gif\n",
      "[I 19:33:00 InstallContribNbextensionsApp] Copying: C:\\Users\\Administrator\\miniconda3\\lib\\site-packages\\jupyter_contrib_nbextensions\\nbextensions\\toc2\\demo2.gif -> C:\\ProgramData\\jupyter\\nbextensions\\toc2\\demo2.gif\n",
      "[I 19:33:00 InstallContribNbextensionsApp] Copying: C:\\Users\\Administrator\\miniconda3\\lib\\site-packages\\jupyter_contrib_nbextensions\\nbextensions\\toc2\\demo3.gif -> C:\\ProgramData\\jupyter\\nbextensions\\toc2\\demo3.gif\n",
      "[I 19:33:00 InstallContribNbextensionsApp] Copying: C:\\Users\\Administrator\\miniconda3\\lib\\site-packages\\jupyter_contrib_nbextensions\\nbextensions\\toc2\\demo_dark.png -> C:\\ProgramData\\jupyter\\nbextensions\\toc2\\demo_dark.png\n",
      "[I 19:33:00 InstallContribNbextensionsApp] Copying: C:\\Users\\Administrator\\miniconda3\\lib\\site-packages\\jupyter_contrib_nbextensions\\nbextensions\\toc2\\icon.png -> C:\\ProgramData\\jupyter\\nbextensions\\toc2\\icon.png\n",
      "[I 19:33:00 InstallContribNbextensionsApp] Copying: C:\\Users\\Administrator\\miniconda3\\lib\\site-packages\\jupyter_contrib_nbextensions\\nbextensions\\toc2\\image.png -> C:\\ProgramData\\jupyter\\nbextensions\\toc2\\image.png\n",
      "[I 19:33:00 InstallContribNbextensionsApp] Copying: C:\\Users\\Administrator\\miniconda3\\lib\\site-packages\\jupyter_contrib_nbextensions\\nbextensions\\toc2\\main.css -> C:\\ProgramData\\jupyter\\nbextensions\\toc2\\main.css\n",
      "[I 19:33:00 InstallContribNbextensionsApp] Copying: C:\\Users\\Administrator\\miniconda3\\lib\\site-packages\\jupyter_contrib_nbextensions\\nbextensions\\toc2\\main.js -> C:\\ProgramData\\jupyter\\nbextensions\\toc2\\main.js\n",
      "[I 19:33:00 InstallContribNbextensionsApp] Copying: C:\\Users\\Administrator\\miniconda3\\lib\\site-packages\\jupyter_contrib_nbextensions\\nbextensions\\toc2\\README.md -> C:\\ProgramData\\jupyter\\nbextensions\\toc2\\README.md\n",
      "[I 19:33:00 InstallContribNbextensionsApp] Copying: C:\\Users\\Administrator\\miniconda3\\lib\\site-packages\\jupyter_contrib_nbextensions\\nbextensions\\toc2\\toc2.js -> C:\\ProgramData\\jupyter\\nbextensions\\toc2\\toc2.js\n",
      "[I 19:33:00 InstallContribNbextensionsApp] Copying: C:\\Users\\Administrator\\miniconda3\\lib\\site-packages\\jupyter_contrib_nbextensions\\nbextensions\\toc2\\toc2.yaml -> C:\\ProgramData\\jupyter\\nbextensions\\toc2\\toc2.yaml\n",
      "[I 19:33:00 InstallContribNbextensionsApp] - Validating: ok\n",
      "[I 19:33:00 InstallContribNbextensionsApp] Installing C:\\Users\\Administrator\\miniconda3\\lib\\site-packages\\jupyter_contrib_nbextensions\\nbextensions\\toggle_all_line_numbers -> toggle_all_line_numbers\n",
      "[I 19:33:00 InstallContribNbextensionsApp] Making directory: C:\\ProgramData\\jupyter\\nbextensions\\toggle_all_line_numbers\\\n",
      "[I 19:33:00 InstallContribNbextensionsApp] Copying: C:\\Users\\Administrator\\miniconda3\\lib\\site-packages\\jupyter_contrib_nbextensions\\nbextensions\\toggle_all_line_numbers\\icon.png -> C:\\ProgramData\\jupyter\\nbextensions\\toggle_all_line_numbers\\icon.png\n",
      "[I 19:33:00 InstallContribNbextensionsApp] Copying: C:\\Users\\Administrator\\miniconda3\\lib\\site-packages\\jupyter_contrib_nbextensions\\nbextensions\\toggle_all_line_numbers\\main.js -> C:\\ProgramData\\jupyter\\nbextensions\\toggle_all_line_numbers\\main.js\n",
      "[I 19:33:00 InstallContribNbextensionsApp] Copying: C:\\Users\\Administrator\\miniconda3\\lib\\site-packages\\jupyter_contrib_nbextensions\\nbextensions\\toggle_all_line_numbers\\main.yaml -> C:\\ProgramData\\jupyter\\nbextensions\\toggle_all_line_numbers\\main.yaml\n",
      "[I 19:33:00 InstallContribNbextensionsApp] Copying: C:\\Users\\Administrator\\miniconda3\\lib\\site-packages\\jupyter_contrib_nbextensions\\nbextensions\\toggle_all_line_numbers\\readme.md -> C:\\ProgramData\\jupyter\\nbextensions\\toggle_all_line_numbers\\readme.md\n",
      "[I 19:33:00 InstallContribNbextensionsApp] - Validating: ok\n",
      "[I 19:33:00 InstallContribNbextensionsApp] Installing C:\\Users\\Administrator\\miniconda3\\lib\\site-packages\\jupyter_contrib_nbextensions\\nbextensions\\tree-filter -> tree-filter\n",
      "[I 19:33:01 InstallContribNbextensionsApp] Making directory: C:\\ProgramData\\jupyter\\nbextensions\\tree-filter\\\n",
      "[I 19:33:01 InstallContribNbextensionsApp] Copying: C:\\Users\\Administrator\\miniconda3\\lib\\site-packages\\jupyter_contrib_nbextensions\\nbextensions\\tree-filter\\demo.gif -> C:\\ProgramData\\jupyter\\nbextensions\\tree-filter\\demo.gif\n",
      "[I 19:33:01 InstallContribNbextensionsApp] Copying: C:\\Users\\Administrator\\miniconda3\\lib\\site-packages\\jupyter_contrib_nbextensions\\nbextensions\\tree-filter\\index.js -> C:\\ProgramData\\jupyter\\nbextensions\\tree-filter\\index.js\n",
      "[I 19:33:01 InstallContribNbextensionsApp] Copying: C:\\Users\\Administrator\\miniconda3\\lib\\site-packages\\jupyter_contrib_nbextensions\\nbextensions\\tree-filter\\readme.md -> C:\\ProgramData\\jupyter\\nbextensions\\tree-filter\\readme.md\n",
      "[I 19:33:01 InstallContribNbextensionsApp] Copying: C:\\Users\\Administrator\\miniconda3\\lib\\site-packages\\jupyter_contrib_nbextensions\\nbextensions\\tree-filter\\tree-filter.yaml -> C:\\ProgramData\\jupyter\\nbextensions\\tree-filter\\tree-filter.yaml\n",
      "[I 19:33:01 InstallContribNbextensionsApp] - Validating: ok\n",
      "[I 19:33:01 InstallContribNbextensionsApp] Installing C:\\Users\\Administrator\\miniconda3\\lib\\site-packages\\jupyter_contrib_nbextensions\\nbextensions\\varInspector -> varInspector\n",
      "[I 19:33:01 InstallContribNbextensionsApp] Making directory: C:\\ProgramData\\jupyter\\nbextensions\\varInspector\\\n",
      "[I 19:33:01 InstallContribNbextensionsApp] Copying: C:\\Users\\Administrator\\miniconda3\\lib\\site-packages\\jupyter_contrib_nbextensions\\nbextensions\\varInspector\\demo.gif -> C:\\ProgramData\\jupyter\\nbextensions\\varInspector\\demo.gif\n",
      "[I 19:33:01 InstallContribNbextensionsApp] Copying: C:\\Users\\Administrator\\miniconda3\\lib\\site-packages\\jupyter_contrib_nbextensions\\nbextensions\\varInspector\\icon.png -> C:\\ProgramData\\jupyter\\nbextensions\\varInspector\\icon.png\n",
      "[I 19:33:01 InstallContribNbextensionsApp] Copying: C:\\Users\\Administrator\\miniconda3\\lib\\site-packages\\jupyter_contrib_nbextensions\\nbextensions\\varInspector\\jquery.tablesorter.min.js -> C:\\ProgramData\\jupyter\\nbextensions\\varInspector\\jquery.tablesorter.min.js\n",
      "[I 19:33:01 InstallContribNbextensionsApp] Copying: C:\\Users\\Administrator\\miniconda3\\lib\\site-packages\\jupyter_contrib_nbextensions\\nbextensions\\varInspector\\main.css -> C:\\ProgramData\\jupyter\\nbextensions\\varInspector\\main.css\n",
      "[I 19:33:01 InstallContribNbextensionsApp] Copying: C:\\Users\\Administrator\\miniconda3\\lib\\site-packages\\jupyter_contrib_nbextensions\\nbextensions\\varInspector\\main.js -> C:\\ProgramData\\jupyter\\nbextensions\\varInspector\\main.js\n",
      "[I 19:33:01 InstallContribNbextensionsApp] Copying: C:\\Users\\Administrator\\miniconda3\\lib\\site-packages\\jupyter_contrib_nbextensions\\nbextensions\\varInspector\\README.md -> C:\\ProgramData\\jupyter\\nbextensions\\varInspector\\README.md\n",
      "[I 19:33:01 InstallContribNbextensionsApp] Copying: C:\\Users\\Administrator\\miniconda3\\lib\\site-packages\\jupyter_contrib_nbextensions\\nbextensions\\varInspector\\tablesorter_LICENSE.txt -> C:\\ProgramData\\jupyter\\nbextensions\\varInspector\\tablesorter_LICENSE.txt\n",
      "[I 19:33:01 InstallContribNbextensionsApp] Copying: C:\\Users\\Administrator\\miniconda3\\lib\\site-packages\\jupyter_contrib_nbextensions\\nbextensions\\varInspector\\varInspector.yaml -> C:\\ProgramData\\jupyter\\nbextensions\\varInspector\\varInspector.yaml\n",
      "[I 19:33:01 InstallContribNbextensionsApp] Copying: C:\\Users\\Administrator\\miniconda3\\lib\\site-packages\\jupyter_contrib_nbextensions\\nbextensions\\varInspector\\var_list.py -> C:\\ProgramData\\jupyter\\nbextensions\\varInspector\\var_list.py\n",
      "[I 19:33:01 InstallContribNbextensionsApp] Copying: C:\\Users\\Administrator\\miniconda3\\lib\\site-packages\\jupyter_contrib_nbextensions\\nbextensions\\varInspector\\var_list.r -> C:\\ProgramData\\jupyter\\nbextensions\\varInspector\\var_list.r\n",
      "[I 19:33:01 InstallContribNbextensionsApp] Making directory: C:\\ProgramData\\jupyter\\nbextensions\\varInspector\\__pycache__\n",
      "[I 19:33:01 InstallContribNbextensionsApp] Copying: C:\\Users\\Administrator\\miniconda3\\lib\\site-packages\\jupyter_contrib_nbextensions\\nbextensions\\varInspector\\__pycache__\\var_list.cpython-39.pyc -> C:\\ProgramData\\jupyter\\nbextensions\\varInspector\\__pycache__\\var_list.cpython-39.pyc\n",
      "[I 19:33:01 InstallContribNbextensionsApp] - Validating: ok\n",
      "[I 19:33:01 InstallContribNbextensionsApp] Installing C:\\Users\\Administrator\\miniconda3\\lib\\site-packages\\jupyter_contrib_nbextensions\\nbextensions\\zenmode -> zenmode\n",
      "[I 19:33:01 InstallContribNbextensionsApp] Making directory: C:\\ProgramData\\jupyter\\nbextensions\\zenmode\\\n",
      "[I 19:33:01 InstallContribNbextensionsApp] Copying: C:\\Users\\Administrator\\miniconda3\\lib\\site-packages\\jupyter_contrib_nbextensions\\nbextensions\\zenmode\\main.css -> C:\\ProgramData\\jupyter\\nbextensions\\zenmode\\main.css\n",
      "[I 19:33:01 InstallContribNbextensionsApp] Copying: C:\\Users\\Administrator\\miniconda3\\lib\\site-packages\\jupyter_contrib_nbextensions\\nbextensions\\zenmode\\main.js -> C:\\ProgramData\\jupyter\\nbextensions\\zenmode\\main.js\n",
      "[I 19:33:01 InstallContribNbextensionsApp] Copying: C:\\Users\\Administrator\\miniconda3\\lib\\site-packages\\jupyter_contrib_nbextensions\\nbextensions\\zenmode\\README.md -> C:\\ProgramData\\jupyter\\nbextensions\\zenmode\\README.md\n",
      "[I 19:33:01 InstallContribNbextensionsApp] Copying: C:\\Users\\Administrator\\miniconda3\\lib\\site-packages\\jupyter_contrib_nbextensions\\nbextensions\\zenmode\\zenmode.yaml -> C:\\ProgramData\\jupyter\\nbextensions\\zenmode\\zenmode.yaml\n",
      "[I 19:33:01 InstallContribNbextensionsApp] Making directory: C:\\ProgramData\\jupyter\\nbextensions\\zenmode\\images\n",
      "[I 19:33:01 InstallContribNbextensionsApp] Copying: C:\\Users\\Administrator\\miniconda3\\lib\\site-packages\\jupyter_contrib_nbextensions\\nbextensions\\zenmode\\images\\back1.jpg -> C:\\ProgramData\\jupyter\\nbextensions\\zenmode\\images\\back1.jpg\n",
      "[I 19:33:01 InstallContribNbextensionsApp] Copying: C:\\Users\\Administrator\\miniconda3\\lib\\site-packages\\jupyter_contrib_nbextensions\\nbextensions\\zenmode\\images\\back11.jpg -> C:\\ProgramData\\jupyter\\nbextensions\\zenmode\\images\\back11.jpg\n",
      "[I 19:33:01 InstallContribNbextensionsApp] Copying: C:\\Users\\Administrator\\miniconda3\\lib\\site-packages\\jupyter_contrib_nbextensions\\nbextensions\\zenmode\\images\\back12.jpg -> C:\\ProgramData\\jupyter\\nbextensions\\zenmode\\images\\back12.jpg\n",
      "[I 19:33:01 InstallContribNbextensionsApp] Copying: C:\\Users\\Administrator\\miniconda3\\lib\\site-packages\\jupyter_contrib_nbextensions\\nbextensions\\zenmode\\images\\back2.jpg -> C:\\ProgramData\\jupyter\\nbextensions\\zenmode\\images\\back2.jpg\n",
      "[I 19:33:01 InstallContribNbextensionsApp] Copying: C:\\Users\\Administrator\\miniconda3\\lib\\site-packages\\jupyter_contrib_nbextensions\\nbextensions\\zenmode\\images\\back21.jpg -> C:\\ProgramData\\jupyter\\nbextensions\\zenmode\\images\\back21.jpg\n",
      "[I 19:33:01 InstallContribNbextensionsApp] Copying: C:\\Users\\Administrator\\miniconda3\\lib\\site-packages\\jupyter_contrib_nbextensions\\nbextensions\\zenmode\\images\\back22.jpg -> C:\\ProgramData\\jupyter\\nbextensions\\zenmode\\images\\back22.jpg\n",
      "[I 19:33:01 InstallContribNbextensionsApp] Copying: C:\\Users\\Administrator\\miniconda3\\lib\\site-packages\\jupyter_contrib_nbextensions\\nbextensions\\zenmode\\images\\back3.jpg -> C:\\ProgramData\\jupyter\\nbextensions\\zenmode\\images\\back3.jpg\n",
      "[I 19:33:01 InstallContribNbextensionsApp] Copying: C:\\Users\\Administrator\\miniconda3\\lib\\site-packages\\jupyter_contrib_nbextensions\\nbextensions\\zenmode\\images\\ipynblogo0.png -> C:\\ProgramData\\jupyter\\nbextensions\\zenmode\\images\\ipynblogo0.png\n",
      "[I 19:33:01 InstallContribNbextensionsApp] Copying: C:\\Users\\Administrator\\miniconda3\\lib\\site-packages\\jupyter_contrib_nbextensions\\nbextensions\\zenmode\\images\\ipynblogo1.png -> C:\\ProgramData\\jupyter\\nbextensions\\zenmode\\images\\ipynblogo1.png\n",
      "[I 19:33:01 InstallContribNbextensionsApp] - Validating: ok\n",
      "[I 19:33:01 InstallContribNbextensionsApp] Installing C:\\Users\\Administrator\\miniconda3\\lib\\site-packages\\jupyter_highlight_selected_word\\static\\highlight_selected_word -> highlight_selected_word\n",
      "[I 19:33:01 InstallContribNbextensionsApp] Making directory: C:\\ProgramData\\jupyter\\nbextensions\\highlight_selected_word\\\n",
      "[I 19:33:01 InstallContribNbextensionsApp] Copying: C:\\Users\\Administrator\\miniconda3\\lib\\site-packages\\jupyter_highlight_selected_word\\static\\highlight_selected_word\\configurator.yaml -> C:\\ProgramData\\jupyter\\nbextensions\\highlight_selected_word\\configurator.yaml\n",
      "[I 19:33:01 InstallContribNbextensionsApp] Copying: C:\\Users\\Administrator\\miniconda3\\lib\\site-packages\\jupyter_highlight_selected_word\\static\\highlight_selected_word\\main.js -> C:\\ProgramData\\jupyter\\nbextensions\\highlight_selected_word\\main.js\n",
      "[I 19:33:01 InstallContribNbextensionsApp] Copying: C:\\Users\\Administrator\\miniconda3\\lib\\site-packages\\jupyter_highlight_selected_word\\static\\highlight_selected_word\\README.md -> C:\\ProgramData\\jupyter\\nbextensions\\highlight_selected_word\\README.md\n",
      "[I 19:33:01 InstallContribNbextensionsApp] - Validating: ok\n",
      "[I 19:33:01 InstallContribNbextensionsApp] Installing C:\\Users\\Administrator\\miniconda3\\lib\\site-packages\\latex_envs\\static -> latex_envs\n",
      "[I 19:33:01 InstallContribNbextensionsApp] Making directory: C:\\ProgramData\\jupyter\\nbextensions\\latex_envs\\\n",
      "[I 19:33:01 InstallContribNbextensionsApp] Copying: C:\\Users\\Administrator\\miniconda3\\lib\\site-packages\\latex_envs\\static\\bibInNb4.js -> C:\\ProgramData\\jupyter\\nbextensions\\latex_envs\\bibInNb4.js\n",
      "[I 19:33:01 InstallContribNbextensionsApp] Copying: C:\\Users\\Administrator\\miniconda3\\lib\\site-packages\\latex_envs\\static\\bibtex2.js -> C:\\ProgramData\\jupyter\\nbextensions\\latex_envs\\bibtex2.js\n",
      "[I 19:33:01 InstallContribNbextensionsApp] Copying: C:\\Users\\Administrator\\miniconda3\\lib\\site-packages\\latex_envs\\static\\configuration_toolbar.png -> C:\\ProgramData\\jupyter\\nbextensions\\latex_envs\\configuration_toolbar.png\n",
      "[I 19:33:01 InstallContribNbextensionsApp] Copying: C:\\Users\\Administrator\\miniconda3\\lib\\site-packages\\latex_envs\\static\\envsLatex.js -> C:\\ProgramData\\jupyter\\nbextensions\\latex_envs\\envsLatex.js\n",
      "[I 19:33:01 InstallContribNbextensionsApp] Copying: C:\\Users\\Administrator\\miniconda3\\lib\\site-packages\\latex_envs\\static\\envsLatex.json -> C:\\ProgramData\\jupyter\\nbextensions\\latex_envs\\envsLatex.json\n",
      "[I 19:33:01 InstallContribNbextensionsApp] Copying: C:\\Users\\Administrator\\miniconda3\\lib\\site-packages\\latex_envs\\static\\example.png -> C:\\ProgramData\\jupyter\\nbextensions\\latex_envs\\example.png\n",
      "[I 19:33:01 InstallContribNbextensionsApp] Copying: C:\\Users\\Administrator\\miniconda3\\lib\\site-packages\\latex_envs\\static\\example_user_envs.json -> C:\\ProgramData\\jupyter\\nbextensions\\latex_envs\\example_user_envs.json\n",
      "[I 19:33:01 InstallContribNbextensionsApp] Copying: C:\\Users\\Administrator\\miniconda3\\lib\\site-packages\\latex_envs\\static\\icon.png -> C:\\ProgramData\\jupyter\\nbextensions\\latex_envs\\icon.png\n",
      "[I 19:33:01 InstallContribNbextensionsApp] Copying: C:\\Users\\Administrator\\miniconda3\\lib\\site-packages\\latex_envs\\static\\initNb.js -> C:\\ProgramData\\jupyter\\nbextensions\\latex_envs\\initNb.js\n",
      "[I 19:33:01 InstallContribNbextensionsApp] Copying: C:\\Users\\Administrator\\miniconda3\\lib\\site-packages\\latex_envs\\static\\latex_envs.css -> C:\\ProgramData\\jupyter\\nbextensions\\latex_envs\\latex_envs.css\n",
      "[I 19:33:01 InstallContribNbextensionsApp] Copying: C:\\Users\\Administrator\\miniconda3\\lib\\site-packages\\latex_envs\\static\\latex_envs.js -> C:\\ProgramData\\jupyter\\nbextensions\\latex_envs\\latex_envs.js\n",
      "[I 19:33:01 InstallContribNbextensionsApp] Copying: C:\\Users\\Administrator\\miniconda3\\lib\\site-packages\\latex_envs\\static\\latex_envs.yaml -> C:\\ProgramData\\jupyter\\nbextensions\\latex_envs\\latex_envs.yaml\n",
      "[I 19:33:01 InstallContribNbextensionsApp] Copying: C:\\Users\\Administrator\\miniconda3\\lib\\site-packages\\latex_envs\\static\\main_toolbar.png -> C:\\ProgramData\\jupyter\\nbextensions\\latex_envs\\main_toolbar.png\n",
      "[I 19:33:01 InstallContribNbextensionsApp] Copying: C:\\Users\\Administrator\\miniconda3\\lib\\site-packages\\latex_envs\\static\\README.md -> C:\\ProgramData\\jupyter\\nbextensions\\latex_envs\\README.md\n",
      "[I 19:33:01 InstallContribNbextensionsApp] Copying: C:\\Users\\Administrator\\miniconda3\\lib\\site-packages\\latex_envs\\static\\thmsInNb4.js -> C:\\ProgramData\\jupyter\\nbextensions\\latex_envs\\thmsInNb4.js\n",
      "[I 19:33:01 InstallContribNbextensionsApp] Making directory: C:\\ProgramData\\jupyter\\nbextensions\\latex_envs\\doc\n",
      "[I 19:33:01 InstallContribNbextensionsApp] Copying: C:\\Users\\Administrator\\miniconda3\\lib\\site-packages\\latex_envs\\static\\doc\\biblio_ipython.bib -> C:\\ProgramData\\jupyter\\nbextensions\\latex_envs\\doc\\biblio_ipython.bib\n",
      "[I 19:33:01 InstallContribNbextensionsApp] Copying: C:\\Users\\Administrator\\miniconda3\\lib\\site-packages\\latex_envs\\static\\doc\\configuration_toolbar.png -> C:\\ProgramData\\jupyter\\nbextensions\\latex_envs\\doc\\configuration_toolbar.png\n",
      "[I 19:33:01 InstallContribNbextensionsApp] Copying: C:\\Users\\Administrator\\miniconda3\\lib\\site-packages\\latex_envs\\static\\doc\\config_toolbar.png -> C:\\ProgramData\\jupyter\\nbextensions\\latex_envs\\doc\\config_toolbar.png\n",
      "[I 19:33:01 InstallContribNbextensionsApp] Copying: C:\\Users\\Administrator\\miniconda3\\lib\\site-packages\\latex_envs\\static\\doc\\documentation.pdf -> C:\\ProgramData\\jupyter\\nbextensions\\latex_envs\\doc\\documentation.pdf\n",
      "[I 19:33:01 InstallContribNbextensionsApp] Copying: C:\\Users\\Administrator\\miniconda3\\lib\\site-packages\\latex_envs\\static\\doc\\documentation.tex -> C:\\ProgramData\\jupyter\\nbextensions\\latex_envs\\doc\\documentation.tex\n",
      "[I 19:33:01 InstallContribNbextensionsApp] Copying: C:\\Users\\Administrator\\miniconda3\\lib\\site-packages\\latex_envs\\static\\doc\\example.png -> C:\\ProgramData\\jupyter\\nbextensions\\latex_envs\\doc\\example.png\n",
      "[I 19:33:01 InstallContribNbextensionsApp] Copying: C:\\Users\\Administrator\\miniconda3\\lib\\site-packages\\latex_envs\\static\\doc\\header.tex -> C:\\ProgramData\\jupyter\\nbextensions\\latex_envs\\doc\\header.tex\n",
      "[I 19:33:01 InstallContribNbextensionsApp] Copying: C:\\Users\\Administrator\\miniconda3\\lib\\site-packages\\latex_envs\\static\\doc\\IEEEtran.bst -> C:\\ProgramData\\jupyter\\nbextensions\\latex_envs\\doc\\IEEEtran.bst\n",
      "[I 19:33:01 InstallContribNbextensionsApp] Copying: C:\\Users\\Administrator\\miniconda3\\lib\\site-packages\\latex_envs\\static\\doc\\LaTeX_envs_menu.png -> C:\\ProgramData\\jupyter\\nbextensions\\latex_envs\\doc\\LaTeX_envs_menu.png\n",
      "[I 19:33:01 InstallContribNbextensionsApp] Copying: C:\\Users\\Administrator\\miniconda3\\lib\\site-packages\\latex_envs\\static\\doc\\latex_env_doc.html -> C:\\ProgramData\\jupyter\\nbextensions\\latex_envs\\doc\\latex_env_doc.html\n",
      "[I 19:33:01 InstallContribNbextensionsApp] Copying: C:\\Users\\Administrator\\miniconda3\\lib\\site-packages\\latex_envs\\static\\doc\\latex_env_doc.ipynb -> C:\\ProgramData\\jupyter\\nbextensions\\latex_envs\\doc\\latex_env_doc.ipynb\n",
      "[I 19:33:01 InstallContribNbextensionsApp] Copying: C:\\Users\\Administrator\\miniconda3\\lib\\site-packages\\latex_envs\\static\\doc\\latex_env_doc.tex -> C:\\ProgramData\\jupyter\\nbextensions\\latex_envs\\doc\\latex_env_doc.tex\n",
      "[I 19:33:01 InstallContribNbextensionsApp] Copying: C:\\Users\\Administrator\\miniconda3\\lib\\site-packages\\latex_envs\\static\\doc\\main_toolbar.png -> C:\\ProgramData\\jupyter\\nbextensions\\latex_envs\\doc\\main_toolbar.png\n",
      "[I 19:33:01 InstallContribNbextensionsApp] Copying: C:\\Users\\Administrator\\miniconda3\\lib\\site-packages\\latex_envs\\static\\doc\\README.md -> C:\\ProgramData\\jupyter\\nbextensions\\latex_envs\\doc\\README.md\n",
      "[I 19:33:01 InstallContribNbextensionsApp] Copying: C:\\Users\\Administrator\\miniconda3\\lib\\site-packages\\latex_envs\\static\\doc\\Toggles.png -> C:\\ProgramData\\jupyter\\nbextensions\\latex_envs\\doc\\Toggles.png\n",
      "[I 19:33:01 InstallContribNbextensionsApp] Making directory: C:\\ProgramData\\jupyter\\nbextensions\\latex_envs\\doc\\.ipynb_checkpoints\n",
      "[I 19:33:01 InstallContribNbextensionsApp] Copying: C:\\Users\\Administrator\\miniconda3\\lib\\site-packages\\latex_envs\\static\\doc\\.ipynb_checkpoints\\latex_env_doc-checkpoint.ipynb -> C:\\ProgramData\\jupyter\\nbextensions\\latex_envs\\doc\\.ipynb_checkpoints\\latex_env_doc-checkpoint.ipynb\n",
      "[I 19:33:01 InstallContribNbextensionsApp] Making directory: C:\\ProgramData\\jupyter\\nbextensions\\latex_envs\\doc\\latex_env_doc_files\n",
      "[I 19:33:01 InstallContribNbextensionsApp] Copying: C:\\Users\\Administrator\\miniconda3\\lib\\site-packages\\latex_envs\\static\\doc\\latex_env_doc_files\\latex_env_doc_23_2.png -> C:\\ProgramData\\jupyter\\nbextensions\\latex_envs\\doc\\latex_env_doc_files\\latex_env_doc_23_2.png\n",
      "[I 19:33:01 InstallContribNbextensionsApp] Copying: C:\\Users\\Administrator\\miniconda3\\lib\\site-packages\\latex_envs\\static\\doc\\latex_env_doc_files\\latex_env_doc_24_2.png -> C:\\ProgramData\\jupyter\\nbextensions\\latex_envs\\doc\\latex_env_doc_files\\latex_env_doc_24_2.png\n",
      "[I 19:33:01 InstallContribNbextensionsApp] Copying: C:\\Users\\Administrator\\miniconda3\\lib\\site-packages\\latex_envs\\static\\doc\\latex_env_doc_files\\latex_env_doc_26_2.png -> C:\\ProgramData\\jupyter\\nbextensions\\latex_envs\\doc\\latex_env_doc_files\\latex_env_doc_26_2.png\n",
      "[I 19:33:01 InstallContribNbextensionsApp] Copying: C:\\Users\\Administrator\\miniconda3\\lib\\site-packages\\latex_envs\\static\\doc\\latex_env_doc_files\\latex_env_doc_27_2.png -> C:\\ProgramData\\jupyter\\nbextensions\\latex_envs\\doc\\latex_env_doc_files\\latex_env_doc_27_2.png\n",
      "[I 19:33:01 InstallContribNbextensionsApp] Copying: C:\\Users\\Administrator\\miniconda3\\lib\\site-packages\\latex_envs\\static\\doc\\latex_env_doc_files\\latex_env_doc_41_0.png -> C:\\ProgramData\\jupyter\\nbextensions\\latex_envs\\doc\\latex_env_doc_files\\latex_env_doc_41_0.png\n",
      "[I 19:33:01 InstallContribNbextensionsApp] Copying: C:\\Users\\Administrator\\miniconda3\\lib\\site-packages\\latex_envs\\static\\doc\\latex_env_doc_files\\latex_env_doc_42_0.png -> C:\\ProgramData\\jupyter\\nbextensions\\latex_envs\\doc\\latex_env_doc_files\\latex_env_doc_42_0.png\n",
      "[I 19:33:01 InstallContribNbextensionsApp] Copying: C:\\Users\\Administrator\\miniconda3\\lib\\site-packages\\latex_envs\\static\\doc\\latex_env_doc_files\\latex_env_doc_43_0.png -> C:\\ProgramData\\jupyter\\nbextensions\\latex_envs\\doc\\latex_env_doc_files\\latex_env_doc_43_0.png\n",
      "[I 19:33:01 InstallContribNbextensionsApp] Copying: C:\\Users\\Administrator\\miniconda3\\lib\\site-packages\\latex_envs\\static\\doc\\latex_env_doc_files\\latex_env_doc_44_0.png -> C:\\ProgramData\\jupyter\\nbextensions\\latex_envs\\doc\\latex_env_doc_files\\latex_env_doc_44_0.png\n",
      "[I 19:33:01 InstallContribNbextensionsApp] Copying: C:\\Users\\Administrator\\miniconda3\\lib\\site-packages\\latex_envs\\static\\doc\\latex_env_doc_files\\latex_env_doc_45_0.png -> C:\\ProgramData\\jupyter\\nbextensions\\latex_envs\\doc\\latex_env_doc_files\\latex_env_doc_45_0.png\n",
      "[I 19:33:01 InstallContribNbextensionsApp] Copying: C:\\Users\\Administrator\\miniconda3\\lib\\site-packages\\latex_envs\\static\\doc\\latex_env_doc_files\\latex_env_doc_46_0.png -> C:\\ProgramData\\jupyter\\nbextensions\\latex_envs\\doc\\latex_env_doc_files\\latex_env_doc_46_0.png\n",
      "[I 19:33:01 InstallContribNbextensionsApp] Copying: C:\\Users\\Administrator\\miniconda3\\lib\\site-packages\\latex_envs\\static\\doc\\latex_env_doc_files\\latex_env_doc_47_0.png -> C:\\ProgramData\\jupyter\\nbextensions\\latex_envs\\doc\\latex_env_doc_files\\latex_env_doc_47_0.png\n",
      "[I 19:33:01 InstallContribNbextensionsApp] Copying: C:\\Users\\Administrator\\miniconda3\\lib\\site-packages\\latex_envs\\static\\doc\\latex_env_doc_files\\latex_env_doc_48_0.png -> C:\\ProgramData\\jupyter\\nbextensions\\latex_envs\\doc\\latex_env_doc_files\\latex_env_doc_48_0.png\n",
      "[I 19:33:01 InstallContribNbextensionsApp] Copying: C:\\Users\\Administrator\\miniconda3\\lib\\site-packages\\latex_envs\\static\\doc\\latex_env_doc_files\\latex_env_doc_49_0.png -> C:\\ProgramData\\jupyter\\nbextensions\\latex_envs\\doc\\latex_env_doc_files\\latex_env_doc_49_0.png\n",
      "[I 19:33:01 InstallContribNbextensionsApp] Copying: C:\\Users\\Administrator\\miniconda3\\lib\\site-packages\\latex_envs\\static\\doc\\latex_env_doc_files\\latex_env_doc_50_0.png -> C:\\ProgramData\\jupyter\\nbextensions\\latex_envs\\doc\\latex_env_doc_files\\latex_env_doc_50_0.png\n",
      "[I 19:33:01 InstallContribNbextensionsApp] Copying: C:\\Users\\Administrator\\miniconda3\\lib\\site-packages\\latex_envs\\static\\doc\\latex_env_doc_files\\latex_env_doc_51_0.png -> C:\\ProgramData\\jupyter\\nbextensions\\latex_envs\\doc\\latex_env_doc_files\\latex_env_doc_51_0.png\n",
      "[I 19:33:01 InstallContribNbextensionsApp] Copying: C:\\Users\\Administrator\\miniconda3\\lib\\site-packages\\latex_envs\\static\\doc\\latex_env_doc_files\\latex_env_doc_52_0.png -> C:\\ProgramData\\jupyter\\nbextensions\\latex_envs\\doc\\latex_env_doc_files\\latex_env_doc_52_0.png\n",
      "[I 19:33:01 InstallContribNbextensionsApp] - Validating: ok\n",
      "[I 19:33:01 InstallContribNbextensionsApp] Installing jupyter_contrib_nbextensions items to config in C:\\ProgramData\\jupyter\n",
      "Enabling: jupyter_nbextensions_configurator\n",
      "- Writing config: C:\\ProgramData\\jupyter\n",
      "    - Validating...\n",
      "      jupyter_nbextensions_configurator 0.4.1 ok\n",
      "Enabling notebook nbextension nbextensions_configurator/config_menu/main...\n",
      "Enabling tree nbextension nbextensions_configurator/tree_tab/main...\n",
      "[I 19:33:01 InstallContribNbextensionsApp] Enabling notebook extension contrib_nbextensions_help_item/main...\n",
      "[I 19:33:01 InstallContribNbextensionsApp]       - Validating: ok\n",
      "[I 19:33:01 InstallContribNbextensionsApp] - Editing config: C:\\ProgramData\\jupyter\\jupyter_nbconvert_config.json\n",
      "[I 19:33:01 InstallContribNbextensionsApp] --  Configuring nbconvert template path\n",
      "[I 19:33:01 InstallContribNbextensionsApp] --  Configuring nbconvert preprocessors\n",
      "[I 19:33:01 InstallContribNbextensionsApp] - Writing config: C:\\ProgramData\\jupyter\\jupyter_nbconvert_config.json\n",
      "[I 19:33:01 InstallContribNbextensionsApp] --  Writing updated config file C:\\ProgramData\\jupyter\\jupyter_nbconvert_config.json\n"
     ]
    }
   ],
   "source": [
    "pip install jupyter_contrib_nbextensions && jupyter contrib nbextension install"
   ]
  },
  {
   "cell_type": "markdown",
   "id": "48fc47e2",
   "metadata": {
    "heading_collapsed": true
   },
   "source": [
    "### Autopep 8 error시 설치"
   ]
  },
  {
   "cell_type": "code",
   "execution_count": 1,
   "id": "beb5f83c",
   "metadata": {
    "hidden": true,
    "scrolled": true
   },
   "outputs": [
    {
     "name": "stdout",
     "output_type": "stream",
     "text": [
      "Collecting autopep8\n",
      "  Downloading autopep8-2.0.0-py2.py3-none-any.whl (45 kB)\n",
      "Collecting tomli\n",
      "  Downloading tomli-2.0.1-py3-none-any.whl (12 kB)\n",
      "Collecting pycodestyle>=2.9.1\n",
      "  Downloading pycodestyle-2.9.1-py2.py3-none-any.whl (41 kB)\n",
      "Installing collected packages: tomli, pycodestyle, autopep8\n",
      "Successfully installed autopep8-2.0.0 pycodestyle-2.9.1 tomli-2.0.1\n",
      "Note: you may need to restart the kernel to use updated packages.\n"
     ]
    }
   ],
   "source": [
    "pip install autopep8"
   ]
  },
  {
   "cell_type": "markdown",
   "id": "fa61cf83",
   "metadata": {
    "heading_collapsed": true
   },
   "source": [
    "### Tensorflow import 확인"
   ]
  },
  {
   "cell_type": "code",
   "execution_count": 1,
   "id": "8c1354d1",
   "metadata": {
    "hidden": true
   },
   "outputs": [
    {
     "data": {
      "text/plain": [
       "[name: \"/device:CPU:0\"\n",
       " device_type: \"CPU\"\n",
       " memory_limit: 268435456\n",
       " locality {\n",
       " }\n",
       " incarnation: 76793689745701030,\n",
       " name: \"/device:GPU:0\"\n",
       " device_type: \"GPU\"\n",
       " memory_limit: 6277824512\n",
       " locality {\n",
       "   bus_id: 1\n",
       "   links {\n",
       "   }\n",
       " }\n",
       " incarnation: 7362952669597883303\n",
       " physical_device_desc: \"device: 0, name: NVIDIA GeForce RTX 2070, pci bus id: 0000:01:00.0, compute capability: 7.5\"]"
      ]
     },
     "execution_count": 1,
     "metadata": {},
     "output_type": "execute_result"
    }
   ],
   "source": [
    "from tensorflow.python.client import device_lib \n",
    "device_lib.list_local_devices()"
   ]
  },
  {
   "cell_type": "markdown",
   "id": "9f8f42b0",
   "metadata": {
    "heading_collapsed": true
   },
   "source": [
    "### matplotlib 설치"
   ]
  },
  {
   "cell_type": "code",
   "execution_count": 3,
   "id": "d2ed737b",
   "metadata": {
    "hidden": true,
    "scrolled": false
   },
   "outputs": [
    {
     "name": "stdout",
     "output_type": "stream",
     "text": [
      "Collecting matplotlib==3.4.3\n",
      "  Using cached matplotlib-3.4.3-cp39-cp39-win_amd64.whl (7.1 MB)\n",
      "Requirement already satisfied: pyparsing>=2.2.1 in c:\\users\\administrator\\miniconda3\\lib\\site-packages (from matplotlib==3.4.3) (3.0.9)\n",
      "Requirement already satisfied: numpy>=1.16 in c:\\users\\administrator\\miniconda3\\lib\\site-packages (from matplotlib==3.4.3) (1.19.5)\n",
      "Requirement already satisfied: python-dateutil>=2.7 in c:\\users\\administrator\\miniconda3\\lib\\site-packages (from matplotlib==3.4.3) (2.8.2)\n",
      "Requirement already satisfied: pillow>=6.2.0 in c:\\users\\administrator\\miniconda3\\lib\\site-packages (from matplotlib==3.4.3) (9.3.0)\n",
      "Requirement already satisfied: kiwisolver>=1.0.1 in c:\\users\\administrator\\miniconda3\\lib\\site-packages (from matplotlib==3.4.3) (1.4.4)\n",
      "Requirement already satisfied: cycler>=0.10 in c:\\users\\administrator\\miniconda3\\lib\\site-packages (from matplotlib==3.4.3) (0.11.0)\n",
      "Requirement already satisfied: six>=1.5 in c:\\users\\administrator\\miniconda3\\lib\\site-packages (from python-dateutil>=2.7->matplotlib==3.4.3) (1.15.0)\n",
      "Installing collected packages: matplotlib\n",
      "Successfully installed matplotlib-3.4.3\n"
     ]
    }
   ],
   "source": [
    "!pip install matplotlib==3.4.3"
   ]
  },
  {
   "cell_type": "markdown",
   "id": "216da8b8",
   "metadata": {
    "heading_collapsed": true
   },
   "source": [
    "### tensorflow_datasets 설치"
   ]
  },
  {
   "cell_type": "markdown",
   "id": "c6c1d3b3",
   "metadata": {
    "hidden": true
   },
   "source": [
    "아이펠 서버에서 pip list로 tensorflow_datasets 설치와 버전 확인후 로컬에 설치"
   ]
  },
  {
   "cell_type": "code",
   "execution_count": 4,
   "id": "072fbc92",
   "metadata": {
    "hidden": true,
    "scrolled": true
   },
   "outputs": [
    {
     "name": "stdout",
     "output_type": "stream",
     "text": [
      "Collecting tensorflow_datasets==4.4.0\n",
      "  Downloading tensorflow_datasets-4.4.0-py3-none-any.whl (4.0 MB)\n",
      "Requirement already satisfied: absl-py in c:\\users\\administrator\\miniconda3\\lib\\site-packages (from tensorflow_datasets==4.4.0) (0.15.0)\n",
      "Collecting dill\n",
      "  Downloading dill-0.3.6-py3-none-any.whl (110 kB)\n",
      "Requirement already satisfied: tqdm in c:\\users\\administrator\\miniconda3\\lib\\site-packages (from tensorflow_datasets==4.4.0) (4.63.0)\n",
      "Requirement already satisfied: attrs>=18.1.0 in c:\\users\\administrator\\miniconda3\\lib\\site-packages (from tensorflow_datasets==4.4.0) (21.4.0)\n",
      "Requirement already satisfied: protobuf>=3.12.2 in c:\\users\\administrator\\miniconda3\\lib\\site-packages (from tensorflow_datasets==4.4.0) (3.19.6)\n",
      "Requirement already satisfied: requests>=2.19.0 in c:\\users\\administrator\\miniconda3\\lib\\site-packages (from tensorflow_datasets==4.4.0) (2.27.1)\n",
      "Requirement already satisfied: termcolor in c:\\users\\administrator\\miniconda3\\lib\\site-packages (from tensorflow_datasets==4.4.0) (1.1.0)\n",
      "Collecting promise\n",
      "  Downloading promise-2.3.tar.gz (19 kB)\n",
      "Requirement already satisfied: six in c:\\users\\administrator\\miniconda3\\lib\\site-packages (from tensorflow_datasets==4.4.0) (1.15.0)\n",
      "Collecting future\n",
      "  Downloading future-0.18.2.tar.gz (829 kB)\n",
      "Collecting tensorflow-metadata\n",
      "  Downloading tensorflow_metadata-1.10.0-py3-none-any.whl (50 kB)\n",
      "Requirement already satisfied: numpy in c:\\users\\administrator\\miniconda3\\lib\\site-packages (from tensorflow_datasets==4.4.0) (1.19.5)\n",
      "Requirement already satisfied: charset-normalizer~=2.0.0 in c:\\users\\administrator\\miniconda3\\lib\\site-packages (from requests>=2.19.0->tensorflow_datasets==4.4.0) (2.0.4)\n",
      "Requirement already satisfied: urllib3<1.27,>=1.21.1 in c:\\users\\administrator\\miniconda3\\lib\\site-packages (from requests>=2.19.0->tensorflow_datasets==4.4.0) (1.26.8)\n",
      "Requirement already satisfied: idna<4,>=2.5 in c:\\users\\administrator\\miniconda3\\lib\\site-packages (from requests>=2.19.0->tensorflow_datasets==4.4.0) (3.3)\n",
      "Requirement already satisfied: certifi>=2017.4.17 in c:\\users\\administrator\\miniconda3\\lib\\site-packages (from requests>=2.19.0->tensorflow_datasets==4.4.0) (2022.9.24)\n",
      "Collecting googleapis-common-protos<2,>=1.52.0\n",
      "  Downloading googleapis_common_protos-1.56.4-py2.py3-none-any.whl (211 kB)\n",
      "Requirement already satisfied: colorama in c:\\users\\administrator\\miniconda3\\lib\\site-packages (from tqdm->tensorflow_datasets==4.4.0) (0.4.4)\n",
      "Building wheels for collected packages: future, promise\n",
      "  Building wheel for future (setup.py): started\n",
      "  Building wheel for future (setup.py): finished with status 'done'\n",
      "  Created wheel for future: filename=future-0.18.2-py3-none-any.whl size=491070 sha256=dbbbd42c0e2eeaf85b53516ff7888bf62c2db393d67b8af055616ede1b4c5ebd\n",
      "  Stored in directory: c:\\users\\administrator\\appdata\\local\\pip\\cache\\wheels\\2f\\a0\\d3\\4030d9f80e6b3be787f19fc911b8e7aa462986a40ab1e4bb94\n",
      "  Building wheel for promise (setup.py): started\n",
      "  Building wheel for promise (setup.py): finished with status 'done'\n",
      "  Created wheel for promise: filename=promise-2.3-py3-none-any.whl size=21503 sha256=459a788b0b74cd132d46974115253d88096fd6881bc19e8f9283ea0d6bb941de\n",
      "  Stored in directory: c:\\users\\administrator\\appdata\\local\\pip\\cache\\wheels\\e1\\e8\\83\\ddea66100678d139b14bc87692ece57c6a2a937956d2532608\n",
      "Successfully built future promise\n",
      "Installing collected packages: googleapis-common-protos, tensorflow-metadata, promise, future, dill, tensorflow-datasets\n",
      "Successfully installed dill-0.3.6 future-0.18.2 googleapis-common-protos-1.56.4 promise-2.3 tensorflow-datasets-4.4.0 tensorflow-metadata-1.10.0\n"
     ]
    }
   ],
   "source": [
    "!pip install tensorflow_datasets==4.4.0"
   ]
  },
  {
   "cell_type": "markdown",
   "id": "c5c5bd2c",
   "metadata": {
    "heading_collapsed": true
   },
   "source": [
    "### tensorflow_addons"
   ]
  },
  {
   "cell_type": "code",
   "execution_count": 6,
   "id": "13e24166",
   "metadata": {
    "hidden": true
   },
   "outputs": [
    {
     "name": "stdout",
     "output_type": "stream",
     "text": [
      "Requirement already satisfied: tensorflow_addons==0.14.0 in c:\\users\\administrator\\miniconda3\\lib\\site-packages (0.14.0)\n",
      "Requirement already satisfied: typeguard>=2.7 in c:\\users\\administrator\\miniconda3\\lib\\site-packages (from tensorflow_addons==0.14.0) (2.13.3)\n"
     ]
    }
   ],
   "source": [
    "!pip install tensorflow_addons==0.14.0"
   ]
  },
  {
   "cell_type": "markdown",
   "id": "86659347",
   "metadata": {
    "heading_collapsed": true
   },
   "source": [
    "### newspaper3k"
   ]
  },
  {
   "cell_type": "code",
   "execution_count": 1,
   "id": "9e951b39",
   "metadata": {
    "hidden": true,
    "scrolled": true
   },
   "outputs": [
    {
     "name": "stdout",
     "output_type": "stream",
     "text": [
      "Collecting newspaper3k==0.2.8\n",
      "  Downloading newspaper3k-0.2.8-py3-none-any.whl (211 kB)\n",
      "Requirement already satisfied: requests>=2.10.0 in c:\\users\\administrator\\miniconda3\\lib\\site-packages (from newspaper3k==0.2.8) (2.27.1)\n",
      "Collecting feedfinder2>=0.0.4\n",
      "  Downloading feedfinder2-0.0.4.tar.gz (3.3 kB)\n",
      "Collecting cssselect>=0.9.2\n",
      "  Downloading cssselect-1.2.0-py2.py3-none-any.whl (18 kB)\n",
      "Collecting tinysegmenter==0.3\n",
      "  Downloading tinysegmenter-0.3.tar.gz (16 kB)\n",
      "Requirement already satisfied: python-dateutil>=2.5.3 in c:\\users\\administrator\\miniconda3\\lib\\site-packages (from newspaper3k==0.2.8) (2.8.2)\n",
      "Collecting tldextract>=2.0.1\n",
      "  Downloading tldextract-3.4.0-py3-none-any.whl (93 kB)\n",
      "Requirement already satisfied: Pillow>=3.3.0 in c:\\users\\administrator\\miniconda3\\lib\\site-packages (from newspaper3k==0.2.8) (9.3.0)\n",
      "Requirement already satisfied: lxml>=3.6.0 in c:\\users\\administrator\\miniconda3\\lib\\site-packages (from newspaper3k==0.2.8) (4.9.1)\n",
      "Collecting feedparser>=5.2.1\n",
      "  Downloading feedparser-6.0.10-py3-none-any.whl (81 kB)\n",
      "Collecting jieba3k>=0.35.1\n",
      "  Downloading jieba3k-0.35.1.zip (7.4 MB)\n",
      "Requirement already satisfied: beautifulsoup4>=4.4.1 in c:\\users\\administrator\\miniconda3\\lib\\site-packages (from newspaper3k==0.2.8) (4.11.1)\n",
      "Requirement already satisfied: PyYAML>=3.11 in c:\\users\\administrator\\miniconda3\\lib\\site-packages (from newspaper3k==0.2.8) (6.0)\n",
      "Collecting nltk>=3.2.1\n",
      "  Downloading nltk-3.7-py3-none-any.whl (1.5 MB)\n",
      "Requirement already satisfied: soupsieve>1.2 in c:\\users\\administrator\\miniconda3\\lib\\site-packages (from beautifulsoup4>=4.4.1->newspaper3k==0.2.8) (2.3.2.post1)\n",
      "Requirement already satisfied: six in c:\\users\\administrator\\miniconda3\\lib\\site-packages (from feedfinder2>=0.0.4->newspaper3k==0.2.8) (1.15.0)\n",
      "Collecting sgmllib3k\n",
      "  Downloading sgmllib3k-1.0.0.tar.gz (5.8 kB)\n",
      "Collecting joblib\n",
      "  Downloading joblib-1.2.0-py3-none-any.whl (297 kB)\n",
      "Collecting click\n",
      "  Downloading click-8.1.3-py3-none-any.whl (96 kB)\n",
      "Collecting regex>=2021.8.3\n",
      "  Downloading regex-2022.10.31-cp39-cp39-win_amd64.whl (267 kB)\n",
      "Requirement already satisfied: tqdm in c:\\users\\administrator\\miniconda3\\lib\\site-packages (from nltk>=3.2.1->newspaper3k==0.2.8) (4.63.0)\n",
      "Requirement already satisfied: idna<4,>=2.5 in c:\\users\\administrator\\miniconda3\\lib\\site-packages (from requests>=2.10.0->newspaper3k==0.2.8) (3.3)\n",
      "Requirement already satisfied: charset-normalizer~=2.0.0 in c:\\users\\administrator\\miniconda3\\lib\\site-packages (from requests>=2.10.0->newspaper3k==0.2.8) (2.0.4)\n",
      "Requirement already satisfied: certifi>=2017.4.17 in c:\\users\\administrator\\miniconda3\\lib\\site-packages (from requests>=2.10.0->newspaper3k==0.2.8) (2022.9.24)\n",
      "Requirement already satisfied: urllib3<1.27,>=1.21.1 in c:\\users\\administrator\\miniconda3\\lib\\site-packages (from requests>=2.10.0->newspaper3k==0.2.8) (1.26.8)\n",
      "Collecting filelock>=3.0.8\n",
      "  Downloading filelock-3.8.0-py3-none-any.whl (10 kB)\n",
      "Collecting requests-file>=1.4\n",
      "  Downloading requests_file-1.5.1-py2.py3-none-any.whl (3.7 kB)\n",
      "Requirement already satisfied: colorama in c:\\users\\administrator\\miniconda3\\lib\\site-packages (from click->nltk>=3.2.1->newspaper3k==0.2.8) (0.4.4)\n",
      "Building wheels for collected packages: tinysegmenter, feedfinder2, jieba3k, sgmllib3k\n",
      "  Building wheel for tinysegmenter (setup.py): started\n",
      "  Building wheel for tinysegmenter (setup.py): finished with status 'done'\n",
      "  Created wheel for tinysegmenter: filename=tinysegmenter-0.3-py3-none-any.whl size=13553 sha256=8c5ac10692133977151f19a22b95ab5ed5e54f1bc3ab51858ad4f5e1c315b506\n",
      "  Stored in directory: c:\\users\\administrator\\appdata\\local\\pip\\cache\\wheels\\94\\ad\\df\\a2a01300cea47d5695f242f7e925a805970106fd9e4b151468\n",
      "  Building wheel for feedfinder2 (setup.py): started\n",
      "  Building wheel for feedfinder2 (setup.py): finished with status 'done'\n",
      "  Created wheel for feedfinder2: filename=feedfinder2-0.0.4-py3-none-any.whl size=3357 sha256=08c55549eb4bd4cc4b8b5ecda9f464f94e721e6ab03aaff685e7fc82af40c26b\n",
      "  Stored in directory: c:\\users\\administrator\\appdata\\local\\pip\\cache\\wheels\\43\\4a\\c2\\61a371b2524ac90805391c660d8dc4505705297f25e2b85a5d\n",
      "  Building wheel for jieba3k (setup.py): started\n",
      "  Building wheel for jieba3k (setup.py): finished with status 'done'\n",
      "  Created wheel for jieba3k: filename=jieba3k-0.35.1-py3-none-any.whl size=7398404 sha256=648f244074a00fd681b330ef2e52a8b9aa248141c257323694f069bc3f1314a3\n",
      "  Stored in directory: c:\\users\\administrator\\appdata\\local\\pip\\cache\\wheels\\c2\\22\\59\\8214a8d6357e9f540ce1f37f9a4362b6156b4ca81b37f1945f\n",
      "  Building wheel for sgmllib3k (setup.py): started\n",
      "  Building wheel for sgmllib3k (setup.py): finished with status 'done'\n",
      "  Created wheel for sgmllib3k: filename=sgmllib3k-1.0.0-py3-none-any.whl size=6066 sha256=35c666ee81a4626a9bb8dbf25a14cabada513ff7c9c96ab56614927b17f9b1cd\n",
      "  Stored in directory: c:\\users\\administrator\\appdata\\local\\pip\\cache\\wheels\\65\\7a\\a7\\78c287f64e401255dff4c13fdbc672fed5efbfd21c530114e1\n",
      "Successfully built tinysegmenter feedfinder2 jieba3k sgmllib3k\n",
      "Installing collected packages: sgmllib3k, requests-file, regex, joblib, filelock, click, tldextract, tinysegmenter, nltk, jieba3k, feedparser, feedfinder2, cssselect, newspaper3k\n",
      "Successfully installed click-8.1.3 cssselect-1.2.0 feedfinder2-0.0.4 feedparser-6.0.10 filelock-3.8.0 jieba3k-0.35.1 joblib-1.2.0 newspaper3k-0.2.8 nltk-3.7 regex-2022.10.31 requests-file-1.5.1 sgmllib3k-1.0.0 tinysegmenter-0.3 tldextract-3.4.0\n"
     ]
    }
   ],
   "source": [
    "!pip install newspaper3k==0.2.8"
   ]
  },
  {
   "cell_type": "markdown",
   "id": "08b58480",
   "metadata": {
    "heading_collapsed": true
   },
   "source": [
    "### panda"
   ]
  },
  {
   "cell_type": "code",
   "execution_count": 1,
   "id": "3e782a22",
   "metadata": {
    "ExecuteTime": {
     "end_time": "2022-11-04T11:57:55.609533Z",
     "start_time": "2022-11-04T11:57:43.633771Z"
    },
    "hidden": true
   },
   "outputs": [
    {
     "name": "stdout",
     "output_type": "stream",
     "text": [
      "Collecting pandas==1.3.3\n",
      "  Downloading pandas-1.3.3-cp39-cp39-win_amd64.whl (10.2 MB)\n",
      "Requirement already satisfied: pytz>=2017.3 in c:\\users\\administrator\\miniconda3\\lib\\site-packages (from pandas==1.3.3) (2022.1)\n",
      "Requirement already satisfied: numpy>=1.17.3 in c:\\users\\administrator\\miniconda3\\lib\\site-packages (from pandas==1.3.3) (1.19.5)\n",
      "Requirement already satisfied: python-dateutil>=2.7.3 in c:\\users\\administrator\\miniconda3\\lib\\site-packages (from pandas==1.3.3) (2.8.2)\n",
      "Requirement already satisfied: six>=1.5 in c:\\users\\administrator\\miniconda3\\lib\\site-packages (from python-dateutil>=2.7.3->pandas==1.3.3) (1.15.0)\n",
      "Installing collected packages: pandas\n",
      "Successfully installed pandas-1.3.3\n"
     ]
    }
   ],
   "source": [
    "!pip install pandas==1.3.3"
   ]
  },
  {
   "cell_type": "markdown",
   "id": "1df32af4",
   "metadata": {
    "heading_collapsed": true
   },
   "source": [
    "### matplotlib-venn"
   ]
  },
  {
   "cell_type": "code",
   "execution_count": 2,
   "id": "bdd65d00",
   "metadata": {
    "ExecuteTime": {
     "end_time": "2022-11-04T11:58:22.879724Z",
     "start_time": "2022-11-04T11:58:03.230679Z"
    },
    "hidden": true
   },
   "outputs": [
    {
     "name": "stdout",
     "output_type": "stream",
     "text": [
      "Collecting matplotlib-venn==0.11.6\n",
      "  Downloading matplotlib-venn-0.11.6.tar.gz (29 kB)\n",
      "Collecting matplotlib\n",
      "  Downloading matplotlib-3.6.2-cp39-cp39-win_amd64.whl (7.2 MB)\n",
      "Requirement already satisfied: numpy in c:\\users\\administrator\\miniconda3\\lib\\site-packages (from matplotlib-venn==0.11.6) (1.19.5)\n",
      "Collecting scipy\n",
      "  Downloading scipy-1.9.3-cp39-cp39-win_amd64.whl (40.2 MB)\n",
      "Collecting kiwisolver>=1.0.1\n",
      "  Downloading kiwisolver-1.4.4-cp39-cp39-win_amd64.whl (55 kB)\n",
      "Requirement already satisfied: pyparsing>=2.2.1 in c:\\users\\administrator\\miniconda3\\lib\\site-packages (from matplotlib->matplotlib-venn==0.11.6) (3.0.9)\n",
      "Collecting fonttools>=4.22.0\n",
      "  Downloading fonttools-4.38.0-py3-none-any.whl (965 kB)\n",
      "Collecting cycler>=0.10\n",
      "  Downloading cycler-0.11.0-py3-none-any.whl (6.4 kB)\n",
      "Requirement already satisfied: packaging>=20.0 in c:\\users\\administrator\\miniconda3\\lib\\site-packages (from matplotlib->matplotlib-venn==0.11.6) (21.3)\n",
      "Collecting pillow>=6.2.0\n",
      "  Downloading Pillow-9.3.0-cp39-cp39-win_amd64.whl (2.5 MB)\n",
      "Requirement already satisfied: python-dateutil>=2.7 in c:\\users\\administrator\\miniconda3\\lib\\site-packages (from matplotlib->matplotlib-venn==0.11.6) (2.8.2)\n",
      "Collecting contourpy>=1.0.1\n",
      "  Downloading contourpy-1.0.6-cp39-cp39-win_amd64.whl (161 kB)\n",
      "Requirement already satisfied: six>=1.5 in c:\\users\\administrator\\miniconda3\\lib\\site-packages (from python-dateutil>=2.7->matplotlib->matplotlib-venn==0.11.6) (1.15.0)\n",
      "Building wheels for collected packages: matplotlib-venn\n",
      "  Building wheel for matplotlib-venn (setup.py): started\n",
      "  Building wheel for matplotlib-venn (setup.py): finished with status 'done'\n",
      "  Created wheel for matplotlib-venn: filename=matplotlib_venn-0.11.6-py3-none-any.whl size=32065 sha256=a6549e59a8dc0a19ab18f5e967239206daa9c391741925e67b1e42efc2417365\n",
      "  Stored in directory: c:\\users\\administrator\\appdata\\local\\pip\\cache\\wheels\\42\\1c\\65\\1a733895cd94885d1a97eee84ec7595ff7fddc277a45bcacf5\n",
      "Successfully built matplotlib-venn\n",
      "Installing collected packages: pillow, kiwisolver, fonttools, cycler, contourpy, scipy, matplotlib, matplotlib-venn\n",
      "Successfully installed contourpy-1.0.6 cycler-0.11.0 fonttools-4.38.0 kiwisolver-1.4.4 matplotlib-3.6.2 matplotlib-venn-0.11.6 pillow-9.3.0 scipy-1.9.3\n"
     ]
    }
   ],
   "source": [
    "!pip install matplotlib-venn==0.11.6"
   ]
  },
  {
   "cell_type": "markdown",
   "id": "bbacfb15",
   "metadata": {
    "heading_collapsed": true
   },
   "source": [
    "### konlpy"
   ]
  },
  {
   "cell_type": "code",
   "execution_count": 4,
   "id": "289f47fc",
   "metadata": {
    "hidden": true
   },
   "outputs": [
    {
     "name": "stdout",
     "output_type": "stream",
     "text": [
      "Collecting konlpy==0.5.2\n",
      "  Downloading konlpy-0.5.2-py2.py3-none-any.whl (19.4 MB)\n",
      "Requirement already satisfied: colorama in c:\\users\\administrator\\miniconda3\\lib\\site-packages (from konlpy==0.5.2) (0.4.4)\n",
      "Collecting tweepy>=3.7.0\n",
      "  Downloading tweepy-4.12.0-py3-none-any.whl (101 kB)\n",
      "Requirement already satisfied: numpy>=1.6 in c:\\users\\administrator\\miniconda3\\lib\\site-packages (from konlpy==0.5.2) (1.19.5)\n",
      "Requirement already satisfied: lxml>=4.1.0 in c:\\users\\administrator\\miniconda3\\lib\\site-packages (from konlpy==0.5.2) (4.9.1)\n",
      "Collecting JPype1>=0.7.0\n",
      "  Downloading JPype1-1.4.1-cp39-cp39-win_amd64.whl (345 kB)\n",
      "Collecting beautifulsoup4==4.6.0\n",
      "  Downloading beautifulsoup4-4.6.0-py3-none-any.whl (86 kB)\n",
      "Requirement already satisfied: packaging in c:\\users\\administrator\\miniconda3\\lib\\site-packages (from JPype1>=0.7.0->konlpy==0.5.2) (21.3)\n",
      "Requirement already satisfied: requests<3,>=2.27.0 in c:\\users\\administrator\\miniconda3\\lib\\site-packages (from tweepy>=3.7.0->konlpy==0.5.2) (2.27.1)\n",
      "Requirement already satisfied: requests-oauthlib<2,>=1.2.0 in c:\\users\\administrator\\miniconda3\\lib\\site-packages (from tweepy>=3.7.0->konlpy==0.5.2) (1.3.1)\n",
      "Requirement already satisfied: oauthlib<4,>=3.2.0 in c:\\users\\administrator\\miniconda3\\lib\\site-packages (from tweepy>=3.7.0->konlpy==0.5.2) (3.2.2)\n",
      "Requirement already satisfied: idna<4,>=2.5 in c:\\users\\administrator\\miniconda3\\lib\\site-packages (from requests<3,>=2.27.0->tweepy>=3.7.0->konlpy==0.5.2) (3.3)\n",
      "Requirement already satisfied: certifi>=2017.4.17 in c:\\users\\administrator\\miniconda3\\lib\\site-packages (from requests<3,>=2.27.0->tweepy>=3.7.0->konlpy==0.5.2) (2022.9.24)\n",
      "Requirement already satisfied: charset-normalizer~=2.0.0 in c:\\users\\administrator\\miniconda3\\lib\\site-packages (from requests<3,>=2.27.0->tweepy>=3.7.0->konlpy==0.5.2) (2.0.4)\n",
      "Requirement already satisfied: urllib3<1.27,>=1.21.1 in c:\\users\\administrator\\miniconda3\\lib\\site-packages (from requests<3,>=2.27.0->tweepy>=3.7.0->konlpy==0.5.2) (1.26.8)\n",
      "Requirement already satisfied: pyparsing!=3.0.5,>=2.0.2 in c:\\users\\administrator\\miniconda3\\lib\\site-packages (from packaging->JPype1>=0.7.0->konlpy==0.5.2) (3.0.9)\n",
      "Installing collected packages: tweepy, JPype1, beautifulsoup4, konlpy\n",
      "  Attempting uninstall: beautifulsoup4\n",
      "    Found existing installation: beautifulsoup4 4.11.1\n",
      "    Uninstalling beautifulsoup4-4.11.1:\n",
      "      Successfully uninstalled beautifulsoup4-4.11.1\n",
      "Successfully installed JPype1-1.4.1 beautifulsoup4-4.6.0 konlpy-0.5.2 tweepy-4.12.0\n"
     ]
    }
   ],
   "source": [
    "!pip install konlpy==0.5.2"
   ]
  },
  {
   "cell_type": "markdown",
   "id": "4df34b85",
   "metadata": {
    "heading_collapsed": true
   },
   "source": [
    "### tweepy"
   ]
  },
  {
   "cell_type": "code",
   "execution_count": 5,
   "id": "9202cc8a",
   "metadata": {
    "hidden": true
   },
   "outputs": [
    {
     "name": "stdout",
     "output_type": "stream",
     "text": [
      "Collecting tweepy==3.10.0\n",
      "  Downloading tweepy-3.10.0-py2.py3-none-any.whl (30 kB)\n",
      "Requirement already satisfied: requests[socks]>=2.11.1 in c:\\users\\administrator\\miniconda3\\lib\\site-packages (from tweepy==3.10.0) (2.27.1)\n",
      "Requirement already satisfied: requests-oauthlib>=0.7.0 in c:\\users\\administrator\\miniconda3\\lib\\site-packages (from tweepy==3.10.0) (1.3.1)\n",
      "Requirement already satisfied: six>=1.10.0 in c:\\users\\administrator\\miniconda3\\lib\\site-packages (from tweepy==3.10.0) (1.15.0)\n",
      "Requirement already satisfied: oauthlib>=3.0.0 in c:\\users\\administrator\\miniconda3\\lib\\site-packages (from requests-oauthlib>=0.7.0->tweepy==3.10.0) (3.2.2)\n",
      "Requirement already satisfied: idna<4,>=2.5 in c:\\users\\administrator\\miniconda3\\lib\\site-packages (from requests[socks]>=2.11.1->tweepy==3.10.0) (3.3)\n",
      "Requirement already satisfied: certifi>=2017.4.17 in c:\\users\\administrator\\miniconda3\\lib\\site-packages (from requests[socks]>=2.11.1->tweepy==3.10.0) (2022.9.24)\n",
      "Requirement already satisfied: urllib3<1.27,>=1.21.1 in c:\\users\\administrator\\miniconda3\\lib\\site-packages (from requests[socks]>=2.11.1->tweepy==3.10.0) (1.26.8)\n",
      "Requirement already satisfied: charset-normalizer~=2.0.0 in c:\\users\\administrator\\miniconda3\\lib\\site-packages (from requests[socks]>=2.11.1->tweepy==3.10.0) (2.0.4)\n",
      "Requirement already satisfied: PySocks!=1.5.7,>=1.5.6 in c:\\users\\administrator\\miniconda3\\lib\\site-packages (from requests[socks]>=2.11.1->tweepy==3.10.0) (1.7.1)\n",
      "Installing collected packages: tweepy\n",
      "  Attempting uninstall: tweepy\n",
      "    Found existing installation: tweepy 4.12.0\n",
      "    Uninstalling tweepy-4.12.0:\n",
      "      Successfully uninstalled tweepy-4.12.0\n",
      "Successfully installed tweepy-3.10.0\n"
     ]
    }
   ],
   "source": [
    "!pip install tweepy==3.10.0"
   ]
  },
  {
   "cell_type": "markdown",
   "id": "c138a19f",
   "metadata": {
    "heading_collapsed": true
   },
   "source": [
    "### tokenizers"
   ]
  },
  {
   "cell_type": "code",
   "execution_count": 6,
   "id": "cb15ae74",
   "metadata": {
    "hidden": true
   },
   "outputs": [
    {
     "name": "stdout",
     "output_type": "stream",
     "text": [
      "Collecting tokenizers==0.10.3\n",
      "  Downloading tokenizers-0.10.3-cp39-cp39-win_amd64.whl (2.0 MB)\n",
      "Installing collected packages: tokenizers\n",
      "Successfully installed tokenizers-0.10.3\n"
     ]
    }
   ],
   "source": [
    "!pip install tokenizers==0.10.3"
   ]
  },
  {
   "cell_type": "markdown",
   "id": "446f42eb",
   "metadata": {
    "heading_collapsed": true
   },
   "source": [
    "### sklearn"
   ]
  },
  {
   "cell_type": "code",
   "execution_count": 5,
   "id": "c1c13886",
   "metadata": {
    "ExecuteTime": {
     "end_time": "2022-11-05T02:33:45.568530Z",
     "start_time": "2022-11-05T02:33:34.690924Z"
    },
    "hidden": true
   },
   "outputs": [
    {
     "name": "stdout",
     "output_type": "stream",
     "text": [
      "Collecting sklearn\n",
      "  Downloading sklearn-0.0.tar.gz (1.1 kB)\n",
      "Collecting scikit-learn\n",
      "  Downloading scikit_learn-1.1.3-cp39-cp39-win_amd64.whl (7.6 MB)\n",
      "Collecting threadpoolctl>=2.0.0\n",
      "  Downloading threadpoolctl-3.1.0-py3-none-any.whl (14 kB)\n",
      "Requirement already satisfied: scipy>=1.3.2 in c:\\users\\administrator\\miniconda3\\lib\\site-packages (from scikit-learn->sklearn) (1.9.3)\n",
      "Collecting joblib>=1.0.0\n",
      "  Downloading joblib-1.2.0-py3-none-any.whl (297 kB)\n",
      "Requirement already satisfied: numpy>=1.17.3 in c:\\users\\administrator\\miniconda3\\lib\\site-packages (from scikit-learn->sklearn) (1.19.5)\n",
      "Building wheels for collected packages: sklearn\n",
      "  Building wheel for sklearn (setup.py): started\n",
      "  Building wheel for sklearn (setup.py): finished with status 'done'\n",
      "  Created wheel for sklearn: filename=sklearn-0.0-py2.py3-none-any.whl size=1310 sha256=579261d794898a40fa6bf74bc4a589da0509b1250bf060d032e7ac41d5108162\n",
      "  Stored in directory: c:\\users\\administrator\\appdata\\local\\pip\\cache\\wheels\\e4\\7b\\98\\b6466d71b8d738a0c547008b9eb39bf8676d1ff6ca4b22af1c\n",
      "Successfully built sklearn\n",
      "Installing collected packages: threadpoolctl, joblib, scikit-learn, sklearn\n",
      "Successfully installed joblib-1.2.0 scikit-learn-1.1.3 sklearn-0.0 threadpoolctl-3.1.0\n"
     ]
    }
   ],
   "source": [
    "!pip install sklearn"
   ]
  },
  {
   "cell_type": "markdown",
   "id": "331d9b71",
   "metadata": {
    "heading_collapsed": true
   },
   "source": [
    "### multiprocess"
   ]
  },
  {
   "cell_type": "code",
   "execution_count": 6,
   "id": "cc3a4139",
   "metadata": {
    "ExecuteTime": {
     "end_time": "2022-11-06T06:18:38.476437Z",
     "start_time": "2022-11-06T06:18:35.112457Z"
    },
    "hidden": true
   },
   "outputs": [
    {
     "name": "stdout",
     "output_type": "stream",
     "text": [
      "Collecting multiprocess==0.70.12.2\n",
      "  Downloading multiprocess-0.70.12.2-py39-none-any.whl (128 kB)\n",
      "Collecting dill>=0.3.4\n",
      "  Downloading dill-0.3.6-py3-none-any.whl (110 kB)\n",
      "Installing collected packages: dill, multiprocess\n",
      "Successfully installed dill-0.3.6 multiprocess-0.70.12.2\n"
     ]
    }
   ],
   "source": [
    "!pip install multiprocess==0.70.12.2"
   ]
  },
  {
   "cell_type": "markdown",
   "id": "512a3a03",
   "metadata": {
    "heading_collapsed": true
   },
   "source": [
    "### numpy "
   ]
  },
  {
   "cell_type": "code",
   "execution_count": 3,
   "id": "3f301d91",
   "metadata": {
    "ExecuteTime": {
     "end_time": "2022-11-04T11:58:35.378242Z",
     "start_time": "2022-11-04T11:58:34.064684Z"
    },
    "hidden": true
   },
   "outputs": [
    {
     "name": "stdout",
     "output_type": "stream",
     "text": [
      "Requirement already satisfied: numpy in c:\\users\\administrator\\miniconda3\\lib\\site-packages (1.19.5)\n",
      "Note: you may need to restart the kernel to use updated packages.\n"
     ]
    }
   ],
   "source": [
    "pip install numpy "
   ]
  },
  {
   "cell_type": "markdown",
   "id": "38ef3ea3",
   "metadata": {
    "heading_collapsed": true
   },
   "source": [
    "### seaborn                       0.11.2"
   ]
  },
  {
   "cell_type": "code",
   "execution_count": 4,
   "id": "d1627c75",
   "metadata": {
    "ExecuteTime": {
     "end_time": "2022-11-04T11:58:51.885608Z",
     "start_time": "2022-11-04T11:58:49.809259Z"
    },
    "hidden": true
   },
   "outputs": [
    {
     "name": "stdout",
     "output_type": "stream",
     "text": [
      "Collecting seaborn==0.11.2\n",
      "  Downloading seaborn-0.11.2-py3-none-any.whl (292 kB)\n",
      "Requirement already satisfied: numpy>=1.15 in c:\\users\\administrator\\miniconda3\\lib\\site-packages (from seaborn==0.11.2) (1.19.5)\n",
      "Requirement already satisfied: scipy>=1.0 in c:\\users\\administrator\\miniconda3\\lib\\site-packages (from seaborn==0.11.2) (1.9.3)\n",
      "Requirement already satisfied: matplotlib>=2.2 in c:\\users\\administrator\\miniconda3\\lib\\site-packages (from seaborn==0.11.2) (3.6.2)\n",
      "Requirement already satisfied: pandas>=0.23 in c:\\users\\administrator\\miniconda3\\lib\\site-packages (from seaborn==0.11.2) (1.3.3)\n",
      "Requirement already satisfied: kiwisolver>=1.0.1 in c:\\users\\administrator\\miniconda3\\lib\\site-packages (from matplotlib>=2.2->seaborn==0.11.2) (1.4.4)\n",
      "Requirement already satisfied: cycler>=0.10 in c:\\users\\administrator\\miniconda3\\lib\\site-packages (from matplotlib>=2.2->seaborn==0.11.2) (0.11.0)\n",
      "Requirement already satisfied: contourpy>=1.0.1 in c:\\users\\administrator\\miniconda3\\lib\\site-packages (from matplotlib>=2.2->seaborn==0.11.2) (1.0.6)\n",
      "Requirement already satisfied: pillow>=6.2.0 in c:\\users\\administrator\\miniconda3\\lib\\site-packages (from matplotlib>=2.2->seaborn==0.11.2) (9.3.0)\n",
      "Requirement already satisfied: fonttools>=4.22.0 in c:\\users\\administrator\\miniconda3\\lib\\site-packages (from matplotlib>=2.2->seaborn==0.11.2) (4.38.0)\n",
      "Requirement already satisfied: pyparsing>=2.2.1 in c:\\users\\administrator\\miniconda3\\lib\\site-packages (from matplotlib>=2.2->seaborn==0.11.2) (3.0.9)\n",
      "Requirement already satisfied: packaging>=20.0 in c:\\users\\administrator\\miniconda3\\lib\\site-packages (from matplotlib>=2.2->seaborn==0.11.2) (21.3)\n",
      "Requirement already satisfied: python-dateutil>=2.7 in c:\\users\\administrator\\miniconda3\\lib\\site-packages (from matplotlib>=2.2->seaborn==0.11.2) (2.8.2)\n",
      "Requirement already satisfied: pytz>=2017.3 in c:\\users\\administrator\\miniconda3\\lib\\site-packages (from pandas>=0.23->seaborn==0.11.2) (2022.1)\n",
      "Requirement already satisfied: six>=1.5 in c:\\users\\administrator\\miniconda3\\lib\\site-packages (from python-dateutil>=2.7->matplotlib>=2.2->seaborn==0.11.2) (1.15.0)\n",
      "Installing collected packages: seaborn\n",
      "Successfully installed seaborn-0.11.2\n"
     ]
    }
   ],
   "source": [
    "!pip install seaborn==0.11.2"
   ]
  },
  {
   "cell_type": "markdown",
   "id": "1f54c828",
   "metadata": {
    "heading_collapsed": true
   },
   "source": [
    "### "
   ]
  },
  {
   "cell_type": "markdown",
   "id": "dcb8cfa6",
   "metadata": {},
   "source": [
    "### "
   ]
  },
  {
   "cell_type": "markdown",
   "id": "a873aef3",
   "metadata": {},
   "source": [
    "### "
   ]
  },
  {
   "cell_type": "markdown",
   "id": "84266134",
   "metadata": {},
   "source": [
    "### "
   ]
  },
  {
   "cell_type": "markdown",
   "id": "89321911",
   "metadata": {},
   "source": [
    "### "
   ]
  },
  {
   "cell_type": "markdown",
   "id": "1a33a03b",
   "metadata": {},
   "source": [
    "### "
   ]
  },
  {
   "cell_type": "markdown",
   "id": "bff82841",
   "metadata": {},
   "source": [
    "### "
   ]
  },
  {
   "cell_type": "markdown",
   "id": "ebab7819",
   "metadata": {},
   "source": [
    "### "
   ]
  },
  {
   "cell_type": "markdown",
   "id": "9e3b1dc1",
   "metadata": {},
   "source": [
    "### "
   ]
  }
 ],
 "metadata": {
  "hide_input": false,
  "kernelspec": {
   "display_name": "Python 3 (ipykernel)",
   "language": "python",
   "name": "python3"
  },
  "language_info": {
   "codemirror_mode": {
    "name": "ipython",
    "version": 3
   },
   "file_extension": ".py",
   "mimetype": "text/x-python",
   "name": "python",
   "nbconvert_exporter": "python",
   "pygments_lexer": "ipython3",
   "version": "3.9.12"
  },
  "toc": {
   "base_numbering": 1,
   "nav_menu": {},
   "number_sections": true,
   "sideBar": false,
   "skip_h1_title": true,
   "title_cell": "Table of Contents",
   "title_sidebar": "Contents",
   "toc_cell": false,
   "toc_position": {
    "height": "47.7031px",
    "left": "860px",
    "top": "111.125px",
    "width": "159px"
   },
   "toc_section_display": false,
   "toc_window_display": true
  }
 },
 "nbformat": 4,
 "nbformat_minor": 5
}
