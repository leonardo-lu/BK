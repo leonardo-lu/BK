{
 "cells": [
  {
   "cell_type": "markdown",
   "id": "95bc0f49",
   "metadata": {},
   "source": [
    "## Install list"
   ]
  },
  {
   "cell_type": "markdown",
   "id": "61c44cee",
   "metadata": {
    "heading_collapsed": true
   },
   "source": [
    "### Nbextensions 설치"
   ]
  },
  {
   "cell_type": "code",
   "execution_count": null,
   "id": "49fa1b32",
   "metadata": {
    "hidden": true,
    "scrolled": true
   },
   "outputs": [],
   "source": [
    "pip install jupyter_contrib_nbextensions && jupyter contrib nbextension install"
   ]
  },
  {
   "cell_type": "markdown",
   "id": "48fc47e2",
   "metadata": {
    "heading_collapsed": true
   },
   "source": [
    "### Autopep 8 error시 설치"
   ]
  },
  {
   "cell_type": "code",
   "execution_count": null,
   "id": "beb5f83c",
   "metadata": {
    "hidden": true,
    "scrolled": true
   },
   "outputs": [],
   "source": [
    "pip install autopep8"
   ]
  },
  {
   "cell_type": "markdown",
   "id": "fa61cf83",
   "metadata": {
    "heading_collapsed": true
   },
   "source": [
    "### Tensorflow import 확인"
   ]
  },
  {
   "cell_type": "code",
   "execution_count": null,
   "id": "8c1354d1",
   "metadata": {
    "hidden": true
   },
   "outputs": [],
   "source": [
    "from tensorflow.python.client import device_lib \n",
    "device_lib.list_local_devices()"
   ]
  },
  {
   "cell_type": "markdown",
   "id": "9f8f42b0",
   "metadata": {},
   "source": [
    "### matplotlib 설치"
   ]
  },
  {
   "cell_type": "code",
   "execution_count": null,
   "id": "d2ed737b",
   "metadata": {
    "scrolled": false
   },
   "outputs": [],
   "source": [
    "!pip install matplotlib==3.4.3"
   ]
  },
  {
   "cell_type": "markdown",
   "id": "216da8b8",
   "metadata": {
    "heading_collapsed": true
   },
   "source": [
    "### tensorflow_datasets 설치"
   ]
  },
  {
   "cell_type": "markdown",
   "id": "c6c1d3b3",
   "metadata": {
    "hidden": true
   },
   "source": [
    "아이펠 서버에서 pip list로 tensorflow_datasets 설치와 버전 확인후 로컬에 설치"
   ]
  },
  {
   "cell_type": "code",
   "execution_count": null,
   "id": "072fbc92",
   "metadata": {
    "hidden": true,
    "scrolled": true
   },
   "outputs": [],
   "source": [
    "!pip install tensorflow_datasets==4.4.0"
   ]
  },
  {
   "cell_type": "markdown",
   "id": "c5c5bd2c",
   "metadata": {
    "heading_collapsed": true
   },
   "source": [
    "### tensorflow_addons"
   ]
  },
  {
   "cell_type": "code",
   "execution_count": null,
   "id": "13e24166",
   "metadata": {
    "hidden": true
   },
   "outputs": [],
   "source": [
    "!pip install tensorflow_addons==0.14.0"
   ]
  },
  {
   "cell_type": "markdown",
   "id": "86659347",
   "metadata": {
    "heading_collapsed": true
   },
   "source": [
    "### newspaper3k"
   ]
  },
  {
   "cell_type": "code",
   "execution_count": null,
   "id": "9e951b39",
   "metadata": {
    "hidden": true,
    "scrolled": true
   },
   "outputs": [],
   "source": [
    "!pip install newspaper3k==0.2.8"
   ]
  },
  {
   "cell_type": "markdown",
   "id": "08b58480",
   "metadata": {
    "heading_collapsed": true
   },
   "source": [
    "### panda"
   ]
  },
  {
   "cell_type": "code",
   "execution_count": null,
   "id": "3e782a22",
   "metadata": {
    "ExecuteTime": {
     "end_time": "2022-11-04T11:57:55.609533Z",
     "start_time": "2022-11-04T11:57:43.633771Z"
    },
    "hidden": true
   },
   "outputs": [],
   "source": [
    "!pip install pandas==1.2.0"
   ]
  },
  {
   "cell_type": "markdown",
   "id": "1df32af4",
   "metadata": {
    "heading_collapsed": true
   },
   "source": [
    "### matplotlib-venn"
   ]
  },
  {
   "cell_type": "code",
   "execution_count": null,
   "id": "bdd65d00",
   "metadata": {
    "ExecuteTime": {
     "end_time": "2022-11-04T11:58:22.879724Z",
     "start_time": "2022-11-04T11:58:03.230679Z"
    },
    "hidden": true
   },
   "outputs": [],
   "source": [
    "!pip install matplotlib-venn==0.11.6"
   ]
  },
  {
   "cell_type": "markdown",
   "id": "bbacfb15",
   "metadata": {
    "heading_collapsed": true
   },
   "source": [
    "### konlpy"
   ]
  },
  {
   "cell_type": "code",
   "execution_count": null,
   "id": "289f47fc",
   "metadata": {
    "hidden": true
   },
   "outputs": [],
   "source": [
    "!pip install konlpy==0.5.2"
   ]
  },
  {
   "cell_type": "markdown",
   "id": "4df34b85",
   "metadata": {
    "heading_collapsed": true
   },
   "source": [
    "### tweepy"
   ]
  },
  {
   "cell_type": "code",
   "execution_count": null,
   "id": "9202cc8a",
   "metadata": {
    "hidden": true
   },
   "outputs": [],
   "source": [
    "!pip install tweepy==3.10.0"
   ]
  },
  {
   "cell_type": "markdown",
   "id": "c138a19f",
   "metadata": {
    "heading_collapsed": true
   },
   "source": [
    "### tokenizers"
   ]
  },
  {
   "cell_type": "code",
   "execution_count": null,
   "id": "cb15ae74",
   "metadata": {
    "hidden": true
   },
   "outputs": [],
   "source": [
    "!pip install tokenizers==0.10.3"
   ]
  },
  {
   "cell_type": "markdown",
   "id": "446f42eb",
   "metadata": {},
   "source": [
    "### sklearn"
   ]
  },
  {
   "cell_type": "code",
   "execution_count": null,
   "id": "c1c13886",
   "metadata": {
    "ExecuteTime": {
     "end_time": "2022-11-05T02:33:45.568530Z",
     "start_time": "2022-11-05T02:33:34.690924Z"
    }
   },
   "outputs": [],
   "source": [
    "pip install sklearn"
   ]
  },
  {
   "cell_type": "markdown",
   "id": "331d9b71",
   "metadata": {
    "heading_collapsed": true
   },
   "source": [
    "### multiprocess"
   ]
  },
  {
   "cell_type": "code",
   "execution_count": null,
   "id": "cc3a4139",
   "metadata": {
    "ExecuteTime": {
     "end_time": "2022-11-06T06:18:38.476437Z",
     "start_time": "2022-11-06T06:18:35.112457Z"
    },
    "hidden": true
   },
   "outputs": [],
   "source": [
    "!pip install multiprocess==0.70.12.2"
   ]
  },
  {
   "cell_type": "markdown",
   "id": "512a3a03",
   "metadata": {
    "heading_collapsed": true
   },
   "source": [
    "### numpy "
   ]
  },
  {
   "cell_type": "code",
   "execution_count": null,
   "id": "3f301d91",
   "metadata": {
    "ExecuteTime": {
     "end_time": "2022-11-04T11:58:35.378242Z",
     "start_time": "2022-11-04T11:58:34.064684Z"
    },
    "hidden": true
   },
   "outputs": [],
   "source": [
    "pip install numpy "
   ]
  },
  {
   "cell_type": "markdown",
   "id": "38ef3ea3",
   "metadata": {},
   "source": [
    "### seaborn                       0.11.2"
   ]
  },
  {
   "cell_type": "code",
   "execution_count": null,
   "id": "d1627c75",
   "metadata": {
    "ExecuteTime": {
     "end_time": "2022-11-04T11:58:51.885608Z",
     "start_time": "2022-11-04T11:58:49.809259Z"
    }
   },
   "outputs": [],
   "source": [
    "!pip install seaborn==0.11.1"
   ]
  },
  {
   "cell_type": "markdown",
   "id": "1f54c828",
   "metadata": {},
   "source": [
    "### statsmodels     0.12.1"
   ]
  },
  {
   "cell_type": "code",
   "execution_count": null,
   "id": "6e82415e",
   "metadata": {
    "scrolled": true
   },
   "outputs": [],
   "source": [
    "!pip install statsmodels==0.12.1"
   ]
  },
  {
   "cell_type": "markdown",
   "id": "dcb8cfa6",
   "metadata": {},
   "source": [
    "### "
   ]
  },
  {
   "cell_type": "code",
   "execution_count": null,
   "id": "a7d7b2d9",
   "metadata": {
    "scrolled": false
   },
   "outputs": [],
   "source": [
    "!pip install scipy==1.7.1"
   ]
  },
  {
   "cell_type": "markdown",
   "id": "8d52f0a6",
   "metadata": {},
   "source": [
    "### scipy==1.7.1"
   ]
  },
  {
   "cell_type": "code",
   "execution_count": null,
   "id": "77baeac9",
   "metadata": {},
   "outputs": [],
   "source": [
    "!pip uninstall scipy==1.7.1"
   ]
  },
  {
   "cell_type": "markdown",
   "id": "a873aef3",
   "metadata": {},
   "source": [
    "### "
   ]
  },
  {
   "cell_type": "code",
   "execution_count": null,
   "id": "a121d23e",
   "metadata": {},
   "outputs": [],
   "source": [
    "import matplotlib as mpl\n",
    "import matplotlib.pyplot as plt\n",
    "import matplotlib.font_manager as fm\n",
    "\n",
    "print(mpl.__version__)\n",
    "print(mpl.__file__)\n",
    "print(mpl.get_configdir())\n",
    "print(mpl.get_cachedir())"
   ]
  },
  {
   "cell_type": "code",
   "execution_count": null,
   "id": "5bdb0ff5",
   "metadata": {},
   "outputs": [],
   "source": [
    "print(mpl.matplotlib_fname())"
   ]
  },
  {
   "cell_type": "markdown",
   "id": "84266134",
   "metadata": {},
   "source": [
    "### "
   ]
  },
  {
   "cell_type": "code",
   "execution_count": null,
   "id": "063653d3",
   "metadata": {},
   "outputs": [],
   "source": [
    "import os\n",
    "import requests\n",
    "from io import BytesIO\n",
    "from itertools import product\n",
    "from datetime import datetime\n",
    "\n",
    "# 데이터 처리\n",
    "import pandas as pd\n",
    "import numpy as np\n",
    "\n",
    "# 시각화\n",
    "import matplotlib as mpl\n",
    "import matplotlib.pyplot as plt\n",
    "import matplotlib.ticker as plticker\n",
    "import seaborn as sns\n",
    "\n",
    "# 분석\n",
    "import sklearn\n",
    "from sklearn.preprocessing import StandardScaler\n",
    "from sklearn.linear_model import Ridge, RidgeCV, Lasso, LassoCV\n",
    "import statsmodels.api as sm\n",
    "import pmdarima as pm  \n",
    "\n",
    "# statsmodels\n",
    "from statsmodels.graphics.tsaplots import plot_acf, plot_pacf\n",
    "from statsmodels.tsa.seasonal import STL\n",
    "from statsmodels.tsa.stattools import adfuller # 정상성 검정\n",
    "from statsmodels.tsa.arima_model import ARIMA\n",
    "\n",
    "import warnings\n",
    "warnings.filterwarnings( 'ignore' )\n",
    "\n",
    "print(\"슝~\")"
   ]
  },
  {
   "cell_type": "code",
   "execution_count": null,
   "id": "3b61f25e",
   "metadata": {},
   "outputs": [],
   "source": [
    "print( f'# pandas:       {pd.__version__}' )\n",
    "print( f'# numpy:        {np.__version__}' )\n",
    "print( f'# matplotlib:   {mpl.__version__}' )  \n",
    "print( f'# seaborn:      {sns.__version__}' )\n",
    "print( f'# statsmodels:  {sm.__version__}' )\n",
    "print( f'# scikit-learn: {sklearn.__version__}' )\n",
    "print( f'# pmdarima:     {pm.__version__}' )"
   ]
  },
  {
   "cell_type": "code",
   "execution_count": null,
   "id": "fdfd3fab",
   "metadata": {},
   "outputs": [],
   "source": [
    "!pip uninstall statsmodels\n",
    "!pip uninstall scikit-learn\n",
    "!pip uninstall pmdarima"
   ]
  },
  {
   "cell_type": "code",
   "execution_count": null,
   "id": "fefefdce",
   "metadata": {},
   "outputs": [],
   "source": []
  },
  {
   "cell_type": "code",
   "execution_count": null,
   "id": "c0e6d9d8",
   "metadata": {},
   "outputs": [],
   "source": []
  },
  {
   "cell_type": "code",
   "execution_count": null,
   "id": "2f91d885",
   "metadata": {},
   "outputs": [],
   "source": [
    "pip install statsmodels==0.12.1\n",
    "pip install scikit-learn==1.0\n",
    "pip install pmdarima==1.8.3"
   ]
  },
  {
   "cell_type": "markdown",
   "id": "89321911",
   "metadata": {},
   "source": [
    "### "
   ]
  },
  {
   "cell_type": "markdown",
   "id": "1a33a03b",
   "metadata": {},
   "source": [
    "### "
   ]
  },
  {
   "cell_type": "markdown",
   "id": "bff82841",
   "metadata": {},
   "source": [
    "### "
   ]
  },
  {
   "cell_type": "markdown",
   "id": "ebab7819",
   "metadata": {},
   "source": [
    "### "
   ]
  },
  {
   "cell_type": "markdown",
   "id": "9e3b1dc1",
   "metadata": {},
   "source": [
    "### "
   ]
  }
 ],
 "metadata": {
  "hide_input": false,
  "kernelspec": {
   "display_name": "Python 3 (ipykernel)",
   "language": "python",
   "name": "python3"
  },
  "language_info": {
   "codemirror_mode": {
    "name": "ipython",
    "version": 3
   },
   "file_extension": ".py",
   "mimetype": "text/x-python",
   "name": "python",
   "nbconvert_exporter": "python",
   "pygments_lexer": "ipython3",
   "version": "3.9.12"
  },
  "toc": {
   "base_numbering": 1,
   "nav_menu": {},
   "number_sections": true,
   "sideBar": false,
   "skip_h1_title": true,
   "title_cell": "Table of Contents",
   "title_sidebar": "Contents",
   "toc_cell": false,
   "toc_position": {
    "height": "47.7031px",
    "left": "860px",
    "top": "111.125px",
    "width": "159px"
   },
   "toc_section_display": false,
   "toc_window_display": true
  }
 },
 "nbformat": 4,
 "nbformat_minor": 5
}
