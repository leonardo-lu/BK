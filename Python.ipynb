{
 "cells": [
  {
   "cell_type": "markdown",
   "id": "8d3fd8c0",
   "metadata": {
    "hide_input": false
   },
   "source": [
    "## Python"
   ]
  },
  {
   "cell_type": "markdown",
   "id": "934f6ac9",
   "metadata": {
    "heading_collapsed": true
   },
   "source": [
    "### 00 배경지식"
   ]
  },
  {
   "cell_type": "markdown",
   "id": "b9a2cf66",
   "metadata": {
    "hidden": true
   },
   "source": [
    "- 대화형 셸 interactive shell, 또는 인터렉티브 모드 interactive mode는 코드를 읽고, 평가(계산, 실행)하고, 출력한다고 해서  \n",
    "  REPL(Read-Eval-Print Loop)이라고 합니다.\n",
    "- 주석 comment : 파이썬 인터프리터가 처리하지 않으므로 프로그램의 실행에는 영향을 주지 않습니다.   \n",
    "  보통 코드에 대한 자세한 설명을 작성하거나, 특정 코드를 임시로 사용하지 않도록 만들 때 사용합니다. (#이후의 글자들 모두를 주석으로 인식한다.)\n",
    "- Indentation 들여쓰기 : 코드를 읽기 쉽도록 일정한 간격을 띄워서 작성하는 문법. (기본 4칸 공백)\n",
    "- indented block : 코드를 실행하는 코드 블록 단위\n",
    "- 코드 블록은 특정한 동작을 위해서 코드가 모여 있는 상태를 뜻하며 파이썬은 들여쓰기를 기준으로 코드 블록을 구성\n",
    "- 콘솔(터미널, 명령 프롬프트)에서 python 스크립트파일.py 형식으로 실행할 수 있다.\n",
    "\n",
    "컴퓨테이셔널 씽킹은 4가지로 되어 있습니다.\n",
    "- 분해: 복잡한 문제를 작은 문제로 나눕니다.\n",
    "- 패턴 인식: 문제 안에서 유사성을 발견합니다.\n",
    "- 추상화: 문제의 핵심에만 집중하고, 부차적인 것은 제외합니다.\n",
    "- 알고리즘: 이렇게 정의한 문제를 해결하는 절차입니다(일반화와 모델링은 여기에 포함됩니다)."
   ]
  },
  {
   "cell_type": "markdown",
   "id": "d5527464",
   "metadata": {
    "hidden": true
   },
   "source": [
    "#### 3 내장 함수"
   ]
  },
  {
   "cell_type": "markdown",
   "id": "8af69993",
   "metadata": {
    "hidden": true
   },
   "source": [
    "##### 1 dir( )"
   ]
  },
  {
   "cell_type": "markdown",
   "id": "8d68d17b",
   "metadata": {
    "hidden": true
   },
   "source": [
    "dir : 사용 할 수 있는 변수, 모듈에서 정의한 이름, 메소드 명단 표시\n",
    "\n",
    "dir() : 현재 프로그램의 local scope에서 사용하고 있는 변수, 모듈에서 정의한 이름 목록을 표시\n",
    "dir(객체) : 인수를 사용하여 해당 개체에 대한 유효한 메서드, 모듈에서 정의한 이름 목록을 표시\n",
    "개체에 _dir_()메서드가 있는 경우 이 메서드가 호출되고 속성 목록을 반환해야 합니다.\n",
    "_getattr_()이를 통해 사용자 지정 또는 _getattribute_()기능을 구현하는 개체가 dir()속성을 보고하는 방식을 사용자 지정할 수 있습니다.\n",
    "\n",
    "객체가 를 제공하지 않으면 함수는 객체의 메서드(정의된 ​​경우)과 해당 유형 객체에서 dir_()정보를 수집하기 위해 최선을 다합니다\n",
    "dict__결과 목록이 반드시 완전한 것은 아니며 개체에 사용자 지정이 있는 경우 정확하지 않을 수 있습니다 getattr().\n",
    "\n",
    "기본 dir()메커니즘은 완전한 정보가 아니라 가장 관련성이 높은 정보를 생성하려고 시도하기 때문에 객체 유형에 따라 다르게 작동합니다.\n",
    "개체가 모듈 개체인 경우 목록에는 모듈 속성의 이름이 포함됩니다\n",
    "\n",
    "객체가 유형 또는 클래스 객체인 경우 목록에는 해당 속성의 이름과 해당 기본 속성의 재귀적으로 포함됩니다.\n",
    "그렇지 않은 경우 목록에는 개체의 속성 이름, 해당 클래스의 속성 이름 및 해당 클래스 기본 클래스의 속성이 재귀적으로 포함됩니다.\n",
    "\n",
    "주로 대화형 프롬프트에서 사용하기 위한 편의를 위해 제공 되기 때문에 dir()엄격하거나 일관되게 정의된 이름 집합을 제공하는 것보다\n",
    "흥미로운 이름 집합을 제공하려고 하며 자세한 동작은 릴리스 간에 변경될 수 있습니다.\n",
    "\n",
    "예를 들어 인수가 클래스인 경우 메타클래스 속성은 결과 목록에 없습니다."
   ]
  },
  {
   "cell_type": "markdown",
   "id": "77ec49d7",
   "metadata": {
    "hidden": true
   },
   "source": [
    "##### 2 help( )"
   ]
  },
  {
   "cell_type": "markdown",
   "id": "135b350d",
   "metadata": {
    "hidden": true
   },
   "source": [
    "help : 사용 할 수 object에 대한 설명 및 메서드, 각 메서드의 사용 방법을 표시\n",
    "\n",
    "help( ) 인수가 제공되지 않으면 대화식 도움말 시스템이 인터프리터 콘솔에서 시작됩니다.\n",
    "help(객체) : 객체 모듈, 함수, 클래스, 메서드, 키워드 또는 문서 항목의 이름으로 조회되고 콘솔에 도움말 페이지가 인쇄됩니다.\n",
    "단 모듈에 대한 내용은 import후에 사용해야 도움말이 표시된다.\n",
    "\n",
    "help(객체.메서드) : 객체의 메서드 도움말 표시."
   ]
  },
  {
   "cell_type": "markdown",
   "id": "fb4aec22",
   "metadata": {
    "hidden": true
   },
   "source": [
    "##### id( )"
   ]
  },
  {
   "cell_type": "markdown",
   "id": "5e87ecd3",
   "metadata": {
    "hidden": true
   },
   "source": [
    "id() 함수는 파이썬 내장함수로, 프로그램이 돌아가고 있는 동안 객체의 고윳값(identity)을 반환합니다.\n",
    "identity는 메모리 주소 또는 그냥 객체마다 부여된 유일한 값이라고 생각하시면 됩니다. 우리가 주로 쓰는 일반적인 파이썬에서는 메모리 주소를 뜻한다고 합니다."
   ]
  },
  {
   "cell_type": "markdown",
   "id": "708b61d3",
   "metadata": {
    "hidden": true
   },
   "source": [
    "##### len()"
   ]
  },
  {
   "cell_type": "code",
   "execution_count": null,
   "id": "c9c34bae",
   "metadata": {
    "hidden": true
   },
   "outputs": [],
   "source": [
    "len()\n",
    "길이(크기)를 구하는 함수, 자료형을 가리지 않는다. 자료형의 index는 0부터 시작하지만, len()의 결과값은 1부터 시작한다.\n",
    "pandas등 외부 모듈에도 쓸 수 있는 함수이다.\n",
    "\n",
    "range에 len 함수를 사용하면 숫자가 생성되는 개수를 구합니다.\n",
    "len(range(0, 10, 2))    # 5\n",
    "\n",
    "문자열에 len 함수를 사용하면 길이(문자의 개수)를 구함\n",
    "hello = 'Hello, world!'\n",
    "len(hello)    # 13(문자열의 길이는 공백까지 포함)\n",
    "\n",
    "참고 | UTF-8 문자열의 바이트 수 구하기\n",
    "hello = '안녕하세요'\n",
    "len(hello.encode('utf-8'))    # 15\n",
    "\n",
    "UTF-8에서 한글 글자 하나는 3바이트로 표현하므로 '안녕하세요'가 차지하는 실제 바이트 수는 15바이트입니다.\n",
    "참고로 파이썬 3에서 len은 문자의 개수를 구해주지만 파이썬 2.7에서는 실제 바이트 수를 구해주는 차이점이 있습니다. \n",
    "즉, 한글 문자열의 길이를 구할 때 파이썬 버전에 따라 결과가 달라지므로 주의해야 합니다."
   ]
  },
  {
   "cell_type": "markdown",
   "id": "28f98f1c",
   "metadata": {
    "hidden": true
   },
   "source": [
    "##### del"
   ]
  },
  {
   "cell_type": "code",
   "execution_count": null,
   "id": "08ad5d0f",
   "metadata": {
    "hidden": true
   },
   "outputs": [],
   "source": [
    "del : 삭제하는 명령어, del 뒤에 아무거나 넣어보면 에러 없이 다 삭제된다.\n",
    "메모리에 있는 변수, 함수를 삭제할 수 있고, 사전형(dict)이나 리스트(list)의 값들을 삭제할 수 있다.\n",
    "단, tuple과 같이 immutable(불변)한 자료형은 통째로 메모리에서 지워버릴때만 쓸 수 있다\n",
    "\n",
    "del은 함수가 아니라 예약어이다.  예약어 뒤에 한 칸을 띄고서 사용 - del 시퀀스객체[시작인덱스:끝인덱스]"
   ]
  },
  {
   "cell_type": "markdown",
   "id": "8e1350b9",
   "metadata": {
    "hidden": true
   },
   "source": [
    "##### range( )"
   ]
  },
  {
   "cell_type": "code",
   "execution_count": null,
   "id": "b9f01f01",
   "metadata": {
    "hidden": true
   },
   "outputs": [],
   "source": [
    "range(횟수)\n",
    "range는 연속된 숫자를 생성하는 함수, range(시작, 끝, 증가폭)\n",
    "\n",
    "count(...) rangeobject.count(value) -> integer -- return number of occurrences of value\n",
    "index(...) rangeobject.index(value) -> integer -- return index of value. Raise ValueError if the value is not present."
   ]
  },
  {
   "cell_type": "markdown",
   "id": "fe76b9ea",
   "metadata": {
    "hidden": true
   },
   "source": [
    "##### random.random()"
   ]
  },
  {
   "cell_type": "code",
   "execution_count": null,
   "id": "d14f9360",
   "metadata": {
    "hidden": true
   },
   "outputs": [],
   "source": [
    "random.random()  : 0 ~ 1 사이의 실수를 생성.\n",
    "random.randint(a, b) : a ~ b 범위를 지정하며, 범위중 숫자를 생성\n",
    "\n",
    "import random    # random 모듈을 가져옴\n",
    "random.randint(1, 6)    # 1 ~ 6 사이의 난수를 생성.\n",
    "\n",
    "참고 | random.choice(시퀀스객체)\n",
    "random.choice 함수를 사용하면 시퀀스 객체에서 요소를 무작위로 선택할 수 있습니다.\n",
    "\n",
    "dice = list(range(100)\n",
    "random.choice(dice)"
   ]
  },
  {
   "cell_type": "markdown",
   "id": "10129345",
   "metadata": {
    "hidden": true
   },
   "source": [
    "##### map()"
   ]
  },
  {
   "cell_type": "code",
   "execution_count": null,
   "id": "54f3a47e",
   "metadata": {
    "hidden": true
   },
   "outputs": [],
   "source": []
  },
  {
   "cell_type": "markdown",
   "id": "75264b98",
   "metadata": {
    "hidden": true
   },
   "source": [
    "##### type()"
   ]
  },
  {
   "cell_type": "code",
   "execution_count": null,
   "id": "c69c84a5",
   "metadata": {
    "hidden": true
   },
   "outputs": [],
   "source": []
  },
  {
   "cell_type": "markdown",
   "id": "f7a69052",
   "metadata": {
    "hidden": true
   },
   "source": [
    "##### int()"
   ]
  },
  {
   "cell_type": "code",
   "execution_count": null,
   "id": "e574bdd3",
   "metadata": {
    "hidden": true
   },
   "outputs": [],
   "source": []
  },
  {
   "cell_type": "markdown",
   "id": "a24b5e30",
   "metadata": {
    "hidden": true
   },
   "source": [
    "##### float()"
   ]
  },
  {
   "cell_type": "code",
   "execution_count": null,
   "id": "8d668187",
   "metadata": {
    "hidden": true
   },
   "outputs": [],
   "source": []
  },
  {
   "cell_type": "markdown",
   "id": "0e02d133",
   "metadata": {
    "hidden": true
   },
   "source": [
    "##### str()"
   ]
  },
  {
   "cell_type": "code",
   "execution_count": null,
   "id": "69cef569",
   "metadata": {
    "hidden": true
   },
   "outputs": [],
   "source": []
  },
  {
   "cell_type": "markdown",
   "id": "aa7be841",
   "metadata": {
    "hidden": true
   },
   "source": [
    "#### copy 복사"
   ]
  },
  {
   "cell_type": "markdown",
   "id": "2df145b1",
   "metadata": {
    "hidden": true
   },
   "source": [
    "얕은 복사 - copy.copy()"
   ]
  },
  {
   "cell_type": "markdown",
   "id": "76484ee6",
   "metadata": {
    "hidden": true
   },
   "source": [
    "깊은 복사 - copy.deepcopy()"
   ]
  },
  {
   "cell_type": "markdown",
   "id": "1183b9eb",
   "metadata": {
    "hidden": true
   },
   "source": [
    "#### 주석\n",
    "\n",
    "코드의 내용과 일치하지 않는 주석은 피해야 합니다.\n",
    "불필요한 주석은 피해야 합니다."
   ]
  },
  {
   "cell_type": "markdown",
   "id": "bf601577",
   "metadata": {
    "hidden": true
   },
   "source": [
    "#### 이름 규칙\n",
    "\n",
    "변수명 앞에 _(밑줄)이 붙으면 함수 등의 내부에서만 사용되는 변수를 일컫습니다.\n",
    "변수명 뒤에 _(밑줄)이 붙으면 라이브러리 혹은 파이썬 기본 키워드와의 충돌을 피하고 싶을 때 사용합니다.\n",
    "소문자 L, 대문자 O, 대문자 I를 가능하면 사용하지 마세요. 특정 폰트에서는 가독성이 굉장히 안 좋습니다. 모듈(Module) 명은 짧은 소문자로 구성되며, 필요하다면 밑줄로 나눕니다.\n",
    "클래스 명은 파스칼 케이스(PascalCase) 컨벤션으로 작성합니다. 네이밍 컨벤션은 뒤에서 다시 설명하겠습니다.\n",
    "함수명은 소문자로 구성하되 필요하면 밑줄로 나눕니다.\n",
    "상수(Constant)는 모듈 단위에서만 정의하고 모든 단어는 대문자이며, 필요하다면 밑줄로 나눕니다."
   ]
  },
  {
   "cell_type": "markdown",
   "id": "5302ce54",
   "metadata": {
    "hidden": true
   },
   "source": [
    "대표적인 네이밍 컨벤션은 snake_case, PascalCase, camelCase 입니다.\n",
    "각 네이밍 컨벤션의 기준에 맞춰 코드를 작성하시면 가독성이 높은 코드가 됩니다."
   ]
  },
  {
   "cell_type": "markdown",
   "id": "a18e672b",
   "metadata": {
    "hidden": true
   },
   "source": [
    "snake_case   \n",
    "- 모든 공백을 \"_\"로 바꾸고 모든 단어는 소문자입니다.\n",
    "- 파이썬에서는 함수, 변수 등을 명명할 때 사용합니다.\n",
    "e- x) this_snake_case\n",
    "\n",
    "PascalCase   \n",
    "- 모든 단어가 대문자로 시작합니다.\n",
    "- UpperCamelCase, CapWords라고 불리기도 합니다.\n",
    "- 파이썬에서는 클래스를 명명할 때 사용합니다.\n",
    "- ex) ThisPascalCase\n",
    "\n",
    "camelCase   \n",
    "- 처음은 소문자로 시작하고 이후의 모든 단어의 첫 글자는 대문자로 합니다.\n",
    "- lowerCamelCase라고 불리기도 합니다.\n",
    "- 파이썬에서는 거의 사용하지 않습니다 (Java 등에서 사용)\n",
    "- ex) thisCamelCase"
   ]
  },
  {
   "cell_type": "markdown",
   "id": "67b548b9",
   "metadata": {
    "hidden": true
   },
   "source": [
    "클래스명 표기법: 카멜 케이스\n",
    "\n",
    "카멜 케이스: 각 단어의 앞 글자를 대문자로 쓸 것. 예시: mycar —> MyCar 함수명 표기법: 스네이크 케이스\n",
    "\n",
    "스네이크 케이스: 단어는 소문자로 쓰고 각 단어의 연결은 언더바(_)를 사용할 것 예시: mycar —> my_car\n",
    "\n",
    "그리고 추가로 클래스명은 주로 명사로, 함수명은 주로 동사로 명명합니다.\n",
    "(이 부분은 파이썬 코드를 깨끗이 작성하는 \"Clean Code\" 규범과 관련된 내용이니 참고로만 알고 계세요)"
   ]
  },
  {
   "cell_type": "markdown",
   "id": "697d84db",
   "metadata": {
    "heading_collapsed": true
   },
   "source": [
    "### 01 print(), input()"
   ]
  },
  {
   "cell_type": "markdown",
   "id": "f25527a4",
   "metadata": {
    "hidden": true
   },
   "source": [
    "#### print() : (값)을 화면에 출력"
   ]
  },
  {
   "cell_type": "code",
   "execution_count": 1,
   "id": "cfe17368",
   "metadata": {
    "ExecuteTime": {
     "end_time": "2022-11-07T10:48:13.215785Z",
     "start_time": "2022-11-07T10:48:13.194819Z"
    },
    "hidden": true
   },
   "outputs": [
    {
     "name": "stdout",
     "output_type": "stream",
     "text": [
      "Hello World\n",
      "1000\n"
     ]
    }
   ],
   "source": [
    "print(\"Hello World\")   # Hello World 출력 - ' '안에 있는 문자열 표시\n",
    "print(1000)            # 값, 변수등은 해당 자료형의 값을 출력해줌."
   ]
  },
  {
   "cell_type": "markdown",
   "id": "2317234f",
   "metadata": {
    "hidden": true
   },
   "source": [
    "##### 값을 여러 개 출력하기 : 변수나 값을 ,(콤마)로 구분해서 넣어줍니다.   \n",
    "print(값1, 값2, 값3)   \n",
    "print(변수1, 변수2, 변수3)"
   ]
  },
  {
   "cell_type": "code",
   "execution_count": 2,
   "id": "7fe82fe6",
   "metadata": {
    "ExecuteTime": {
     "end_time": "2022-11-07T10:57:29.673205Z",
     "start_time": "2022-11-07T10:57:29.662255Z"
    },
    "hidden": true
   },
   "outputs": [
    {
     "name": "stdout",
     "output_type": "stream",
     "text": [
      "1 2 3\n"
     ]
    }
   ],
   "source": [
    "print(1, 2, 3)     # 1 2 3 출력"
   ]
  },
  {
   "cell_type": "markdown",
   "id": "78368830",
   "metadata": {
    "hidden": true
   },
   "source": [
    "##### print 함수의 출력 방식 제어하기 : print 함수의 sep에 문자(문자열)를 지정하면 값 사이에 문자(문자열)를 넣어줍니다."
   ]
  },
  {
   "cell_type": "code",
   "execution_count": 3,
   "id": "1aea1235",
   "metadata": {
    "ExecuteTime": {
     "end_time": "2022-11-07T10:57:36.569717Z",
     "start_time": "2022-11-07T10:57:36.553732Z"
    },
    "hidden": true
   },
   "outputs": [
    {
     "name": "stdout",
     "output_type": "stream",
     "text": [
      "1, -  ,2, -  ,3\n"
     ]
    }
   ],
   "source": [
    "print(1, 2, 3, sep=', -  ,')    # 1, 2, 3 (값 사이에 ''안의 , -  ,을 넣어서 출력)\n",
    "\n",
    "# sep로 값 사이에 문자 넣기(sep = separator)\n",
    "# \\n: 다음 줄로 이동하며 개행이라고도 부릅니다.\n",
    "# \\t: 탭 문자, 키보드의 Tab 키와 같으며 여러 칸을 띄웁니다.\n",
    "# 제어 문자는 화면에 출력되지는 않지만 출력 결과를 제어하는 문자.(\\로 시작하는 이스케이프 시퀀스)\n",
    "# 제어 문자 출력 -> \\\\: \\ 문자 자체를 출력할 때는 \\를 두 번 써야 합니다."
   ]
  },
  {
   "cell_type": "markdown",
   "id": "746431d6",
   "metadata": {
    "hidden": true
   },
   "source": [
    "##### print 함수의 end에 문자(문자열)를 지정하면 문자열 끝에 해당 문자(문자열)을 넣어줍니다."
   ]
  },
  {
   "cell_type": "code",
   "execution_count": 8,
   "id": "5de40fc5",
   "metadata": {
    "ExecuteTime": {
     "end_time": "2022-11-07T10:57:42.524715Z",
     "start_time": "2022-11-07T10:57:42.511749Z"
    },
    "hidden": true
   },
   "outputs": [
    {
     "name": "stdout",
     "output_type": "stream",
     "text": [
      "1 2\n",
      "3*#*4\n",
      "5\n",
      "*#*\n",
      "6\n"
     ]
    }
   ],
   "source": [
    "print(1, end=' ')    # 1을 출력한 뒤 공백 출력(개행 없음)\n",
    "print(2)             # 1 2 출력. (2가 이어서 출력됨)\n",
    "\n",
    "print(3, end='*#*')  # 3을 출력한 뒤 ''안에 있는 '*#*' 출력(개행 없음)\n",
    "print(4)             # 3 끝에 '*#*' 출력.\n",
    "\n",
    "print(5, end='\\n*#*\\n')  # 5을 출력한 뒤 개행(\\n) 후 ''안에 있는 '*#*' 출력 다시 개행(\\n) (\\n을 사용하면 개행 있음)\n",
    "print(6)             "
   ]
  },
  {
   "cell_type": "markdown",
   "id": "06b1805b",
   "metadata": {
    "hidden": true
   },
   "source": [
    "##### 개행 문자(줄바꿈 문자) : 문자열에서 제어 문자 \\n을 사용하면 다음 줄로 넘어갑니다."
   ]
  },
  {
   "cell_type": "code",
   "execution_count": 6,
   "id": "0261ddcb",
   "metadata": {
    "ExecuteTime": {
     "end_time": "2022-11-07T10:58:17.877729Z",
     "start_time": "2022-11-07T10:58:17.867755Z"
    },
    "hidden": true
   },
   "outputs": [
    {
     "name": "stdout",
     "output_type": "stream",
     "text": [
      "1\n",
      "2\n",
      "3\n"
     ]
    }
   ],
   "source": [
    "print('1\\n2\\n3')     # 1 2 3이 한줄씩 풀력(\\n을 사용하면 다음 줄로 넘어감)"
   ]
  },
  {
   "cell_type": "markdown",
   "id": "ee9e5a3f",
   "metadata": {
    "hidden": true
   },
   "source": [
    "##### 문자열 'Hello, world!'를 출력  (' ', \" \", ''' ''', \"\"\" \"\"\")"
   ]
  },
  {
   "cell_type": "code",
   "execution_count": 8,
   "id": "83a8a704",
   "metadata": {
    "ExecuteTime": {
     "end_time": "2022-11-07T11:02:54.925611Z",
     "start_time": "2022-11-07T11:02:54.910654Z"
    },
    "hidden": true
   },
   "outputs": [
    {
     "name": "stdout",
     "output_type": "stream",
     "text": [
      "Hello, world!\n",
      "Hello, world!\n",
      "Hello, world!\n",
      "Hello, world!\n"
     ]
    }
   ],
   "source": [
    "hello = 'Hello, world!'       # ' '(작은따옴표)로 문자열를 묶어서 입력. \n",
    "print(hello)\n",
    "hello = \"Hello, world!\"       # \" \"(큰따옴표)로 묶는 방법입니다.\n",
    "print(hello)\n",
    "hello = '''Hello, world!'''   # '''(작은따옴표 3개)로 묶을 수도 있습니다. \n",
    "print(hello)\n",
    "hello = \"\"\"Hello, world!\"\"\"   # \"\"\"(큰따옴표 3개)로 묶을 수도 있습니다.\n",
    "print(hello)                  # 'Hello, world!' 출력"
   ]
  },
  {
   "cell_type": "markdown",
   "id": "b4b19ec5",
   "metadata": {
    "hidden": true
   },
   "source": [
    "##### 여러 줄로 된 문자열(multiline string)을 사용 : (''' ~ ''') (\"\"\" ~ \"\"\")\n",
    "'''로 시작하고 Hello, world!를 입력한 다음에 엔터 키를 누르면 다음 줄로 이동합니다. \n",
    "   이런 방식으로 문자열을 계속 입력하고 마지막 줄에서 '''로 닫음."
   ]
  },
  {
   "cell_type": "code",
   "execution_count": 10,
   "id": "ca9c8733",
   "metadata": {
    "ExecuteTime": {
     "end_time": "2022-11-07T11:02:54.925611Z",
     "start_time": "2022-11-07T11:02:54.910654Z"
    },
    "hidden": true
   },
   "outputs": [
    {
     "name": "stdout",
     "output_type": "stream",
     "text": [
      "Hello, world!          \n",
      "안녕하세요.                       \n",
      "Python입니다.\n"
     ]
    }
   ],
   "source": [
    "hello = '''Hello, world!          \n",
    "안녕하세요.                       \n",
    "Python입니다.'''                  \n",
    "print(hello)     # hello의 내용을 3줄이 출력"
   ]
  },
  {
   "cell_type": "markdown",
   "id": "398b53f0",
   "metadata": {
    "hidden": true
   },
   "source": [
    "###### 문자열을 표현할 때 작은따옴표, 큰따옴표 여러 가지 방식을 사용하는 이유    \n",
    "문자열을 사용하다 보면 문자열 안에 작은따옴표나 큰따옴표를 혼용 하여 사용할 경우에 주로 사용된다"
   ]
  },
  {
   "cell_type": "code",
   "execution_count": 11,
   "id": "c7e1e3d6",
   "metadata": {
    "ExecuteTime": {
     "end_time": "2022-11-07T11:02:54.925611Z",
     "start_time": "2022-11-07T11:02:54.910654Z"
    },
    "hidden": true
   },
   "outputs": [
    {
     "name": "stdout",
     "output_type": "stream",
     "text": [
      "(\"Python isn't difficult\", 'He said \"Python is easy\"')\n"
     ]
    }
   ],
   "source": [
    "s = \"Python isn't difficult\", 'He said \"Python is easy\"'\n",
    "print(s)"
   ]
  },
  {
   "cell_type": "markdown",
   "id": "e7449051",
   "metadata": {
    "hidden": true
   },
   "source": [
    "###### 문자열에 따옴표를 표현하는 다른 방법 - 작은따옴표 앞에  \\\\(역슬래시)를 붙이면 됩니다. - 이스케이프(escape)"
   ]
  },
  {
   "cell_type": "code",
   "execution_count": 12,
   "id": "d971ac17",
   "metadata": {
    "ExecuteTime": {
     "end_time": "2022-11-07T11:02:54.925611Z",
     "start_time": "2022-11-07T11:02:54.910654Z"
    },
    "hidden": true
   },
   "outputs": [
    {
     "name": "stdout",
     "output_type": "stream",
     "text": [
      "Python isn't difficult\n"
     ]
    }
   ],
   "source": [
    "print('Python isn\\'t difficult')      # \"Python isn't difficult\"\n",
    "# 이스케이프(escape) : 문자열 안에 ', \" 등의 특수 문자를 포함하기 위해 앞에 \\를 붙이는 방법"
   ]
  },
  {
   "cell_type": "markdown",
   "id": "c14ed0ed",
   "metadata": {
    "hidden": true
   },
   "source": [
    "##### 참고 -  한글 문자열 출력이 안 될 때 - 한글 문자열을 넣었을 때 에러가 나는 경우"
   ]
  },
  {
   "cell_type": "markdown",
   "id": "5606802d",
   "metadata": {
    "ExecuteTime": {
     "end_time": "2022-11-07T11:02:54.925611Z",
     "start_time": "2022-11-07T11:02:54.910654Z"
    },
    "hidden": true
   },
   "source": [
    "예) C:\\project>python string_multiline_quote.py   \n",
    "  File \"string_multiline_quote.py\", line 1   \n",
    "SyntaxError: Non-UTF-8 code starting with '\\xbe' in file string_multiline_quote.py on line 1,    \n",
    "but no encoding declared; see http://python.org/dev/peps/pep-0263/ for details   \n",
    "\n",
    "에러가 나는 이유는 .py 파일을 UTF-8이 아닌 CP949로 저장했기 때문입니다. 이때는 스크립트 파일을 UTF-8로 저장하면 됩니다.   \n",
    "- 메모장에서 UTF-8로 저장하려면 파일(F) > 다른 이름으로 저장(A)… > 인코딩(E)에서 UTF-8을 선택한 뒤 저장. \n",
    "- 인코딩 문제를 예방하려면 파이썬 IDLE, PyCharm 등 파이썬 전용 편집기나 개발 도구를 사용하면 됩니다. "
   ]
  },
  {
   "cell_type": "markdown",
   "id": "90e3a7c6",
   "metadata": {
    "hidden": true
   },
   "source": [
    "##### 행렬 출력"
   ]
  },
  {
   "cell_type": "markdown",
   "id": "446a591c",
   "metadata": {
    "hidden": true
   },
   "source": [
    "###### 2차 행렬 출력"
   ]
  },
  {
   "cell_type": "code",
   "execution_count": 10,
   "id": "524655b3",
   "metadata": {
    "ExecuteTime": {
     "end_time": "2022-11-07T11:04:20.962718Z",
     "start_time": "2022-11-07T11:04:20.943752Z"
    },
    "hidden": true
   },
   "outputs": [
    {
     "name": "stdout",
     "output_type": "stream",
     "text": [
      "[[1, 2, 3], [4, 5, 6], [7, 8, 9]]\n"
     ]
    }
   ],
   "source": [
    "matrix = [\n",
    "    [1, 2, 3],\n",
    "    [4, 5, 6],\n",
    "    [7, 8, 9]\n",
    "]\n",
    "\n",
    "print(matrix)"
   ]
  },
  {
   "cell_type": "code",
   "execution_count": 11,
   "id": "22ca337e",
   "metadata": {
    "ExecuteTime": {
     "end_time": "2022-11-07T11:04:22.134471Z",
     "start_time": "2022-11-07T11:04:22.120481Z"
    },
    "hidden": true
   },
   "outputs": [
    {
     "name": "stdout",
     "output_type": "stream",
     "text": [
      "[1, 2, 3]\n",
      "[4, 5, 6]\n",
      "[7, 8, 9]\n"
     ]
    }
   ],
   "source": [
    "# 반복문을 사용해 인덱스 하나씩 출력\n",
    "for row in matrix:\n",
    "    print(row)"
   ]
  },
  {
   "cell_type": "code",
   "execution_count": 12,
   "id": "6ebba17a",
   "metadata": {
    "ExecuteTime": {
     "end_time": "2022-11-07T11:04:23.270312Z",
     "start_time": "2022-11-07T11:04:23.260340Z"
    },
    "hidden": true
   },
   "outputs": [
    {
     "name": "stdout",
     "output_type": "stream",
     "text": [
      "[1, 2, 3]\n",
      "[4, 5, 6]\n",
      "[7, 8, 9]\n"
     ]
    }
   ],
   "source": [
    "# 언팩킹 기능을 사용해서 출력 - * : 언팩킹 기능 \n",
    "print(*matrix, sep=\"\\n\")"
   ]
  },
  {
   "cell_type": "markdown",
   "id": "014f44d3",
   "metadata": {
    "hidden": true
   },
   "source": [
    "###### 3차 행렬 출력"
   ]
  },
  {
   "cell_type": "code",
   "execution_count": 17,
   "id": "efd6ebce",
   "metadata": {
    "ExecuteTime": {
     "end_time": "2022-11-07T11:04:28.081898Z",
     "start_time": "2022-11-07T11:04:28.075923Z"
    },
    "hidden": true
   },
   "outputs": [
    {
     "name": "stdout",
     "output_type": "stream",
     "text": [
      "[[[1, 2, 3], [4, 5, 6], [7, 8, 9]], [[1, 2, 3], [4, 5, 6], [7, 8, 9]], [[1, 2, 3], [4, 5, 6], [7, 8, 9]]]\n"
     ]
    }
   ],
   "source": [
    "matrix = [[\n",
    "    [1, 2, 3],\n",
    "    [4, 5, 6],\n",
    "    [7, 8, 9]],\n",
    "    [[1, 2, 3],\n",
    "    [4, 5, 6],\n",
    "    [7, 8, 9]],\n",
    "    [[1, 2, 3],\n",
    "    [4, 5, 6],\n",
    "    [7, 8, 9]]]\n",
    "\n",
    "print(matrix)"
   ]
  },
  {
   "cell_type": "code",
   "execution_count": 18,
   "id": "71c90cee",
   "metadata": {
    "ExecuteTime": {
     "end_time": "2022-11-07T11:04:31.335863Z",
     "start_time": "2022-11-07T11:04:31.322899Z"
    },
    "hidden": true
   },
   "outputs": [
    {
     "name": "stdout",
     "output_type": "stream",
     "text": [
      "[[1, 2, 3], [4, 5, 6], [7, 8, 9]]\n",
      "[[1, 2, 3], [4, 5, 6], [7, 8, 9]]\n",
      "[[1, 2, 3], [4, 5, 6], [7, 8, 9]]\n"
     ]
    }
   ],
   "source": [
    "print(*matrix, sep=\"\\n\")"
   ]
  },
  {
   "cell_type": "code",
   "execution_count": 19,
   "id": "a703a2b0",
   "metadata": {
    "ExecuteTime": {
     "end_time": "2022-11-07T11:04:32.301896Z",
     "start_time": "2022-11-07T11:04:32.291894Z"
    },
    "hidden": true
   },
   "outputs": [
    {
     "name": "stdout",
     "output_type": "stream",
     "text": [
      "[[1, 2, 3], [4, 5, 6], [7, 8, 9]]\n",
      "[[1, 2, 3], [4, 5, 6], [7, 8, 9]]\n",
      "[[1, 2, 3], [4, 5, 6], [7, 8, 9]]\n"
     ]
    }
   ],
   "source": [
    "for row in matrix:\n",
    "    print(row)"
   ]
  },
  {
   "cell_type": "code",
   "execution_count": 20,
   "id": "3646820f",
   "metadata": {
    "ExecuteTime": {
     "end_time": "2022-11-07T11:04:33.595673Z",
     "start_time": "2022-11-07T11:04:33.580687Z"
    },
    "hidden": true
   },
   "outputs": [
    {
     "name": "stdout",
     "output_type": "stream",
     "text": [
      "[1, 2, 3]\n",
      "[4, 5, 6]\n",
      "[7, 8, 9]\n",
      "[1, 2, 3]\n",
      "[4, 5, 6]\n",
      "[7, 8, 9]\n",
      "[1, 2, 3]\n",
      "[4, 5, 6]\n",
      "[7, 8, 9]\n"
     ]
    }
   ],
   "source": [
    "#반복문과 언팩킹을 사용해 요소 하나씩 출력\n",
    "for i in matrix:\n",
    "    print(*i, sep=\"\\n\")"
   ]
  },
  {
   "cell_type": "code",
   "execution_count": 21,
   "id": "b9fa7046",
   "metadata": {
    "ExecuteTime": {
     "end_time": "2022-11-07T11:04:34.627381Z",
     "start_time": "2022-11-07T11:04:34.617400Z"
    },
    "hidden": true,
    "scrolled": true
   },
   "outputs": [
    {
     "name": "stdout",
     "output_type": "stream",
     "text": [
      "[[1, 2, 3]\n",
      "[4, 5, 6]\n",
      "[7, 8, 9]]\n",
      "\n",
      "[[1, 2, 3]\n",
      "[4, 5, 6]\n",
      "[7, 8, 9]]\n",
      "\n",
      "[[1, 2, 3]\n",
      "[4, 5, 6]\n",
      "[7, 8, 9]]\n",
      "\n"
     ]
    }
   ],
   "source": [
    "# 2중 반복문을 사용해 요소 하나씩 출력\n",
    "for i in matrix:\n",
    "    print('[', end='')\n",
    "    k = 0\n",
    "    for j in i:\n",
    "      if k < 2:\n",
    "        print(j)\n",
    "      else:\n",
    "        print(j, end='')\n",
    "      k += 1      \n",
    "    print(']\\n')"
   ]
  },
  {
   "cell_type": "markdown",
   "id": "e8a25515",
   "metadata": {
    "hidden": true
   },
   "source": [
    "#### 문자열 메서드"
   ]
  },
  {
   "cell_type": "markdown",
   "id": "bb2931d9",
   "metadata": {
    "hidden": true
   },
   "source": [
    "##### str.split('기준문자열') : 공백을 기준으로 문자열을 분리하여 리스트로 만듭니다.(기준문자열 없을 경우 공백으로 분리)"
   ]
  },
  {
   "cell_type": "code",
   "execution_count": 1,
   "id": "4ad6e129",
   "metadata": {
    "hidden": true
   },
   "outputs": [
    {
     "name": "stdout",
     "output_type": "stream",
     "text": [
      "apple pear grape pineapple orange\n",
      "['apple', 'pear', 'grape', 'pineapple', 'orange']\n",
      "<class 'str'> <class 'list'>\n"
     ]
    }
   ],
   "source": [
    "a = 'apple pear grape pineapple orange'\n",
    "b = a.split()              # 공백을 기준으로 문자열를 list로 만들어서 b에 할당.\n",
    "print(a)                   # apple pear grape pineapple orange\n",
    "print(b)                   # ['apple', 'pear', 'grape', 'pineapple', 'orange']\n",
    "print(type(a), type(b))    # <class 'str'> <class 'list'>"
   ]
  },
  {
   "cell_type": "markdown",
   "id": "a7e05974",
   "metadata": {
    "hidden": true
   },
   "source": [
    "##### '문자열을 연결할 구분자'.join(list) : 리스트의 요소를 구분자 문자열로 연결 (' '안의 문자로 문자열 사이를 연결)"
   ]
  },
  {
   "cell_type": "code",
   "execution_count": 2,
   "id": "174e7df2",
   "metadata": {
    "hidden": true
   },
   "outputs": [
    {
     "name": "stdout",
     "output_type": "stream",
     "text": [
      "['apple', 'pear', 'grape', 'pineapple', 'orange']\n",
      "apple pear grape pineapple orange\n",
      "apple-pear-grape-pineapple-orange\n"
     ]
    }
   ],
   "source": [
    "print(b)\n",
    "print(' '.join(b))   # apple pear grape pineapple orange b리스트 요소를 ' '(공백)으로 연결해 문자열 생성\n",
    "print('-'.join(b))   # apple-pear-grape-pineapple-orange b리스트 요소를 '-'으로 연결해 문자열 생성"
   ]
  },
  {
   "cell_type": "markdown",
   "id": "1443c4a9",
   "metadata": {
    "hidden": true
   },
   "source": [
    "##### str.capitalize() : 문자열의 첫글자를 대문자로, 나머지는 소문자로 변환한다."
   ]
  },
  {
   "cell_type": "code",
   "execution_count": 3,
   "id": "0619d639",
   "metadata": {
    "hidden": true
   },
   "outputs": [
    {
     "name": "stdout",
     "output_type": "stream",
     "text": [
      "Hello world!\n",
      "Hello world!\n"
     ]
    }
   ],
   "source": [
    "print ( 'hello world!'.capitalize() ) # Hello world!\n",
    "print ( 'HELLO WORLD!'.capitalize() ) # Hello world!"
   ]
  },
  {
   "cell_type": "markdown",
   "id": "55339b3d",
   "metadata": {
    "hidden": true
   },
   "source": [
    "##### str.upper() : 문자열의 문자를 모두 대문자로 바꿉니다.(대문자가 있다면 그대로 유지됩니다.)\n",
    "str.lower() : 문자열의 문자를 모두 소문자로 바꿉니다.(소문자가 있다면 그대로 유지됩니다.)"
   ]
  },
  {
   "cell_type": "code",
   "execution_count": 4,
   "id": "ae1705d8",
   "metadata": {
    "hidden": true
   },
   "outputs": [
    {
     "name": "stdout",
     "output_type": "stream",
     "text": [
      "APPLE PEAR GRAPE PINEAPPLE ORANGE\n",
      "apple pear grape pineapple orange\n"
     ]
    }
   ],
   "source": [
    "a = 'apple pear grape pineapple orange'\n",
    "print(a.upper())   # APPLE PEAR GRAPE PINEAPPLE ORANGE\n",
    "print(a.lower())   # apple pear grape pineapple orange"
   ]
  },
  {
   "cell_type": "markdown",
   "id": "c24c3f1a",
   "metadata": {
    "hidden": true
   },
   "source": [
    "##### str.strip : 문자열 공백을 삭제\n",
    "str.strip()은 문자열에서 양쪽에 있는 연속된 모든 공백을 삭제합니다.   \n",
    "str.lstrip()은 문자열에서 왼쪽에 있는 연속된 모든 공백을 삭제합니다(l은 왼쪽(left)을 의미).   \n",
    "str.rstrip()은 문자열에서 오른쪽에 있는 연속된 모든 공백을 삭제합니다(r은 오른쪽(right)을 의미)."
   ]
  },
  {
   "cell_type": "code",
   "execution_count": 5,
   "id": "44c015f2",
   "metadata": {
    "hidden": true
   },
   "outputs": [
    {
     "name": "stdout",
     "output_type": "stream",
     "text": [
      "Python\n",
      "Python   \n",
      "   Python\n"
     ]
    }
   ],
   "source": [
    "x = '   Python   '\n",
    "print(x.strip())     # 'Python'\n",
    "print(x.lstrip())    # 'Python   '\n",
    "print(x.rstrip())    # '   Python'"
   ]
  },
  {
   "cell_type": "markdown",
   "id": "cff81bcb",
   "metadata": {
    "hidden": true
   },
   "source": [
    "##### str.strip('삭제할문자들') : 특정 문자 삭제하기   \n",
    "str.strip('삭제할문자들')  문자열 양쪽에 있는 해당 문자를 삭제합니다.   \n",
    "str.lstrip('삭제할문자들') 문자열 왼쪽에 있는 해당 문자를 삭제합니다.   \n",
    "str.rstrip('삭제할문자들') 문자열 오른쪽에 있는 해당 문자를 삭제합니다. "
   ]
  },
  {
   "cell_type": "code",
   "execution_count": 6,
   "id": "ea4ac6b3",
   "metadata": {
    "hidden": true
   },
   "outputs": [
    {
     "name": "stdout",
     "output_type": "stream",
     "text": [
      " python\n",
      " python.\n",
      ", python\n"
     ]
    }
   ],
   "source": [
    "print(', python.'.strip(',.'))    # ' python' 문자열 양쪽의 ,와 .을 삭제. 공백을 넣지 않았으므로 공백은 그대로 유지.\n",
    "print(', python.'.lstrip(',.'))   # ' python' 외쪽의 ,와 .을 삭제. 공백을 넣지 않았으므로 공백은 그대로 유지.\n",
    "print(', python.'.rstrip(',.'))   # ' python' 오른쪽의 ,와 .을 삭제. 공백을 넣지 않았으므로 공백은 그대로 유지."
   ]
  },
  {
   "cell_type": "markdown",
   "id": "14055f00",
   "metadata": {
    "hidden": true
   },
   "source": [
    "##### 참고 | 구두점을 간단하게 삭제하기 - str.strip(string.punctuation)는 문자열 안에 있는 문자열 양쪽의 모든 구두점을 간단하게 삭제할 수 있다.\n",
    "(!\"#$%&\\'()*+,-./:;<=>?@[\\\\]^_`{|}~)를 삭제 공백까지 삭제하고 싶다면 string.punctuation에 공백 ' '을 연결해서 넣어주다"
   ]
  },
  {
   "cell_type": "code",
   "execution_count": 7,
   "id": "db2bde0a",
   "metadata": {
    "hidden": true
   },
   "outputs": [
    {
     "name": "stdout",
     "output_type": "stream",
     "text": [
      " python\n",
      "python\n",
      "python\n"
     ]
    }
   ],
   "source": [
    "import string\n",
    "print(', python.'.strip(string.punctuation))          # ' python' 문자열 양쪽의 모든 구두점 삭제\n",
    "print(', python.'.strip(string.punctuation + ' '))    # 'python'  문자열 양쪽의 모든 구두점과 공백까지 삭제\n",
    "print(', python.'.strip(string.punctuation).strip())  # 'python'  메서드 체이닝을 활용하면 공백까지 삭제"
   ]
  },
  {
   "cell_type": "markdown",
   "id": "a90895ca",
   "metadata": {
    "hidden": true
   },
   "source": [
    "##### str.ljust(길이)는 문자열을 지정된 길이로 만든 뒤 왼쪽으로 정렬하며 남는 공간을 공백으로 채웁니다(l은 왼쪽(left)을 의미).    \n",
    "str.rjust(길이)는 문자열을 지정된 길이로 만든 뒤 오른쪽으로 정렬하며 남는 공간을 공백으로 채웁니다(r은 오른쪽(right)을 의미).   \n",
    "str.center(길이)는 문자열을 지정된 길이로 만든 뒤 가운데로 정렬하며 남는 공간을 공백으로 채웁니다. "
   ]
  },
  {
   "cell_type": "code",
   "execution_count": 8,
   "id": "5a10f66d",
   "metadata": {
    "hidden": true
   },
   "outputs": [
    {
     "name": "stdout",
     "output_type": "stream",
     "text": [
      "python    \n",
      "    python\n",
      "  python  \n"
     ]
    }
   ],
   "source": [
    "print('python'.ljust(10))    # 'python    '\n",
    "print('python'.rjust(10))    # '    python'\n",
    "print('python'.center(10))   # '  python  '  만약 공간이 5(홀수)가 남으면 왼쪽에 공백 3칸, 오른쪽에 공백 2칸이 들어갑니다."
   ]
  },
  {
   "cell_type": "markdown",
   "id": "48ebfa62",
   "metadata": {
    "hidden": true
   },
   "source": [
    "##### str.zfill(길이) : 문자열 왼쪽에 0 채우기 단, 문자열의 길이보다 지정된 길이가 작다면 아무것도 채우지 않습니다.    \n",
    "(보통 zfill은 숫자를 일정 자릿수로 맞추고 앞자리는 0으로 채울 때 사용)"
   ]
  },
  {
   "cell_type": "code",
   "execution_count": 9,
   "id": "9f23a761",
   "metadata": {
    "hidden": true
   },
   "outputs": [
    {
     "name": "stdout",
     "output_type": "stream",
     "text": [
      "0035\n",
      "0003.5\n",
      "00000hello\n"
     ]
    }
   ],
   "source": [
    "print('35'.zfill(4))        # 0035 (숫자 앞에 0을 채움)\n",
    "print('3.5'.zfill(6))       # 0003.5 (숫자 앞에 0을 채움)\n",
    "print('hello'.zfill(10))    # 00000hello (문자열 앞에 0을 채울 수도 있음)"
   ]
  },
  {
   "cell_type": "markdown",
   "id": "f5b4c539",
   "metadata": {
    "hidden": true
   },
   "source": [
    "##### count('str') : 현재 문자열에서 특정 문자열의 몇 번 나오는지 개수 세기"
   ]
  },
  {
   "cell_type": "code",
   "execution_count": 10,
   "id": "91273178",
   "metadata": {
    "hidden": true
   },
   "outputs": [
    {
     "name": "stdout",
     "output_type": "stream",
     "text": [
      "2\n"
     ]
    }
   ],
   "source": [
    "print('apple pineapple'.count('pl'))    # 2 'pl'이 2번 나오므로 2가 반환됩니다."
   ]
  },
  {
   "cell_type": "markdown",
   "id": "17ed6f8b",
   "metadata": {
    "hidden": true
   },
   "source": [
    "##### str.startswith() 메서드 : 문자열이 지정 문자열로 시작하는지 체크.\n",
    "\n",
    "str.endswith(value, start, end) : 문자열이 지정 문자열로 끝나는지 체크\n",
    "value : 체크할 value 지정. (문자열, 문자, 숫자 등...)\n",
    "start : 검색 시작 위치 \n",
    "end  : 검색 종료 위치"
   ]
  },
  {
   "cell_type": "code",
   "execution_count": 11,
   "id": "6084e421",
   "metadata": {
    "hidden": true
   },
   "outputs": [
    {
     "data": {
      "text/plain": [
       "True"
      ]
     },
     "execution_count": 11,
     "metadata": {},
     "output_type": "execute_result"
    }
   ],
   "source": [
    "a = 'hello'\n",
    "a.startswith('h')"
   ]
  },
  {
   "cell_type": "code",
   "execution_count": 12,
   "id": "d6f3bf8a",
   "metadata": {
    "hidden": true
   },
   "outputs": [
    {
     "name": "stdout",
     "output_type": "stream",
     "text": [
      "True\n",
      "True\n"
     ]
    }
   ],
   "source": [
    "t = len(a)               # 문자열의 길이를 저장\n",
    "print(a.endswith('o'))   # 문자열이 o으로 끝나는지 체크\n",
    "print(a.endswith(\"l\", 0, (t-1)))    # 문자열 인덱스 0 ~ 총길이(t-1)까지 범위에서 맨끝이  문자 l로 끝나는지 체크"
   ]
  },
  {
   "cell_type": "markdown",
   "id": "88d12e5d",
   "metadata": {
    "hidden": true
   },
   "source": [
    "##### 문자열 위치 찾기"
   ]
  },
  {
   "cell_type": "markdown",
   "id": "8f0b2602",
   "metadata": {
    "hidden": true
   },
   "source": [
    "###### find('찾을문자열')은 문자열에서 특정 문자열을 왼쪽에서부터 찾아서 인덱스를 반환\n",
    "같은 문자열이 여러 개일 경우 처음 찾은 문자열의 인덱스를 반환하고, 문자열이 없으면 -1을 반환합니다. "
   ]
  },
  {
   "cell_type": "code",
   "execution_count": 13,
   "id": "90ae5a48",
   "metadata": {
    "hidden": true
   },
   "outputs": [
    {
     "data": {
      "text/plain": [
       "2"
      ]
     },
     "execution_count": 13,
     "metadata": {},
     "output_type": "execute_result"
    }
   ],
   "source": [
    "'apple pineapple'.find('pl')    # 2 'pl'이 2개 있지만 왼쪽에서 처음 찾은 'pl'의 인덱스 2를 반환"
   ]
  },
  {
   "cell_type": "markdown",
   "id": "36a60667",
   "metadata": {
    "hidden": true
   },
   "source": [
    "######  rfind('찾을문자열')은 오른쪽에서부터 특정 문자열을 찾아서 인덱스를 반환 없으면 -1을 반환\n",
    "같은 문자열이 여러 개일 경우 처음 찾은 문자열의 인덱스를 반환합니다. "
   ]
  },
  {
   "cell_type": "code",
   "execution_count": 14,
   "id": "5d979c76",
   "metadata": {
    "hidden": true
   },
   "outputs": [
    {
     "data": {
      "text/plain": [
       "12"
      ]
     },
     "execution_count": 14,
     "metadata": {},
     "output_type": "execute_result"
    }
   ],
   "source": [
    "'apple pineapple'.rfind('pl')    # 12 'pl'이 2개 있지만 오른쪽에서 처음 찾은 'pl'의 인덱스 12를 반환"
   ]
  },
  {
   "cell_type": "markdown",
   "id": "519a9e93",
   "metadata": {
    "hidden": true
   },
   "source": [
    "###### index('찾을문자열')은 왼쪽에서부터 특정 문자열을 찾아서 인덱스를 반환합니다. \n",
    "단, 문자열이 없으면 에러를 발생시킵니다. index도 같은 문자열이 여러 개일 경우 처음 찾은 문자열의 인덱스를 반환합니다."
   ]
  },
  {
   "cell_type": "code",
   "execution_count": 15,
   "id": "ba109a23",
   "metadata": {
    "hidden": true
   },
   "outputs": [
    {
     "data": {
      "text/plain": [
       "4"
      ]
     },
     "execution_count": 15,
     "metadata": {},
     "output_type": "execute_result"
    }
   ],
   "source": [
    "'apple pineapple'.index('e')    # 처음 찾은 e의 인덱스 반환"
   ]
  },
  {
   "cell_type": "markdown",
   "id": "a977adeb",
   "metadata": {
    "hidden": true
   },
   "source": [
    "######  rindex('찾을문자열')은 오른쪽에서부터 특정 문자열을 찾아서 인덱스를 반환합니다(r은 오른쪽(right)을 의미). \n",
    "마찬가지로 문자열이 없으면 에러를 발생시키며 같은 문자열이 여러 개일 경우 처음 찾은 문자열의 인덱스를 반환합니다."
   ]
  },
  {
   "cell_type": "code",
   "execution_count": 16,
   "id": "b8017c51",
   "metadata": {
    "hidden": true
   },
   "outputs": [
    {
     "data": {
      "text/plain": [
       "14"
      ]
     },
     "execution_count": 16,
     "metadata": {},
     "output_type": "execute_result"
    }
   ],
   "source": [
    "'apple pineapple'.rindex('e')    # 오른쪽에서 처음 찾은 e의 인덱스 반환"
   ]
  },
  {
   "cell_type": "markdown",
   "id": "3c6acea3",
   "metadata": {
    "hidden": true
   },
   "source": [
    "###### str.replace('바꿀문자열', '새문자열')은 문자열 안의 문자열을 다른 문자열로 바꿉니다"
   ]
  },
  {
   "cell_type": "code",
   "execution_count": 17,
   "id": "196e9025",
   "metadata": {
    "hidden": true
   },
   "outputs": [
    {
     "data": {
      "text/plain": [
       "'AB, EF!'"
      ]
     },
     "execution_count": 17,
     "metadata": {},
     "output_type": "execute_result"
    }
   ],
   "source": [
    "'AB, CD!'.replace('CD', 'EF')    # 'AB, EF!'   #(문자열 자체는 변경하지 않으며 바뀐 결과를 반환합니다). "
   ]
  },
  {
   "cell_type": "code",
   "execution_count": 18,
   "id": "5a0ee9b0",
   "metadata": {
    "hidden": true
   },
   "outputs": [
    {
     "name": "stdout",
     "output_type": "stream",
     "text": [
      "Hello, Python\n"
     ]
    }
   ],
   "source": [
    "s = 'Hello, world!'\n",
    "s = s.replace('world!', 'Python') # 변경된 'Hello, Python'를 s에 할당.\n",
    "print(s)"
   ]
  },
  {
   "cell_type": "markdown",
   "id": "1723291b",
   "metadata": {
    "hidden": true
   },
   "source": [
    "###### str.translate(테이블) : 문자열 안의 문자를 다른 문자로 바꿈 - 문자만 변환 (테이블의 지정한 문자를 특정 문자로 변환)"
   ]
  },
  {
   "cell_type": "code",
   "execution_count": 19,
   "id": "20be63de",
   "metadata": {
    "hidden": true
   },
   "outputs": [
    {
     "data": {
      "text/plain": [
       "'가ppl나'"
      ]
     },
     "execution_count": 19,
     "metadata": {},
     "output_type": "execute_result"
    }
   ],
   "source": [
    "A = str.maketrans('aeiou', '가나다라마')    # 'aeiou'와 '가나다라마'를 1:1 매칭 변환 테이블 A에 할당.\n",
    "\n",
    "# str.translate(테이블) : 문자만 변환 (테이블의 지정한 문자를 특정 문자로 변환)\n",
    "'apple'.translate(A)    # '가ppl나'출력 ('apple'에서 a를 가, e를 나, i를 다, o를 라, u를 마로 바꿉니다.) "
   ]
  },
  {
   "cell_type": "markdown",
   "id": "3b8de835",
   "metadata": {
    "hidden": true
   },
   "source": [
    "#### 서식지정자"
   ]
  },
  {
   "cell_type": "markdown",
   "id": "1b530b15",
   "metadata": {
    "hidden": true
   },
   "source": [
    "##### % 서식 지정자(format specifier) : 문자열 안에서 특정 부분을 원하는 값으로 바꿀 때('%자료형 %자료형' % 자료형에 들어갈 값)"
   ]
  },
  {
   "cell_type": "markdown",
   "id": "68c05f96",
   "metadata": {
    "hidden": true
   },
   "source": [
    "서식 지정자 자료형\n",
    "- %c 문자\n",
    "- %s 문자열\n",
    "- %d 10진 정수\n",
    "- %f(F) 실수 소수점 표기     예) '%.2f' % 2.3       # '2.30'\n",
    "- %0o 8진 정수                예) '%o' % 8은         # '10'\n",
    "- %0x(X) 16진 정수, 0~9, a~f  예) '%x' % 254         # 'fe'\n",
    "- %e(E) 실수 지수 표기법     예) '%e' % 2.3         # '2.300000e+00'\n",
    "- %g(G) 실수 일반 형식       예) '%g' % 2.3e-10     # '2.3e-10'\n",
    "- % % 문자 표시"
   ]
  },
  {
   "cell_type": "code",
   "execution_count": 20,
   "id": "3b4375e9",
   "metadata": {
    "hidden": true
   },
   "outputs": [
    {
     "name": "stdout",
     "output_type": "stream",
     "text": [
      "I am james.\n",
      "I am maria.\n"
     ]
    }
   ],
   "source": [
    "# '%s.' % '문자열'  =    '%s.'과 '문자열' 사이의 %는 따옴표로 묶지 않고 그대로 입력\n",
    "\n",
    "print('I am %s.' % 'james')  # I am james.\n",
    "name = 'maria'              # 문자열을 변수에 할당해서 지정할 수도 있다.\n",
    "print('I am %s.' % name)    # I am maria."
   ]
  },
  {
   "cell_type": "code",
   "execution_count": 21,
   "id": "76334c65",
   "metadata": {
    "hidden": true
   },
   "outputs": [
    {
     "data": {
      "text/plain": [
       "'I am 20 years old.'"
      ]
     },
     "execution_count": 21,
     "metadata": {},
     "output_type": "execute_result"
    }
   ],
   "source": [
    "# '%d' % 숫자                 # %d는 10진 정수 decimal integer의 d\n",
    "# '%f' % 숫자                 # %f를 사용하며 고정 소수점 fixed point의 f(기본으로 소수점 이하 6자리까지 표시)\n",
    "# '%f' % 2.3                  # '2.300000'\n",
    "# '%.자릿수f' % 숫자          # 소수점 자릿수를 지정하고 싶다면 f 앞에 .과 자릿수를 지정\n",
    "# '%.3f' % 2.3                # '2.300'\n",
    "\n",
    "'I am %d years old.' % 20   # 'I am 20 years old.'"
   ]
  },
  {
   "cell_type": "code",
   "execution_count": 22,
   "id": "3251d065",
   "metadata": {
    "hidden": true
   },
   "outputs": [
    {
     "name": "stdout",
     "output_type": "stream",
     "text": [
      "    python\n",
      "       150\n",
      "  2.300000\n"
     ]
    }
   ],
   "source": [
    "# %길이s % '문자열' : 문자열을 지정된 길이로 만든 뒤 오른쪽으로 정렬하고 남는 공간을 공백으로 채웁(%d, %f도 동일)\n",
    "\n",
    "print('%10s' % 'python')    # '    python'\n",
    "print('%10d' % 150)         # '       150'\n",
    "print('%10f' % 2.3)         # '  2.300000'"
   ]
  },
  {
   "cell_type": "code",
   "execution_count": 23,
   "id": "a17314f1",
   "metadata": {
    "hidden": true
   },
   "outputs": [
    {
     "name": "stdout",
     "output_type": "stream",
     "text": [
      "      2.30\n",
      "   2000.30\n"
     ]
    }
   ],
   "source": [
    "# 실수는 .(점) 앞에 정렬할 길이를 지정하고, 점 뒤에 소수점 이하 자릿수를 지정합니다.\n",
    "# %총길이.소수점자릿수f % 실수\n",
    "\n",
    "print('%10.2f' % 2.3)      # '      2.30'\n",
    "print('%10.2f' % 2000.3)   # '   2000.30'"
   ]
  },
  {
   "cell_type": "code",
   "execution_count": 24,
   "id": "ebab1214",
   "metadata": {
    "hidden": true
   },
   "outputs": [
    {
     "name": "stdout",
     "output_type": "stream",
     "text": [
      "python    \n"
     ]
    }
   ],
   "source": [
    "# 왼쪽 정렬은 문자열 길이에 -를 붙여주면 됩니다.\n",
    "print('%-10s' % 'python')    # 'python    ' 문자열의 길이를 10으로 만든 뒤 지정된 문자열을 넣고 왼쪽으로 정렬합니다. "
   ]
  },
  {
   "cell_type": "code",
   "execution_count": 25,
   "id": "b3f8c853",
   "metadata": {
    "hidden": true
   },
   "outputs": [
    {
     "name": "stdout",
     "output_type": "stream",
     "text": [
      "001\n",
      "00003.60\n"
     ]
    }
   ],
   "source": [
    "# %와 d사이에 0과 숫자 개수를 넣으면 자릿수에 맞춰서 앞에 0이 들어갑니다.\n",
    "# '%0개수d' % 숫자    # 자릿수에 맞춰서 0이 들어감\n",
    "\n",
    "print('%03d' % 1)          # '001'\n",
    "print('%08.2f' % 3.6)      # '00003.60' '%08.2f' % 3.6을 '00003.60'출력(실수는 정수 부분, 소수점, 소수점 이하 자릿수가 모두 포함)\n",
    "                           # '00003' 5개, '.' 1개, '60' 2개 총 8개입니다."
   ]
  },
  {
   "cell_type": "code",
   "execution_count": 26,
   "id": "2e690a6b",
   "metadata": {
    "hidden": true
   },
   "outputs": [
    {
     "name": "stdout",
     "output_type": "stream",
     "text": [
      "Today is 3 April.\n",
      "Today is 3April.\n"
     ]
    }
   ],
   "source": [
    "# 서식 지정자로 문자열 안에 값 여러 개 넣기 \n",
    "# - 문자열 안에 값을 두 개 이상 넣으려면 %를 붙이고, 괄호 안에 값, 변수등을 콤마로 구분해서 넣어주다. \n",
    "# - 서식 지정자가 여러 개면 괄호 안의 값, 변수의 수와 서식 지정자 수가 같아야한다\n",
    "# '%d %s' % (숫자, '문자열')\n",
    "\n",
    "print('Today is %d %s.' % (3, 'April'))    # 'Today is 3 April.'\n",
    "print('Today is %d%s.' % (3, 'April'))     # 'Today is 3April.'"
   ]
  },
  {
   "cell_type": "markdown",
   "id": "3f813874",
   "metadata": {
    "hidden": true
   },
   "source": [
    "##### 문자열 포매팅(string formatting) : ' '안에 {}을 지정하고 .format()로 값을 넣어서 사용"
   ]
  },
  {
   "cell_type": "markdown",
   "id": "1822ca04",
   "metadata": {
    "hidden": true
   },
   "source": [
    "###### 문자열 포매팅(string formatting)\n",
    "- ' '안에 {}을 지정하고 .format()로 값을 넣습니다.\n",
    "- '{ }'에 인덱스를 지정한 뒤 format에는 인덱스가 증가하는 순서대로 값을 넣으면 됩니다. \n",
    "- '{0} {2} {1}'처럼 인덱스 순서를 지정하면 .format(값0, 값1, 값2)안의 값 순서대로 지정할 수 있다\n",
    "- '{이름}'에 인덱스로 순서 대신 이름을 지정할 수 있다.format(이름=값, 이름=값)\n",
    "- '{인덱스} {인덱스} {인덱스}'.format(값, 값, 값)"
   ]
  },
  {
   "cell_type": "code",
   "execution_count": 27,
   "id": "fad69f0a",
   "metadata": {
    "hidden": true
   },
   "outputs": [
    {
     "name": "stdout",
     "output_type": "stream",
     "text": [
      "Hello, world!\n",
      "Hello, 100\n",
      "Hello, Python Script 3.6\n",
      "Hello, Python 3.6 Script\n",
      "Python Python Script Script\n",
      "Hello, Python 3.6\n",
      "{language}\n"
     ]
    }
   ],
   "source": [
    "print('Hello, {}'.format('world!'))    # 'Hello, world!'\n",
    "print('Hello, {}'.format(100))         # 'Hello, 100'\n",
    "print('Hello, {} {} {}'.format('Python', 'Script', 3.6))       # 'Hello, Python Script 3.6'\n",
    "print('Hello, {0} {2} {1}'.format('Python', 'Script', 3.6))    # 'Hello, Python 3.6 Script'\n",
    "print('{0} {0} {1} {1}'.format('Python', 'Script'))            # 'Python Python Script Script'\n",
    "print('Hello, {language} {version}'.format(language='Python', version=3.6))  # 'Hello, Python 3.6'\n",
    "print('{{language}}'.format('Python'))      # '{ Python }' { }자체를 출력할 때는 {{  }} 중괄호를 두 번 사용"
   ]
  },
  {
   "cell_type": "markdown",
   "id": "439610ae",
   "metadata": {
    "hidden": true
   },
   "source": [
    "###### 문자열 포매팅을 사용할 때는 { }(중괄호) 안에 인덱스를 지정하고, format에는 { } 부분에 들어갈 값을 지정해줍니다.\n",
    "- '{0}'.format(값)                      # 값을 한 개 넣음\n",
    "- '{0} {1}'.format(값1, 값2)            # 값을 두 개 넣음\n",
    "- '{0} {0} {1} {1}'.format(값1, 값2)    # 같은 인덱스에는 같은 값이 들어감\n",
    "- '{} {} {}'.format(값1, 값2, 값3)      # 인덱스를 생략하면 format에 지정한 순서대로 값이 들어감"
   ]
  },
  {
   "cell_type": "code",
   "execution_count": 28,
   "id": "333292dc",
   "metadata": {
    "hidden": true
   },
   "outputs": [
    {
     "data": {
      "text/plain": [
       "'777 당첨'"
      ]
     },
     "execution_count": 28,
     "metadata": {},
     "output_type": "execute_result"
    }
   ],
   "source": [
    "value1 = 777\n",
    "value2 = '당첨'\n",
    "\n",
    "'{name1} {name2}'.format(name1 = value1, name2 = value2)    # { }에 이름을 지정"
   ]
  },
  {
   "cell_type": "markdown",
   "id": "ec97025a",
   "metadata": {
    "hidden": true
   },
   "source": [
    "###### 문자열 포매팅에서 인덱스나 이름 뒤에 :(콜론)을 붙이고 0과 숫자 개수를 지정하면 자릿수에 맞춰서 0이 들어갑니다.\n",
    "- '{인덱스:<길이}'.format(값)  # 문자열을 지정된 길이로 만든 뒤 왼쪽 정렬, 남는 공간을 공백으로 채움\n",
    "- '{인덱스:>길이}'.format(값)  # 문자열을 지정된 길이로 만든 뒤 오른쪽 정렬, 남는 공간을 공백으로 채움"
   ]
  },
  {
   "cell_type": "code",
   "execution_count": 29,
   "id": "380d8817",
   "metadata": {
    "hidden": true
   },
   "outputs": [
    {
     "name": "stdout",
     "output_type": "stream",
     "text": [
      "1500000000\n",
      "0000015.00\n"
     ]
    }
   ],
   "source": [
    "print('{0:0<10}'.format(15))       # '1500000000': 길이 10, 왼쪽으로 정렬하고 남는 공간은 0으로 채움\n",
    "print('{0:0>10.2f}'.format(15))    # '0000015.00': 길이 10, 오른쪽으로 정렬하고 소수점 이하 자릿수는 2자리"
   ]
  },
  {
   "cell_type": "markdown",
   "id": "012a9726",
   "metadata": {
    "hidden": true
   },
   "source": [
    "###### 문자열 포매팅은 채우기, 정렬, 길이, 자릿수, 자료형을 조합하여 사용할 수 있습니다.   \n",
    "- '{인덱스:[[채우기]정렬][길이][.자릿수][자료형]}'    \n",
    "- '{인덱스:0개수d'}'.format(숫자)          # 자릿수에 맞춰서 0이 들어감   \n",
    "- '{인덱스:0개수.자릿수f'}.format(숫자)    # 실수의 소수점 이하 자릿수 지정"
   ]
  },
  {
   "cell_type": "code",
   "execution_count": 30,
   "id": "de6c872e",
   "metadata": {
    "hidden": true
   },
   "outputs": [
    {
     "name": "stdout",
     "output_type": "stream",
     "text": [
      "        15\n",
      "        15\n",
      "xxxxxxxx15\n"
     ]
    }
   ],
   "source": [
    "print('{0: >10}'.format(15))    # '        15': 남는 공간을 공백으로 채움\n",
    "print('{0:>10}'.format(15))     # '        15': 채우기 부분을 생략하면 공백이 들어감\n",
    "print('{0:x>10}'.format(15))    # 'xxxxxxxx15': 남는 공간을 문자 x로 채움 - 0이 아닌 다른 문자를 넣어도 됩니다. (생략하면 공백)"
   ]
  },
  {
   "cell_type": "markdown",
   "id": "21fffb3d",
   "metadata": {
    "hidden": true
   },
   "source": [
    "###### format(숫자, ',') : 금액에서 천단위로 콤마 넣기\n",
    "format(1493500, ',')      # '1,493,500'"
   ]
  },
  {
   "cell_type": "code",
   "execution_count": 31,
   "id": "8a0321ee",
   "metadata": {
    "hidden": true
   },
   "outputs": [
    {
     "name": "stdout",
     "output_type": "stream",
     "text": [
      "1,493,500\n",
      "           1,493,500\n"
     ]
    }
   ],
   "source": [
    "print('{0:,}'.format(1493500))        # '1,493,500'  포매팅에서 :(콜론)뒤에 ,(콤마)를 지정\n",
    "print('{0:>20,}'.format(1493500))     # '           1,493,500' 길이 20, 오른쪽으로 정렬(정렬 방향과 길이 뒤에 콤마를 지정)"
   ]
  },
  {
   "cell_type": "markdown",
   "id": "799debf3",
   "metadata": {
    "hidden": true
   },
   "source": [
    "###### format메서드로 문자열 정렬하기 : 서식 지정자 ljust, rjust, center 처럼 정렬하기\n",
    "- '{인덱스:<길이}'.format(값) : {인덱스:을 붙이고 정렬할 방향과 길이}를 지정\n",
    "- 서식지정자 방식   s : 문자열, d : 정수, f : 실수, \n",
    "- 정렬 방식   < : 왼쪽정렬, ^ : 중앙정렬, > : 오른쪽 정렬"
   ]
  },
  {
   "cell_type": "code",
   "execution_count": 32,
   "id": "c93562c3",
   "metadata": {
    "hidden": true
   },
   "outputs": [
    {
     "name": "stdout",
     "output_type": "stream",
     "text": [
      "    python\n"
     ]
    }
   ],
   "source": [
    "print('{0:>10}'.format('python'))    # 'python    '"
   ]
  },
  {
   "cell_type": "markdown",
   "id": "786a7ba3",
   "metadata": {
    "hidden": true
   },
   "source": [
    "##### f-string : f'{변수명}' 문자열 안에서 {변수명}을 사용해서 문자표현\n",
    "- 변수1, 변수2 = 값1, 값2\n",
    "- f'{변수1} {변수2}'"
   ]
  },
  {
   "cell_type": "code",
   "execution_count": null,
   "id": "6c46b295",
   "metadata": {
    "hidden": true
   },
   "outputs": [],
   "source": [
    "language = 'Python'\n",
    "version = 3.6\n",
    "\n",
    "print(f'Hello, {language} {version}')    # 'Hello, Python 3.6'\n",
    "print(f'{{ {language} }}')               # '{ Python }' { }자체를 출력할 때는 {{  }} 중괄호를 두 번 사용"
   ]
  },
  {
   "cell_type": "markdown",
   "id": "33aedfcb",
   "metadata": {
    "hidden": true
   },
   "source": [
    "#### 메서드 체이닝 : 여러 메서드를 연결하여 사용방식를 메서드 체이닝(method chaining)이라함.\n",
    "예) 문자열을 오른쪽으로 정렬한 뒤 대문자로 바꾸기. input().split()도 input()이 반환한 문자열에 split을 호출하는 메서드 체이닝."
   ]
  },
  {
   "cell_type": "code",
   "execution_count": null,
   "id": "259b45e0",
   "metadata": {
    "hidden": true
   },
   "outputs": [],
   "source": [
    "'python'.rjust(10).upper()    # '    PYTHON'"
   ]
  },
  {
   "cell_type": "markdown",
   "id": "69354df6",
   "metadata": {
    "hidden": true
   },
   "source": [
    "##### 참고 -  한글 문자열 출력이 안 될 때 - 한글 문자열을 넣었을 때 에러가 나는 경우"
   ]
  },
  {
   "cell_type": "markdown",
   "id": "10cc9d3a",
   "metadata": {
    "hidden": true
   },
   "source": [
    "예) C:\\project>python string_multiline_quote.py   \n",
    "  File \"string_multiline_quote.py\", line 1   \n",
    "SyntaxError: Non-UTF-8 code starting with '\\xbe' in file string_multiline_quote.py on line 1,    \n",
    "but no encoding declared; see http://python.org/dev/peps/pep-0263/ for details   \n",
    "\n",
    "에러가 나는 이유는 .py 파일을 UTF-8이 아닌 CP949로 저장했기 때문입니다. 이때는 스크립트 파일을 UTF-8로 저장하면 됩니다.   \n",
    "- 메모장에서 UTF-8로 저장하려면 파일(F) > 다른 이름으로 저장(A)… > 인코딩(E)에서 UTF-8을 선택한 뒤 저장. \n",
    "- 인코딩 문제를 예방하려면 파이썬 IDLE, PyCharm 등 파이썬 전용 편집기나 개발 도구를 사용하면 됩니다. "
   ]
  },
  {
   "cell_type": "markdown",
   "id": "d30a6493",
   "metadata": {
    "hidden": true
   },
   "source": [
    "예) C:\\project>python string_multiline_quote.py   \n",
    "  File \"string_multiline_quote.py\", line 1   \n",
    "SyntaxError: Non-UTF-8 code starting with '\\xbe' in file string_multiline_quote.py on line 1,    \n",
    "but no encoding declared; see http://python.org/dev/peps/pep-0263/ for details   \n",
    "\n",
    "에러가 나는 이유는 .py 파일을 UTF-8이 아닌 CP949로 저장했기 때문입니다. 이때는 스크립트 파일을 UTF-8로 저장하면 됩니다.   \n",
    "- 메모장에서 UTF-8로 저장하려면 파일(F) > 다른 이름으로 저장(A)… > 인코딩(E)에서 UTF-8을 선택한 뒤 저장. \n",
    "- 인코딩 문제를 예방하려면 파이썬 IDLE, PyCharm 등 파이썬 전용 편집기나 개발 도구를 사용하면 됩니다. "
   ]
  },
  {
   "cell_type": "markdown",
   "id": "1da5ddf0",
   "metadata": {
    "hidden": true
   },
   "source": [
    "#### input() : input 함수는 사용자가 입력한 값을 가져오는 함수"
   ]
  },
  {
   "cell_type": "markdown",
   "id": "dfa2a7dc",
   "metadata": {
    "hidden": true
   },
   "source": [
    "입력 값을 변수에 저장 - input로 받은 값은 문자열로 저장된다 만약 숫자로 받고 싶으면 형변환을 해야한다.\n",
    "- a = input()           # 입력값을 문자열로 저장\n",
    "- a = int(input())      # 입력값을 정수로 저장\n",
    "- a = float(input())    # 입력값을 실수로 저장"
   ]
  },
  {
   "cell_type": "code",
   "execution_count": 33,
   "id": "9f2d705d",
   "metadata": {
    "hidden": true
   },
   "outputs": [
    {
     "name": "stdout",
     "output_type": "stream",
     "text": [
      "77\n",
      "77.0\n"
     ]
    }
   ],
   "source": [
    "a = float(input())\n",
    "print(a)"
   ]
  },
  {
   "cell_type": "markdown",
   "id": "3acb660a",
   "metadata": {
    "hidden": true
   },
   "source": [
    "사용자에게 안내 문자 보여주기   \n",
    "- 변수 = input('문자열')                # 입력받을 때 사용자에게 보여주는 문자열. 프롬프트(prompt)라고도 함"
   ]
  },
  {
   "cell_type": "code",
   "execution_count": 34,
   "id": "887b9749",
   "metadata": {
    "hidden": true
   },
   "outputs": [
    {
     "name": "stdout",
     "output_type": "stream",
     "text": [
      "abc를 입력하세요abc\n",
      "입력값 a = abc\n"
     ]
    }
   ],
   "source": [
    "a = input('abc를 입력하세요')\n",
    "print('입력값 a =', a)"
   ]
  },
  {
   "cell_type": "markdown",
   "id": "d0f6ebce",
   "metadata": {
    "hidden": true
   },
   "source": [
    "한 번에 여러 개 입력받기 - input 함수로 값을 여러 개 입력 받으려면 input.split()을 사용"
   ]
  },
  {
   "cell_type": "code",
   "execution_count": 35,
   "id": "9175fb6f",
   "metadata": {
    "hidden": true
   },
   "outputs": [
    {
     "name": "stdout",
     "output_type": "stream",
     "text": [
      "hellow,world\n",
      "a=hellow b=world\n"
     ]
    }
   ],
   "source": [
    "a, b = input().split(',')    # 기준문자열(, . / 등)를 기준으로 분리하여 변수에 차례대로 할당.\n",
    "print(f'a={a} b={b}')"
   ]
  },
  {
   "cell_type": "markdown",
   "id": "f2b6eba1",
   "metadata": {
    "hidden": true
   },
   "source": [
    "map을 사용하여 정수로 변환하기 \n",
    "- a, b = map(형변환타입, input().split('기준문자열'))\n",
    "\n",
    "split의 결과를 정수 또는 실수로 변환하려면 map에 int 또는 float를 지정\n",
    "- a, b = map(int, input().split('기준문자열'))      # 값 두 개를 입력받아 변수 두 개에 정수로 저장\n",
    "- a, b = map(float, input().split('기준문자열'))    # 값 두 개를 입력받아 변수 두 개에 실수로 저장\n",
    "\n",
    "언패킹(unpacking) 응용"
   ]
  },
  {
   "cell_type": "code",
   "execution_count": 36,
   "id": "42b8eba0",
   "metadata": {
    "hidden": true
   },
   "outputs": [
    {
     "name": "stdout",
     "output_type": "stream",
     "text": [
      "10 20\n",
      "10 20\n"
     ]
    }
   ],
   "source": [
    "x = input().split()  # 10 20\n",
    "a, b = x             # 언패킹(unpacking) x에 패킹된 요소와 변수의 수가 같아야한다 {a, b = input().split()과 같음}\n",
    "print(a, b)          # 10 20"
   ]
  },
  {
   "cell_type": "markdown",
   "id": "44a525c1",
   "metadata": {
    "hidden": true
   },
   "source": [
    "#### 전규표현식"
   ]
  },
  {
   "cell_type": "markdown",
   "id": "7a090501",
   "metadata": {
    "heading_collapsed": true
   },
   "source": [
    "### 02 Variable 변수"
   ]
  },
  {
   "cell_type": "markdown",
   "id": "ee255885",
   "metadata": {
    "hidden": true
   },
   "source": [
    "#### Variable"
   ]
  },
  {
   "cell_type": "markdown",
   "id": "02715aea",
   "metadata": {
    "hidden": true
   },
   "source": [
    "variable(변수) : 변수에 값을 할당(assignment)받아 사용 할 수 있도록 해주는 기능.\n",
    "- 변수는 단지 이름뿐이고 진짜 값(객체)는 변수가 할당 받은 메모리 주소에 저장되어 있다.\n",
    "  - value(값)를 사용하기 위해서는 메모리에 저장해야하고 저장된 값은 메모리주소(예-2820264683632)가 부여된다.   \n",
    "    이 메모리주소를 일일이 기역하고 사용하기 힘들다. 그래서 메모리주소를 variable라는 이름에 assignment(배정)해 사용하는 것이다"
   ]
  },
  {
   "cell_type": "markdown",
   "id": "d8c7f678",
   "metadata": {
    "ExecuteTime": {
     "end_time": "2022-11-07T08:59:04.359926Z",
     "start_time": "2022-11-07T08:59:04.351947Z"
    },
    "hidden": true
   },
   "source": [
    "#### variable define 변수 정의\n",
    "변수이름 = 값   (참고 - 수학의 '='등호와 같은 역할을 하는 연산자는 '==' 이다)"
   ]
  },
  {
   "cell_type": "code",
   "execution_count": 38,
   "id": "ae6ab931",
   "metadata": {
    "ExecuteTime": {
     "end_time": "2022-11-07T08:59:04.359926Z",
     "start_time": "2022-11-07T08:59:04.351947Z"
    },
    "hidden": true
   },
   "outputs": [
    {
     "name": "stdout",
     "output_type": "stream",
     "text": [
      "10\n"
     ]
    }
   ],
   "source": [
    "x = 10   # 값 10를 x 변수에 assignmentt(할당)\n",
    "print(x)"
   ]
  },
  {
   "cell_type": "markdown",
   "id": "f0469aab",
   "metadata": {
    "ExecuteTime": {
     "end_time": "2022-11-07T08:59:04.359926Z",
     "start_time": "2022-11-07T08:59:04.351947Z"
    },
    "hidden": true
   },
   "source": [
    "변수이름 만들 때 주의 사항\n",
    "- 영문(대소문자를 구분), 숫자(숫자부터 시작하면 안 됨), _(밑줄 문자)로 시작할 수 있음\n",
    "- 특수 문자(+, -, *, /, $, @, &, % 등), 파이썬의 키워드(if, for, while, and, or 등)는 사용할 수 없습니다."
   ]
  },
  {
   "cell_type": "markdown",
   "id": "29134d29",
   "metadata": {
    "ExecuteTime": {
     "end_time": "2022-11-07T08:59:04.359926Z",
     "start_time": "2022-11-07T08:59:04.351947Z"
    },
    "hidden": true
   },
   "source": [
    "#### 빈 변수 만들기 : None사용 (None은 아무것도 없는 상태를 나타내는 자료형. 다른 언어에서는 널(null)이라고 표현)   \n",
    "변수 = None"
   ]
  },
  {
   "cell_type": "code",
   "execution_count": 55,
   "id": "d18c6029",
   "metadata": {
    "ExecuteTime": {
     "end_time": "2022-11-07T09:24:48.133881Z",
     "start_time": "2022-11-07T09:24:48.117924Z"
    },
    "hidden": true
   },
   "outputs": [
    {
     "name": "stdout",
     "output_type": "stream",
     "text": [
      "None\n"
     ]
    }
   ],
   "source": [
    "x = None\n",
    "print(x)"
   ]
  },
  {
   "cell_type": "markdown",
   "id": "fde21a17",
   "metadata": {
    "hidden": true
   },
   "source": [
    "#### 변수 삭제하기 : 변수를 삭제할 때는 del 변수 형식으로 삭제합니다."
   ]
  },
  {
   "cell_type": "code",
   "execution_count": 41,
   "id": "d1fac5a2",
   "metadata": {
    "ExecuteTime": {
     "end_time": "2022-11-07T09:13:31.570180Z",
     "start_time": "2022-11-07T09:13:31.179790Z"
    },
    "hidden": true
   },
   "outputs": [
    {
     "name": "stdout",
     "output_type": "stream",
     "text": [
      "10\n"
     ]
    },
    {
     "ename": "NameError",
     "evalue": "name 'x' is not defined",
     "output_type": "error",
     "traceback": [
      "\u001b[1;31m---------------------------------------------------------------------------\u001b[0m",
      "\u001b[1;31mNameError\u001b[0m                                 Traceback (most recent call last)",
      "Input \u001b[1;32mIn [41]\u001b[0m, in \u001b[0;36m<cell line: 5>\u001b[1;34m()\u001b[0m\n\u001b[0;32m      2\u001b[0m \u001b[38;5;28mprint\u001b[39m(x)\n\u001b[0;32m      4\u001b[0m \u001b[38;5;28;01mdel\u001b[39;00m x\n\u001b[1;32m----> 5\u001b[0m \u001b[38;5;28mprint\u001b[39m(\u001b[43mx\u001b[49m)\n",
      "\u001b[1;31mNameError\u001b[0m: name 'x' is not defined"
     ]
    }
   ],
   "source": [
    "x = 10\n",
    "print(x)\n",
    "\n",
    "del x\n",
    "print(x)   # 변수 x가 삭제되서 NameError 발생. name 'x' is not defined"
   ]
  },
  {
   "cell_type": "markdown",
   "id": "70450e06",
   "metadata": {
    "ExecuteTime": {
     "end_time": "2022-11-07T09:20:51.841022Z",
     "start_time": "2022-11-07T09:20:51.833043Z"
    },
    "hidden": true
   },
   "source": [
    "#### 변수 여러 개 만들기\n",
    "- 변수이름1, 변수이름2, 변수이름3 = 값1, 값2, 값3 (변수를 ,(콤마)로 구분한 뒤 각 변수에 할당될 값을 지정)\n",
    "  - 변수와 값의 개수는 동일하게 맞춰주어야 하며 나열된 순서대로 값이 할당됨\n",
    "- 변수1 = 변수2 = 변수3 = 값 (변수 여러 개를 =로 연결하고 값을 할당하면 같은 값을 가진 변수가 만들어짐)\n",
    "- 변수1, 변수2 = 변수2, 변수1 형식으로 두 변수의 값을 바꿀 수 있다"
   ]
  },
  {
   "cell_type": "code",
   "execution_count": 40,
   "id": "5c021887",
   "metadata": {
    "ExecuteTime": {
     "end_time": "2022-11-07T09:12:52.149202Z",
     "start_time": "2022-11-07T09:12:52.137205Z"
    },
    "hidden": true
   },
   "outputs": [
    {
     "name": "stdout",
     "output_type": "stream",
     "text": [
      "x = y = z = 10\n",
      "x =  10\n",
      "y =  10\n",
      "z =  10\n",
      "===============================\n",
      "a, b, c = 110, 220, 330\n",
      "a =  110\n",
      "b =  220\n",
      "c =  330\n",
      "===============================\n",
      "x, a = a, x\n",
      "x =  110\n",
      "a =  10\n"
     ]
    }
   ],
   "source": [
    "print('x = y = z = 10')    # 변수이름1, 변수이름2, 변수이름3 = 값1, 값2, 값3 \n",
    "x = y = z = 10\n",
    "print('x = ', x)\n",
    "print('y = ', y)\n",
    "print('z = ', z)\n",
    "print('===============================')\n",
    "\n",
    "print('a, b, c = 110, 220, 330')   # 변수1 = 변수2 = 변수3 = 값\n",
    "a, b, c = 110, 220, 330\n",
    "print('a = ', a)\n",
    "print('b = ', b)\n",
    "print('c = ', c)\n",
    "print('===============================')\n",
    "\n",
    "print('x, a = a, x')   #변수1, 변수2 = 변수2, 변수1\n",
    "x, a = a, x\n",
    "print('x = ', x)\n",
    "print('a = ', a)"
   ]
  },
  {
   "cell_type": "markdown",
   "id": "634dc578",
   "metadata": {
    "ExecuteTime": {
     "end_time": "2022-11-07T09:20:51.841022Z",
     "start_time": "2022-11-07T09:20:51.833043Z"
    },
    "hidden": true
   },
   "source": [
    "#### 산술 연산 후 값 할당(먼저 생성한 변수가 있어야함)"
   ]
  },
  {
   "cell_type": "code",
   "execution_count": 53,
   "id": "58c0dbcc",
   "metadata": {
    "ExecuteTime": {
     "end_time": "2022-11-07T09:22:33.879214Z",
     "start_time": "2022-11-07T09:22:33.870214Z"
    },
    "hidden": true
   },
   "outputs": [
    {
     "name": "stdout",
     "output_type": "stream",
     "text": [
      "50 11\n"
     ]
    }
   ],
   "source": [
    "a = 10\n",
    "d = 1\n",
    "a = a + 20      # a에 20을 더한 값을 다시 a에 다시 할당\n",
    "a += 20         # a에 20을 더한 후 결과를 다시 a에 저장(변수를 두 번 입력하지 않고 산술 연산 후 할당 연산자를 제공)\n",
    "                # 덧셈(+=), 뺄셈(-=), 곱셈(*=), 나눗셈(/=, //=), 나머지(%=)\n",
    "d += 10         \n",
    "print(a, d)"
   ]
  },
  {
   "cell_type": "markdown",
   "id": "8fb1b2b7",
   "metadata": {
    "hidden": true
   },
   "source": [
    "#### 변수의 자료형 알아내기   \n",
    "type(변수)\n",
    "- 파이썬에서는 숫자도 객체(object)이며, 객체는 클래스(class)로 표현합니다."
   ]
  },
  {
   "cell_type": "code",
   "execution_count": 39,
   "id": "fec08d8f",
   "metadata": {
    "hidden": true
   },
   "outputs": [
    {
     "name": "stdout",
     "output_type": "stream",
     "text": [
      "type(x) =  <class 'int'>\n",
      "type(3.3) =  <class 'float'>\n"
     ]
    }
   ],
   "source": [
    "x = 10\n",
    "\n",
    "print('type(x) = ', type(x))\n",
    "print('type(3.3) = ', type(3.3))"
   ]
  },
  {
   "cell_type": "markdown",
   "id": "16e055d7",
   "metadata": {
    "hidden": true
   },
   "source": [
    "#### 추가"
   ]
  },
  {
   "cell_type": "markdown",
   "id": "db47014a",
   "metadata": {
    "heading_collapsed": true
   },
   "source": [
    "### 03 Operatior 연산자"
   ]
  },
  {
   "cell_type": "markdown",
   "id": "3bd35c36",
   "metadata": {
    "hidden": true
   },
   "source": [
    "#### 산술 연산자(arithmetic operator)"
   ]
  },
  {
   "cell_type": "markdown",
   "id": "42a9d74a",
   "metadata": {
    "hidden": true
   },
   "source": [
    "##### 사직연산  +, -, *, /\n",
    "- \\+ 덧  셈 a + b (두 값을 더함)\n",
    "- \\- 뺄  셈 a - b (a에서 b를 뺌)\n",
    "- \\* 곱  셈 a * b (두 값을 곱함)\n",
    "- \\/ 나눗셈 a / b (a에서 b를 나누값(결과는 실수)\n",
    "  - // 버림 나눗셈(floor division) a // b (a에서 b를 나누며 소수점 이하는 버림)\n",
    "  - % 나머지 a % b (a에서 b를 나누었을 때 나머지 값만 구함)"
   ]
  },
  {
   "cell_type": "code",
   "execution_count": 40,
   "id": "4d667c0d",
   "metadata": {
    "hidden": true
   },
   "outputs": [
    {
     "name": "stdout",
     "output_type": "stream",
     "text": [
      "433\n",
      "233\n",
      "33300\n",
      "3.33\n",
      "3\n",
      "33\n"
     ]
    }
   ],
   "source": [
    "a = 333\n",
    "b = 100\n",
    "\n",
    "print(a + b)\n",
    "print(a - b)\n",
    "print(a * b)\n",
    "print(a / b)\n",
    "print(a // b)\n",
    "print(a % b)"
   ]
  },
  {
   "cell_type": "markdown",
   "id": "600883a6",
   "metadata": {
    "hidden": true
   },
   "source": [
    "##### 연산자의 우선순위(operator precedence)와 결합 방향(associativity)"
   ]
  },
  {
   "attachments": {
    "01.png": {
     "image/png": "[encoded data removed]"
    }
   },
   "cell_type": "markdown",
   "id": "c6ab3438",
   "metadata": {
    "hidden": true
   },
   "source": [
    "연산자의 우선순위는 수식 내에 여러 연산자가 함께 등장할 때, 어느 연산자가 먼저 처리될 것인가를 결정합니다.   \n",
    "다음 그림은 가장 높은 우선순위를 가지고 있는 괄호(()) 연산자를 사용하여 연산자의 처리 순서를 변경하는 것을 보여줍니다.   \n",
    "![01.png](attachment:01.png)"
   ]
  },
  {
   "attachments": {
    "02.png": {
     "image/png": "[encoded data removed]"
    }
   },
   "cell_type": "markdown",
   "id": "06606f78",
   "metadata": {
    "hidden": true
   },
   "source": [
    "연산자의 결합 방향은 수식 내에 우선순위가 같은 연산자가 둘 이상 있을 때, 먼저 어느 연산을 수행할 것인가를 결정합니다.   \n",
    "![02.png](attachment:02.png)"
   ]
  },
  {
   "cell_type": "markdown",
   "id": "75210558",
   "metadata": {
    "hidden": true
   },
   "source": [
    "##### 계산 결과를 정수, 실수로 만들기"
   ]
  },
  {
   "cell_type": "code",
   "execution_count": 41,
   "id": "f8e6289c",
   "metadata": {
    "hidden": true
   },
   "outputs": [
    {
     "name": "stdout",
     "output_type": "stream",
     "text": [
      "2\n",
      "3.0\n"
     ]
    }
   ],
   "source": [
    "print(int(5 / 2))      # 실수 2.5를 정수 2로 만듦\n",
    "print(float(1 + 2))    # 정수 3을 실수 3.0으로 만듦"
   ]
  },
  {
   "cell_type": "markdown",
   "id": "9bd3d8c8",
   "metadata": {
    "hidden": true
   },
   "source": [
    "##### \\**, @, 부호, 괄호"
   ]
  },
  {
   "cell_type": "markdown",
   "id": "320f7845",
   "metadata": {
    "hidden": true
   },
   "source": [
    "- \\** 거듭제곱 a ** b (a를 b번 곱함)\n",
    "- \\@ 행렬 곱셈 a @ b (행렬 a와 b를 곱함)\n",
    "- \\+ 양수 부호 +a (a에 양수 부호를 붙임)\n",
    "- \\- 음수 부호 -a (a에 음수 부호를 붙임)\n",
    "\n",
    "부호 붙이기 : 계산을 하다 부호를 붙여야 하는 경우 값이나 변수 앞에 양수, 음수 부호를 붙이면 됩니다   \n",
    "x = -10   \n",
    "- y = -x { y값은 10 (-10에 - 부호를 붙이면 양수 10이 됨)}\n",
    "- y = +x { y값은 -10 (-10에 + 부호를 붙이면 부호의 변화 없음)}\n",
    "\n",
    "괄호 사용하기\n",
    "- 덧셈, 뺄셈, 곱셈, 나눗셈이 함께 있을 때는 곱셈과 나눗셈부터 계산합니다. \n",
    "- 만약 곱셈보다 덧셈을 먼저 계산하고 싶다면 덧셈 부분을 ( )로 묶어줍니다."
   ]
  },
  {
   "cell_type": "markdown",
   "id": "848795ab",
   "metadata": {
    "hidden": true
   },
   "source": [
    "##### 대입 연산자(assignment operator)\n",
    "대입 연산자는 변수에 값을 대입할 때 사용하는 이항 연산자이며, 피연산자들의 결합 방향은 오른쪽에서 왼쪽입니다"
   ]
  },
  {
   "cell_type": "markdown",
   "id": "28affc3b",
   "metadata": {
    "hidden": true
   },
   "source": [
    "- = 왼쪽 피연산자에 오른쪽 피연산자의 값을 대입함.\n",
    "- \\+= 덧셈 후 할당 a += b a와 b를 더한 후 결과를 a에 할당\n",
    "- \\-= 뺄셈 후 할당 a -= b a에서 b를 뺀 후 결과를 a에 할당\n",
    "- \\*= 곱셈 후 할당 a *= b a와 b를 곱한 후 결과를 a에 할당\n",
    "- \\/= 나눗셈 후 할당 a /= b a에서 b를 나눈 후 결과를 a에 할당(결과는 실수)\n",
    "- \\//= 버림 나눗셈 후 할당 a //= b a에서 b를 나눈 후 결과를 a에 정수로 할당(소수점 이하는 버림)\n",
    "- \\%= 나머지 연산 후 할당 a %= b a에서 b를 나누었을 때 나머지를 구하여 a에 할당\n",
    "- \\*\\*= 거듭제곱 후 할당 a \\**= b a를 b번 곱한 후 결과를 a에 할당\n",
    "- \\@= 행렬 곱셈 후 할당 a @= b 행렬 a와 b를 곱한 후 결과를 a에 할당"
   ]
  },
  {
   "cell_type": "code",
   "execution_count": 42,
   "id": "37a1f5ef",
   "metadata": {
    "hidden": true
   },
   "outputs": [
    {
     "name": "stdout",
     "output_type": "stream",
     "text": [
      "21\n"
     ]
    }
   ],
   "source": [
    "a = 11\n",
    "a += 10\n",
    "\n",
    "print(a)"
   ]
  },
  {
   "cell_type": "markdown",
   "id": "3516d4cd",
   "metadata": {
    "hidden": true
   },
   "source": [
    "##### 비교 연산자(comparison operator)\n",
    "- 비교 연산자는 피연산자 사이의 상대적인 크기를 판단하여, 참(true)과 거짓(false)을 반환합니다.   \n",
    "- 비교 연산자는 모두 두 개의 피연산자를 가지는 이항 연산자이며, 피연산자들의 결합 방향은 왼쪽에서 오른쪽입니다\n",
    "- 비교, 논리 연산자는 매우 광범위하게 쓰입니다. 특히 앞으로 배울 if, while 구문을 작성할 때 비교, 논리 연산자를 자주 사용합니다."
   ]
  },
  {
   "cell_type": "markdown",
   "id": "43693736",
   "metadata": {
    "hidden": true
   },
   "source": [
    "비교 연산자\n",
    "- == : 왼쪽 피연산자와 오른쪽 피연산자의 값이 같으면 참을 반환함.\n",
    "- is : 왼쪽 피연산자와 오른쪽 피연산자가 같은 객체이면 참을 반환함.\n",
    "- != : 왼쪽 피연산자와 오른쪽 피연산자의 값이 같지 않으면 참을 반환함.\n",
    "- is not : 왼쪽 피연산자와 오른쪽 피연산자가 다른 객체이면 참을 반환함.\n",
    "- \\> : 왼쪽 피연산자의 값이 오른쪽 피연산자의 값보다 크면 참을 반환함.\n",
    "- \\>= : 왼쪽 피연산자의 값이 오른쪽 피연산자의 값보다 크거나 같으면 참을 반환함.\n",
    "- \\< : 왼쪽 피연산자의 값이 오른쪽 피연산자의 값보다 작으면 참을 반환함.\n",
    "- \\<= : 왼쪽 피연산자의 값이 오른쪽 피연산자의 값보다 작거나 같으면 참을 반환함.\n",
    "\n",
    "==, !=는 값 자체를 비교하고, is, is not은 객체(object)를 비교한다.    \n",
    "- 주의 - 단순히 값를 비교 할 때는 is를 사용하지 않는다."
   ]
  },
  {
   "cell_type": "code",
   "execution_count": 43,
   "id": "f610ae00",
   "metadata": {
    "hidden": true
   },
   "outputs": [
    {
     "name": "stdout",
     "output_type": "stream",
     "text": [
      "True\n",
      "True\n",
      "False\n",
      "False\n",
      "False\n",
      "2364935757296\n",
      "2364935757296\n",
      "True\n",
      "False\n",
      "False\n",
      "True\n",
      "2364930943568\n",
      "2364989416624\n"
     ]
    }
   ],
   "source": [
    "a = 'Python'\n",
    "b = 'Python'\n",
    "\n",
    "print(a == b)\n",
    "print(a is b)\n",
    "print(a != b)\n",
    "print(a is not b)\n",
    "print(a > b)\n",
    "\n",
    "print(id(a))        #a, b는 같은 하나의 객체이다.\n",
    "print(id(b))\n",
    "\n",
    "c = 10\n",
    "d = 10.0\n",
    "\n",
    "print(c == d)\n",
    "print(c is d)\n",
    "print(c != d)\n",
    "print(c is not d)\n",
    "\n",
    "print(id(c))\n",
    "print(id(d))\n",
    "\n",
    "# 10과 10.0은 정수와 실수라는 차이점이 있지만 값은 같습니다. 따라서 ==로 비교해보면 True가 나옵니다. \n",
    "# 10과 10.0을 is로 비교해보면 False가 나옵니다. 왜냐하면 10은 정수 객체, 10.0은 실수 객체이므로 두 객체는 서로 다르기 때문입니다."
   ]
  },
  {
   "cell_type": "markdown",
   "id": "e5017106",
   "metadata": {
    "hidden": true
   },
   "source": [
    "##### 논리 연산자(logical operator)\n",
    "- 논리 연산자는 주어진 논리식을 판단하여, 참(true)과 거짓(false)을 반환합니다.   \n",
    "- && 연산자와 || 연산자는 두 개의 피연산자를 가지는 이항 연산자이며, 피연산자들의 결합 방향은 왼쪽에서 오른쪽입니다.\n",
    "- ! 연산자는 피연산자가 단 하나뿐인 단항 연산자이며, 피연산자의 결합 방향은 오른쪽에서 왼쪽입니다.   \n",
    "\n",
    "\n",
    "- and\t논리식이 모두 참이면 참을 반환함.\n",
    "- or\t논리식 중에서 하나라도 참이면 참을 반환함.\n",
    "- not\t논리식의 결과가 참이면 거짓을, 거짓이면 참을 반환함."
   ]
  },
  {
   "cell_type": "code",
   "execution_count": 44,
   "id": "6c4d7422",
   "metadata": {
    "hidden": true
   },
   "outputs": [
    {
     "name": "stdout",
     "output_type": "stream",
     "text": [
      "False\n",
      "False\n"
     ]
    }
   ],
   "source": [
    "print(False and True)     # False\n",
    "print(False and False) "
   ]
  },
  {
   "cell_type": "code",
   "execution_count": 45,
   "id": "fdb665e5",
   "metadata": {
    "hidden": true
   },
   "outputs": [
    {
     "name": "stdout",
     "output_type": "stream",
     "text": [
      "True\n",
      "True\n"
     ]
    }
   ],
   "source": [
    "print(True or True)     # True\n",
    "print(True or False)    # True"
   ]
  },
  {
   "cell_type": "code",
   "execution_count": 46,
   "id": "d5d54830",
   "metadata": {
    "hidden": true
   },
   "outputs": [
    {
     "name": "stdout",
     "output_type": "stream",
     "text": [
      "False\n",
      "True\n"
     ]
    }
   ],
   "source": [
    "print(not True)     # True\n",
    "print(not False)    # True"
   ]
  },
  {
   "cell_type": "markdown",
   "id": "c2ed0ddc",
   "metadata": {
    "hidden": true
   },
   "source": [
    "##### 단락 평가(short-circuit evalution) : 단락 평가는 첫 번째 값만으로 결과가 확실할 때 두 번째 값은 확인(평가)하지 않는 방법을 말합니다. "
   ]
  },
  {
   "cell_type": "markdown",
   "id": "9531583c",
   "metadata": {
    "hidden": true
   },
   "source": [
    "and 연산자는 두 값이 모두 참이라야 참이므로 첫 번째 값이 거짓이면 두 번째 값은 확인하지 않고 바로 거짓으로 결정합니다.   \n",
    "문자열 'Python'도 불로 따지면 True라서 True and True가 되어 True가 나올 것 같지만 'Python'이 나왔습니다.    \n",
    "왜냐하면 파이썬에서 논리 연산자는 마지막으로 단락 평가를 실시한 값을 그대로 반환하기 때문입니다.   \n",
    "- 따라서 논리 연산자는 무조건 불을 반환하지 않습니다."
   ]
  },
  {
   "cell_type": "code",
   "execution_count": 47,
   "id": "d126e8a0",
   "metadata": {
    "hidden": true
   },
   "outputs": [
    {
     "name": "stdout",
     "output_type": "stream",
     "text": [
      "Python\n",
      "False\n",
      "0\n"
     ]
    }
   ],
   "source": [
    "print(True and 'Python')\n",
    "print(False and 'Python')\n",
    "print(0 and 'Python')    # 0은 False이므로 and 연산자는 두 번째 값을 평가하지 않음"
   ]
  },
  {
   "cell_type": "markdown",
   "id": "0835c90c",
   "metadata": {
    "hidden": true
   },
   "source": [
    "마지막으로 단락 평가를 실시한 값이 불이면 불을 반환하게 됩니다.   \n",
    "여기서는 문자열 'Python'을 True로 쳐서 and 연산자가 두 번째 값까지 확인하므로 두 번째 값이 반환됩니다.   \n",
    "만약 다음과 같이 and 연산자 앞에 False나 False로 치는 값이 와서 첫 번째 값 만으로 결과가 결정나는 경우에는 첫 번째 값이 반환됩니다."
   ]
  },
  {
   "cell_type": "code",
   "execution_count": 48,
   "id": "2de83490",
   "metadata": {
    "hidden": true
   },
   "outputs": [
    {
     "name": "stdout",
     "output_type": "stream",
     "text": [
      "True\n",
      "False\n"
     ]
    }
   ],
   "source": [
    "print('Python' and True)\n",
    "print('Python' and False)"
   ]
  },
  {
   "cell_type": "markdown",
   "id": "8158883c",
   "metadata": {
    "hidden": true
   },
   "source": [
    "or 연산자도 마찬가지로 마지막으로 단락 평가를 실시한 값이 반환됩니다. - 첫 번째 값만으로 결과가 결정되므로 첫 번째 값이 반환됩니다."
   ]
  },
  {
   "cell_type": "code",
   "execution_count": 49,
   "id": "b4d78503",
   "metadata": {
    "hidden": true
   },
   "outputs": [
    {
     "name": "stdout",
     "output_type": "stream",
     "text": [
      "True\n",
      "Python\n"
     ]
    }
   ],
   "source": [
    "print(True or 'Python')\n",
    "print('Python' or True)"
   ]
  },
  {
   "cell_type": "markdown",
   "id": "8faa0504",
   "metadata": {
    "hidden": true
   },
   "source": [
    "만약 두 번째 값까지 판단해야 한다면 두 번째 값이 반환됩니다."
   ]
  },
  {
   "cell_type": "code",
   "execution_count": 50,
   "id": "019a9ee6",
   "metadata": {
    "hidden": true
   },
   "outputs": [
    {
     "name": "stdout",
     "output_type": "stream",
     "text": [
      "Python\n",
      "False\n"
     ]
    }
   ],
   "source": [
    "print(False or 'Python')\n",
    "print(0 or False)"
   ]
  },
  {
   "cell_type": "markdown",
   "id": "92096a39",
   "metadata": {
    "hidden": true
   },
   "source": [
    "#### 비트 연산자(bitwise operator)"
   ]
  },
  {
   "cell_type": "markdown",
   "id": "1da66147",
   "metadata": {
    "hidden": true
   },
   "source": [
    "#### 파이썬 연산자 우선순위"
   ]
  },
  {
   "cell_type": "code",
   "execution_count": null,
   "id": "c14e44e3",
   "metadata": {
    "hidden": true
   },
   "outputs": [],
   "source": [
    "# 순위 : 연산자                                           :  설명\n",
    "\n",
    "#  1   : (값...), [값...], {키: 값...}, {값...}          :  튜플, 리스트, 딕셔너리, 세트 생성   \n",
    "#  2   : x[인덱스], x[인덱스:인덱스], x(인수...), x.속성  :  리스트(튜플) 첨자, 슬라이싱, 함수 호출, 속성 참조   \n",
    "#  3   : await x                                          :  await 표현식   \n",
    "#  4   : **                                               :  거듭제곱   \n",
    "#  5   : +x, -x, ~x                                       :  단항 덧셈(양의 부호), 단항 뺄셈(음의 부호), 비트 NOT   \n",
    "#  6   : *, @, /, //, %                                   :  곱셈, 행렬 곱셈, 나눗셈, 버림 나눗셈, 나머지   \n",
    "#  7   : +, -                                             :  덧셈, 뺄셈\n",
    "#  8   : <<, >>                                           :  비트 시프트\n",
    "#  9   : &                                                :  비트 AND\n",
    "# 10   : ^                                                :  비트 XOR\n",
    "# 11   : |                                                :  비트 OR\n",
    "# 12   : in, not in, is, is not, <, <=, >, >=, !=, ==  :  포함 연산자, 객체 비교 연산자, 비교 연산자\n",
    "# 13   : not x                                            :  논리 NOT\n",
    "# 14   : and                                              :  논리 AND\n",
    "# 15   : or                                               :  논리 OR\n",
    "# 16   : if else                                          :  조건부 표현식\n",
    "# 17   : lambda                                           :  람다 표현식"
   ]
  },
  {
   "cell_type": "markdown",
   "id": "7754832a",
   "metadata": {
    "hidden": true
   },
   "source": [
    "#### 기타 연산자"
   ]
  },
  {
   "cell_type": "code",
   "execution_count": null,
   "id": "f2a9695f",
   "metadata": {
    "hidden": true
   },
   "outputs": [],
   "source": [
    "\n",
    "문자열 결합 연산자\n",
    "자바스크립트에서 덧셈(+) 연산자는 피연산자의 타입에 따라 두 가지 다른 연산을 수행합니다.\n",
    "\n",
    " \n",
    "\n",
    "1. 피연산자가 둘 다 숫자이면, 산술 연산인 덧셈을 수행합니다.\n",
    "\n",
    "2. 피연산자가 하나라도 문자열이면, 문자열 결합을 수행합니다.\n",
    "\n",
    " \n",
    "\n",
    "예제\n",
    "var x = 3 + 4;                   // 피연산자가 둘 다 숫자이면 덧셈 연산을 수행함.\n",
    "\n",
    "var y = \"좋은 \" + \"하루 되세요!\" // 피연산자가 둘 다 문자열이면 문자열 결합 연산을 수행함.\n",
    "\n",
    "var z = 12 + \"월\"                // 피연산자가 하나라도 문자열이면 문자열 결합 연산을 수행함.\n",
    "\n",
    "코딩연습 ▶\n",
    "\n",
    " \n",
    "\n",
    "피연산자가 하나는 문자열이고 다른 하나는 문자열이 아닐 때, 자바스크립트는 문자열이 아닌 피연산자를 자동으로 문자열로 변환한 후 문자열 결합을 수행합니다.\n",
    "삼항 연산자(ternary operator)\n",
    "삼항 연산자는 유일하게 피연산자를 세 개나 가지는 조건 연산자입니다.\n",
    "\n",
    " \n",
    "\n",
    "삼항 연산자의 문법은 다음과 같습니다.\n",
    "\n",
    "문법\n",
    "표현식 ? 반환값1 : 반환값2\n",
    "\n",
    " \n",
    "\n",
    "물음표(?) 앞의 표현식에 따라 결괏값이 참이면 반환값1을 반환하고, 결괏값이 거짓이면 반환값2를 반환합니다.\n",
    "\n",
    " \n",
    "\n",
    "예제\n",
    "var x = 3, y = 5;\n",
    "\n",
    "var result = (x > y) ? x : y   // x가 더 크면 x를, 그렇지 않으면 y를 반환함.\n",
    "\n",
    "document.write(\"둘 중에 더 큰 수는 \" + result + \"입니다.\");\n",
    "\n",
    "코딩연습 ▶\n",
    "\n",
    " \n",
    "\n",
    "삼항 연산자는 짧은 if / else 문 대신 사용할 수 있으며, 코드를 간결하게 만들어 줍니다.\n",
    "\n",
    "쉼표 연산자\n",
    "쉼표 연산자를 for 문에서 사용하면, 루프마다 여러 변수를 동시에 갱신할 수 있습니다.\n",
    "\n",
    "예제\n",
    "// 루프마다 i의 값은 1씩 증가하고, 동시에 j의 값은 1씩 감소함.\n",
    "\n",
    "for (var i = 0, j = 9; i <= j; i++, j--) {\n",
    "\n",
    "    document.write(\"i의 값은 \" + i + \"이고, j의 값은 \" + j + \"입니다.<br>\");\n",
    "\n",
    "}\n",
    "\n",
    "코딩연습 ▶\n",
    "\n",
    "delete 연산자\n",
    "delete 연산자는 피연산자인 객체, 객체의 프로퍼티(property) 또는 배열의 요소(element) 등을 삭제해 줍니다.\n",
    "\n",
    " \n",
    "\n",
    "피연산자가 성공적으로 삭제되었을 경우에는 참(true)을 반환하고, 삭제하지 못했을 경우에는 거짓(false)을 반환합니다.\n",
    "\n",
    "이 연산자는 피연산자가 단 하나뿐인 단항 연산자이며, 피연산자의 결합 방향은 오른쪽에서 왼쪽입니다.\n",
    "\n",
    "예제\n",
    "var arr = [1, 2, 3];          // 배열 생성\n",
    "\n",
    "delete arr[2];                // 배열의 원소 중 인덱스가 2인 요소를 삭제함.\n",
    "\n",
    "document.write(arr + \"<br>\"); // [1, 2, ]\n",
    "\n",
    "// 배열에 빈자리가 생긴 것으로 undefined 값으로 직접 설정된 것은 아님.\n",
    "\n",
    "document.write(arr[2] + \"<br>\");\n",
    "\n",
    "// 배열의 요소를 삭제하는 것이지 배열의 길이까지 줄이는 것은 아님.\n",
    "\n",
    "document.write(arr.length);\n",
    "\n",
    "코딩연습 ▶\n",
    "\n",
    "typeof 연산자\n",
    "typeof 연산자는 피연산자의 타입을 반환합니다.\n",
    "\n",
    "이 연산자는 피연산자가 단 하나뿐인 단항 연산자이며, 피연산자의 결합 방향은 오른쪽에서 왼쪽입니다.\n",
    "\n",
    " \n",
    "\n",
    "자바스크립트에서 많이 사용하는 값과 그 값에 대한 typeof 연산자의 결괏값은 다음과 같습니다.\n",
    "\n",
    "값\ttypeof 연산자의 결괏값\n",
    "숫자, NaN\t\"number\"\n",
    "문자열\t\"string\"\n",
    "true, false\t\"boolean\"\n",
    "null\t\"object\"\n",
    "undefined\t\"undefined\"\n",
    "함수\t\"function\"\n",
    "함수가 아닌 객체\t\"object\"\n",
    " \n",
    "\n",
    "예제\n",
    "typeof \"문자열\"   // string\n",
    "\n",
    "typeof 10         // number\n",
    "\n",
    "typeof NaN        // number\n",
    "\n",
    "typeof false      // boolean\n",
    "\n",
    "typeof undefined  // undefined\n",
    "\n",
    "typeof new Date() // object\n",
    "\n",
    "typeof null       // object\n",
    "\n",
    "코딩연습 ▶\n",
    "\n",
    "instanceof 연산자\n",
    "instanceof 연산자는 피연산자인 객체가 특정 객체의 인스턴스인지 아닌지를 확인해 줍니다.\n",
    "\n",
    " \n",
    "\n",
    "피연산자가 특정 객체의 인스턴스이면 참(true)을 반환하고, 특정 객체의 인스턴스가 아니면 거짓(false)을 반환합니다.\n",
    "\n",
    "이 연산자는 두 개의 피연산자를 가지는 이항 연산자이며, 피연산자들의 결합 방향은 왼쪽에서 오른쪽입니다.\n",
    "\n",
    "예제\n",
    "var str = new String(\"이것은 문자열입니다.\");\n",
    "\n",
    " \n",
    "\n",
    "str instanceof Object;  // true\n",
    "\n",
    "str instanceof String;  // true\n",
    "\n",
    "str instanceof Array;   // false\n",
    "\n",
    "str instanceof Number;  // false\n",
    "\n",
    "str instanceof Boolean; // false\n",
    "\n",
    "코딩연습 ▶\n",
    "\n",
    " \n",
    "\n",
    "인스턴스와 객체에 대한 더 자세한 사항은 자바스크립트 객체의 개념 수업에서 확인할 수 있습니다.\n",
    "\n",
    " \n",
    "\n",
    "자바스크립트 객체의 개념 수업 확인 =>\n",
    "\n",
    "void 연산자\n",
    "void 연산자는 피연산자로 어떤 타입의 값이 오던지 상관없이 언제나 undefined 값만을 반환합니다.\n",
    "\n",
    "이 연산자는 피연산자가 단 하나뿐인 단항 연산자이며, 피연산자의 결합 방향은 오른쪽에서 왼쪽입니다.\n",
    "\n",
    "예제\n",
    "<a href=\"javascript:void(0)\">이 링크는 동작하지 않습니다.</a>\n",
    "\n",
    " \n",
    "\n",
    "<a href=\"javascript:void(document.body.style.backgroundColor='yellow')\">\n",
    "\n",
    "    이 링크도 동작하지 않지만, HTML 문서의 배경색을 바꿔줍니다.\n",
    "\n",
    "</a>\n",
    "\n",
    "코딩연습 ▶\n",
    "\n",
    " \n",
    "\n",
    "위의 예제처럼 void 연산자는 정의되지 않은 원시 타입의 값을 얻기 위해 void(0)과 같은 형태로 종종 사용됩니다."
   ]
  },
  {
   "cell_type": "markdown",
   "id": "d9a3afc9",
   "metadata": {
    "hidden": true
   },
   "source": []
  },
  {
   "cell_type": "code",
   "execution_count": null,
   "id": "2a844356",
   "metadata": {
    "hidden": true
   },
   "outputs": [],
   "source": []
  },
  {
   "cell_type": "markdown",
   "id": "1181f20f",
   "metadata": {
    "hidden": true
   },
   "source": []
  },
  {
   "cell_type": "code",
   "execution_count": null,
   "id": "43f8a79f",
   "metadata": {
    "hidden": true
   },
   "outputs": [],
   "source": []
  },
  {
   "cell_type": "markdown",
   "id": "4b3bfae9",
   "metadata": {
    "hidden": true
   },
   "source": []
  },
  {
   "cell_type": "code",
   "execution_count": null,
   "id": "f4656fe5",
   "metadata": {
    "hidden": true
   },
   "outputs": [],
   "source": []
  },
  {
   "cell_type": "markdown",
   "id": "fe014527",
   "metadata": {},
   "source": [
    "### 04 Daty Type 자료형"
   ]
  },
  {
   "cell_type": "markdown",
   "id": "03a0243e",
   "metadata": {
    "heading_collapsed": true
   },
   "source": [
    "#### 자료 형태(Scalar Type - bool, none, int, float, complex, str)"
   ]
  },
  {
   "cell_type": "markdown",
   "id": "4e714b73",
   "metadata": {
    "heading_collapsed": true,
    "hidden": true
   },
   "source": [
    "##### None - 아무것도 없음을 뜻 (함수의 반환값으로 아무것도 정의하지 않았을 경우 NoneType과 관련된 오류가 나왔던 것이 바로 이런 상황)"
   ]
  },
  {
   "cell_type": "markdown",
   "id": "43bea549",
   "metadata": {
    "hidden": true
   },
   "source": [
    "None 데이터 타입은 <class 'NoneType'>의 유일한 객체 None으로 생성된다.\n",
    "- 객체상태의 None는 is None으로 확인 가능하고\n",
    "- 값의 상태의 None은 True, False로 확인 가능하다.\n",
    "\n",
    "None객체는 유일하며 id()로 확인하면 모두 동일한 identity를 같는다.\n",
    "\n",
    "None이 데이터로 표현되는 경우\n",
    "- 값이 존재하지 않는 경우(즉 값을 알 수 없는 경우)\n",
    "- 값이 없음을 표현 하는 경우\n",
    "- 값이 정의되지 않은 경우\n",
    "- 값을 초기화하여 사용하는 경우"
   ]
  },
  {
   "cell_type": "code",
   "execution_count": 51,
   "id": "270ac8fe",
   "metadata": {
    "hidden": true
   },
   "outputs": [
    {
     "name": "stdout",
     "output_type": "stream",
     "text": [
      "<class 'NoneType'>\n",
      "True\n",
      "not None\n"
     ]
    }
   ],
   "source": [
    "x = None\n",
    "print(type(x))\n",
    "print(x is None)\n",
    "\n",
    "if x:\n",
    "    print(\"None\")\n",
    "else:\n",
    "    print(\"not None\")"
   ]
  },
  {
   "cell_type": "markdown",
   "id": "02c7f9c3",
   "metadata": {
    "heading_collapsed": true,
    "hidden": true
   },
   "source": [
    "##### bool 참(True)과 거짓(False) 두 가지 값만 존재\n",
    "- 참, 거짓을 판단해야 할 때 사용\n",
    "- 숫자는 0외 모든 숫자는 True.\n",
    "- 빈 문자열 '', \"\"를 제외한 모든 문자열은 True입니다."
   ]
  },
  {
   "cell_type": "code",
   "execution_count": 52,
   "id": "184aeb4d",
   "metadata": {
    "hidden": true
   },
   "outputs": [
    {
     "name": "stdout",
     "output_type": "stream",
     "text": [
      "False\n"
     ]
    }
   ],
   "source": [
    "x = 1\n",
    "y = 3\n",
    "print(x>y)   # x>y의 비교 값이 bool자료형인 False로 출력"
   ]
  },
  {
   "cell_type": "markdown",
   "id": "11624bd6",
   "metadata": {
    "heading_collapsed": true,
    "hidden": true
   },
   "source": [
    "##### int 양의 정수와 음의 정수를 사용하기 위한 자료형"
   ]
  },
  {
   "cell_type": "code",
   "execution_count": 53,
   "id": "0c6a7a0f",
   "metadata": {
    "hidden": true
   },
   "outputs": [
    {
     "name": "stdout",
     "output_type": "stream",
     "text": [
      "10\n"
     ]
    }
   ],
   "source": [
    "x = 10\n",
    "print(x)"
   ]
  },
  {
   "cell_type": "markdown",
   "id": "ca657023",
   "metadata": {
    "heading_collapsed": true,
    "hidden": true
   },
   "source": [
    "##### float 정수를 제외한 실수를 사용하기 위한 자료형"
   ]
  },
  {
   "cell_type": "code",
   "execution_count": 54,
   "id": "dcfa083d",
   "metadata": {
    "hidden": true
   },
   "outputs": [
    {
     "name": "stdout",
     "output_type": "stream",
     "text": [
      "10.0\n"
     ]
    }
   ],
   "source": [
    "x = 10.0\n",
    "print(x)"
   ]
  },
  {
   "cell_type": "markdown",
   "id": "e94cde1e",
   "metadata": {
    "heading_collapsed": true,
    "hidden": true
   },
   "source": [
    "##### complex 복소수를 사용하기 위한 자료형"
   ]
  },
  {
   "cell_type": "markdown",
   "id": "73d84be4",
   "metadata": {
    "heading_collapsed": true,
    "hidden": true
   },
   "source": [
    "##### str 텍스트(string)를 사용하기 위한 자료형"
   ]
  },
  {
   "cell_type": "markdown",
   "id": "2ae003bf",
   "metadata": {
    "hidden": true
   },
   "source": [
    "텍스트는 문자(글자 하나), 문자열(문자의 나열)를 의미하며 따옴표 또는 쌍따옴표로 감싸서 표현한다   \n",
    "문자열 안에서 \\를 붙여서 이건 코드 상의 기호가 아닌, 문자 그대로로 해석하라고 표시(escape) 할 수 있습니다   \n",
    "여러 줄을 쓰고 싶다면 따옴표나 쌍따옴표 대신, 따옴표나 쌍따옴표를 세 개씩 연달아 써서 열고 닫아주면 됩니다   \n",
    "반복 가능한 객체 특히 값들이 순서대로 들어있는 반복 가능한 객체 중에서도 유한한 길이를 갖는 자료형들을 컨테이너(container) 자료형이라고 부릅니다\n",
    "- 컨테이너 자료형들은 뒤에 [숫자]를 붙여서 해당 순서 인덱스(index) 에 해당하는 값만 쏙 뽑아올 수 있습니다"
   ]
  },
  {
   "cell_type": "code",
   "execution_count": 55,
   "id": "28678917",
   "metadata": {
    "hidden": true
   },
   "outputs": [
    {
     "name": "stdout",
     "output_type": "stream",
     "text": [
      "hello world\n"
     ]
    }
   ],
   "source": [
    "x = 'hello world'\n",
    "print(x)"
   ]
  },
  {
   "cell_type": "markdown",
   "id": "5adb8173",
   "metadata": {},
   "source": [
    "#### 자료 구조(Data Structure)를 이용해 여러 데이터들을 표현합니다"
   ]
  },
  {
   "cell_type": "markdown",
   "id": "c57c82e6",
   "metadata": {},
   "source": [
    "자료 구조(Data Structure)는 자료 형태를 할당 받고 다양한 연산을 수행하고, 특정한 데이터 값, 관계 등을 표현하는 틀을 일컫습니다\n",
    "- variable, list, tuple, dic, set"
   ]
  },
  {
   "cell_type": "markdown",
   "id": "70760d3d",
   "metadata": {},
   "source": [
    "##### list  : 여러 데이터를 저장 할 수 있는 컨테이너형 변수\n",
    "- 특징 mutable, indexing, slicing, 시퀀스형\n",
    "- 튜플과 달리 값을 바꿀 수도 있습니다\n",
    "- 변수를 한 번 정의해놓고 변수명 뒤에\n",
    "  - .append()라는 특별한 함수를 뒤에 붙여서 값을 하나씩 추가하거나,\n",
    "  - .remove()를 통해 특정 값을 빼거나,\n",
    "  - .pop()을 통해 특정 순서의 값을 뺄 수 있다는 점입니다."
   ]
  },
  {
   "cell_type": "markdown",
   "id": "32e5947c",
   "metadata": {
    "heading_collapsed": true
   },
   "source": [
    "###### 리스트 만들기   \n",
    "- 리스트 = [값, 값, 값]\n",
    "- 리스트 생성 : [ ]에 각각의 값을  ,(콤마)로 구분 - 각 값을 요소(element)라함\n",
    "- 리스트는 문자열, 정수, 실수, 불 등 모든 자료형을 저장할 수 있으며 자료형을 사용가능"
   ]
  },
  {
   "cell_type": "code",
   "execution_count": 56,
   "id": "21c4c2dc",
   "metadata": {
    "hidden": true
   },
   "outputs": [
    {
     "name": "stdout",
     "output_type": "stream",
     "text": [
      "[10, 20, 30, 40]\n"
     ]
    }
   ],
   "source": [
    "xlist = [10, 20, 30, 40]\n",
    "print(xlist)"
   ]
  },
  {
   "cell_type": "markdown",
   "id": "c1b57f31",
   "metadata": {
    "heading_collapsed": true
   },
   "source": [
    "###### 빈 리스트 만들기\n",
    "- 리스트 = [], 리스트 = list()\n",
    "- 빈 리스트를 만들 때는 [ ]만 지정하거나 list를 사용하면 됩니다.\n",
    "- 빈 리스트는 쓸모가 없을 것 같지만, 보통 빈 리스트를 만들어 놓은 뒤에 새 값을 추가하는 방식으로 사용합니다. "
   ]
  },
  {
   "cell_type": "code",
   "execution_count": 57,
   "id": "4d3e3de7",
   "metadata": {
    "hidden": true
   },
   "outputs": [
    {
     "name": "stdout",
     "output_type": "stream",
     "text": [
      "[] []\n"
     ]
    }
   ],
   "source": [
    "a = []\n",
    "b = list()\n",
    "print(a, b)"
   ]
  },
  {
   "cell_type": "markdown",
   "id": "fb9647d7",
   "metadata": {
    "heading_collapsed": true
   },
   "source": [
    "###### 리스트 요소 값 수정\n",
    "- 리스트[인덱스 변호] = 값   \n",
    "- 리스트[인덱스 범위] = 값, 값, ...) - 인덱스 범위 안에서 수정하는 값들로 변경된다 - 리스트 길이가 늘어나거나 줄어들수 있다."
   ]
  },
  {
   "cell_type": "code",
   "execution_count": 58,
   "id": "f24e6834",
   "metadata": {
    "hidden": true
   },
   "outputs": [
    {
     "name": "stdout",
     "output_type": "stream",
     "text": [
      "[11, 22, 33]\n",
      "[99, 22, 33]\n",
      "['a', 'b', 88, 99]\n",
      "['c', 'd']\n",
      "[66, 77, 88, 99, 111, 222, 333, 'd']\n"
     ]
    }
   ],
   "source": [
    "alist = [11, 22 ,33]\n",
    "print(alist)\n",
    "\n",
    "alist[0] = 99\n",
    "print(alist)\n",
    "\n",
    "alist[0:3] = 'a', 'b', 88, 99\n",
    "print(alist)\n",
    "\n",
    "alist[0:len(alist)] = 'c', 'd'\n",
    "print(alist)\n",
    "\n",
    "alist[0:-1] = 66, 77, 88, 99, 111, 222, 333\n",
    "print(alist)"
   ]
  },
  {
   "cell_type": "markdown",
   "id": "6120d29d",
   "metadata": {
    "heading_collapsed": true
   },
   "source": [
    "###### 리스트.append: 요소 하나를 추가   "
   ]
  },
  {
   "cell_type": "code",
   "execution_count": 1,
   "id": "3eaac1cc",
   "metadata": {
    "hidden": true
   },
   "outputs": [
    {
     "name": "stdout",
     "output_type": "stream",
     "text": [
      "append =  [11, 22, 33, 44]\n",
      "append =  [11, 22, 33, 44, [55, 66]]\n"
     ]
    }
   ],
   "source": [
    "alist = [11, 22, 33]\n",
    "\n",
    "alist.append(44)\n",
    "print('append = ', alist)\n",
    "\n",
    "alist.append([55, 66])     # alist의 요소 하나에 [55, 66]형태의 새로운 리스트를 추가\n",
    "print('append = ', alist)"
   ]
  },
  {
   "cell_type": "markdown",
   "id": "3fb4880a",
   "metadata": {
    "heading_collapsed": true
   },
   "source": [
    "###### 리스트.extend: 리스트를 연결하여 확장   "
   ]
  },
  {
   "cell_type": "code",
   "execution_count": 2,
   "id": "beeb7246",
   "metadata": {
    "hidden": true
   },
   "outputs": [
    {
     "name": "stdout",
     "output_type": "stream",
     "text": [
      "extend =  [11, 22, 33, 77]\n",
      "extend =  [11, 22, 33, 77, 88, 99]\n"
     ]
    }
   ],
   "source": [
    "alist = [11, 22, 33]\n",
    "\n",
    "alist.extend([77])\n",
    "print('extend = ', alist)\n",
    "\n",
    "alist.extend([88, 99])     # alist의 요소를 계속해서 추가\n",
    "print('extend = ', alist)"
   ]
  },
  {
   "cell_type": "markdown",
   "id": "0b3f5faa",
   "metadata": {
    "heading_collapsed": true
   },
   "source": [
    "###### 리스트.insert: 특정 인덱스에 요소 추가   "
   ]
  },
  {
   "cell_type": "code",
   "execution_count": 6,
   "id": "2e84b5c8",
   "metadata": {
    "hidden": true
   },
   "outputs": [
    {
     "name": "stdout",
     "output_type": "stream",
     "text": [
      "insert = [100, 11, 22, 33]\n",
      "insert = [100, 11, 22, 33, 999]\n"
     ]
    }
   ],
   "source": [
    "alist = [11, 22, 33]\n",
    "\n",
    "alist.insert(0, 100)\n",
    "print('insert =', alist)\n",
    "\n",
    "alist.insert(len(alist), 999)  # insert(len(리스트), 값) - 리스트 끝에 요소를 추가\n",
    "print('insert =', alist)"
   ]
  },
  {
   "cell_type": "markdown",
   "id": "6e7c5982",
   "metadata": {
    "heading_collapsed": true
   },
   "source": [
    "###### 리스트.pop: 마지막 요소 또는 특정 인덱스의 요소를 삭제   "
   ]
  },
  {
   "cell_type": "code",
   "execution_count": 7,
   "id": "ea914973",
   "metadata": {
    "hidden": true
   },
   "outputs": [
    {
     "name": "stdout",
     "output_type": "stream",
     "text": [
      "[11, 22, 33]\n",
      "[11, 22]\n",
      "[11]\n",
      "[]\n"
     ]
    }
   ],
   "source": [
    "alist = [11, 22, 33]\n",
    "\n",
    "print(alist)\n",
    "alist.pop()\n",
    "print(alist)\n",
    "alist.pop()\n",
    "print(alist)\n",
    "alist.pop()\n",
    "print(alist)"
   ]
  },
  {
   "cell_type": "markdown",
   "id": "9d09bede",
   "metadata": {
    "heading_collapsed": true
   },
   "source": [
    "###### 리스트.remove: 특정 값을 찾아서 삭제"
   ]
  },
  {
   "cell_type": "code",
   "execution_count": 9,
   "id": "7f118fe5",
   "metadata": {
    "hidden": true
   },
   "outputs": [
    {
     "name": "stdout",
     "output_type": "stream",
     "text": [
      "[11, 22, 33]\n",
      "[22, 33]\n"
     ]
    }
   ],
   "source": [
    "alist = [11, 22, 33]\n",
    "\n",
    "print(alist)\n",
    "alist.remove(11)\n",
    "print(alist)"
   ]
  },
  {
   "cell_type": "code",
   "execution_count": 10,
   "id": "8a795287",
   "metadata": {
    "hidden": true
   },
   "outputs": [
    {
     "name": "stdout",
     "output_type": "stream",
     "text": [
      "[11, 22, 33]\n"
     ]
    },
    {
     "ename": "ValueError",
     "evalue": "list.remove(x): x not in list",
     "output_type": "error",
     "traceback": [
      "\u001b[1;31m----------------------------------------------------------------------\u001b[0m",
      "\u001b[1;31mValueError\u001b[0m                           Traceback (most recent call last)",
      "Cell \u001b[1;32mIn [10], line 4\u001b[0m\n\u001b[0;32m      1\u001b[0m alist \u001b[38;5;241m=\u001b[39m [\u001b[38;5;241m11\u001b[39m, \u001b[38;5;241m22\u001b[39m, \u001b[38;5;241m33\u001b[39m]\n\u001b[0;32m      3\u001b[0m \u001b[38;5;28mprint\u001b[39m(alist)\n\u001b[1;32m----> 4\u001b[0m \u001b[43malist\u001b[49m\u001b[38;5;241;43m.\u001b[39;49m\u001b[43mremove\u001b[49m\u001b[43m(\u001b[49m\u001b[38;5;241;43m10\u001b[39;49m\u001b[43m)\u001b[49m\n\u001b[0;32m      5\u001b[0m \u001b[38;5;28mprint\u001b[39m(alist)\n",
      "\u001b[1;31mValueError\u001b[0m: list.remove(x): x not in list"
     ]
    }
   ],
   "source": [
    "alist = [11, 22, 33]\n",
    "\n",
    "print(alist)\n",
    "alist.remove(10)  # 찾는 값이 없으면 ValueError발생\n",
    "print(alist)"
   ]
  },
  {
   "cell_type": "markdown",
   "id": "f3042e8f",
   "metadata": {
    "heading_collapsed": true
   },
   "source": [
    "###### 리스트.index(값) 리스트에서 특정 값의 인덱스를 구합니다   "
   ]
  },
  {
   "cell_type": "code",
   "execution_count": null,
   "id": "44384961",
   "metadata": {
    "hidden": true
   },
   "outputs": [],
   "source": [
    "alist = [11, 22, 33]"
   ]
  },
  {
   "cell_type": "markdown",
   "id": "26923ba1",
   "metadata": {
    "heading_collapsed": true
   },
   "source": [
    "###### count(값)은 리스트에서 특정 값의 개수를 구합니다"
   ]
  },
  {
   "cell_type": "code",
   "execution_count": null,
   "id": "33d8aafd",
   "metadata": {
    "hidden": true
   },
   "outputs": [],
   "source": [
    "alist = [11, 22, 33]"
   ]
  },
  {
   "cell_type": "markdown",
   "id": "3fbd03e4",
   "metadata": {
    "heading_collapsed": true
   },
   "source": [
    "###### reverse()는 리스트에서 요소의 순서를 반대로 뒤집습니다"
   ]
  },
  {
   "cell_type": "code",
   "execution_count": null,
   "id": "148519bb",
   "metadata": {
    "hidden": true
   },
   "outputs": [],
   "source": [
    "alist = [11, 22, 33]"
   ]
  },
  {
   "cell_type": "markdown",
   "id": "8b1723e6",
   "metadata": {
    "heading_collapsed": true
   },
   "source": [
    "###### sort() 또는 sort(reverse=False): 리스트의 값을 작은 순서대로 정렬(오름차순)"
   ]
  },
  {
   "cell_type": "code",
   "execution_count": null,
   "id": "786a3736",
   "metadata": {
    "hidden": true
   },
   "outputs": [],
   "source": [
    "alist = [11, 22, 33]"
   ]
  },
  {
   "cell_type": "markdown",
   "id": "7da0df1d",
   "metadata": {
    "heading_collapsed": true
   },
   "source": [
    "###### sort(reverse=True): 리스트의 값을 큰 순서대로 정렬(내림차순)"
   ]
  },
  {
   "cell_type": "code",
   "execution_count": null,
   "id": "f843cd62",
   "metadata": {
    "hidden": true
   },
   "outputs": [],
   "source": [
    "alist = [11, 22, 33]"
   ]
  },
  {
   "cell_type": "markdown",
   "id": "39ab8cc1",
   "metadata": {
    "heading_collapsed": true
   },
   "source": [
    "###### clear()는 리스트의 모든 요소를 삭제합니다"
   ]
  },
  {
   "cell_type": "code",
   "execution_count": null,
   "id": "e91720b3",
   "metadata": {
    "hidden": true
   },
   "outputs": [],
   "source": [
    "alist = [11, 22, 33]"
   ]
  },
  {
   "cell_type": "markdown",
   "id": "4605fc44",
   "metadata": {
    "heading_collapsed": true
   },
   "source": [
    "###### 리스트가 비어 있는지 확인하기   \n",
    "len()로 길이를 구하고 if 조건문으로 판단하면 리스트가 비어 있는지 확인할 수 있습니다."
   ]
  },
  {
   "cell_type": "code",
   "execution_count": 11,
   "id": "a0c79712",
   "metadata": {
    "hidden": true
   },
   "outputs": [
    {
     "ename": "IndentationError",
     "evalue": "expected an indented block (51317008.py, line 4)",
     "output_type": "error",
     "traceback": [
      "\u001b[1;36m  Cell \u001b[1;32mIn [11], line 4\u001b[1;36m\u001b[0m\n\u001b[1;33m    if len(alist):        # 리스트에 요소가 있으면 True\u001b[0m\n\u001b[1;37m    ^\u001b[0m\n\u001b[1;31mIndentationError\u001b[0m\u001b[1;31m:\u001b[0m expected an indented block\n"
     ]
    }
   ],
   "source": [
    "alist = [11, 22, 33]\n",
    "\n",
    "if not len(alist):    # 리스트가 비어 있으면 True\n",
    "if len(alist):        # 리스트에 요소가 있으면 True"
   ]
  },
  {
   "cell_type": "markdown",
   "id": "bb3a277c",
   "metadata": {
    "hidden": true
   },
   "source": []
  },
  {
   "cell_type": "code",
   "execution_count": null,
   "id": "e6c876d9",
   "metadata": {
    "hidden": true
   },
   "outputs": [],
   "source": []
  },
  {
   "cell_type": "markdown",
   "id": "28c19ec6",
   "metadata": {},
   "source": [
    "###### range를 사용하여 리스트 만들기   \n",
    "리스트 = list(range(횟수)), 리스트 = list(range(시작, 끝, 증가폭))m"
   ]
  },
  {
   "cell_type": "code",
   "execution_count": 12,
   "id": "4a8b7872",
   "metadata": {},
   "outputs": [
    {
     "name": "stdout",
     "output_type": "stream",
     "text": [
      "[0, 1, 2, 3, 4]\n"
     ]
    }
   ],
   "source": [
    "ylist = list(range(5))\n",
    "print(ylist)"
   ]
  },
  {
   "cell_type": "markdown",
   "id": "edc7326a",
   "metadata": {},
   "source": [
    "###### 리스트의 할당과 복사"
   ]
  },
  {
   "cell_type": "code",
   "execution_count": 64,
   "id": "c35ebf4f",
   "metadata": {},
   "outputs": [
    {
     "name": "stdout",
     "output_type": "stream",
     "text": [
      "a =  [99, 22, 33, 44, 55]\n",
      "b =  [99, 22, 33, 44, 55]\n",
      "True\n"
     ]
    }
   ],
   "source": [
    "a = [11, 22, 33, 44, 55]\n",
    "b = a\n",
    "a[0] = 99\n",
    "\n",
    "print('a = ', a)\n",
    "print('b = ', b)\n",
    "print(a is b)"
   ]
  },
  {
   "cell_type": "code",
   "execution_count": null,
   "id": "64f6655e",
   "metadata": {},
   "outputs": [],
   "source": [
    "b = a와 같이 리스트를 다른 변수에 할당하면 리스트는 두 개가 될 것 같지만 실제로는 하나의 리스트다\n",
    "a와 b를 is 연산자로 비교해보면 True가 나옵니다. 즉, 변수 이름만 다를 뿐 리스트 a와 b는 같은 객체입니다.\n",
    "\n",
    ">>> a is b\n",
    "True\n",
    "a와 b는 같으므로 b[2] = 99와 같이 리스트 b의 요소를 변경하면 리스트 a와 b에 모두 반영됩니다.\n",
    "\n",
    ">>> b[2] = 99\n",
    ">>> a\n",
    "[0, 0, 99, 0, 0]\n",
    ">>> b\n",
    "[0, 0, 99, 0, 0]\n",
    "▼ 그림 22-13 리스트를 할당한 뒤 b의 요소를 변경했을 때\n",
    "\n",
    "리스트 a와 b를 완전히 두 개로 만들려면 copy 메서드로 모든 요소를 복사해야 합니다.\n",
    "\n",
    ">>> a = [0, 0, 0, 0, 0]\n",
    ">>> b = a.copy()\n",
    "b = a.copy()와 같이 copy를 사용한 뒤 b에 할당해주면 리스트 a의 요소가 모두 b에 복사됩니다.\n",
    "\n",
    "▼ 그림 22-14 리스트를 복사했을 때\n",
    "\n",
    "a와 b를 is 연산자로 비교해보면 False가 나옵니다. 즉, 두 리스트는 다른 객체입니다.\n",
    " 그러나 복사된 요소는 모두 같으므로 ==로 비교하면 True가 나옵니다.\n",
    "\n",
    ">>> a is b\n",
    "False\n",
    ">>> a == b\n",
    "True\n",
    "이제 리스트 a와 b는 별개이므로 한쪽의 값을 변경해도 다른 리스트에 영향을 미치지 않습니다.\n",
    " 다음과 같이 리스트 b의 요소를 변경하면 리스트 a는 그대로이고 리스트 b만 바뀝니다.\n",
    "\n",
    ">>> b[2] = 99\n",
    ">>> a\n",
    "[0, 0, 0, 0, 0]\n",
    ">>> b\n",
    "[0, 0, 99, 0, 0]\n",
    "▼ 그림 22-15 리스트를 복사한 뒤 b의 요소를 변경했을 때"
   ]
  },
  {
   "cell_type": "code",
   "execution_count": null,
   "id": "4ca42553",
   "metadata": {},
   "outputs": [],
   "source": []
  },
  {
   "cell_type": "markdown",
   "id": "d514be06",
   "metadata": {},
   "source": []
  },
  {
   "cell_type": "code",
   "execution_count": null,
   "id": "3302d5e8",
   "metadata": {},
   "outputs": [],
   "source": []
  },
  {
   "cell_type": "markdown",
   "id": "4610eddd",
   "metadata": {},
   "source": []
  },
  {
   "cell_type": "code",
   "execution_count": null,
   "id": "74350939",
   "metadata": {},
   "outputs": [],
   "source": []
  },
  {
   "cell_type": "markdown",
   "id": "dcc3b4c4",
   "metadata": {},
   "source": []
  },
  {
   "cell_type": "markdown",
   "id": "32c66ab2",
   "metadata": {},
   "source": [
    "##### tuple"
   ]
  },
  {
   "cell_type": "markdown",
   "id": "f08dcfad",
   "metadata": {},
   "source": [
    "\n",
    "튜플의 경우에는 괄호() 안에 원하는 값들을 쉼표(,)로 구분해서 써주면 됩니다.\n",
    "튜플 안에 튜플을 넣을 수도 있습니다. - 이런 경우에는 [n] 문법을 연이어 써서 튜플 안의 값을 가져올 수 있습니다.\n",
    "튜플끼리 덧셈 연산자를 통해 합칠 수도 있습니다\n",
    "in 연산자를 써서 특정한 값이 튜플 안에 있는지 없는지도 검사할 수 있습니다"
   ]
  },
  {
   "cell_type": "code",
   "execution_count": null,
   "id": "f80a9bf9",
   "metadata": {},
   "outputs": [],
   "source": [
    "tuple : 여러 데이터를 저장 할 수 있는 컨테이너형 변수\n",
    "- 특징 immutable, indexing, slicing, 시퀀스형\n",
    "- 튜플은 요소를 일렬로 저장하지만, 요소를 변경, 추가, 삭제를 할 수 없습니다. \n",
    "\n",
    "튜플 생성 : ( )에 각 값을  ,(콤마)로 구분, 또는 괄호로 묶지 않고 값만 콤마로 구분. 각 값을 요소(element)라함\n",
    "튜플은 문자열, 정수, 실수, 불 등 모든 자료형을 저장할 수 있으며 자료형을 사용가능\n",
    "보통 튜플은 요소가 절대 변경되지 않고 유지되어야 할 때 사용. 요소를 변경하게 되면 에러가 발생\n",
    "튜플 = (값, 값, 값), 튜플 = 값, 값, 값\n",
    "\n",
    "요소가 한 개인 튜플을 만들 때\n",
    "( ) 안에 값 한 개를 넣고 ,(콤마)를 붙임. 또는, 괄호로 묶지 않고 값 한 개에 ,를 붙임.\n",
    "튜플 = (값, ), 튜플 = 값,\n",
    "\n",
    "range를 사용하여 튜플 만들기\n",
    "튜플 = tuple(range(횟수))\n",
    "\n",
    "튜플을 리스트로 만들고 리스트를 튜플로 만들기\n",
    "튜플과 리스트는 요소를 변경, 추가, 삭제할 수 없는거만 다를 뿐 기능과 형태는 같다. \n",
    "따라서 튜플을 리스트로 만들거나 리스트를 튜플로 만들 수도 있습니다.\n",
    "\n",
    "tuple 안에 리스트를 넣으면 새 튜플이 생성.\n",
    "a = [1, 2, 3]\n",
    "tuple(a)            # (1, 2, 3) 튜플생성\n",
    "\n",
    "반대로 list 안에 튜플을 넣으면 새 리스트가 생성.\n",
    "b = (4, 5, 6)\n",
    "list(b)             # [4, 5, 6] 리스트생성\n",
    "\n",
    "참고  tuple(list)안에 문자열을 넣으면? 문자 튜플(문자 리스트)이 생성.\n",
    "list('Hello')     # ['H', 'e', 'l', 'l', 'o']\n",
    "tuple('Hello')    # ('H', 'e', 'l', 'l', 'o')\n",
    "\n",
    "참고  튜플(리스트)을 사용헤 변수 여러 개를 한 번에 만들 수 있음. 변수의 개수와 튜플(리스트))의 요소 개수는 같아함.\n",
    "a, b, c = [1, 2, 3]\n",
    "print(a, b, c)        # 1 2 3\n",
    "\n",
    "d, e, f = (4, 5, 6)\n",
    "print(d, e, f)        # 4 5 6\n",
    "\n",
    "튜플(리스트) 변수로도 변수 여러 개를 만들 수 있다. - 튜플 언패킹(tuple unpacking), \n",
    "y = (4, 5, 6)        # 튜플 패킹\n",
    "d, e, f = y          # 튜플 언패킹(tuple unpacking)\n",
    "print(d, e, f)       # 4 5 6\n",
    "\n",
    "x = [1, 2, 3]        # # 리스트 패킹\n",
    "a, b, c = x          # 리스트 언패킹(list unpacking)\n",
    "print(a, b, c)       # 1 2 3\n",
    "\n",
    "튜플 패킹(tuple packing), 리스트 패킹(list packing)은 변수에 튜플(리스트)을 할당하는 과정을 뜻함.\n",
    "a = [1, 2, 3]    # 리스트 패킹\n",
    "b = (1, 2, 3)    # 튜플 패킹\n",
    "c = 1, 2, 3      # 튜플 패킹"
   ]
  },
  {
   "cell_type": "code",
   "execution_count": null,
   "id": "44d0c338",
   "metadata": {},
   "outputs": [],
   "source": []
  },
  {
   "cell_type": "code",
   "execution_count": null,
   "id": "b037295e",
   "metadata": {},
   "outputs": [],
   "source": []
  },
  {
   "cell_type": "markdown",
   "id": "ccc3d635",
   "metadata": {},
   "source": [
    "##### 리스트와 튜플 응용하기"
   ]
  },
  {
   "cell_type": "code",
   "execution_count": null,
   "id": "5b6da3ec",
   "metadata": {},
   "outputs": [],
   "source": [
    "리스트와 튜플 응용하기\n",
    "'Unit 10 리스트와 튜플 사용하기'에서 리스트의 기본적인 사용 방법을 알아보았습니다. \n",
    "파이썬의 리스트는 생각보다 기능이 많은데, 요소를 추가/삭제하거나, 정보를 조회하는 메서드(함수)도 제공합니다. \n",
    "특히 for 반복문과 결합하면 연속적이고 반복되는 값을 손쉽게 처리할 수 있습니다.\n",
    "\n",
    "22.1 리스트 조작하기\n",
    "먼저 리스트를 조작하는 메서드(method)입니다(메서드는 객체에 속한 함수를 뜻하는데, \n",
    "                            자세한 내용은 '34.1 클래스와 메서드 만들기'에서 설명하겠습니다). \n",
    "                            파이썬에서 제공하는 리스트 메서드는 여러 가지가 있지만 여기서는 자주 쓰는 메서드를 다루겠습니다.\n",
    "\n",
    "22.1.1  리스트에 요소 추가하기\n",
    "리스트의 대표적인 기능이 바로 요소 추가입니다. 다음과 같이 리스트에 요소를 추가하는 메서드는 3가지가 있습니다.\n",
    "\n",
    "append: 요소 하나를 추가\n",
    "extend: 리스트를 연결하여 확장\n",
    "insert: 특정 인덱스에 요소 추가\n",
    "22.1.2  리스트에 요소 하나 추가하기\n",
    "append(요소)는 리스트 끝에 요소 하나를 추가합니다. \n",
    "다음은 리스트 [10, 20, 30]에 500을 추가하여 리스트는 [10, 20, 30, 500]이 됩니다(메서드를 호출한 리스트가 변경되며 새 리스트는 생성되지 않음).\n",
    "\n",
    ">>> a = [10, 20, 30]\n",
    ">>> a.append(500)\n",
    ">>> a\n",
    "[10, 20, 30, 500]\n",
    ">>> len(a)\n",
    "4\n",
    "▼ 그림 22-1 append로 리스트 끝에 요소 하나 추가\n",
    "\n",
    "물론 빈 리스트에 값을 추가할 수도 있습니다.\n",
    "\n",
    ">>> a = []\n",
    ">>> a.append(10)\n",
    ">>> a\n",
    "[10]\n",
    "22.1.3  리스트 안에 리스트 추가하기\n",
    "append는 append(리스트)처럼 리스트를 넣으면 리스트 안에 리스트가 들어갑니다. \n",
    "다음은 리스트 a 안에 [500, 600]이 들어가서 중첩 리스트가 됩니다.\n",
    "\n",
    ">>> a = [10, 20, 30]\n",
    ">>> a.append([500, 600])\n",
    ">>> a\n",
    "[10, 20, 30, [500, 600]]\n",
    ">>> len(a)\n",
    "4\n",
    "a.append([500, 600])은 [500, 600]이라는 요소 하나를 리스트 a 끝에 추가합니다. \n",
    "따라서 리스트 a를 len으로 길이를 구해보면 5가 아닌 4가 나옵니다.\n",
    "\n",
    "▼ 그림 22-2 append로 리스트 안에 리스트 추가하기\n",
    "\n",
    "즉, append는 항상 리스트의 길이가 1씩 증가합니다.\n",
    "\n",
    "22.1.4  리스트 확장하기\n",
    "그러면 리스트에 요소를 여러 개 추가하려면 어떻게 해야 할까요? append를 여러 번 사용하는 방법도 있지만, \n",
    "추가할 요소가 많은 경우에는 상당히 번거롭습니다. 이때는 extend를 사용합니다.\n",
    "\n",
    "extend(리스트)는 리스트 끝에 다른 리스트를 연결하여 리스트를 확장합니다. \n",
    "다음은 리스트 [10, 20, 30]에 다른 리스트 [500, 600]을 연결하여 [10, 20, 30, 500, 600]이 됩니다\n",
    "(메서드를 호출한 리스트가 변경되며 새 리스트는 생성되지 않음).\n",
    "\n",
    ">>> a = [10, 20, 30]\n",
    ">>> a.extend([500, 600])\n",
    ">>> a\n",
    "[10, 20, 30, 500, 600]\n",
    ">>> len(a)\n",
    "5\n",
    "extend를 사용하면 리스트의 길이는 extend에 전달된 리스트의 길이만큼 증가합니다. \n",
    "따라서 길이가 3인 리스트 [10, 20, 30]에 길이가 2인 [500, 600]을 연결했으므로 길이는 5가 나옵니다.\n",
    "\n",
    "▼ 그림 22-3 extend로 리스트 확장하기\n",
    "\n",
    "extend의 동작을 좀 더 정확하게 이야기하면 extend에 전달된 [500, 600]의 요소를 반복하면서 각 요소를 리스트 a에 추가하는 것입니다. \n",
    "따라서 리스트와 리스트를 연결한 모양이 됩니다.\n",
    "\n",
    "22.1.5  리스트의 특정 인덱스에 요소 추가하기\n",
    "append, extend는 리스트 끝에 요소를 추가합니다. 그러면 원하는 위치에 요소를 추가하는 방법은 없을까요? 이때는 insert를 사용합니다.\n",
    "\n",
    "insert(인덱스, 요소)는 리스트의 특정 인덱스에 요소 하나를 추가합니다. \n",
    "다음은 리스트 [10, 20, 30]의 인덱스 2에 500을 추가하여 [10, 20, 500, 30]이 됩니다.\n",
    "\n",
    ">>> a = [10, 20, 30]\n",
    ">>> a.insert(2, 500)\n",
    ">>> a\n",
    "[10, 20, 500, 30]\n",
    ">>> len(a)\n",
    "4\n",
    "▼ 그림 22-4 insert로 특정 인덱스에 요소 추가\n",
    "\n",
    "insert에서 자주 사용하는 패턴은 다음 2가지입니다.\n",
    "\n",
    "insert(0, 요소): 리스트의 맨 처음에 요소를 추가\n",
    "insert(len(리스트), 요소): 리스트 끝에 요소를 추가\n",
    "다음은 리스트 [10, 20, 30]의 맨 처음에 500을 추가합니다.\n",
    "\n",
    ">>> a = [10, 20, 30]\n",
    ">>> a.insert(0, 500)\n",
    ">>> a\n",
    "[500, 10, 20, 30]\n",
    "그리고 insert에 마지막 인덱스보다 큰 값을 지정하면 리스트 끝에 요소 하나를 추가할 수 있습니다. \n",
    "다음은 리스트 [10, 20, 30] 끝에 500을 추가합니다.\n",
    "\n",
    ">>> a = [10, 20, 30]\n",
    ">>> a.insert(len(a), 500)\n",
    ">>> a\n",
    "[10, 20, 30, 500]\n",
    "len(리스트)는 마지막 인덱스보다 1이 더 크기 때문에 리스트 끝에 값을 추가할 때 자주 활용합니다. \n",
    "사실 이 방법은 a.append(500)과 같습니다.\n",
    "\n",
    "특히 insert는 요소 하나를 추가하므로 insert에 리스트를 넣으면 append처럼 리스트 안에 리스트가 들어갑니다. \n",
    "다음은 리스트 [10, 20, 30]의 인덱스 1에 리스트 [500, 600]을 추가하여 중첩 리스트가 됩니다.\n",
    "\n",
    ">>> a = [10, 20, 30]\n",
    ">>> a.insert(1, [500, 600])\n",
    ">>> a\n",
    "[10, [500, 600], 20, 30]\n",
    "만약 리스트 중간에 요소 여러 개를 추가하고 싶다면 '11.4 슬라이스 사용하기'에서 배운 슬라이스에 요소 할당하기를 활용하면 됩니다. \n",
    "다음은 리스트 [10, 20, 30]의 인덱스 1부터 500, 600을 추가하여 [10, 500, 600, 20, 30]이 됩니다.\n",
    "\n",
    ">>> a = [10, 20, 30]\n",
    ">>> a[1:1] = [500, 600]\n",
    ">>> a\n",
    "[10, 500, 600, 20, 30]\n",
    "a[1:1] = [500, 600]과 같이 시작 인덱스와 끝 인덱스를 같게 지정하면 해당 인덱스의 요소를 덮어쓰지 않으면서 요소 여러 개를 중간에 추가할 수 있습니다.\n",
    "\n",
    "22.1.6  리스트에서 요소 삭제하기\n",
    "이번에는 리스트에서 요소를 삭제하는 방법입니다. 다음과 같이 요소를 삭제하는 메서드는 2가지가 있습니다.\n",
    "\n",
    "pop: 마지막 요소 또는 특정 인덱스의 요소를 삭제\n",
    "remove: 특정 값을 찾아서 삭제\n",
    "22.1.7  리스트에서 특정 인덱스의 요소를 삭제하기\n",
    "pop()은 리스트의 마지막 요소를 삭제한 뒤 삭제한 요소를 반환합니다. \n",
    "다음은 리스트 [10, 20, 30]에서 pop으로 마지막 요소를 삭제한 뒤 30을 반환합니다. 따라서 리스트는 [10, 20]이 됩니다.\n",
    "\n",
    ">>> a = [10, 20, 30]\n",
    ">>> a.pop()\n",
    "30\n",
    ">>> a\n",
    "[10, 20]\n",
    "▼ 그림 22-5 pop으로 리스트의 마지막 요소 삭제\n",
    "\n",
    "그러면 원하는 인덱스의 요소를 삭제할 수는 없을까요? 이때는 pop에 인덱스를 지정하면 됩니다.\n",
    "\n",
    "pop(인덱스)는 해당 인덱스의 요소를 삭제한 뒤 삭제한 요소를 반환합니다. \n",
    "다음은 리스트 [10, 20, 30]에서 인덱스 1을 삭제합니다.\n",
    "\n",
    ">>> a = [10, 20, 30]\n",
    ">>> a.pop(1)\n",
    "20\n",
    ">>> a\n",
    "[10, 30]\n",
    "사실 pop 대신 del을 사용해도 상관없습니다.\n",
    "\n",
    ">>> a = [10, 20, 30]\n",
    ">>> del a[1]\n",
    ">>> a\n",
    "[10, 30]\n",
    "22.1.8  리스트에서 특정 값을 찾아서 삭제하기\n",
    "pop이나 del은 인덱스로 요소를 삭제했는데, 리스트에서 원하는 값을 찾아서 삭제하고 싶을 수도 있습니다. \n",
    "이런 경우에는 remove를 사용합니다.\n",
    "\n",
    "remove(값)은 리스트에서 특정 값을 찾아서 삭제합니다. 다음은 리스트 [10, 20, 30]에서 20을 삭제하여 [10, 30]이 됩니다.\n",
    "\n",
    ">>> a = [10, 20, 30]\n",
    ">>> a.remove(20)\n",
    ">>> a\n",
    "[10, 30]\n",
    "만약 리스트에 같은 값이 여러 개 있을 경우 처음 찾은 값을 삭제합니다.\n",
    "\n",
    ">>> a = [10, 20, 30, 20]\n",
    ">>> a.remove(20)\n",
    ">>> a\n",
    "[10, 30, 20]\n",
    "리스트 a에 20이 2개 있지만 가장 처음 찾은 인덱스 1의 20만 삭제합니다.\n",
    "\n",
    "▼ 그림 22-6 remove로 특정 값을 찾아서 삭제\n",
    "\n",
    "참고 | 리스트로 스택과 큐 만들기\n",
    "지금까지 알아본 리스트의 메서드로 스택(stack)과 큐(queue)를 만들 수 있습니다. \n",
    "다음과 같이 append와 pop을 호출하는 그림을 90도 돌리면 스택의 모습이 됩니다.\n",
    "\n",
    "여기서 pop() 대신 pop(0)을 사용하면 큐가 됩니다.\n",
    "\n",
    "물론 append(), pop(0)이 아닌 insert(0, 요소), pop()을 사용해서 추가/삭제 방향을 반대로 해도 큐가 됩니다.\n",
    "\n",
    "파이썬에서 스택은 리스트를 그대로 활용해도 되지만, 큐는 좀 더 효율적으로 사용할 수 있도록 덱(deque, double ended queue)이라는 자료형을 제공합니다. \n",
    "덱은 양쪽 끝에서 추가/삭제가 가능한 자료 구조입니다.\n",
    "\n",
    "deque(반복가능한객체)\n",
    "\n",
    ">>> from collections import deque    # collections 모듈에서 deque를 가져옴\n",
    ">>> a = deque([10, 20, 30])\n",
    ">>> a\n",
    "deque([10, 20, 30])\n",
    ">>> a.append(500)    # 덱의 오른쪽에 500 추가\n",
    ">>> a\n",
    "deque([10, 20, 30, 500])\n",
    ">>> a.popleft()     # 덱의 왼쪽 요소 하나 삭제\n",
    "10\n",
    ">>> a\n",
    "deque([20, 30, 500])\n",
    "deque의 append는 덱의 오른쪽에 요소를 추가하고, popleft는 덱의 왼쪽 요소를 삭제합니다. \n",
    "반대로 appendleft는 덱의 왼쪽에 요소를 추가하고, pop으로 덱의 오른쪽 요소를 삭제할 수도 있습니다.\n",
    "\n",
    "▼ 그림 22-7 리스트로 스택 만들기\n",
    "\n",
    "▼ 그림 22-8 리스트로 큐 만들기\n",
    "\n",
    "22.1.9  리스트에서 특정 값의 인덱스 구하기\n",
    "index(값)은 리스트에서 특정 값의 인덱스를 구합니다. 이때 같은 값이 여러 개일 경우 처음 찾은 인덱스를 구합니다(가장 작은 인덱스).\n",
    " 다음은 20이 두 번째에 있으므로 인덱스 1이 나옵니다.\n",
    "\n",
    ">>> a = [10, 20, 30, 15, 20, 40]\n",
    ">>> a.index(20)\n",
    "1\n",
    "▼ 그림 22-9 index로 특정 값의 인덱스 구하기\n",
    "\n",
    "22.1.10                특정 값의 개수 구하기\n",
    "count(값)은 리스트에서 특정 값의 개수를 구합니다. 다음은 리스트 [10, 20, 30, 15, 20, 40]에서 20의 개수를 구합니다.\n",
    "\n",
    ">>> a = [10, 20, 30, 15, 20, 40]\n",
    ">>> a.count(20)\n",
    "2\n",
    "리스트 a에는 20이 2개 들어있으므로 2가 나옵니다.\n",
    "\n",
    "▼ 그림 22-10 count로 특정 값의 개수 구하기\n",
    "\n",
    "22.1.11                리스트의 순서를 뒤집기\n",
    "reverse()는 리스트에서 요소의 순서를 반대로 뒤집습니다. \n",
    "다음은 리스트 [10, 20, 30, 15, 20, 40]의 순서를 반대로 뒤집어서 [40, 20, 15, 30, 20, 10]이 됩니다.\n",
    "\n",
    ">>> a = [10, 20, 30, 15, 20, 40]\n",
    ">>> a.reverse()\n",
    ">>> a\n",
    "[40, 20, 15, 30, 20, 10]\n",
    "22.1.12                리스트의 요소를 정렬하기\n",
    "sort()는 리스트의 요소을 작은 순서대로 정렬합니다(오름차순). \n",
    "다음은 리스트 [10, 20, 30, 15, 20, 40]의 값을 작은 순서대로 정렬하여 [10, 15, 20, 20, 30, 40]이 됩니다.\n",
    "\n",
    "sort() 또는 sort(reverse=False): 리스트의 값을 작은 순서대로 정렬(오름차순)\n",
    "sort(reverse=True): 리스트의 값을 큰 순서대로 정렬(내림차순)\n",
    ">>> a = [10, 20, 30, 15, 20, 40]\n",
    ">>> a.sort()\n",
    ">>> a\n",
    "[10, 15, 20, 20, 30, 40]\n",
    "참고 | sort 메서드와 sorted 함수\n",
    "파이썬은 리스트의 sort 메서드뿐만 아니라 내장 함수 sorted도 제공합니다. \n",
    "sort와 sorted 모두 정렬을 해주는 함수지만, 약간의 차이점이 있습니다.\n",
    " sort는 메서드를 사용한 리스트를 변경하지만, sorted 함수는 정렬된 새 리스트를 생성합니다.\n",
    "\n",
    ">>> a = [10, 20, 30, 15, 20, 40]\n",
    ">>> a.sort()    # a의 내용을 변경하여 정렬\n",
    ">>> a\n",
    "[10, 15, 20, 20, 30, 40]\n",
    ">>> b = [10, 20, 30, 15, 20, 40]\n",
    ">>> sorted(b)    # 정렬된 새 리스트를 생성\n",
    "[10, 15, 20, 20, 30, 40]\n",
    "22.1.13                리스트의 모든 요소를 삭제하기\n",
    "clear()는 리스트의 모든 요소를 삭제합니다. 다음은 리스트 [10, 20, 30]의 모든 요소를 삭제하여 빈 리스트 []가 됩니다.\n",
    "\n",
    ">>> a = [10, 20, 30]\n",
    ">>> a.clear()\n",
    ">>> a\n",
    "[]\n",
    "clear 대신 del a[:]와 같이 시작, 끝 인덱스를 생략하여 리스트의 모든 요소를 삭제할 수도 있습니다.\n",
    "\n",
    ">>> a = [10, 20, 30]\n",
    ">>> del a[:]\n",
    ">>> a\n",
    "[]\n",
    "22.1.14                리스트를 슬라이스로 조작하기\n",
    "리스트는 메서드를 사용하지 않고, 슬라이스로 조작할 수도 있습니다. \n",
    "다음은 리스트 끝에 값이 한 개 들어있는 리스트를 추가합니다.\n",
    "\n",
    ">>> a = [10, 20, 30]\n",
    ">>> a[len(a):] = [500]\n",
    ">>> a\n",
    "[10, 20, 30, 500]\n",
    "a[len(a):]는 시작 인덱스를 len(a)로 지정해서 리스트의 마지막 인덱스보다 1이 더 큰 상태입니다.\n",
    " 즉, 그림과 같이 리스트 끝에서부터 시작하겠다는 뜻입니다(이때는 리스트의 범위를 벗어난 인덱스를 사용할 수 있습니다).\n",
    "\n",
    "▼ 그림 22-11 a[len(a):]의 뜻\n",
    "\n",
    "a[len(a):] = [500]과 같이 값이 한 개 들어있는 리스트를 할당하면 리스트 a 끝에 값을 한 개 추가하며 a.append(500)과 같습니다.\n",
    "\n",
    "그리고 a[len(a):] = [500, 600]과 같이 요소가 여러 개 들어있는 리스트를 할당하면 리스트 a 끝에 다른 리스트를 연결하며 a.extend([500, 600])과 같습니다.\n",
    "\n",
    ">>> a = [10, 20, 30]\n",
    ">>> a[len(a):] = [500, 600]\n",
    ">>> a\n",
    "[10, 20, 30, 500, 600]\n",
    "참고 | 리스트가 비어 있는지 확인하기\n",
    "리스트(시퀀스 객체)가 비어 있는지 확인하려면 어떻게 해야 할까요? 방법은 간단합니다.\n",
    " 리스트는 len 함수로 길이를 구할 수 있죠? 이걸 if 조건문으로 판단하면 리스트가 비어 있는지 확인할 수 있습니다.\n",
    "\n",
    "if not len(seq):    # 리스트가 비어 있으면 True\n",
    "if len(seq):        # 리스트에 요소가 있으면 True\n",
    "하지만 파이썬에서는 이 방법보다 리스트(시퀀스 객체)를 바로 if 조건문으로 판단하는 방법을 권장합니다(PEP 8).\n",
    "\n",
    "if not seq:    # 리스트가 비어 있으면 True\n",
    "if seq:        # 리스트에 내용이 있으면 True\n",
    "특히 리스트가 비어 있는지 확인하는 방법은 리스트의 마지막 요소에 접근할 때 유용하게 사용할 수 있습니다.\n",
    " 리스트의 마지막 요소에 접근할 때는 인덱스를 -1로 지정하면 되죠?\n",
    "\n",
    ">>> seq = [10, 20, 30]\n",
    ">>> seq[-1]\n",
    "30\n",
    "만약 리스트가 비어 있을 경우에는 인덱스를 -1로 지정하면 에러가 발생합니다.\n",
    "\n",
    ">>> a = []\n",
    ">>> a[-1]\n",
    "Traceback (most recent call last):\n",
    "  File \"<pyshell#3>\", line 1, in <module>\n",
    "    a[-1]\n",
    "IndexError: list index out of range\n",
    "이때는 if 조건문을 활용하여 리스트에 요소가 있을 때만 마지막 요소를 가져오면 됩니다.\n",
    "\n",
    "seq = []\n",
    "if seq:               # 리스트에 요소가 있는지 확인\n",
    "    print(seq[-1])    # 요소가 있을 때만 마지막 요소를 가져옴"
   ]
  },
  {
   "cell_type": "markdown",
   "id": "934222ec",
   "metadata": {},
   "source": [
    "##### 튜플의 메서드와 다양한 사용 방법"
   ]
  },
  {
   "cell_type": "code",
   "execution_count": null,
   "id": "5bde35af",
   "metadata": {},
   "outputs": [],
   "source": [
    "이번에는 튜플의 메서드와 다양한 사용 방법을 알아보겠습니다.\n",
    "\n",
    "튜플은 리스트와는 달리 내용을 변경할 수 없습니다(불변, immutable). \n",
    "따라서 내용을 변경하는 append 같은 메서드는 사용할 수 없고, 요소의 정보를 구하는 메서드만 사용할 수 있습니다.\n",
    "\n",
    "22.7.1  튜플에서 특정 값의 인덱스 구하기\n",
    "index(값)은 튜플에서 특정 값의 인덱스를 구합니다. \n",
    "이때 같은 값이 여러 개일 경우 처음 찾은 인덱스를 구합니다(가장 작은 인덱스). \n",
    "다음은 53이 세 번째에 있으므로 인덱스 2가 나옵니다.\n",
    "\n",
    ">>> a = (38, 21, 53, 62, 19, 53)\n",
    ">>> a.index(53)\n",
    "2\n",
    "▼ 그림 22-20 index로 특정 값의 인덱스 구하기\n",
    "\n",
    "22.7.2  특정 값의 개수 구하기\n",
    "count(값)은 튜플에서 특정 값의 개수를 구합니다. 다음은 튜플 (10, 20, 30, 15, 20, 40)에서 20의 개수를 구합니다. \n",
    "여기서는 20이 2개 들어있으므로 2가 나옵니다.\n",
    "\n",
    ">>> a = (10, 20, 30, 15, 20, 40)\n",
    ">>> a.count(20)\n",
    "2\n",
    "▼ 그림 22-21 count로 특정 값의 개수 구하기\n",
    "\n",
    "22.7.3  for 반복문으로 요소 출력하기\n",
    "for 반복문으로 요소를 출력하는 방법은 리스트와 같습니다.\n",
    "\n",
    ">>> a = (38, 21, 53, 62, 19)\n",
    ">>> for i in a:\n",
    "...     print(i, end=' ')\n",
    "...\n",
    "38 21 53 62 19\n",
    "22.7.4  튜플 표현식 사용하기\n",
    "튜플을 리스트 표현식처럼 생성할 때는 다음과 같이 tuple 안에 for 반복문과 if 조건문을 지정합니다.\n",
    "\n",
    "tuple(식 for 변수 in 리스트 if 조건식)\n",
    ">>> a = tuple(i for i in range(10) if i % 2 == 0)\n",
    ">>> a\n",
    "(0, 2, 4, 6, 8)\n",
    "참고로 ( )(괄호) 안에 표현식을 넣으면 튜플이 아니라 제너레이터 표현식이 됩니다\n",
    "(제너레이터는 'Unit 40 제너레이터 사용하기'에서 설명하겠습니다).\n",
    "\n",
    ">>> (i for i in range(10) if i % 2 == 0)\n",
    "<generator object <genexpr> at 0x050FE420>\n",
    "22.7.5  tuple에 map 사용하기\n",
    "튜플에 map을 사용 방법도 리스트와 같습니다.\n",
    "\n",
    ">>> a = (1.2, 2.5, 3.7, 4.6)\n",
    ">>> a = tuple(map(int, a))\n",
    ">>> a\n",
    "(1, 2, 3, 4)\n",
    "22.7.6  튜플에서 가장 작은 수, 가장 큰 수, 합계 구하기\n",
    "물론 튜플도 min, max 함수로 가장 작은 수와 가장 큰 수를 구하고, sum 함수로 요소의 합계를 구할 수 있습니다.\n",
    "\n",
    ">>> a = (38, 21, 53, 62, 19)\n",
    ">>> min(a)\n",
    "19\n",
    ">>> max(a)\n",
    "62\n",
    ">>> sum(a)\n",
    "193\n",
    "지금까지 리스트의 다양한 메서드와 응용 방법을 배웠는데, 내용이 조금 어려웠습니다. \n",
    "리스트 메서드는 모두 외우지 않아도 되며 파이썬을 사용하다 보면 자연스럽게 익히게 됩니다.\n",
    " 여기서는 리스트와 반복문을 사용하는 방법이 중요합니다. 특히 파이썬에서는 리스트 표현식을 자주 사용하므로 이 부분을 반복 학습하여 정확하게 익히는 것이 좋습니다.\n"
   ]
  },
  {
   "cell_type": "code",
   "execution_count": null,
   "id": "1f0d9d35",
   "metadata": {},
   "outputs": [],
   "source": []
  },
  {
   "cell_type": "markdown",
   "id": "487b0978",
   "metadata": {},
   "source": [
    "##### dict"
   ]
  },
  {
   "cell_type": "markdown",
   "id": "d32ddfca",
   "metadata": {},
   "source": [
    "\n",
    "리스트와 차이점은 숫자로 된 인덱스를 쓰는 대신, 직접 인덱스를 원하는 대로 지정할 수 있다는 점입니다.\n",
    "문법적으로는 중괄호({, }) 안에서 쉼표(,)로 각 항목(item)을 나누고, 항목 별로 쌍점(:)을 써서 키와 값을 나눕니다.\n",
    "딕셔너리의 키(key)와 해당 키의 값(value)입니다\n",
    "제거하고 싶다면 리스트와 마찬가지로 .pop()을 사용하면 됩니다\n",
    "딕셔너리에 for 루프문을 사용하면 기본적으로 키값만 돌려줍니다\n",
    "하지만 .items()를 사용해서 키와 값을 둘 다 뽑아올 수도 있습니다"
   ]
  },
  {
   "cell_type": "code",
   "execution_count": null,
   "id": "5b671532",
   "metadata": {},
   "outputs": [],
   "source": [
    "dict : key, value를 한쌍으로 가지는 자료형 - 순서와 상관 없이 key를 사용해 데이터를 찾을 수 있다.\n",
    "사전(dictionary)에서 단어를 찾듯이 값에 이름을(key) 붙여서 값(value)를 저장. 값을 가져올 때도 (key)를 통해 찾는다\n",
    "키에는 값을 하나만 지정할 수 있으며 이런 특성을 따서 키-값 쌍(key-value pair)이라 부릅니다(키-값은 1:1 대응).\n",
    "딕셔너리는 특정 주제에 대해 연관된 값들을 모아둘 때 주로 사용합니다.\n",
    "\n",
    "딕셔너리 만들기\n",
    "\n",
    "딕셔너리는 { }안에 키: 값 형식으로 저장하며 각 키와 값은 ,(콤마)로 구분. \n",
    "딕셔너리 = {키1: 값1, 키2: 값2}   # 키:값 짝이 맞지 않으면 에러 발생\n",
    "A = {'health': 490, 'mana': 334, 'melee': 550, 'armor': 18.72}\n",
    "A              #  {'health': 490, 'mana': 334, 'melee': 550, 'armor': 18.72}\n",
    "\n",
    "딕셔너리를 만들 때 키 이름이 중복되면 가장 마지막에 키 값만 사용(파이썬 3.6 기준)\n",
    "A = {'health': 490, 'health': 800, 'mana': 334, 'melee': 550, 'armor': 18.72}\n",
    "A['health']    # 800 (키가 중복되면 가장 뒤에 있는 값만 사용 - 중복되는 키는 저장되지 안음.)\n",
    "A              # {'health': 800, 'mana': 334, 'melee': 550, 'armor': 18.72} 중복되는 키는 저장되지 않음\n",
    "\n",
    "딕셔너리 키,값의 자료형\n",
    "키는 문자열뿐만 아니라 정수, 실수, 불도 사용할 수 있으며 자료형을 섞어서 사용해도 된다.(리스트, 딕셔너리는 사용할 수 없다)\n",
    "값에는 리스트, 딕셔너리 등을 포함하여 모든 자료형을 사용할 수 있다.\n",
    "x = {100: 'hundred', False: 0, 3.5: [3.5, 3.5]}\n",
    "\n",
    "빈 딕셔너리를 만들 때는 { }만 지정하거나 dict()를 사용. 보통은 { }를 주로 사용합니다.\n",
    "딕셔너리 = {}\n",
    "딕셔너리 = dict()\n",
    "\n",
    "dict()는 키와 값을 연결하거나, 리스트, 튜플, 딕셔너리로 딕셔너리를 만들기\n",
    "\n",
    "dict()에 키=값 형식를 이용하는 방법(키는 자동으로 문자열로 바뀜)\n",
    "딕셔너리 = dict(키1=값1, 키2=값2)\n",
    "A = dict(health=490, mana=334, melee=550, armor=18.72)    # 키=값 형식으로 딕셔너리를 만듬\n",
    "A    # {'health': 490, 'mana': 334, 'melee': 550, 'armor': 18.72}\n",
    "\n",
    "dict()에 zip() 함수를 이용하는 방법\n",
    "딕셔너리 = dict(zip([키1, 키2], [값1, 값2]))\n",
    "키가 들어있는 리스트와 값이 들어있는 리스트를 차례대로 zip에 넣은 뒤 다시 dict에 넣어준다\n",
    "A = dict(zip(['health', 'mana', 'melee', 'armor'], [490, 334, 550, 18.72]))    # zip 함수로 키와 값을 각각 리스트(튜플)를 묶음\n",
    "A       # {'health': 490, 'mana': 334, 'melee': 550, 'armor': 18.72} \n",
    "a = list(range(5))             # 시퀀스 객체 생성\n",
    "A = dict(zip(*[a], *[a]))      # 시퀀스 객체를 언패킹\n",
    "print(A)                       # {0: 0, 1: 1, 2: 2, 3: 3, 4: 4}\n",
    "\n",
    "리스트 안에 (키, 값) 형식의 튜플을 나열하는 방법.\n",
    "딕셔너리 = dict([(키1, 값1), (키2, 값2)])\n",
    "A = dict([('health', 490), ('mana', 334), ('melee', 550), ('armor', 18.72)])   # (키, 값) 형식의 튜플로 딕셔너리를 만듬\n",
    "A    # {'health': 490, 'mana': 334, 'melee': 550, 'armor': 18.72}  \n",
    "\n",
    "dict() 안에서 {}로 딕셔너리를 생성하는 방법.\n",
    "딕셔너리 = dict({키1: 값1, 키2: 값2})\n",
    "A = dict({'health': 490, 'mana': 334, 'melee': 550, 'armor': 18.72})     # dict() 안에서 {}로 딕셔너리를 만듬\n",
    "A    # {'health': 490, 'mana': 334, 'melee': 550, 'armor': 18.72} \n",
    "\n",
    "딕셔너리의 키에 접근할 때는 딕셔너리 뒤에 [ ]로 키를 지정.\n",
    "딕셔너리[키]\n",
    "A['health']      # 490\n",
    "\n",
    "딕셔너리에 키를 지정하지 않으면 딕셔너리 전체를 뜻합니다.\n",
    "A    # {'health': 490, 'mana': 334, 'melee': 550, 'armor': 18.72} 딕셔너리에 키를 지정하지 않으면 딕셔너리 전체를 뜻함\n",
    "\n",
    "딕셔너리의 키에 값 할당하기\n",
    "딕셔너리[키] = 값\n",
    "A['health'] = 2037    # 키 'health'의 값을 2037로 변경\n",
    "A                     # {'health': 2037, 'mana': 1184, 'melee': 550, 'armor': 18.72}\n",
    "\n",
    "특히 딕셔너리에 없는 키에 값을 할당하면 해당 키가 추가되고 값이 할당됩니다.\n",
    "A['mana_regen'] = 3.28  # 키 'mana_regen'을 추가하고 값 3.28 할당\n",
    "A                       # {'health': 2037, 'mana': 1184, 'melee': 550, 'armor': 18.72, 'mana_regen': 3.28}\n",
    "\n",
    "딕셔너리에서 키가 있는지 확인하고 싶다면 in 연산자를 사용하면 됩니다.\n",
    "'키' in 딕셔너리, '키' not in 딕셔너리\n",
    "'health' in A           # True  딕셔너리에 특정 키가 있으면 True\n",
    "'attack_speed' in A     # False 딕셔너리에 특정 키가 없으면 False가 나옵니다\n",
    "\n",
    "참고 | 딕셔너리는 해시(Hash) 기법을 이용해서 데이터를 저장합니다. \n",
    "보통 딕셔너리와 같은 키-값 형태의 자료형을 해시, 해시 맵, 해시테이블 등으로 부르기도 합니다.\n",
    "\n",
    "딕셔너리의 키 개수 구하기\n",
    "len(딕셔너리)\n",
    "len(A)    # 5\n",
    "\n",
    "딕셔너리의 키 목록 구하기\n",
    "딕션어리.keys()\n",
    "A.keys()       # dict_keys(['health', 'mana', 'melee', 'armor']) lux1의 key목록\n"
   ]
  },
  {
   "cell_type": "markdown",
   "id": "551841fe",
   "metadata": {},
   "source": [
    "##### 딕셔너리 응용하기"
   ]
  },
  {
   "cell_type": "code",
   "execution_count": null,
   "id": "42d2d063",
   "metadata": {},
   "outputs": [],
   "source": [
    "딕셔너리 응용하기\n",
    "'Unit 12 딕셔너리 사용하기'에서 딕셔너리의 기본적인 사용 방법을 배웠습니다. \n",
    "이번에는 딕셔너리의 키-값 쌍을 조작하는 메서드와 정보를 조회하는 메서드를 사용해보겠습니다. \n",
    "그리고 for 반복문을 사용하여 키와 값에 접근하는 방법, 딕셔너리 표현식, 중첩 딕셔너리도 함께 대해 알아보겠습니다.\n",
    "\n",
    "25.1 딕셔너리 조작하기\n",
    "그럼 딕셔너리를 조작하는 메서드와 정보를 얻는 메서드부터 알아보겠습니다. \n",
    "파이썬에서 제공하는 딕셔너리 메서드는 여러 가지가 있지만 여기서는 자주 쓰는 메서드를 설명하겠습니다.\n",
    "\n",
    "25.1.1  딕셔너리에 키-값 쌍 추가하기\n",
    "딕셔너리의 중요한 기능 중 하나가 바로 키-값 쌍 추가입니다. 다음과 같이 딕셔너리에 키-값 쌍을 추가하는 메서드는 2가지가 있습니다.\n",
    "\n",
    "setdefault: 키-값 쌍 추가\n",
    "update: 키의 값 수정, 키가 없으면 키-값 쌍 추가\n",
    "25.1.2  딕셔너리에 키와 기본값 저장하기\n",
    "setdefault(키)는 딕셔너리에 키-값 쌍을 추가합니다. setdefault에 키만 지정하면 값에 None을 저장합니다.\n",
    " 다음은 키 'e'를 추가하고 값에 None을 저장합니다.\n",
    "\n",
    ">>> x = {'a': 10, 'b': 20, 'c': 30, 'd': 40}\n",
    ">>> x.setdefault('e')\n",
    ">>> x\n",
    "{'a': 10, 'b': 20, 'c': 30, 'd': 40, 'e': None}\n",
    "setdefault(키, 기본값)처럼 키와 기본값을 지정하면 값에 기본값을 저장한 뒤 해당 값을 반환합니다.\n",
    " 다음은 키 'f'를 추가하고 값에 100을 저장한 뒤 100을 반환합니다.\n",
    "\n",
    ">>> x.setdefault('f', 100)\n",
    "100\n",
    ">>> x\n",
    "{'a': 10, 'b': 20, 'c': 30, 'd': 40, 'e': None, 'f': 100}\n",
    "25.1.3  딕셔너리에서 키의 값 수정하기\n",
    "키-값 쌍을 추가했으면 값을 수정하고 싶을 수도 있겠죠? 이때는 update 메서드를 사용합니다.\n",
    "\n",
    "update(키=값)은 이름 그대로 딕셔너리에서 키의 값을 수정합니다.\n",
    " 예를 들어 딕셔너리가 x = {'a': 10}이라면 x.update(a=90)과 같이 키에서 작은따옴표 또는 큰따옴표를 빼고 키 이름과 값을 지정합니다.\n",
    "\n",
    "그럼 키 'a'의 값을 90으로 수정해보겠습니다.\n",
    "\n",
    ">>> x = {'a': 10, 'b': 20, 'c': 30, 'd': 40}\n",
    ">>> x.update(a=90)\n",
    ">>> x\n",
    "{'a': 90, 'b': 20, 'c': 30, 'd': 40}\n",
    "만약 딕셔너리에 키가 없으면 키-값 쌍을 추가합니다. \n",
    "딕셔너리 x에는 키 'e'가 없으므로 x.update(e=50)을 실행하면 'e': 50을 추가합니다.\n",
    "\n",
    ">>> x.update(e=50)\n",
    ">>> x\n",
    "{'a': 90, 'b': 20, 'c': 30, 'd': 40, 'e': 50}\n",
    "update는 키-값 쌍 여러 개를 콤마로 구분해서 넣어주면 값을 한꺼번에 수정할 수 있습니다.\n",
    " 이때도 키가 있으면 해당 키의 값을 수정하고 없으면 키-값 쌍을 추가합니다. 다음은 키 'a'의 값을 900으로 수정하고, 'f': 60을 추가합니다.\n",
    "\n",
    ">>> x.update(a=900, f=60)\n",
    ">>> x\n",
    "{'a': 900, 'b': 20, 'c': 30, 'd': 40, 'e': 50, 'f': 60}\n",
    "update(키=값)은 키가 문자열일 때만 사용할 수 있습니다.\n",
    " 만약 키가 숫자일 경우에는 update(딕셔너리)처럼 딕셔너리를 넣어서 값을 수정할 수 있습니다.\n",
    "\n",
    ">>> y = {1: 'one', 2: 'two'}\n",
    ">>> y.update({1: 'ONE', 3: 'THREE'})\n",
    ">>> y\n",
    "{1: 'ONE', 2: 'two', 3: 'THREE'}\n",
    "다른 방법으로는 리스트와 튜플을 이용하는 방법도 있습니다. update(리스트), update(튜플)은 리스트와 튜플로 값을 수정합니다. \n",
    "여기서 리스트는 [[키1, 값1], [키2, 값2]] 형식으로 키와 값을 리스트로 만들고 이 리스트를 다시 리스트 안에 넣어서 키-값 쌍을 나열해줍니다(튜플도 같은 형식).\n",
    "\n",
    ">>> y.update([[2, 'TWO'], [4, 'FOUR']])\n",
    ">>> y\n",
    "{1: 'ONE', 2: 'TWO', 3: 'THREE', 4: 'FOUR'}\n",
    "특히 update(반복가능한객체)는 키-값 쌍으로 된 반복 가능한 객체로 값을 수정합니다.\n",
    " 즉, 다음과 같이 키 리스트와 값 리스트를 묶은 zip 객체로 값을 수정할 수 있습니다.\n",
    "\n",
    ">>> y.update(zip([1, 2], ['one', 'two']))\n",
    ">>> y\n",
    "{1: 'one', 2: 'two', 3: 'THREE', 4: 'FOUR'}\n",
    "참고 | setdefault와 update의 차이\n",
    "setdefault는 키-값 쌍 추가만 할 수 있고, 이미 들어있는 키의 값은 수정할 수 없습니다.\n",
    " 하지만 update는 키-값 쌍 추가와 값 수정이 모두 가능합니다.\n",
    "  다음과 같이 setdefault로 이미 들어있는 키 'a'를 90으로 저장해도 'a'의 값은 바뀌지 않습니다.\n",
    "\n",
    ">>> x = {'a': 10, 'b': 20, 'c': 30, 'd': 40}\n",
    ">>> x.setdefault('a', 90)\n",
    "10\n",
    ">>> x\n",
    "{'a': 10, 'b': 20, 'c': 30, 'd': 40}\n",
    "25.1.4  딕셔너리에서 키-값 쌍 삭제하기\n",
    "이번에는 딕셔너리에서 키-값 쌍을 삭제하는 메서드를 사용해보겠습니다.\n",
    "\n",
    "pop(키)는 딕셔너리에서 특정 키-값 쌍을 삭제한 뒤 삭제한 값을 반환합니다.\n",
    " 다음은 딕셔너리 x에서 키 'a'를 삭제한 뒤 10을 반환합니다.\n",
    "\n",
    ">>> x = {'a': 10, 'b': 20, 'c': 30, 'd': 40}\n",
    ">>> x.pop('a')\n",
    "10\n",
    ">>> x\n",
    "{'b': 20, 'c': 30, 'd': 40}\n",
    "pop(키, 기본값)처럼 기본값을 지정하면 딕셔너리에 키가 있을 때는 해당 키-값 쌍을 삭제한 뒤 삭제한 값을 반환하지만 키가 없을 때는 기본값만 반환합니다.\n",
    " 딕셔너리 x에는 키 'z'가 없으므로 기본값으로 지정한 0을 반환합니다.\n",
    "\n",
    ">>> x.pop('z', 0)\n",
    "0\n",
    "pop 대신 del로 특정 키-값 쌍을 삭제할 수도 있습니다. 이때는 [ ]에 키를 지정하여 del을 사용합니다. 다음은 딕셔너리 x의 키 'a'를 삭제합니다.\n",
    "\n",
    ">>> x = {'a': 10, 'b': 20, 'c': 30, 'd': 40}\n",
    ">>> del x['a']\n",
    ">>> x\n",
    "{'b': 20, 'c': 30, 'd': 40}\n",
    "25.1.5  딕셔너리에서 임의의 키-값 쌍 삭제하기\n",
    "popitem()은 딕셔너리에서 임의의 키-값 쌍을 삭제한 뒤 삭제한 키-값 쌍을 튜플로 반환합니다.\n",
    " 이 메서드는 파이썬 버전에 따라 동작이 달라지는데, 파이썬 3.6 이상에서는 마지막 키-값 쌍을 삭제하며 3.5 이하에서는 임의의 키-값 쌍을 삭제합니다.\n",
    "\n",
    "이 책에서는 파이썬 3.6 이상을 기준으로 설명하겠습니다. \n",
    "다음은 딕셔너리 x에서 마지막 키-값 쌍인 'd': 40을 삭제합니다.\n",
    "\n",
    "파이썬 3.6\n",
    ">>> x = {'a': 10, 'b': 20, 'c': 30, 'd': 40}\n",
    ">>> x.popitem()\n",
    "('d', 40)\n",
    ">>> x\n",
    "{'a': 10, 'b': 20, 'c': 30}\n",
    "참고로 파이썬 3.5와 그 이하 버전에서 popitem 메서드를 사용하면 임의의 키-값을 삭제하므로 매번 삭제하는 키-값 쌍이 달라집니다.\n",
    "\n",
    "파이썬 3.5\n",
    ">>> x = {'a': 10, 'b': 20, 'c': 30, 'd': 40}\n",
    ">>> x.popitem()    # 파이썬 3.5 이하에서는 매번 삭제하는 키-값 쌍이 달라짐\n",
    "('a', 10)\n",
    ">>> x\n",
    "{'b': 20, 'c': 30, 'd': 40}\n",
    "25.1.6  딕셔너리의 모든 키-값 쌍을 삭제하기\n",
    "clear()는 딕셔너리의 모든 키-값 쌍을 삭제합니다. 다음은 딕셔너리 x의 모든 키-값 쌍을 삭제하여 빈 딕셔너리 {}가 됩니다.\n",
    "\n",
    ">>> x = {'a': 10, 'b': 20, 'c': 30, 'd': 40}\n",
    ">>> x.clear()\n",
    ">>> x\n",
    "{}\n",
    "25.1.7  딕셔너리에서 키의 값을 가져오기\n",
    "이번에는 딕셔너리에서 키의 값을 가져오거나 저장하는 메서드를 사용해보겠습니다.\n",
    "\n",
    "get(키)는 딕셔너리에서 특정 키의 값을 가져옵니다. 다음은 딕셔너리 x에서 키 'a'의 값을 가져옵니다.\n",
    "\n",
    ">>> x = {'a': 10, 'b': 20, 'c': 30, 'd': 40}\n",
    ">>> x.get('a')\n",
    "10\n",
    "get(키, 기본값)처럼 기본값을 지정하면 딕셔너리에 키가 있을 때는 해당 키의 값을 반환하지만 키가 없을 때는 기본값을 반환합니다.\n",
    " 딕셔너리 x에는 키 'z'가 없으므로 기본값으로 지정한 0을 반환합니다.\n",
    "\n",
    ">>> x.get('z', 0)\n",
    "0\n",
    "25.1.8  딕셔너리에서 키-값 쌍을 모두 가져오기\n",
    "딕셔너리는 키와 값을 가져오는 다양한 메서드를 제공합니다.\n",
    "\n",
    "items: 키-값 쌍을 모두 가져옴\n",
    "keys: 키를 모두 가져옴\n",
    "values: 값을 모두 가져옴\n",
    "다음과 같이 items()는 딕셔너리의 키-값 쌍을 모두 가져옵니다.\n",
    "\n",
    ">>> x = {'a': 10, 'b': 20, 'c': 30, 'd': 40}\n",
    ">>> x.items()\n",
    "dict_items([('a', 10), ('b', 20), ('c', 30), ('d', 40)])\n",
    "keys()는 키를 모두 가져옵니다.\n",
    "\n",
    ">>> x.keys()\n",
    "dict_keys(['a', 'b', 'c', 'd'])\n",
    "values()는 값을 모두 가져옵니다.\n",
    "\n",
    ">>> x.values()\n",
    "dict_values([10, 20, 30, 40])\n",
    "이 메서드들은 보통 for 반복문과 조합해서 사용하는데 자세한 내용은 뒤에서 설명하겠습니다.\n",
    "\n",
    "25.1.9  리스트와 튜플로 딕셔너리 만들기\n",
    "이번에는 리스트(튜플)로 딕셔너리를 만들어보겠습니다.\n",
    "\n",
    "먼저 keys = ['a', 'b', 'c', 'd']처럼 키가 들어있는 리스트를 준비합니다(튜플도 됩니다). \n",
    "그리고 dict.fromkeys에 키가 들어있는 리스트를 넣으면 딕셔너리를 생성합니다.\n",
    "\n",
    "dict.fromkeys(키리스트)는 키 리스트로 딕셔너리를 생성하며 값은 모두 None으로 저장합니다.\n",
    "\n",
    ">>> keys = ['a', 'b', 'c', 'd']\n",
    ">>> x = dict.fromkeys(keys)\n",
    ">>> x\n",
    "{'a': None, 'b': None, 'c': None, 'd': None}\n",
    "dict.fromkeys(키리스트, 값)처럼 키 리스트와 값을 지정하면 해당 값이 키의 값으로 저장됩니다.\n",
    "\n",
    ">>> y = dict.fromkeys(keys, 100)\n",
    ">>> y\n",
    "{'a': 100, 'b': 100, 'c': 100, 'd': 100}\n",
    "참고 | defaultdict 사용하기\n",
    "지금까지 사용한 딕셔너리(dict)는 없는 키에 접근했을 경우 에러가 발생합니다.\n",
    "\n",
    ">>> x = {'a': 0, 'b': 0, 'c': 0, 'd': 0}\n",
    ">>> x['z']    # 키 'z'는 없음\n",
    "Traceback (most recent call last):\n",
    "  File \"<pyshell#5>\", line 1, in <module>\n",
    "    x['z']\n",
    "KeyError: 'z'\n",
    "그러면 에러가 발생하지 않게 하려면 어떻게 해야 할까요? 이때는 defaultdict를 사용합니다.\n",
    "\n",
    "defaultdict는 없는 키에 접근하더라도 에러가 발생하지 않으며 기본값을 반환합니다.\n",
    " defaultdict는 collections 모듈에 들어있으며 기본값 생성 함수를 넣습니다.\n",
    "\n",
    "defaultdict(기본값생성함수)\n",
    "\n",
    "다음은 기본값이 0인 defaultdict 딕셔너리를 만듭니다.\n",
    "\n",
    ">>> from collections import defaultdict    # collections 모듈에서 defaultdict를 가져옴\n",
    ">>> y = defaultdict(int)    # int로 기본값 생성\n",
    "딕셔너리 y에는 키 'z'가 없지만 y['z']와 같이 키의 값을 가져와보면 0이 나옵니다. \n",
    "왜냐하면 기본값을 0으로 설정했기 때문입니다.\n",
    "\n",
    ">>> y['z']\n",
    "0\n",
    "defaultdict(int)처럼 int를 넣었는데 기본값이 왜 0인지 의문이 생길 수도 있습니다. \n",
    "int는 실수나 문자열을 정수로 변환하지만, 다음과 같이 int에 아무것도 넣지 않고 호출하면 0을 반환합니다.\n",
    "\n",
    ">>> int()\n",
    "0\n",
    "defaultdict에는 특정 값을 반환하는 함수를 넣어주면 되는데,\n",
    " defaultdict(int)는 기본값 생성 함수로 int를 지정하여 0이 나오도록 만든 것입니다.\n",
    "\n",
    "0이 아닌 다른 값을 기본값으로 설정하고 싶다면 다음과 같이 기본값 생성 함수를 만들어서 넣어주면 됩니다.\n",
    "\n",
    ">>> z = defaultdict(lambda: 'python')\n",
    ">>> z['a']\n",
    "'python'\n",
    ">>> z[0]\n",
    "'python'\n",
    "여기서는 문자열 'python'을 반환하는 lambda: 'python'을 넣어서 'python'이 기본값이 되도록 설정했습니다.\n",
    " lambda는 'Unit 32 람다 표현식 사용하기'에서 자세히 설명하겠습니다."
   ]
  },
  {
   "cell_type": "code",
   "execution_count": null,
   "id": "12bfbac5",
   "metadata": {},
   "outputs": [],
   "source": [
    "이번에는 딕셔너리와 for 반복문을 사용하여 간단하게 모든 키-값 쌍을 출력해보겠습니다.\n",
    "\n",
    ">>> x = {'a': 10, 'b': 20, 'c': 30, 'd': 40}\n",
    ">>> for i in x:\n",
    "...     print(i, end=' ')\n",
    "...\n",
    "a b c d\n",
    "for i in x:처럼 for 반복문에 딕셔너리를 지정한 뒤에 print로 변수 i를 출력해보면 값은 출력되지 않고 키만 출력됩니다.\n",
    " 그럼 키와 값을 모두 출력하려면 어떻게 해야 할까요?\n",
    "\n",
    "이때는 for in 뒤에 딕셔너리를 지정하고 items를 사용해야 합니다.\n",
    "\n",
    "for 키, 값 in 딕셔너리.items():\n",
    "     반복할 코드\n",
    "다음은 for로 리스트 a의 모든 키와 값을 출력합니다.\n",
    "\n",
    ">>> x = {'a': 10, 'b': 20, 'c': 30, 'd': 40}\n",
    ">>> for key, value in x.items():\n",
    "...     print(key, value)\n",
    "...\n",
    "a 10\n",
    "b 20\n",
    "c 30\n",
    "d 40\n",
    "for key, value in x.items():는 딕셔너리 x에서 키-값 쌍을 꺼내서 키는 key에 값은 value에 저장하고, 꺼낼 때마다 코드를 반복합니다. \n",
    "따라서 print로 key와 value를 출력하면 키-값 쌍을 모두 출력할 수 있습니다.\n",
    "\n",
    "물론 in 다음에 딕셔너리를 직접 지정하고 items를 사용해도 상관 없습니다.\n",
    "\n",
    "for key, value in {'a': 10, 'b': 20, 'c': 30, 'd': 40}.items():\n",
    "    print(key, value)\n",
    "25.2.1  딕셔너리의 키만 출력하기\n",
    "지금까지 items로 키와 값을 함께 가져왔는데, 키만 가져오거나 값만 가져오면서 반복할 수도 있습니다.\n",
    "\n",
    "items: 키-값 쌍을 모두 가져옴\n",
    "keys: 키를 모두 가져옴\n",
    "values: 값을 모두 가져옴\n",
    "먼저 for 반복문에서 keys로 키를 가져오면서 반복해보겠습니다.\n",
    "\n",
    ">>> x = {'a': 10, 'b': 20, 'c': 30, 'd': 40}\n",
    ">>> for key in x.keys():\n",
    "...     print(key, end=' ')\n",
    "...\n",
    "a b c d\n",
    "딕셔너리의 키만 출력되었죠?\n",
    "\n",
    "25.2.2  딕셔너리의 값만 출력하기\n",
    "for 반복문에서 values를 사용하면 값만 가져오면서 반복할 수 있습니다.\n",
    "\n",
    ">>> x = {'a': 10, 'b': 20, 'c': 30, 'd': 40}\n",
    ">>> for value in x.values():\n",
    "...     print(value, end=' ')\n",
    "...\n",
    "10 20 30 40\n",
    "이처럼 for 반복문에서 keys를 사용하면 키만 꺼내오면서 반복하고, values를 사용하면 값만 꺼내오면서 반복합니다."
   ]
  },
  {
   "cell_type": "code",
   "execution_count": null,
   "id": "968a568a",
   "metadata": {},
   "outputs": [],
   "source": [
    "리스트와 마찬가지로 딕셔너리도 for 반복문과 if 조건문을 사용하여 딕셔너리를 생성할 수 있습니다.\n",
    " 다음과 같이 딕셔너리 안에 키와 값, for 반복문을 지정하면 됩니다.\n",
    "\n",
    "{키: 값 for 키, 값 in 딕셔너리}\n",
    "dict({키: 값 for 키, 값 in 딕셔너리})\n",
    ">>> keys = ['a', 'b', 'c', 'd']\n",
    ">>> x = {key: value for key, value in dict.fromkeys(keys).items()}\n",
    ">>> x\n",
    "{'a': None, 'b': None, 'c': None, 'd': None}\n",
    "딕셔너리 표현식을 사용할 때는 for in 다음에 딕셔너리를 지정하고 items를 사용합니다. \n",
    "그리고 키, 값을 가져온 뒤에는 키: 값 형식으로 변수나 값을 배치하여 딕셔너리를 생성하면 됩니다.\n",
    "\n",
    "x = {key: value for key, value in dict.fromkeys(keys).items()}\n",
    "즉, dict.fromkeys(keys).items()로 키-값 쌍을 구한 뒤 키는 변수 key, 값은 변수 value에 꺼내고 최종적으로 key와 value를 이용하여 딕셔너리를 만듭니다.\n",
    "\n",
    "▼ 그림 25-1 딕셔너리 표현식의 동작 순서\n",
    "\n",
    "물론 다음과 같이 keys로 키만 가져온 뒤 특정 값을 넣거나, values로 값을 가져온 뒤 값을 키로 사용할 수도 있습니다.\n",
    "\n",
    ">>> {key: 0 for key in dict.fromkeys(['a', 'b', 'c', 'd']).keys()}               # 키만 가져옴\n",
    "{'a': 0, 'b': 0, 'c': 0, 'd': 0}\n",
    ">>> {value: 0 for value in {'a': 10, 'b': 20, 'c': 30, 'd': 40}.values()}        # 값을 키로 사용\n",
    "{10: 0, 20: 0, 30: 0, 40: 0}\n",
    "또는, 키와 값의 자리를 바꾸는 등 여러 가지로 응용할 수 있습니다.\n",
    "\n",
    ">>> {value: key for key, value in {'a': 10, 'b': 20, 'c': 30, 'd': 40}.items()}  # 키-값 자리를 바꿈\n",
    "{10: 'a', 20: 'b', 30: 'c', 40: 'd'}\n",
    "25.3.1  딕셔너리 표현식에서 if 조건문 사용하기\n",
    "그런데 딕셔너리 표현식을 사용해보면 복잡하기만 하고 dict.fromkeys 함수만 사용한 결과와 큰 차이점이 없습니다.\n",
    " 대신 딕셔너리 표현식은 딕셔너리에서 특정 값을 찾아서 삭제할 때 유용합니다.\n",
    "\n",
    "딕셔너리는 특정 키를 삭제하는 pop 메서드만 제공할 뿐 특정 값을 삭제하는 메서드는 제공하지 않습니다. \n",
    "그러면 특정 값을 찾아서 키-값 쌍을 삭제하려면 어떻게 해야 할까요? 간단하게 for 반복문으로 반복하면서 del로 삭제하는 방식을 떠올릴 수 있습니다.\n",
    "\n",
    "dict_del_by_value_error.py\n",
    "x = {'a': 10, 'b': 20, 'c': 30, 'd': 40}\n",
    " \n",
    "for key, value in x.items():\n",
    "    if value == 20:    # 값이 20이면\n",
    "        del x[key]     # 키-값 쌍 삭제\n",
    " \n",
    "print(x)\n",
    "실행 결과\n",
    "Traceback (most recent call last):\n",
    "  File \"C:\\project\\dict_del_by_value_error.py\", line 3, in <module>\n",
    "    for key, value in x.items():\n",
    "RuntimeError: dictionary changed size during iteration \n",
    "별 문제 없이 잘 삭제될 것 같지만 반복 도중에 딕셔너리의 크기가 바뀌었다는 에러가 발생합니다. \n",
    "즉, 딕셔너리는 for 반복문으로 반복하면서 키-값 쌍을 삭제하면 안 됩니다.\n",
    "\n",
    "이때는 딕셔너리 표현식에서 if 조건문을 사용하여 삭제할 값을 제외하면 됩니다.\n",
    "\n",
    "{키: 값 for 키, 값 in 딕셔너리 if 조건식}\n",
    "dict({키: 값 for 키, 값 in 딕셔너리 if 조건식})\n",
    ">>> x = {'a': 10, 'b': 20, 'c': 30, 'd': 40}\n",
    ">>> x = {key: value for key, value in x.items() if value != 20}\n",
    ">>> x\n",
    "{'a': 10, 'c': 30, 'd': 40}\n",
    "딕셔너리 표현식에서 if value != 20과 같이 if 조건문을 지정하면 값이 20이 아닌 키-값 쌍으로 다시 딕셔너리를 만듭니다. \n",
    "직접 키-값 쌍을 삭제하는 방식이 아니라 삭제할 키-값 쌍을 제외하고 남은 키-값 쌍으로 딕셔너리를 새로 만드는 것이죠."
   ]
  },
  {
   "cell_type": "markdown",
   "id": "573798d6",
   "metadata": {},
   "source": [
    "##### 딕셔너리 안에서 딕셔너리를 사용하는 중첩 딕셔너리"
   ]
  },
  {
   "cell_type": "code",
   "execution_count": null,
   "id": "93a78bbc",
   "metadata": {},
   "outputs": [],
   "source": [
    "이번에는 딕셔너리 안에서 딕셔너리를 사용하는 중첩 딕셔너리를 알아보겠습니다. \n",
    "다음과 같이 딕셔너리는 값 부분에 다시 딕셔너리가 계속 들어갈 수 있습니다.\n",
    "\n",
    "딕셔너리 = {키1: {키A: 값A}, 키2: {키B: 값B}}\n",
    "예를 들어 지구형 행성의 반지름, 질량, 공전주기를 딕셔너리로 표현해보겠습니다.\n",
    "\n",
    "dict_dict.py\n",
    "terrestrial_planet = {\n",
    "    'Mercury': {\n",
    "        'mean_radius': 2439.7,\n",
    "        'mass': 3.3022E+23,\n",
    "        'orbital_period': 87.969\n",
    "    },\n",
    "    'Venus': {\n",
    "        'mean_radius': 6051.8,\n",
    "        'mass': 4.8676E+24,\n",
    "        'orbital_period': 224.70069,\n",
    "    },\n",
    "    'Earth': {\n",
    "        'mean_radius': 6371.0,\n",
    "        'mass': 5.97219E+24,\n",
    "        'orbital_period': 365.25641,\n",
    "    },\n",
    "    'Mars': {\n",
    "        'mean_radius': 3389.5,\n",
    "        'mass': 6.4185E+23,\n",
    "        'orbital_period': 686.9600,\n",
    "    }\n",
    "}\n",
    " \n",
    "print(terrestrial_planet['Venus']['mean_radius'])    # 6051.8\n",
    "실행 결과\n",
    "6051.8\n",
    "딕셔너리 terrestrial_planet에 키 'Mercury', 'Venus', 'Earth', 'Mars'가 들어있고, 이 키들은 다시 값 부분에 딕셔너리를 가지고 있습니다. \n",
    "즉, 중첩 딕셔너리는 계층형 데이터를 저장할 때 유용합니다.\n",
    "\n",
    "딕셔너리 안에 들어있는 딕셔너리에 접근하려면 딕셔너리 뒤에 [ ](대괄호)를 단계만큼 붙이고 키를 지정해주면 됩니다.\n",
    "\n",
    "딕셔너리[키][키]\n",
    "딕셔너리[키][키] = 값\n",
    "여기서는 딕셔너리가 두 단계로 구성되어 있으므로 대괄호를 두 번 사용합니다. \n",
    "그래서 금성(Venus)의 반지름(mean radius)를 출력하려면 다음과 같이 먼저 'Venus'를 찾아가고 다시 'mean_radius'의 값을 가져오면 됩니다.\n",
    "\n",
    "print(terrestrial_planet['Venus']['mean_radius'])    # 6051.8"
   ]
  },
  {
   "cell_type": "code",
   "execution_count": null,
   "id": "5193b08a",
   "metadata": {},
   "outputs": [],
   "source": [
    "리스트와 마찬가지로 딕셔너리도 할당과 복사는 큰 차이점이 있습니다. 먼저 딕셔너리를 만든 뒤 다른 변수에 할당합니다.\n",
    "\n",
    ">>> x = {'a': 0, 'b': 0, 'c': 0, 'd': 0}\n",
    ">>> y = x\n",
    "y = x와 같이 딕셔너리를 다른 변수에 할당하면 딕셔너리는 두 개가 될 것 같지만 실제로는 딕셔너리가 한 개입니다.\n",
    "\n",
    "x와 y를 is 연산자로 비교해보면 True가 나옵니다. 즉, 변수 이름만 다를 뿐 딕셔너리 x와 y는 같은 객체입니다.\n",
    "\n",
    ">>> x is y\n",
    "True\n",
    "x와 y는 같으므로 y['a'] = 99와 같이 키 'a'의 값을 변경하면 딕셔너리 x와 y에 모두 반영됩니다.\n",
    "\n",
    ">>> y['a'] = 99\n",
    ">>> x\n",
    "{'a': 99, 'b': 0, 'c': 0, 'd': 0}\n",
    ">>> y\n",
    "{'a': 99, 'b': 0, 'c': 0, 'd': 0}\n",
    "딕셔너리 x와 y를 완전히 두 개로 만들려면 copy 메서드로 모든 키-값 쌍을 복사해야 합니다.\n",
    "\n",
    ">>> x = {'a': 0, 'b': 0, 'c': 0, 'd': 0}\n",
    ">>> y = x.copy()\n",
    "이제 x와 y를 is 연산자로 비교해보면 False가 나옵니다. 즉, 두 딕셔너리는 다른 객체입니다.\n",
    " 그러나 복사한 키-값 쌍은 같으므로 ==로 비교하면 True가 나옵니다.\n",
    "\n",
    ">>> x is y\n",
    "False\n",
    ">>> x == y\n",
    "True\n",
    "딕셔너리 x와 y는 별개이므로 한쪽의 값을 변경해도 다른 딕셔너리에 영향을 미치지 않습니다. \n",
    "다음과 같이 딕셔너리 y에서 키 'a'의 값을 변경하면 딕셔너리 x는 그대로이고 딕셔너리 y만 바뀝니다.\n",
    "\n",
    ">>> y['a'] = 99\n",
    ">>> x\n",
    "{'a': 0, 'b': 0, 'c': 0, 'd': 0}\n",
    ">>> y\n",
    "{'a': 99, 'b': 0, 'c': 0, 'd': 0}\n",
    "25.5.1  중첩 딕셔너리의 할당과 복사 알아보기\n",
    "그럼 딕셔너리 안에 딕셔너리가 들어있는 중첩 딕셔너리도 copy 메서드로 복사하면 될까요? \n",
    "다음과 같이 중첩 딕셔너리를 만든 뒤 copy 메서드로 복사합니다.\n",
    "\n",
    ">>> x = {'a': {'python': '2.7'}, 'b': {'python': '3.6'}}\n",
    ">>> y = x.copy()\n",
    "이제 y['a']['python'] = '2.7.15'와 같이 y의 값을 변경해보면 x와 y에 모두 반영됩니다.\n",
    "\n",
    ">>> y['a']['python'] = '2.7.15'\n",
    ">>> x\n",
    "{'a': {'python': '2.7.15'}, 'b': {'python': '3.6'}}\n",
    ">>> y\n",
    "{'a': {'python': '2.7.15'}, 'b': {'python': '3.6'}}\n",
    "중첩 딕셔너리를 완전히 복사하려면 copy 메서드 대신 copy 모듈의 deepcopy 함수를 사용해야 합니다.\n",
    "\n",
    ">>> x = {'a': {'python': '2.7'}, 'b': {'python': '3.6'}}\n",
    ">>> import copy             # copy 모듈을 가져옴\n",
    ">>> y = copy.deepcopy(x)    # copy.deepcopy 함수를 사용하여 깊은 복사\n",
    ">>> y['a']['python'] = '2.7.15'\n",
    ">>> x\n",
    "{'a': {'python': '2.7'}, 'b': {'python': '3.6'}}\n",
    ">>> y\n",
    "{'a': {'python': '2.7.15'}, 'b': {'python': '3.6'}}\n",
    "이제 딕셔너리 y의 값을 변경해도 딕셔너리 x에는 영향을 미치지 않습니다. \n",
    "copy.deepcopy 함수는 중첩된 딕셔너리에 들어있는 모든 딕셔너리를 복사하는 깊은 복사(deep copy)를 해줍니다.\n",
    "\n",
    "지금까지 딕셔너리의 다양한 메서드와 응용 방법을 배웠는데, 내용이 다소 어려웠습니다. \n",
    "딕셔너리의 메서드는 모두 외우지 않아도 되며 파이썬을 사용하다 보면 자연스럽게 익히게 됩니다. \n",
    "여기서는 딕셔너리에 반복문을 사용하는 방법이 중요합니다. 다른 부분은 필요할 때 다시 돌아와서 찾아보세요."
   ]
  },
  {
   "cell_type": "code",
   "execution_count": null,
   "id": "39d9b2e4",
   "metadata": {},
   "outputs": [],
   "source": []
  },
  {
   "cell_type": "markdown",
   "id": "dbd1e81e",
   "metadata": {},
   "source": [
    "##### set"
   ]
  },
  {
   "cell_type": "code",
   "execution_count": null,
   "id": "0204acc4",
   "metadata": {},
   "outputs": [],
   "source": [
    "set : 집합형태의 변수로 - 순서와 중복이 없는 형태\n",
    "세트 사용하기\n",
    "파이썬은 집합을 표현하는 세트(set)라는 자료형을 제공합니다. \n",
    "집합을 영어로 하면 세트인데 수학에서 배우는 그 집합이 맞습니다. \n",
    "따라서 세트는 합집합, 교집합, 차집합 등의 연산이 가능합니다.\n",
    "\n",
    "이번 유닛에서는 세트를 만드는 방법과 세트 메서드 사용 방법을 알아보겠습니다.\n",
    "\n",
    "26.1 세트 만들기\n",
    "세트는 { }(중괄호) 안에 값을 저장하며 각 값은 ,(콤마)로 구분해줍니다.\n",
    "\n",
    "세트 = {값1, 값2, 값3}\n",
    "간단하게 과일이 들어있는 세트를 만들어보겠습니다.\n",
    "\n",
    ">>> fruits = {'strawberry', 'grape', 'orange', 'pineapple', 'cherry'}\n",
    ">>> fruits\n",
    "{'pineapple', 'orange', 'grape', 'strawberry', 'cherry'}\n",
    "에러\n",
    "SyntaxError: invalid syntax: { }의 짝이 맞지 않을 때, 문자열의 ' ' 짝이 맞지 않을 때, 각 요소를 구분할 때 ,를 넣지 않아서 발생하는 구문 에러입니다. { }, ' ' 짝이 맞는지, ,를 빠뜨리지 않았는지 확인해주세요.\n",
    "\n",
    "세트는 요소의 순서가 정해져 있지 않습니다(unordered). 따라서 세트를 출력해보면 매번 요소의 순서가 다르게 나옵니다.\n",
    "\n",
    "또한, 세트에 들어가는 요소는 중복될 수 없습니다. 다음과 같이 세트에 'orange'를 두 개 넣어도 실제로는 한 개만 들어갑니다.\n",
    "\n",
    ">>> fruits = {'orange', 'orange', 'cherry'}\n",
    ">>> fruits\n",
    "{'cherry', 'orange'}\n",
    "특히 세트는 리스트, 튜플, 딕셔너리와는 달리 [ ](대괄호)로 특정 요소만 출력할 수는 없습니다.\n",
    "\n",
    ">>> fruits = {'strawberry', 'grape', 'orange', 'pineapple', 'cherry'}\n",
    ">>> print(fruits[0])\n",
    "Traceback (most recent call last):\n",
    "  File \"<pyshell#42>\", line 1, in <module>\n",
    "    print(fruits[0])\n",
    "TypeError: 'set' object does not support indexing\n",
    ">>> fruits['strawberry']\n",
    "Traceback (most recent call last):\n",
    "  File \"<pyshell#43>\", line 1, in <module>\n",
    "    fruits['strawberry']\n",
    "TypeError: 'set' object is not subscriptable\n",
    "26.1.1  세트에 특정 값이 있는지 확인하기\n",
    "그럼 세트에 특정 값이 있는지 확인하려며 어떻게 해야 할까요? 지금까지 리스트, 튜플, 딕셔너리에 사용했던 in 연산자를 사용하면 됩니다.\n",
    "\n",
    "값 in 세트\n",
    ">>> fruits = {'strawberry', 'grape', 'orange', 'pineapple', 'cherry'}\n",
    ">>> 'orange' in fruits\n",
    "True\n",
    ">>> 'peach' in fruits\n",
    "False\n",
    "이처럼 세트에 특정 값이 있으면 True, 없으면 False가 나옵니다.\n",
    " 세트 fruits에 'orange'가 있으므로 True, 'peach'가 없으므로 False가 나왔습니다.\n",
    "\n",
    "반대로 in 앞에 not을 붙이면 특정 값이 없는지 확인합니다.\n",
    "\n",
    "값 not in 세트\n",
    ">>> 'peach' not in fruits\n",
    "True\n",
    ">>> 'orange' not in fruits\n",
    "False\n",
    "이렇게 not in은 특정 값이 없으면 True, 있으면 False가 나옵니다.\n",
    "\n",
    "26.1.2  set를 사용하여 세트 만들기\n",
    "이번에는 set를 사용하여 세트를 만들어보겠습니다.\n",
    "\n",
    "set(반복가능한객체)\n",
    "set에는 반복 가능한 객체(iterable)를 넣습니다(반복 가능한 객체는 '?39.1 반복 가능한 객체 알아보기'에서 설명).\n",
    " 여기서는 간단하게 문자열과 range로 세트를 만들어보겠습니다.\n",
    "\n",
    "set('apple')과 같이 영문 문자열을 세트로 만들면 'apple'에서 유일한 문자인 'a', 'p', 'l', 'e'만 세트로 만들어집니다. \n",
    "즉, 중복된 문자는 포함되지 않습니다.\n",
    "\n",
    ">>> a = set('apple')    # 유일한 문자만 세트로 만듦\n",
    ">>> a\n",
    "{'e', 'l', 'a', 'p'}\n",
    "그리고 set(range(5))와 같이 숫자를 만들어내는 range를 사용하면 0부터 4까지 숫자를 가진 세트를 만들 수 있습니다.\n",
    "\n",
    ">>> b = set(range(5))\n",
    ">>> b\n",
    "{0, 1, 2, 3, 4}\n",
    "빈 세트는 c = set()과 같이 set에 아무것도 지정하지 않으면 됩니다.\n",
    "\n",
    ">>> c = set()\n",
    ">>> c\n",
    "set()\n",
    "단, 세트가 { }를 사용한다고 해서 c = {}와 같이 만들면 빈 딕셔너리가 만들어지므로 주의해야 합니다.\n",
    " 다음과 같이 type을 사용하면 자료형의 종류를 알 수 있습니다.\n",
    "\n",
    "type(객체)\n",
    ">>> c = {}\n",
    ">>> type(c)\n",
    "<class 'dict'>\n",
    ">>> c = set()\n",
    ">>> type(c)\n",
    "<class 'set'>\n",
    "참고 | 한글 문자열을 세트로 만들기\n",
    "set을 사용하여 한글 문자열을 세트로 만들면 다음과 같이 음절 단위로 세트가 만들어집니다.\n",
    "\n",
    ">>> set('안녕하세요')\n",
    "{'녕', '요', '안', '세', '하'}\n",
    "참고 | 세트 안에 세트 넣기\n",
    "세트는 리스트, 딕셔너리와 달리 세트 안에 세트를 넣을 수 없습니다.\n",
    "\n",
    ">>> a = {{1, 2}, {3, 4}}\n",
    "Traceback (most recent call last):\n",
    "  File \"<pyshell#3>\", line 1, in <module>\n",
    "    a = {{1, 2}, {3, 4}}\n",
    "TypeError: unhashable type: 'set'\n",
    "참고 | 프로즌 세트\n",
    "파이썬은 내용을 변경할 수 없는 세트도 제공합니다.\n",
    "\n",
    "프로즌세트 = frozenset(반복가능한객체)\n",
    "\n",
    ">>> a = frozenset(range(10))\n",
    ">>> a\n",
    "frozenset({0, 1, 2, 3, 4, 5, 6, 7, 8, 9})\n",
    "이름 그대로 얼어 있는(frozen) 세트입니다.\n",
    " frozenset는 뒤에서 설명할 집합 연산과 메서드에서 요소를 추가하거나 삭제하는 연산, 메서드는 사용할 수 없습니다. \n",
    " 즉, 다음과 같이 frozenset의 요소를 변경하려고 하면 에러가 발생합니다.\n",
    "\n",
    ">>> a = frozenset(range(10))\n",
    ">>> a |= 10\n",
    "Traceback (most recent call last):\n",
    "  File \"<pyshell#4>\", line 1, in <module>\n",
    "    a |= 10\n",
    "TypeError: unsupported operand type(s) for |=: 'frozenset' and 'int'\n",
    ">>> a.update({10})\n",
    "Traceback (most recent call last):\n",
    "  File \"<pyshell#5>\", line 1, in <module>\n",
    "    a.update({10})\n",
    "AttributeError: 'frozenset' object has no attribute 'update'\n",
    "그런데 요소를 변경할 수 없는 frozenset는 왜 사용할까요? frozenset는 세트 안에 세트를 넣고 싶을 때 사용합니다. \n",
    "다음과 같이 frozenset는 frozenset를 중첩해서 넣을 수 있습니다. 단, frozenset만 넣을 수 있고, 일반 set는 넣을 수 없습니다.\n",
    "\n",
    ">>> frozenset({frozenset({1, 2}), frozenset({3, 4})})\n",
    "frozenset({frozenset({1, 2}), frozenset({3, 4})})"
   ]
  },
  {
   "cell_type": "code",
   "execution_count": null,
   "id": "ca2c3d64",
   "metadata": {},
   "outputs": [],
   "source": [
    "이제 세트에서 집합 연산과 이에 대응하는 메서드를 사용해보겠습니다.\n",
    " 집합 연산은 파이썬의 산술 연산자와 논리 연산자를 활용합니다.\n",
    "\n",
    "| 연산자는 합집합(union)을 구하며 OR 연산자 |를 사용합니다. set.union 메서드와 동작이 같습니다. \n",
    "다음은 세트 {1, 2, 3, 4}와 {3, 4, 5, 6}을 모두 포함하므로 {1, 2, 3, 4, 5, 6}이 나옵니다.\n",
    "\n",
    "세트1 | 세트2\n",
    "set.union(세트1, 세트2)\n",
    ">>> a = {1, 2, 3, 4}\n",
    ">>> b = {3, 4, 5, 6}\n",
    ">>> a | b\n",
    "{1, 2, 3, 4, 5, 6}\n",
    ">>> set.union(a, b)\n",
    "{1, 2, 3, 4, 5, 6}\n",
    "▼ 그림 26-1 세트의 합집합 연산\n",
    "\n",
    "& 연산자는 교집합(intersection)을 구하며 AND 연산자 &를 사용합니다. set.intersection 메서드와 동작이 같습니다.\n",
    " 다음은 세트 {1, 2, 3, 4}와 {3, 4, 5, 6} 중에서 겹치는 부분을 구하므로 {3, 4}가 나옵니다.\n",
    "\n",
    "세트1 & 세트2\n",
    "set.intersection(세트1, 세트2)\n",
    ">>> a & b\n",
    "{3, 4}\n",
    ">>> set.intersection(a, b)\n",
    "{3, 4}\n",
    "▼ 그림 26-2 세트의 교집합 연산\n",
    "\n",
    "- 연산자는 차집합(difference)을 구하며 뺄셈 연산자 -를 사용합니다. set.difference 메서드와 동작이 같습니다.\n",
    " 다음은 {1, 2, 3, 4}에서 {3, 4, 5, 6}과 겹치는 3과 4를 뺐으므로 {1, 2}가 나옵니다.\n",
    "\n",
    "세트1 - 세트2\n",
    "set.difference(세트1, 세트2)\n",
    ">>> a - b\n",
    "{1, 2}\n",
    ">>> set.difference(a, b)\n",
    "{1, 2}\n",
    "▼ 그림 26-3 세트의 차집합 연산\n",
    "\n",
    "^ 연산자는 대칭차집합(symmetric difference)을 구하며 XOR 연산자 ^를 사용합니다. set.symmetric_difference 메서드와 동작이 같습니다.\n",
    "\n",
    "대칭차집합은 XOR 연산자의 특성을 그대로 따르는데 XOR은 서로 다르면 참입니다.\n",
    " 따라서 집합에서는 두 집합 중 겹치지 않는 요소만 포함합니다.\n",
    "  다음은 세트 {1, 2, 3, 4}와 {3, 4, 5, 6} 중에서 같은 값 3과 4를 제외한 다른 모든 요소를 구하므로 {1, 2, 5, 6}이 나옵니다.\n",
    "\n",
    "세트1 ^ 세트2\n",
    "set.symmetric_difference(세트1, 세트2)\n",
    ">>> a ^ b\n",
    "{1, 2, 5, 6}\n",
    ">>> set.symmetric_difference(a, b)\n",
    "{1, 2, 5, 6}\n",
    "▼ 그림 26-4 세트의 대칭차집합 연산\n",
    "\n",
    "26.2.1  집합 연산 후 할당 연산자 사용하기\n",
    "이번에는 세트 자료형에 집합 연산 후 할당 연산자와 이에 대응하는 메서드를 사용해보겠습니다.\n",
    " 세트 자료형에 |, &, -, ^ 연산자와 할당 연산자 =을 함께 사용하면 집합 연산의 결과를 변수에 다시 저장(할당)합니다.\n",
    "\n",
    "|=은 현재 세트에 다른 세트를 더하며 update 메서드와 같습니다. 다음은 세트 {1, 2, 3, 4}에 {5}를 더하므로 {1, 2, 3, 4, 5}가 나옵니다.\n",
    "\n",
    "세트1 |= 세트2\n",
    "세트1.update(세트2)\n",
    ">>> a = {1, 2, 3, 4}\n",
    ">>> a |= {5}\n",
    ">>> a\n",
    "{1, 2, 3, 4, 5}\n",
    ">>> a = {1, 2, 3, 4}\n",
    ">>> a.update({5})\n",
    ">>> a\n",
    "{1, 2, 3, 4, 5}\n",
    "&=은 현재 세트와 다른 세트 중에서 겹치는 요소만 현재 세트에 저장하며 intersection_update 메서드와 같습니다. \n",
    "다음은 세트 {1, 2, 3, 4}와 {0, 1, 2, 3, 4} 중에서 겹치는 요소만 a에 저장하므로 {1, 2, 3, 4}가 나옵니다.\n",
    "\n",
    "세트1 &= 세트2\n",
    "세트1.intersection_update(세트2)\n",
    ">>> a = {1, 2, 3, 4}\n",
    ">>> a &= {0, 1, 2, 3, 4}\n",
    ">>> a\n",
    "{1, 2, 3, 4}\n",
    ">>> a = {1, 2, 3, 4}\n",
    ">>> a.intersection_update({0, 1, 2, 3, 4})\n",
    ">>> a\n",
    "{1, 2, 3, 4}\n",
    "-=은 현재 세트에서 다른 세트를 빼며 difference_update 메서드와 같습니다.\n",
    " 다음은 세트 {1, 2, 3, 4}에서 {3}을 빼므로 {1, 2, 4}가 나옵니다.\n",
    "\n",
    "세트1 -= 세트2\n",
    "세트1.difference_update(세트2)\n",
    ">>> a = {1, 2, 3, 4}\n",
    ">>> a -= {3}\n",
    ">>> a\n",
    "{1, 2, 4}\n",
    ">>> a = {1, 2, 3, 4}\n",
    ">>> a.difference_update({3})\n",
    ">>> a\n",
    "{1, 2, 4}\n",
    "^=은 현재 세트와 다른 세트 중에서 겹치지 않는 요소만 현재 세트에 저장하며 symmetric_difference_update 메서드와 같습니다. \n",
    "다음은 세트 {1, 2, 3, 4}와 {3, 4, 5, 6} 중에서 겹치지 않는 요소만 a에 저장하므로 {1, 3}이 나옵니다.\n",
    "\n",
    "세트1 ^= 세트2\n",
    "세트1.symmetric_difference_update(세트2)\n",
    ">>> a = {1, 2, 3, 4}\n",
    ">>> a ^= {3, 4, 5, 6}\n",
    ">>> a\n",
    "{1, 2, 5, 6}\n",
    ">>> a = {1, 2, 3, 4}\n",
    ">>> a.symmetric_difference_update({3, 4, 5, 6})\n",
    ">>> a\n",
    "{1, 2, 5, 6}\n",
    "26.2.2  부분 집합과 상위집합 확인하기\n",
    "세트는 부분집합, 진부분집합, 상위집합, 진상위집합과 같이 속하는 관계를 표현할 수도 있습니다.\n",
    " 현재 세트가 다른 세트의 (진)부분집합 또는 (진)상위집합인지 확인할 때는 세트 자료형에 부등호와 등호 사용합니다.\n",
    "\n",
    "<=은 현재 세트가 다른 세트의 부분집합(subset)인지 확인하며 issubset 메서드와 같습니다.\n",
    " 다음은 세트 {1, 2, 3, 4}가 {1, 2, 3, 4}의 부분집합이므로 참입니다(등호가 있으므로 두 세트가 같을 때도 참입니다).\n",
    "\n",
    "현재세트 <= 다른세트\n",
    "현재세트.issubset(다른세트)\n",
    ">>> a = {1, 2, 3, 4}\n",
    ">>> a <= {1, 2, 3, 4}\n",
    "True\n",
    ">>> a.issubset({1, 2, 3, 4, 5})\n",
    "True\n",
    "▼ 그림 26-5 세트가 부분집합인지 확인\n",
    "\n",
    "<은 현재 세트가 다른 세트의 진부분집합(proper subset)인지 확인하며 메서드는 없습니다. \n",
    "다음은 세트 {1, 2, 3, 4}가 {1, 2, 3, 4, 5}의 진부분집합이므로 참입니다. 즉, 부분집합이지만 같지는 않을 때 참입니다.\n",
    "\n",
    "현재세트 < 다른세트\n",
    ">>> a = {1, 2, 3, 4}\n",
    ">>> a < {1, 2, 3, 4, 5}\n",
    "True\n",
    "\n",
    "\n",
    ">=은 현재 세트가 다른 세트의 상위집합(superset)인지 확인하며 issuperset 메서드와 같습니다.\n",
    " 다음은 세트 {1, 2, 3, 4}가 {1, 2, 3, 4}의 상위집합이므로 참입니다(등호가 있으므로 두 세트가 같을 때도 참입니다).\n",
    "\n",
    "현재세트 >= 다른세트\n",
    "현재세트.issuperset(다른세트)\n",
    ">>> a = {1, 2, 3, 4}\n",
    ">>> a >= {1, 2, 3, 4}\n",
    "True\n",
    ">>> a.issuperset({1, 2, 3, 4})\n",
    "True\n",
    "\n",
    "\n",
    ">은 현재 세트가 다른 세트의 진상위집합(proper superset)인지 확인하며 메서드는 없습니다.\n",
    " 다음은 세트 {1, 2, 3, 4}가 {1, 2, 3}의 진상위집합이므로 참입니다. 즉, 상위집합이지만 같지는 않을 때 참입니다.\n",
    "\n",
    "현재세트 > 다른세트\n",
    ">>> a = {1, 2, 3, 4}\n",
    ">>> a > {1, 2, 3}\n",
    "True\n",
    "\n",
    "\n",
    "26.2.3  세트가 같은지 다른지 확인하기\n",
    "세트는 == 연산자를 사용하여 서로 같은지 확인할 수 있습니다.\n",
    "\n",
    ">>> a = {1, 2, 3, 4}\n",
    ">>> a == {1, 2, 3, 4}\n",
    "True\n",
    ">>> a == {4, 2, 1, 3}\n",
    "True\n",
    "세트는 요소의 순서가 정해져 있지 않으므로 ==로 비교했을 때 각 요소만 같으면 참입니다.\n",
    "\n",
    "!= 연산자는 세트가 다른지 확인합니다.\n",
    "\n",
    ">>> a = {1, 2, 3, 4}\n",
    ">>> a != {1, 2, 3}\n",
    "True\n",
    "26.2.4  세트가 겹치지 않는지 확인하기\n",
    "disjoint는 현재 세트가 다른 세트와 겹치지 않는지 확인합니다. 겹치는 요소가 없으면 True, 있으면 False입니다.\n",
    "\n",
    "현재세트.isdisjoint(다른세트)\n",
    ">>> a = {1, 2, 3, 4}\n",
    ">>> a.isdisjoint({5, 6, 7, 8})       # 겹치는 요소가 없음\n",
    "True\n",
    ">>> a.isdisjoint({3, 4, 5, 6})    # a와 3, 4가 겹침\n",
    "False"
   ]
  },
  {
   "cell_type": "code",
   "execution_count": null,
   "id": "f5ed68fb",
   "metadata": {},
   "outputs": [],
   "source": [
    "이번에는 세트를 조작하는 메서드와 세트의 길이(요소 개수)를 구하는 방법을 알아보겠습니다.\n",
    "\n",
    "26.3.1  세트에 요소 추가하기\n",
    "add(요소)는 세트에 요소를 추가합니다.\n",
    "\n",
    ">>> a = {1, 2, 3, 4}\n",
    ">>> a.add(5)\n",
    ">>> a\n",
    "{1, 2, 3, 4, 5}\n",
    "26.3.2  세트에서 특정 요소를 삭제하기\n",
    "remove(요소)는 세트에서 특정 요소를 삭제하고 요소가 없으면 에러를 발생시킵니다.\n",
    "\n",
    ">>> a.remove(3)\n",
    ">>> a\n",
    "{1, 2, 4, 5}\n",
    "discard(요소)는 세트에서 특정 요소를 삭제하고 요소가 없으면 그냥 넘어갑니다.\n",
    " 다음은 세트 a에 2가 있으므로 2를 삭제하고, 3은 없으므로 그냥 넘어갑니다.\n",
    "\n",
    ">>> a.discard(2)\n",
    ">>> a\n",
    "{1, 4, 5}\n",
    ">>> a.discard(3)\n",
    ">>> a\n",
    "{1, 4, 5}\n",
    "26.3.3  세트에서 임의의 요소 삭제하기\n",
    "pop()은 세트에서 임의의 요소를 삭제하고 해당 요소를 반환합니다. 만약 요소가 없으면 에러를 발생시킵니다.\n",
    "\n",
    ">>> a = {1, 2, 3, 4}\n",
    ">>> a.pop()\n",
    "1\n",
    ">>> a\n",
    "{2, 3, 4}\n",
    "26.3.4  세트의 모든 요소를 삭제하기\n",
    "clear()는 세트에서 모든 요소를 삭제합니다.\n",
    "\n",
    ">>> a.clear()\n",
    ">>> a\n",
    "set()\n",
    "26.3.5  세트의 요소 개수 구하기\n",
    "지금까지 리스트, 튜플, 문자열, range, 딕셔너리의 요소 개수를 구할 때 len 함수를 사용했죠?\n",
    "\n",
    "마찬가지로 len(세트)는 세트의 요소 개수(길이)를 구합니다.\n",
    "\n",
    ">>> a = {1, 2, 3, 4}\n",
    ">>> len(a)\n",
    "4"
   ]
  },
  {
   "cell_type": "code",
   "execution_count": null,
   "id": "65f5d522",
   "metadata": {},
   "outputs": [],
   "source": [
    "세트도 리스트, 딕셔너리처럼 할당과 복사의 차이점이 있습니다. 먼저 세트를 만든 뒤 다른 변수에 할당합니다.\n",
    "\n",
    ">>> a = {1, 2, 3, 4}\n",
    ">>> b = a\n",
    "b = a와 같이 세트를 다른 변수에 할당하면 세트는 두 개가 될 것 같지만 실제로는 세트가 한 개입니다.\n",
    "\n",
    "a와 b를 is 연산자로 비교해보면 True가 나옵니다. 즉, 변수 이름만 다를 뿐 세트 a와 b는 같은 객체입니다.\n",
    "\n",
    ">>> a is b\n",
    "True\n",
    "a와 b는 같으므로 b에 요소를 추가하면 세트 a와 b에 모두 반영됩니다.\n",
    "\n",
    ">>> b.add(5)\n",
    ">>> a\n",
    "{1, 2, 3, 4, 5}\n",
    ">>> b\n",
    "{1, 2, 3, 4, 5}\n",
    "세트 a와 b를 완전히 두 개로 만들려면 copy 메서드로 모든 요소를 복사해야 합니다.\n",
    "\n",
    ">>> a = {1, 2, 3, 4}\n",
    ">>> b = a.copy()\n",
    "이제 a와 b를 is 연산자로 비교해보면 False가 나옵니다. 즉, 두 세트는 다른 객체입니다. \n",
    "그러나 복사한 요소는 같으므로 ==로 비교하면 True가 나옵니다.\n",
    "\n",
    ">>> a is b\n",
    "False\n",
    ">>> a == b\n",
    "True\n",
    "세트 a와 b는 별개이므로 한쪽의 값을 변경해도 다른 세트에 영향을 미치지 않습니다.\n",
    " 다음과 같이 세트 b에 요소를 추가하면 세트 a는 그대로이고 세트 b만 바뀝니다.\n",
    "\n",
    ">>> a = {1, 2, 3, 4}\n",
    ">>> b = a.copy()\n",
    ">>> b.add(5)\n",
    ">>> a\n",
    "{1, 2, 3, 4}\n",
    ">>> b\n",
    "{1, 2, 3, 4, 5}\n"
   ]
  },
  {
   "cell_type": "code",
   "execution_count": null,
   "id": "988da51d",
   "metadata": {},
   "outputs": [],
   "source": [
    "이번에는 세트와 for 반복문을 사용하여 요소를 출력해보겠습니다. 간단하게 for in 뒤에 세트만 지정하면 됩니다.\n",
    "\n",
    "for 변수 in 세트:\n",
    "     반복할 코드\n",
    "다음은 for로 세트 a의 요소를 출력합니다.\n",
    "\n",
    ">>> a = {1, 2, 3, 4}\n",
    ">>> for i in a:\n",
    "...     print(i)\n",
    "...\n",
    "1\n",
    "2\n",
    "3\n",
    "4\n",
    "for i in a:는 세트 a에서 요소를 꺼내서 i에 저장하고, 꺼낼 때마다 코드를 반복합니다.\n",
    " 따라서 print로 i를 출력하면 요소를 모두 출력할 수 있습니다. \n",
    " 단, 세트의 요소는 순서가 없으므로 출력할 때마다 순서가 달라집니다(숫자로만 이루어진 세트는 순서대로 출력됨).\n",
    "\n",
    "물론 in 다음에 세트를 직접 지정해도 상관 없습니다.\n",
    "\n",
    "for i in {1, 2, 3, 4}:\n",
    "    print(i)"
   ]
  },
  {
   "cell_type": "code",
   "execution_count": null,
   "id": "369a52e5",
   "metadata": {},
   "outputs": [],
   "source": [
    "세트는 for 반복문과 if 조건문을 사용하여 세트를 생성할 수 있습니다. \n",
    "다음과 같이 세트 안에 식과 for 반복문을 지정하면 됩니다.\n",
    "\n",
    "{식 for 변수 in 반복가능한객체}\n",
    "set(식 for 변수 in 반복가능한객체)\n",
    ">>> a = {i for i in 'apple'}\n",
    ">>> a\n",
    "{'l', 'p', 'e', 'a'}\n",
    "{ } 또는 set() 안에 식, for, 변수, in, 반복 가능한 객체를 지정하여 세트를 생성합니다.\n",
    " 여기서는 반복 가능한 객체로 문자열 'apple'을 지정했습니다.\n",
    "\n",
    "다음과 같이 문자열 'apple'에서 유일한 문자인 'a', 'p', 'l', 'e'만 변수 i에 꺼내고 최종적으로 i로 세트를 만듭니다. \n",
    "즉, 문자열에서 중복된 문자는 세트에 포함되지 않습니다.\n",
    "\n",
    "\n",
    "\n",
    "26.6.1  세트 표현식에 if 조건문 사용하기\n",
    "이번에는 세트 표현식에서 if 조건문을 사용해보겠습니다. 다음과 같이 if 조건문은 for 반복문 뒤에 지정합니다.\n",
    "\n",
    "{식 for 변수 in 세트 if 조건식}\n",
    "set(식 for 변수 in 세트 if 조건식)\n",
    ">>> a = {i for i in 'pineapple' if i not in 'apl'}\n",
    ">>> a\n",
    "{'e', 'i', 'n'}\n",
    "{i for i in 'pineapple' if i not in 'apl'}은 문자열 'pineapple'에서 'a', 'p', 'l'을 제외한 문자들로 세트를 생성합니다.\n",
    " 즉, 다음과 같이 for 반복문 뒤에 if 조건문을 지정하면 if 조건문에서 특정 요소를 제외한 뒤 세트를 생성합니다.\n",
    "\n",
    "▼ 그림 26-10\n",
    "\n",
    "if i not in 'apl'은 {i for i in 'pineapple' if i != 'a' and i != 'p' and i != 'l'}과 같이 문자를 하나씩 비교하고 and로 연결하는 if 조건문과 같습니다.\n",
    "\n",
    "지금까지 세트의 사용 방법에 대해 알아보았습니다. 아무래도 세트는 리스트와 딕셔너리보다 사용 빈도가 낮습니다.\n",
    " 여기서는 세트가 수학의 집합을 자료형으로 만든 것이라는 정도만 알아두면 됩니다. 나중에 세트가 필요할 때 다시 돌아와서 찾아보세요."
   ]
  },
  {
   "cell_type": "markdown",
   "id": "2a763382",
   "metadata": {},
   "source": [
    "##### 딕셔너리 메서드"
   ]
  },
  {
   "cell_type": "code",
   "execution_count": null,
   "id": "aa82f376",
   "metadata": {},
   "outputs": [],
   "source": [
    "딕셔너리 메서드\n",
    "\n",
    "▼ 표 26-1 \n",
    "메서드\n",
    "\n",
    "설명\n",
    "\n",
    "setdefault(키, 기본값)\n",
    "\n",
    "딕셔너리에 키-값 쌍을 추가, 키만 지정하면 값에 None을 저장\n",
    "\n",
    "update(키=값)\n",
    "\n",
    "update(딕셔너리)\n",
    "\n",
    "update(리스트)\n",
    "\n",
    "update(튜플)\n",
    "\n",
    "update(반복가능한객체)\n",
    "\n",
    "딕셔너리에서 키의 값을 수정, 딕셔너리에 키가 없으면 키-값 쌍을 추가\n",
    "\n",
    "pop(키)\n",
    "\n",
    "pop(키, 기본값)\n",
    "\n",
    "딕셔너리에서 특정 키-값 쌍을 삭제한 뒤 값을 반환, del 딕셔너리[키]와 같음\n",
    "\n",
    "기본값을 지정하면 키가 없을 때 기본 값을 반환\n",
    "\n",
    "popitem()\n",
    "\n",
    "딕셔너리에서 임의의 키-값 쌍을 삭제하고 해당 키-값 쌍을 튜플로 반환\n",
    "\n",
    "clear()\n",
    "\n",
    "딕셔너리의 모든 키-값 쌍을 삭제\n",
    "\n",
    "get(키)\n",
    "\n",
    "get(키, 기본값)\n",
    "\n",
    "딕셔너리에서 특정 키의 값을 가져옴\n",
    "\n",
    "기본값을 지정하면 키가 없을 때 기본값을 반환\n",
    "\n",
    "items()\n",
    "\n",
    "keys()           \n",
    "\n",
    "values()\n",
    "\n",
    "items는 딕셔너리의 키-값 쌍을 모두 가져옴\n",
    "\n",
    "keys는 딕셔너리의 키를 모두 가져옴\n",
    "\n",
    "values는 딕셔너리의 값을 모두 가져옴\n",
    "\n",
    "copy()\n",
    "\n",
    "딕셔너리를 복사하여 새 딕셔너리 생성\n",
    "\n",
    "dict.fromkeys(키리스트)\n",
    "\n",
    "dict.fromkeys(키리스트, 값)\n",
    "\n",
    "리스트(튜플)로 딕셔너리를 만듦, 키 리스트만 지정하면 값은 모두 None이 저장됨\n",
    "\n",
    "키 리스트와 값을 지정하면 해당 값이 딕셔너리의 값으로 저장됨\n",
    "\n",
    "딕셔너리와 반복문\n",
    "\n",
    "for 변수 in 뒤에 딕셔너리를 지정하면 키만 꺼내옵니다. \n",
    "그리고 for in 뒤에 딕셔너리를 지정하고 items를 사용하면 반복하면서 모든 키와 값을 꺼내오고, keys는 키, values는 값만 꺼내옵니다.\n",
    "\n",
    "for 변수 in 딕셔너리:              # 모든 키를 꺼내옴\n",
    "    반복할 코드\n",
    " \n",
    "for 키, 값 in 딕셔너리.items():    # 모든 키와 값을 꺼내옴\n",
    "    반복할 코드\n",
    " \n",
    "for 키 in 딕셔너리.keys():         # 모든 키를 꺼내옴\n",
    "    반복할 코드\n",
    " \n",
    "for 값 in 딕셔너리.values():       # 모든 값을 꺼내옴\n",
    "    반복할 코드\n",
    "딕셔너리 표현식\n",
    "\n",
    "딕셔너리 표현식은 딕셔너리 안에 식, for 반복문, if 조건문 등을 지정하여 딕셔너리를 생성합니다.\n",
    "\n",
    "{키: 값 for 키, 값 in 딕셔너리}\n",
    "{key: value for key, value in dict.fromkeys(['a', 'b', 'c', 'd']).items()}\n",
    "dict({키: 값 for 키, 값 in 딕셔너리})\n",
    " \n",
    "{키: 값 for 키, 값 in 딕셔너리 if 조건식}\n",
    "{key: value for key, value in {'a': 10, 'b': 20, 'c': 30, 'd': 40}.items() if value != 20}\n",
    "dict({키: 값 for 키, 값 in 딕셔너리 if 조건식})\n",
    "딕셔너리 안에 딕셔너리 사용하기\n",
    "\n",
    "딕셔너리는 값 부분에 딕셔너리를 넣을 수 있습니다. \n",
    "딕셔너리 안에 들어있는 딕셔너리에 접근하려면 [ ](대괄호)를 단계만큼 붙이고 키를 지정해줍니다.\n",
    "\n",
    "딕셔너리 = {키1: {키A: 값A}, 키2: {키B: 값B}}    # 딕셔너리 안에 딕셔너리 넣기\n",
    " \n",
    "딕셔너리[키][키]         # 딕셔너리 안에 있는 딕셔너리에서 값에 접근\n",
    "딕셔너리[키][키] = 값    # 딕셔너리 안에 있는 딕셔너리에서 키에 값 할당\n",
    "세트\n",
    "\n",
    "세트는 집합 형태의 자료형입니다. { }(중괄호) 안에 값을 저장하며 각 값은 ,(콤마)로 구분해줍니다. \n",
    "단, 세트는 [ ](대괄호)로 특정 요소를 출력할 수 없습니다.\n",
    "\n",
    "세트 = {값1, 값2, 값3}        # 세트 만들기\n",
    "세트 = set(반복가능한객체)    # 세트 만들기\n",
    " \n",
    "값 in 세트        # 세트에 특정 값이 있는지 확인\n",
    "값 not in 세트    # 세트에 특정 값이 없는지 확인\n",
    " \n",
    "len(세트)    # 세트의 요소 개수(길이) 구하기\n",
    "세트의 메서드와 집합 연산\n",
    "\n",
    "▼  26-2 세트의 메서드와 집합 연산\n",
    "메서드\n",
    "\n",
    "집합 연산자\n",
    "\n",
    "설명\n",
    "\n",
    "set.union(세트1, 세트2)\n",
    "\n",
    "|\n",
    "\n",
    "두 세트의 합집합\n",
    "\n",
    "set.intersection(세트1, 세트2)\n",
    "\n",
    "&\n",
    "\n",
    "두 세트의 교집합\n",
    "\n",
    "set.difference(세트1, 세트2)\n",
    "\n",
    "-\n",
    "\n",
    "두 세트의 차집합\n",
    "\n",
    "set.symmetric_difference(세트1, 세트2)\n",
    "\n",
    "^\n",
    "\n",
    "두 세트의 대칭차집합\n",
    "\n",
    "update(다른세트)\n",
    "\n",
    "|=\n",
    "\n",
    "현재 세트에 다른 세트를 더함\n",
    "\n",
    "intersection_update(다른세트)\n",
    "\n",
    "&=\n",
    "\n",
    "현재 세트와 다른 세트 중에서 겹치는 요소만 현재 세트에 저장\n",
    "\n",
    "difference_update(다른세트)\n",
    "\n",
    "-=\n",
    "\n",
    "현재 세트에서 다른 세트를 뺌\n",
    "\n",
    "symmetric_difference_update(다른세트)\n",
    "\n",
    "^=\n",
    "\n",
    "현재 세트와 다른 세트 중에서 겹치지 않는 요소만 현재 세트에 저장\n",
    "\n",
    "issubset(다른세트)\n",
    "\n",
    "<=\n",
    "\n",
    "현재 세트가 다른 세트의 부분집합인지 확인\n",
    "\n",
    " \n",
    "\n",
    "< \n",
    "\n",
    "현재 세트가 다른 세트의 진부분집합인지 확인\n",
    "\n",
    "issuperset(다른세트)\n",
    "\n",
    ">=\n",
    "\n",
    "현재 세트가 다른 세트의 상위집합인지 확인\n",
    "\n",
    " \n",
    "\n",
    "> \n",
    "\n",
    "현재 세트가 다른 세트의 진상위집합인지 확인\n",
    "\n",
    "isdisjoint(다른세트)\n",
    "\n",
    " \n",
    "\n",
    "현재 세트가 다른 세트와 겹치지 않는지 확인\n",
    "\n",
    "add(요소)\n",
    "\n",
    " \n",
    "\n",
    "세트에 요소를 추가\n",
    "\n",
    "remove(요소)\n",
    "\n",
    " \n",
    "\n",
    "세트에서 특정 요소를 삭제, 없으면 에러 발생\n",
    "\n",
    "discard(요소)\n",
    "\n",
    " \n",
    "\n",
    "세트에서 특정 요소를 삭제, 요소가 없으면 그냥 넘어감\n",
    "\n",
    "pop()\n",
    "\n",
    " \n",
    "\n",
    "세트에서 임의의 요소를 삭제하고 해당 요소를 반환\n",
    "\n",
    "clear()\n",
    "\n",
    " \n",
    "\n",
    "세트에서 모든 요소를 삭제\n",
    "\n",
    "copy()\n",
    "\n",
    " \n",
    "\n",
    "세트를 복사하여 새로운 세트 생성\n",
    "\n",
    "세트와 반복문\n",
    "\n",
    "for 변수 in 뒤에 세트를 지정하면 반복하면서 모든 요소를 꺼내옵니다.\n",
    "\n",
    "for 변수 in 세트:\n",
    "    반복할 코드\n",
    "세트 표현식\n",
    "\n",
    "세트 표현식은 세트 안에 식, for 반복문, if 조건문 등을 지정하여 세트를 생성합니다.\n",
    "\n",
    "{식 for 변수 in 반복가능한값}\n",
    "\n",
    "{i for i in 'apple'}\n",
    "\n",
    "set(식 for 변수 in 반복가능한값)\n",
    "\n",
    "{식 for 변수 in 세트 if 조건식}\n",
    "\n",
    "{i for i in 'pineapple' if i not in 'apl'}\n",
    "\n",
    "set(식 for 변수 in 세트 if 조건식)\n"
   ]
  },
  {
   "cell_type": "markdown",
   "id": "d8dd588c",
   "metadata": {},
   "source": [
    "##### 응용"
   ]
  },
  {
   "cell_type": "code",
   "execution_count": null,
   "id": "c090761b",
   "metadata": {},
   "outputs": [],
   "source": [
    "리스트에 인덱스를 지정하여 요소를 한 개씩 출력하기는 상당히 귀찮죠?\n",
    " 이번에는 리스트와 반복문을 사용하여 간단하게 모든 요소를 출력해보겠습니다.\n",
    "\n",
    "22.3.1  for 반복문으로 요소 출력하기\n",
    " for 반복문은 그냥 in 뒤에 리스트를 지정하면 됩니다.\n",
    "\n",
    "for 변수 in 리스트:\n",
    "     반복할 코드\n",
    "다음은 for로 리스트 a의 모든 요소를 출력합니다.\n",
    "\n",
    ">>> a = [38, 21, 53, 62, 19]\n",
    ">>> for i in a:\n",
    "...     print(i)\n",
    "...\n",
    "38\n",
    "21\n",
    "53\n",
    "62\n",
    "19\n",
    "for i in a:는 리스트 a에서 요소를 꺼내서 i에 저장하고, 꺼낼 때마다 코드를 반복합니다.\n",
    " 따라서 print로 i를 출력하면 모든 요소를 순서대로 출력할 수 있습니다.\n",
    "\n",
    "물론 in 다음에 리스트를 직접 지정해도 상관 없습니다.\n",
    "\n",
    "for i in [38, 21, 53, 62, 19]:\n",
    "    print(i)\n",
    "22.3.2  인덱스와 요소를 함께 출력하기\n",
    "그럼 for 반복문으로 요소를 출력할 때 인덱스도 함께 출력하려면 어떻게 해야 할까요? 이때는 enumerate를 사용합니다.\n",
    "\n",
    "for 인덱스, 요소 in enumerate(리스트):\n",
    ">>> a = [38, 21, 53, 62, 19]\n",
    ">>> for index, value in enumerate(a):\n",
    "...     print(index, value)\n",
    "...\n",
    "0 38\n",
    "1 21\n",
    "2 53\n",
    "3 62\n",
    "4 19\n",
    "for index, value in enumerate(a):와 같이 enumerate에 리스트를 넣으면 for 반복문에서 인덱스와 요소를 동시에 꺼내 올 수 있습니다.\n",
    "\n",
    "앞의 코드는 인덱스를 0부터 출력하는데 1부터 출력하고 싶을 수도 있습니다.\n",
    " 다음과 같이 그냥 index + 1을 출력하면 되겠죠?\n",
    "\n",
    ">>> for index, value in enumerate(a):\n",
    "...     print(index + 1, value)\n",
    "...\n",
    "1 38\n",
    "2 21\n",
    "3 53\n",
    "4 62\n",
    "5 19\n",
    "하지만 좀 더 파이썬 다운 방법이 있습니다. 다음과 같이 enumerate에 start를 지정해주면 됩니다.\n",
    "\n",
    "for 인덱스, 요소 in enumerate(리스트, start=숫자):\n",
    ">>> for index, value in enumerate(a, start=1):\n",
    "...     print(index, value)\n",
    "...\n",
    "1 38\n",
    "2 21\n",
    "3 53\n",
    "4 62\n",
    "5 19\n",
    "enumerate(a, start=1)처럼 start에 1을 지정하여 인덱스가 1부터 시작하도록 만들었습니다.\n",
    " 이 코드는 enumerate(a, 1)과 같이 줄여 쓸 수도 있습니다.\n",
    "\n",
    "참고 | for 반복문에서 인덱스로 요소를 출력하기\n",
    "for에 리스트를 지정하면 요소를 바로 가져와서 편리한데, for에서 인덱스를 지정하여 요소를 가져올 수는 없을까요? \n",
    "이때는 range에 len으로 리스트의 길이(요소 개수)를 구해서 넣어주면 인덱스를 순서대로 만들어줍니다.\n",
    " 따라서 a[i]와 같이 리스트에 인덱스를 지정하여 값을 가져올 수 있습니다.\n",
    "\n",
    ">>> a = [38, 21, 53, 62, 19]\n",
    ">>> for i in range(len(a)):\n",
    "...     print(a[i])\n",
    "...\n",
    "38\n",
    "21\n",
    "53\n",
    "62\n",
    "19\n",
    "즉, for i in range(len(a))를 실행하면 i에는 요소가 아닌 0부터 마지막 인덱스까지 인덱스가 들어갑니다.\n",
    "\n",
    "22.3.3  while반복문으로 요소 출력하기\n",
    "이번에는 while 반복문으로 리스트의 요소를 출력해보겠습니다.\n",
    "\n",
    ">>> a = [38, 21, 53, 62, 19]\n",
    ">>> i = 0\n",
    ">>> while i < len(a):\n",
    "...     print(a[i])\n",
    "...     i += 1\n",
    "...\n",
    "38\n",
    "21\n",
    "53\n",
    "62\n",
    "19\n",
    "while 반복문으로 리스트의 요소를 출력할 때는 변수 i를 인덱스로 활용합니다.\n",
    " 먼저 변수 i를 0으로 만들어주고, i < len(a)처럼 i가 리스트의 길이(요소 개수) 직전까지만 반복하도록 만듭니다.\n",
    "\n",
    "즉, 리스트의 인덱스는 0부터 시작하고 마지막 인덱스는 리스트의 길이보다 1이 작으므로 <를 사용합니다.\n",
    " 만약 i <= len(a)처럼 <=을 사용하면 리스트의 범위를 벗어나게 되므로 주의해야 합니다.\n",
    "\n",
    ">>> a = [38, 21, 53, 62, 19]\n",
    ">>> i = 0\n",
    ">>> while i <= len(a):\n",
    "...     print(a[i])\n",
    "...     i += 1\n",
    "...\n",
    "38\n",
    "21\n",
    "53\n",
    "62\n",
    "19\n",
    "Traceback (most recent call last):\n",
    "  File \"<stdin>\", line 2, in <module>\n",
    "IndexError: list index out of range\n",
    "while 반복문 안에서 요소를 출력할 때는 print(a[i])와 같이 리스트의 인덱스 부분에 i를 지정하여 출력합니다.\n",
    " 그다음에는 i가 1씩 증가하도록 만들면 됩니다.\n",
    "\n",
    "while i < len(a):\n",
    "    print(a[i])\n",
    "    i += 1"
   ]
  },
  {
   "cell_type": "code",
   "execution_count": null,
   "id": "cd150858",
   "metadata": {},
   "outputs": [],
   "source": [
    "이번에는 리스트(튜플)에 저장된 값 중에서 가장 작은 수, 가장 큰 수, 요소의 합계 구해보겠습니다.\n",
    "\n",
    "22.4.1  가장 작은 수와 가장 큰 수 구하기\n",
    "먼저 가장 작은 수와 가장 큰 수는 어떻게 구할까요? 앞에서 반복문을 배웠으니 요소를 모두 반복하면서 숫자를 찾아내 보겠습니다.\n",
    "\n",
    ">>> a = [38, 21, 53, 62, 19]\n",
    ">>> smallest = a[0]\n",
    ">>> for i in a:\n",
    "...     if i < smallest:\n",
    "...         smallest = i\n",
    "...\n",
    ">>> smallest\n",
    "19\n",
    "먼저 리스트 a의 첫 번째 요소 a[0]를 변수 smallest에 저장합니다. \n",
    "그리고 for로 리스트의 요소를 모두 반복하면서 i가 smallest보다 작으면 smallest에 i를 할당합니다. \n",
    "즉, 숫자를 계속 비교해서 숫자가 작으면 smallest를 바꾸는 방식입니다.\n",
    "\n",
    "가장 큰 수는 부등호를 반대로 만들면 되겠죠?\n",
    "\n",
    ">>> a = [38, 21, 53, 62, 19]\n",
    ">>> largest = a[0]\n",
    ">>> for i in a:\n",
    "...     if i > largest:\n",
    "...         largest = i\n",
    "...\n",
    ">>> largest\n",
    "62\n",
    "리스트의 숫자를 계속 비교해서 숫자가 크면 largest를 바꾸는 방식입니다.\n",
    " 그런데 이렇게 for와 if를 사용해서 가장 작은 수와 가장 큰 수를 찾으려니 좀 번거롭습니다. 다른 방법이 없을까요?\n",
    "\n",
    "앞에서 리스트를 정렬하는 sort 메서드를 배웠습니다.\n",
    " 리스트를 작은 순서대로 정렬(오름차순)하면 첫 번째 요소가 가장 작은 수입니다.\n",
    " 반대로 큰 순서대로 정렬(내림차순)하면 첫 번째 요소가 가장 큰 수가 되겠죠?\n",
    "\n",
    ">>> a = [38, 21, 53, 62, 19]\n",
    ">>> a.sort()\n",
    ">>> a[0]\n",
    "19\n",
    ">>> a.sort(reverse=True)\n",
    ">>> a[0]\n",
    "62\n",
    "더 간단한 방법이 있습니다. 파이썬에서 제공하는 min, max 함수를 사용하면 됩니다.\n",
    "\n",
    ">>> a = [38, 21, 53, 62, 19]\n",
    ">>> min(a)\n",
    "19\n",
    ">>> max(a)\n",
    "62\n",
    "min은 리스트에서 가장 작은 값을 구하고, max는 가장 큰 값을 구합니다.\n",
    "\n",
    "22.4.2  요소의 합계 구하기\n",
    "이번에는 리스트에서 요소의 합계를 구해보겠습니다. 합계를 구할 때도 반복문을 사용할 수 있겠죠?\n",
    "\n",
    ">>> a = [10, 10, 10, 10, 10]\n",
    ">>> x = 0\n",
    ">>> for i in a:\n",
    "...     x += i\n",
    "...\n",
    ">>> x\n",
    "50\n",
    "변수 x에 0을 할당하고, for 반복문으로 리스트의 요소를 모두 반복하면서 요소를 x에 계속 더해주면 됩니다.\n",
    " 이때 x에는 반드시 0을 할당해야 합니다. 그렇지 않으면 없는 변수에 값을 더하게 되므로 에러가 발생합니다. \n",
    " 또한, 0부터 시작해서 숫자를 더해야 제대로 된 합계가 구해지겠죠?\n",
    "\n",
    "사실 이 방법도 좀 번거롭습니다. 그래서 파이썬에서는 합계를 구하는 sum 함수를 제공합니다.\n",
    "\n",
    ">>> a = [10, 10, 10, 10, 10]\n",
    ">>> sum(a)\n",
    "50\n",
    "이처럼 sum에 리스트을 넣어서 간단하게 요소의 합계를 구할 수 있습니다.\n",
    "\n",
    "여기서 설명한 min, max, sum에는 리스트뿐만 아니라 모든 반복 가능한 객체(iterable)를 넣을 수 있습니다.\n",
    " 반복 가능한 객체는 리스트, 튜플, 딕셔너리, 세트, range 등 여러 가지가 있으며 이 부분은 '39.1 반복 가능한 객체 알아보기'에서 자세히 설명하겠습니다."
   ]
  },
  {
   "cell_type": "code",
   "execution_count": null,
   "id": "e360f3e9",
   "metadata": {},
   "outputs": [],
   "source": [
    "파이썬의 리스트가 특이한 점은 리스트 안에 for 반복문과 if 조건문을 사용할 수 있다는 점입니다.\n",
    " 이렇게 리스트 안에 식, for 반복문, if 조건문 등을 지정하여 리스트를 생성하는 것을 리스트 컴프리헨션(list comprehension)이라고 합니다.\n",
    "\n",
    "리스트 컴프리헨션이라고 하니 언뜻 이해가 잘 안되죠?\n",
    " 책이나 인터넷에서도 리스트 내포, 리스트 내장, 리스트 축약, 리스트 해석 등으로 씁니다. \n",
    " 컴프리헨션은 능력, 이해력, 시험 등의 뜻도 있지만, 어떤 것을 잡아서 담아둔다는 뜻이 있습니다. \n",
    " 즉, 식으로 지정해서 생성된 것을 리스트로 잡아두는 것이 리스트 컴프리헨션입니다.\n",
    "  개념적으로 보면 \"리스트 표현식\"이라고 할 수 있으니 이 책에서는 간단하게 리스트 표현식이라고 쓰겠습니다.\n",
    "\n",
    "리스트 표현식은 다음과 같이 리스트 안에 식, for 반복문을 지정합니다.\n",
    " 문법이 다소 복잡해 보이지만 여러 줄의 코드를 한 줄로 줄일 수 있고, 익숙해지면 크게 어렵지 않습니다.\n",
    "\n",
    "[식 for 변수 in 리스트]\n",
    "list(식 for 변수 in 리스트)\n",
    ">>> a = [i for i in range(10)]        # 0부터 9까지 숫자를 생성하여 리스트 생성\n",
    ">>> a\n",
    "[0, 1, 2, 3, 4, 5, 6, 7, 8, 9]\n",
    ">>> b = list(i for i in range(10))    # 0부터 9까지 숫자를 생성하여 리스트 생성\n",
    ">>> b\n",
    "[0, 1, 2, 3, 4, 5, 6, 7, 8, 9]\n",
    "리스트 안에 식, for, 변수, in, 리스트 순서로 들어있지만 뒤에서 앞으로 읽으면 간단합니다. \n",
    "즉, range(10)으로 0부터 9까지 생성하여 변수 i에 숫자를 꺼내고, 최종적으로 i를 이용하여 리스트를 만든다는 뜻입니다.\n",
    "\n",
    "▼ 그림 22-16 리스트 표현식의 동작 순서\n",
    "\n",
    "[i for i in range(10)]는 변수 i를 그대로 사용하지만,\n",
    " 다음과 같이 식 부분에서 i를 다른 값과 연산하면 각 연산의 결과를 리스트로 생성합니다.\n",
    "\n",
    ">>> c = [i + 5 for i in range(10)]    # 0부터 9까지 숫자를 생성하면서 값에 5를 더하여 리스트 생성\n",
    ">>> c\n",
    "[5, 6, 7, 8, 9, 10, 11, 12, 13, 14]\n",
    ">>> d = [i * 2 for i in range(10)]    # 0부터 9까지 숫자를 생성하면서 값에 2를 곱하여 리스트 생성\n",
    ">>> d\n",
    "[0, 2, 4, 6, 8, 10, 12, 14, 16, 18]\n",
    "식을 [i + 5 for i in range(10)]과 같이 i에 5를 더하면 0부터 9까지의 숫자에 5를 더한 값으로 리스트를 생성합니다.\n",
    " 마찬가지로 [i * 2 for i in range(10)]는 0부터 9까지의 숫자에 2를 곱한 값으로 리스트를 생성합니다.\n",
    "\n",
    "참고 | 대괄호와 list() 리스트 표현식\n",
    "리스트 표현식은 [식 for 변수 in 리스트]처럼 [ ](대괄호)로 만들 수도 있고, \n",
    "list(식 for 변수 in 리스트)처럼 list로 만들 수도 있습니다. \n",
    "둘 중에 성능은 대괄호 방식이 더 좋습니다. 특히 list 방식은 C 언어 스타일이라 대괄호 방식이 파이썬 다운 코드입니다.\n",
    " 따라서 리스트 표현식은 대괄호 방식을 사용하는 것이 좋습니다. list는 리스트 표현식을 만들 수 있다는 정도만 알아 두면 됩니다.\n",
    "\n",
    "22.5.1  리스트 표현식에서 if 조건문 사용하기\n",
    "이번에는 리스트 표현식에서 if 조건문을 사용해보겠습니다. 다음과 같이 if 조건문은 for 반복문 뒤에 지정합니다.\n",
    "\n",
    "[식 for 변수 in 리스트 if 조건식]\n",
    "list(식 for 변수 in 리스트 if 조건식)\n",
    ">>> a = [i for i in range(10) if i % 2 == 0]    # 0~9 숫자 중 2의 배수인 숫자(짝수)로 리스트 생성\n",
    ">>> a\n",
    "[0, 2, 4, 6, 8]\n",
    "[i for i in range(10) if i % 2 == 0]는 0부터 9까지 숫자를 생성하여 2의 배수인 숫자(짝수)로만 리스트를 생성합니다.\n",
    " 즉, 다음과 같이 for 반복문 뒤에 if 조건문을 지정하면 숫자를 생성한 뒤 if 조건문에서 특정 숫자만 뽑아내서 리스트를 생성합니다.\n",
    "\n",
    "▼ 그림 22-17 리스트 표현식에서 if 조건문 사용하기\n",
    "\n",
    "물론 다음과 같이 i를 다른 값과 연산해서 리스트를 만들어도 됩니다.\n",
    "\n",
    ">>> b = [i + 5 for i in range(10) if i % 2 == 1]    # 0~9 숫자 중 홀수에 5를 더하여 리스트 생성\n",
    ">>> b\n",
    "[6, 8, 10, 12, 14]\n",
    "22.5.2  for 반복문과 if 조건문을 여러 번 사용하기\n",
    "리스트 표현식은 for와 if를 여러 번 사용할 수도 있습니다.\n",
    "\n",
    "[식 for 변수1 in 리스트1 if 조건식1     for 변수2 in 리스트2 if 조건식2     ...     for 변수n in 리스트n if 조건식n]\n",
    " \n",
    "list(식 for 변수1 in 리스트1 if 조건식1         for 변수2 in 리스트2 if 조건식2         ...         for 변수n in 리스트n if 조건식n)\n",
    "다음은 2단부터 9단까지 구구단을 리스트 생성합니다.\n",
    "\n",
    ">>> a = [i * j for j in range(2, 10) for i in range(1, 10)]\n",
    ">>> a\n",
    "[2, 4, 6, 8, 10, 12, 14, 16, 18, 3, 6, 9, 12, 15, 18, 21, 24, 27, 4, 8, 12, 16, 20, \n",
    " 24, 28, 32, 36, 5, 10, 15, 20, 25, 30, 35, 40, 45, 6, 12, 18, 24, 30, 36, 42, 48, \n",
    " 54, 7, 14, 21, 28, 35, 42, 49, 56, 63, 8, 16, 24, 32, 40, 48, 56, 64, 72, 9, 18, 27, 36, 45, 54, 63, 72, 81]\n",
    "여기서는 코드를 한 줄로 입력했지만 다음과 같이 여러 줄로 입력해도 됩니다. \n",
    "이때 들여쓰기는 해도 되고 하지 않아도 됩니다. 하지만 가독성을 위해 들여쓰기를 해주는 것이 좋습니다.\n",
    "\n",
    "a = [i * j for j in range(2, 10)\n",
    "           for i in range(1, 10)]\n",
    "리스트 표현식에 for가 여러 개일 때 처리 순서는 뒤에서 앞으로 순입니다.\n",
    "\n",
    "▼ 그림 22-18 리스트 표현식에 for가 여러 개일 때 처리 순서\n"
   ]
  },
  {
   "cell_type": "code",
   "execution_count": null,
   "id": "a219f47d",
   "metadata": {},
   "outputs": [],
   "source": [
    "이번에는 리스트에 map을 사용해보겠습니다.\n",
    " map은 리스트의 요소를 지정된 함수로 처리해주는 함수입니다(map은 원본 리스트를 변경하지 않고 새 리스트를 생성합니다).\n",
    "\n",
    "list(map(함수, 리스트))\n",
    "tuple(map(함수, 튜플))\n",
    "예를 들어 실수가 저장된 리스트가 있을 때 이 리스트의 모든 요소를 정수로 변환하려면 어떻게 해야 할까요? \n",
    "먼저 for 반복문을 사용해서 변환해보겠습니다.\n",
    "\n",
    ">>> a = [1.2, 2.5, 3.7, 4.6]\n",
    ">>> for i in range(len(a)):\n",
    "...     a[i] = int(a[i])\n",
    "...\n",
    ">>> a\n",
    "[1, 2, 3, 4]\n",
    "for에 range(len(a))를 사용해서 인덱스를 가져왔습니다. \n",
    "그리고 가져온 인덱스로 요소 하나 하나에 접근한 뒤 int로 변환하여 다시 저장했습니다.\n",
    "\n",
    "매번 for 반복문으로 반복하면서 요소를 변환하려니 조금 번거롭습니다. 이때는 map을 사용하면 편리합니다.\n",
    "\n",
    ">>> a = [1.2, 2.5, 3.7, 4.6]\n",
    ">>> a = list(map(int, a))\n",
    ">>> a\n",
    "[1, 2, 3, 4]\n",
    "a = list(map(int, a)) 한 줄로 변환이 끝났습니다. map에 int와 리스트를 넣으면 리스트의 모든 요소를 int를 사용해서 변환합니다.\n",
    " 그다음에 list를 사용해서 map의 결과를 다시 리스트로 만들어줍니다.\n",
    "\n",
    "▼ 그림 22-19 리스트에 map 함수 사용\n",
    "\n",
    "사실 map에는 리스트뿐만 아니라 모든 반복 가능한 객체를 넣을 수 있습니다('39.1 반복 가능한 객체 알아보기' 참조). \n",
    "이번에는 range를 사용해서 숫자를 만든 뒤 숫자를 문자열로 변환해보겠습니다.\n",
    "\n",
    ">>> a = list(map(str, range(10)))\n",
    ">>> a\n",
    "['0', '1', '2', '3', '4', '5', '6', '7', '8', '9']\n",
    "range로 0부터 9까지 숫자를 만들고, str을 이용해서 모두 문자열로 변환했습니다.\n",
    " 리스트를 출력해보면 각 요소가 ' '(작은따옴표)로 묶인 것을 볼 수 있습니다.\n",
    "\n",
    "22.6.1  input().split()과 map\n",
    "지금까지 input().split()으로 값을 여러 개 입력받고 정수, 실수로 변환할 때도 map을 사용했었죠? \n",
    "사실 input().split()의 결과가 문자열 리스트라서 map을 사용할 수 있었습니다.\n",
    "\n",
    "다음과 같이 input().split()을 사용한 뒤에 변수 한 개에 저장해보면 리스트인지 확인할 수 있습니다.\n",
    "\n",
    ">>> a = input().split()\n",
    "10 20 (입력)\n",
    ">>> a\n",
    "['10', '20']\n",
    "10 20을 입력하면 ['10', '20']처럼 문자열 두 개가 들어있는 리스트가 만들어집니다.\n",
    "\n",
    "이제 map을 사용해서 정수로 변환해봅니다.\n",
    "\n",
    ">>> a = map(int, input().split())\n",
    "10 20 (입력)\n",
    ">>> a\n",
    "<map object at 0x03DFB0D0>\n",
    ">>> list(a)\n",
    "[10, 20]\n",
    "다시 10 20을 입력하면 맵 객체(map object)가 만들어집니다.\n",
    " 이 상태로는 안에 들어있는 값을 볼 수 없으므로 list를 사용해서 리스트로 출력했습니다.\n",
    "  리스트를 보면 [10, 20]처럼 정수 두 개가 들어있습니다.\n",
    "\n",
    "이 리스트 [10, 20]을 변수 두 개에 저장하면 지금까지 사용한 a, b = map(int, input().split())와 같은 동작이 됩니다.\n",
    "\n",
    ">>> a, b = [10, 20]\n",
    ">>> a\n",
    "10\n",
    ">>> b\n",
    "20\n",
    "사실 map이 반환하는 맵 객체는 이터레이터라서 변수 여러 개에 저장하는 언패킹(unpacking)이 가능합니다. \n",
    "그래서 a, b = map(int, input().split())처럼 list를 생략한 것입니다('39.2 이터레이터 만들기' 참조).\n",
    "\n",
    "a, b = map(int, input().split())을 풀어서 쓰면 다음과 같은 코드가 됩니다.\n",
    "\n",
    "x = input().split()    # input().split()의 결과는 문자열 리스트\n",
    "m = map(int, x)        # 리스트의 요소를 int로 변환, 결과는 맵 객체\n",
    "a, b = m               # 맵 객체는 변수 여러 개에 저장할 수 있음\n",
    "내용이 조금 어렵죠? 이처럼 파이썬은 여러 가지 함수와 객체를 조합해서 결과를 만들어냅니다.\n",
    " 파이썬을 처음 접할 때는 이해하기가 쉽지 않은 부분이니 이런 것도 있구나 하고 넘어가도 됩니다."
   ]
  },
  {
   "cell_type": "code",
   "execution_count": null,
   "id": "39a7c1c6",
   "metadata": {},
   "outputs": [],
   "source": [
    "2차원 리스트 사용하기\n",
    "리스트를 사용할 때 한 줄로 늘어선 1차원 리스트를 사용했는데 이번에는 평면 구조의 2차원 리스트를 사용해보겠습니다.\n",
    "\n",
    "2차원 리스트는 다음과 같이 가로×세로 형태로 이루어져 있으며 행(row)과 열(column) 모두 0부터 시작합니다.\n",
    "\n",
    "▼ 그림 23-1 2차원 리스트\n",
    "\n",
    "23.1 2차원 리스트를 만들고 요소에 접근하기\n",
    "2차원 리스트는 리스트 안에 리스트를 넣어서 만들 수 있으며 안쪽의 각 리스트는 ,(콤마)로 구분합니다.\n",
    "\n",
    "리스트 = [[값, 값], [값, 값], [값, 값]]\n",
    "그럼 숫자 2개씩 3묶음으로 리스트를 만들어보겠습니다.\n",
    "\n",
    ">>> a = [[10, 20], [30, 40], [50, 60]]\n",
    ">>> a\n",
    "[[10, 20], [30, 40], [50, 60]]\n",
    "가로 2, 세로 3의 2차원 리스트가 만들어졌습니다.\n",
    "여기서는 리스트를 한 줄로 입력했지만 가로, 세로를 알아보기 쉽게 세 줄로 입력해도 됩니다.\n",
    "\n",
    "a = [[10, 20],\n",
    "     [30, 40],\n",
    "     [50, 60] ]\n",
    "23.1.1  2차원 리스트의 요소에 접근하기\n",
    "2차원 리스트의 요소에 접근하거나 값을 할당할 때는 리스트 뒤에 [ ](대괄호)를 두 번 사용하며 [ ] 안에 세로(row) 인덱스와 가로(column) 인덱스를 지정해주면 됩니다.\n",
    "\n",
    "리스트[세로인덱스][가로인덱스]\n",
    "리스트[세로인덱스][가로인덱스] = 값\n",
    ">>> a = [[10, 20], [30, 40], [50, 60]]\n",
    ">>> a[0] [0]            # 세로 인덱스 0, 가로 인덱스 0인 요소 출력\n",
    "10\n",
    ">>> a[1][1]           # 세로 인덱스 1, 가로 인덱스 1인 요소 출력\n",
    "40\n",
    ">>> a[2][1]           # 세로 인덱스 2, 가로 인덱스 0인 요소 출력\n",
    "60\n",
    ">>> a[0][1] = 1000    # 세로 인덱스 0, 가로 인덱스 1인 요소에 값 할당\n",
    ">>> a[0][1]\n",
    "1000\n",
    "2차원 리스트도 인덱스는 0부터 시작합니다. 따라서 리스트의 가로 첫 번째, 세로 첫 번째 요소는 a[0][0]이 됩니다.\n",
    "\n",
    "▼ 그림 23-2 인덱스로 2차원 리스트의 요소에 접근\n",
    "\n",
    "참고 | 톱니형 리스트\n",
    "2차원 리스트 [[10, 20], [30, 40], [50, 60]]은 가로 크기가 일정한 사각형 리스트입니다.\n",
    " 특히 파이썬에서는 가로 크기가 불규칙한 톱니형 리스트(jagged list)도 만들 수 있습니다.\n",
    "\n",
    "a = [[10, 20],\n",
    "     [500, 600, 700],\n",
    "     [9],\n",
    "     [30, 40],\n",
    "     [8],\n",
    "     [800, 900, 1000]]\n",
    "리스트 a는 가로 크기(행의 요소 개수) 가 제각각입니다. 이런 리스트는 요소가 배치된 모양이 톱니처럼 생겼다고 하여 톱니형 리스트라고 부릅니다.\n",
    "\n",
    "톱니형 리스트는 다음과 같이 append 메서드 등을 사용하여 동적으로 생성할 수도 있습니다.\n",
    "\n",
    ">>> a = []\n",
    ">>> a.append([])\n",
    ">>> a[0].append(10)\n",
    ">>> a[0].append(20)\n",
    ">>> a.append([])\n",
    ">>> a[1].append(500)\n",
    ">>> a[1].append(600)\n",
    ">>> a[1].append(700)\n",
    ">>> a\n",
    "[[10, 20], [500, 600, 700]]\n",
    "참고 | 2차원 튜플\n",
    "2차원 리스트가 있으면 2차원 튜플도 있겠죠? \n",
    "다음과 같이 튜플 안에 튜플을 넣는 방식, 튜플 안에 리스트를 넣는 방식, 리스트 안에 튜플을 넣는 방식 등이 가능합니다.\n",
    "\n",
    "튜플 = ((값, 값), (값, 값), (값, 값))\n",
    "\n",
    "튜플 = ([값, 값], [값, 값], [값, 값])\n",
    "\n",
    "리스트 = [(값, 값), (값, 값), (값, 값)]\n",
    "\n",
    "a = ((10, 20), (30, 40), (50, 60))    # 튜플 안에 튜플을 넣은 2차원 튜플\n",
    "b = ([10, 20], [30, 40], [50, 60])    # 튜플 안에 리스트를 넣음\n",
    "c = [(10, 20), (30, 40), (50, 60)]    # 리스트 안에 튜플을 넣음\n",
    "튜플은 내용을 변경할 수 없으므로 a는 안쪽과 바깥쪽 모두 요소를 변경할 수 없습니다.\n",
    " b는 안쪽 리스트만 요소를 변경할 수 있고, c는 바깥쪽 리스트만 요소를 변경할 수 있습니다.\n",
    "\n",
    "a[0][0] = 500        # 안쪽 튜플은 변경할 수 없음. TypeError 발생\n",
    "a[0] = (500, 600)    # 바깥쪽 튜플은 변경할 수 없음. TypeError 발생\n",
    "b[0][0] = 500        # 안쪽 리스트는 변경할 수 있음\n",
    "b[0] = (500, 600)    # 바깥쪽 튜플은 변경할 수 없음. TypeError 발생\n",
    "c[0][0] = 500        # 안쪽 튜플은 변경할 수 없음. TypeError 발생\n",
    "c[0] = (500, 600)    # 바깥쪽 리스트는 변경할 수 있음\n",
    "참고 | 사람이 알아보기 쉽게 출력하기\n",
    "2차원 리스트를 출력하면 한 줄로 쭉 붙어서 출력됩니다.\n",
    "\n",
    ">>> a = [[10, 20], [30, 40], [50, 60]]\n",
    ">>> a\n",
    "[[10, 20], [30, 40], [50, 60]]\n",
    "만약 2차원 리스트의 사각형 구조를 유지하도록 출력하려면 pprint 모듈의 pprint 함수를 사용합니다.\n",
    "\n",
    ">>> from pprint import pprint\n",
    ">>> pprint(a, indent=4, width=20)\n",
    "[   [10, 20],\n",
    "    [30, 40],\n",
    "    [50, 60]]\n",
    "indent는 들여쓰기 칸 수, width는 가로 폭입니다. 각자 상황에 맞게 들여쓰기 칸 수와 가로 폭을 조절해서 사용해보세요.\n"
   ]
  },
  {
   "cell_type": "code",
   "execution_count": null,
   "id": "83ed6140",
   "metadata": {},
   "outputs": [],
   "source": [
    "이제 반복문을 사용하여 2차원 리스트의 요소를 모두 출력하는 방법을 알아보겠습니다.\n",
    "\n",
    "23.2.1  for 반복문을 한 번만 사용하기\n",
    "먼저 for 반복문을 한 번만 사용하는 방식입니다.\n",
    "\n",
    ">>> a = [[10, 20], [30, 40], [50, 60]]\n",
    ">>> for x, y in a:    # 리스트의 가로 한 줄(안쪽 리스트)에서 요소 두 개를 꺼냄\n",
    "...     print(x, y)\n",
    "...\n",
    "10 20\n",
    "30 40\n",
    "50 60\n",
    "2차원 리스트에 for를 사용하면 가로 한 줄씩 반복하게 됩니다. 전체 리스트를 기준으로 보면 안쪽 리스트가 통째로 반복됩니다.\n",
    " 이때 for x, y in a:와 같이 in 앞에 변수를 두 개 지정해주면 가로 한 줄(안쪽 리스트)에서 요소 두 개를 꺼내 옵니다.\n",
    "\n",
    "▼ 그림 23-3 2차원 리스트에서 for 반복문을 한 번만 사용\n",
    "\n",
    "당연히 in 앞에 변수의 개수는 2차원 리스트에서 가로 크기(안쪽 리스트의 요소 개수)와 일치해야 합니다.\n",
    " 특히 for 반복문을 한 번만 사용하는 방식은 2차원 리스트의 가로 크기가 크지 않을 때 유용합니다.\n",
    "\n",
    "23.2.2  for 반복문을 두 번 사용하기\n",
    "이번에는 for 반복문을 두 번 사용해서 2차원 리스트의 요소를 출력해보겠습니다. 다음 내용을 IDLE의 소스 코드 편집 창에 입력한 뒤 실행해보세요.\n",
    "\n",
    "two_dimensional_list_for_for.py\n",
    "a = [[10, 20], [30, 40], [50, 60]]\n",
    " \n",
    "for i in a:        # a에서 안쪽 리스트를 꺼냄\n",
    "    for j in i:    # 안쪽 리스트에서 요소를 하나씩 꺼냄\n",
    "        print(j, end=' ')\n",
    "    print()\n",
    "실행 결과\n",
    "10 20\n",
    "30 40\n",
    "50 60\n",
    "먼저 for i in a:는 전체 리스트에서 가로 한 줄씩 꺼내 옵니다(안쪽 리스트를 통째로 꺼내 옴).\n",
    " 다시 for j in i:와 같이 가로 한 줄(안쪽 리스트) i에서 요소를 하나씩 꺼내면 됩니다.\n",
    "\n",
    " \n",
    "\n",
    "▼ 그림 23-4 2차원 리스트에서 for 반복문을 두 번 사용\n",
    "\n",
    "23.2.3  for와 range 사용하기\n",
    "그럼 이번에는 for range에 세로 크기와 가로 크기를 지정해서 2차원 리스트의 요소를 인덱스로 접근해보겠습니다.\n",
    "\n",
    "two_dimensional_list_for_for_range.py\n",
    "a = [[10, 20], [30, 40], [50, 60]]\n",
    " \n",
    "for i in range(len(a)):            # 세로 크기\n",
    "    for j in range(len(a[i])):     # 가로 크기\n",
    "        print(a[i][j], end=' ')\n",
    "    print()\n",
    "실행 결과\n",
    "10 20 \n",
    "30 40 \n",
    "50 60\n",
    "for range에 세로 크기와 가로 크기를 넣으면 인덱스로 사용할 수 있습니다. \n",
    "여기서 주의할 점은 len으로 2차원 리스트 a의 크기를 구하면 리스트 안에 들어있는 모든 요소의 개수가 아니라 안쪽 리스트의 개수(세로 크기)가 나온다는 점입니다.\n",
    " 즉, len(a)는 6이 아니라 3입니다. 그리고 len으로 안쪽 리스트 a[i]의 크기를 구해야 안쪽 리스트에 들어있는 요소의 개수(가로 크기)가 나옵니다. 즉, len(a[i])는 2입니다.\n",
    "\n",
    "for i in range(len(a)):            # 세로 크기\n",
    "    for j in range(len(a[i])):     # 가로 크기\n",
    "for i in range(len(a)):는 세로 크기 3만큼 반복하고, for j in range(len(a[i])):는 가로 크기 2만큼 반복합니다.\n",
    "\n",
    "요소에 접근할 때는 리스트[세로인덱스][가로인덱스] 형식으로 접근합니다.\n",
    " 따라서 세로 인덱스에 변수 i를, 가로 인덱스에 변수 j를 지정해줍니다.\n",
    "\n",
    "print(a[i][j], end=' ')\n",
    "23.2.4  while 반복문을 한 번 사용하기\n",
    "이번에는 while 반복문을 사용하여 2차원 리스트의 요소를 출력해보겠습니다.\n",
    "\n",
    "two_dimensional_list_while.py\n",
    "a = [[10, 20], [30, 40], [50, 60]]\n",
    " \n",
    "i = 0\n",
    "while i < len(a):    # 반복할 때 리스트의 크기 활용(세로 크기)\n",
    "    x, y = a[i]      # 요소 두 개를 한꺼번에 가져오기\n",
    "    print(x, y)\n",
    "    i += 1           # 인덱스를 1 증가시킴\n",
    "실행 결과\n",
    "10 20\n",
    "30 40\n",
    "50 60\n",
    "while 반복문을 사용할 때도 리스트의 크기를 활용하면 편리합니다.\n",
    " 여기서도 len(a)처럼 2차원 리스트의 크기를 구했으니 안쪽 리스트의 개수(세로 크기)가 나오겠죠? 따라서 6이 아닌 3이 나옵니다.\n",
    "\n",
    "i = 0\n",
    "while i < len(a):    # 반복할 때 리스트의 크기 활용(세로 크기)\n",
    "리스트에 인덱스를 지정하여 값을 꺼내 올 때는 \n",
    "다음과 같이 변수 두 개를 지정해주면 가로 한 줄(안쪽 리스트)에서 요소 두 개를 한꺼번에 가져올 수 있습니다.\n",
    "\n",
    "x, y = a[i]\n",
    "요소를 가져왔으면 반드시 i += 1과 같이 인덱스를 1 증가시켜 줍니다.\n",
    "\n",
    "23.2.5  while 반복문을 두 번 사용하기\n",
    "그럼 while 반복문을 두 번 사용할 수도 있겠죠?\n",
    "\n",
    "two_dimensional_list_while_while.py\n",
    "a = [[10, 20], [30, 40], [50, 60]]\n",
    " \n",
    "i = 0\n",
    "while i < len(a):           # 세로 크기\n",
    "    j = 0\n",
    "    while j < len(a[i]):    # 가로 크기\n",
    "        print(a[i][j], end=' ')\n",
    "        j += 1              # 가로 인덱스를 1 증가시킴\n",
    "    print()\n",
    "    i += 1                  # 세로 인덱스를 1 증가시킴\n",
    "실행 결과\n",
    "10 20 \n",
    "30 40 \n",
    "50 60\n",
    "먼저 while i < len(a):와 같이 세로 크기만큼 반복하면서 while j < len(a[i]):와 같이 가로 크기(안쪽 리스트의 요소 개수)만큼 반복하면 됩니다.\n",
    " 가로 크기는 len(a[i])와 같이 안쪽 리스트의 크기를 구하면 되겠죠?\n",
    "\n",
    "i = 0\n",
    "while i < len(a):           # 세로 크기\n",
    "    j = 0\n",
    "    while j < len(a[i]):    # 가로 크기\n",
    "요소에 접근할 때는 리스트[세로인덱스][가로인덱스] 형식으로 접근합니다. 따라서 세로 인덱스에 변수 i를, 가로 인덱스에 변수 j를 지정해줍니다.\n",
    "\n",
    "print(a[i][j], end=' ')\n",
    "요소를 가져왔으면 반드시 j += 1과 같이 가로 인덱스를 1 증가시켜 줍니다.\n",
    " 마찬가지로 바깥쪽 while에서는 i += 1과 같이 세로 인덱스를 1 증가시켜 줍니다.\n",
    "  이때 i += 1을 안쪽 while에서 수행하면 반복이 제대로 되지 않으므로 주의해야 합니다.\n",
    "\n",
    "i = 0\n",
    "while i < len(a):\n",
    "    j = 0\n",
    "    while j < len(a[i]):\n",
    "        print(a[i][j], end=' ')\n",
    "        j += 1\n",
    "        i += 1    # 안쪽 while에서 i를 증가시키면 안 됨. 잘못된 방법\n",
    "    print()"
   ]
  },
  {
   "cell_type": "code",
   "execution_count": null,
   "id": "4173acc9",
   "metadata": {},
   "outputs": [],
   "source": [
    "이번에는 for 반복문과 append를 활용하여 리스트를 만드는 방법을 알아보겠습니다.\n",
    "\n",
    "23.3.1  for 반복문으로 1차원 리스트 만들기\n",
    "먼저 요소 10개가 일렬로 늘어서 있는 1차원 리스트부터 만들어보겠습니다. \n",
    "1차원 리스트라고 해서 특별한 것은 없습니다. 지금까지 사용했던 일반적인 리스트입니다.\n",
    "\n",
    "list_create.py\n",
    "a = []    # 빈 리스트 생성\n",
    " \n",
    "for i in range(10):\n",
    "    a.append(0)    # append로 요소 추가\n",
    " \n",
    "print(a)\n",
    "실행 결과\n",
    "[0, 0, 0, 0, 0, 0, 0, 0, 0, 0]\n",
    "방법은 간단합니다. for 반복문으로 10번 반복하면서 append로 요소를 추가하면 1차원 리스트를 만들 수 있습니다.\n",
    "\n",
    "23.3.2  for 반복문으로 2차원 리스트 만들기\n",
    "이번에는 for 반복문을 사용하여 2차원 리스트를 만들어보겠습니다.\n",
    "\n",
    "two_dimensional_list_create.py\n",
    "a = []    # 빈 리스트 생성\n",
    " \n",
    "for i in range(3):\n",
    "    line = []              # 안쪽 리스트로 사용할 빈 리스트 생성\n",
    "    for j in range(2):\n",
    "        line.append(0)     # 안쪽 리스트에 0 추가\n",
    "    a.append(line)         # 전체 리스트에 안쪽 리스트를 추가\n",
    " \n",
    "print(a)\n",
    "실행 결과\n",
    "[[0, 0], [0, 0], [0, 0]]\n",
    "먼저 세로 크기만큼 반복하면서 안쪽 리스트로 사용할 빈 리스트 line을 만듭니다.\n",
    "\n",
    "for i in range(3):\n",
    "    line = []              # 안쪽 리스트로 사용할 빈 리스트 생성\n",
    "그다음에 가로 크기만큼 반복하면서 line에 append로 0을 추가합니다. \n",
    "바깥쪽 반복문에서는 다시 append로 전체 리스트 a에 안쪽 리스트 line을 추가하면 됩니다.\n",
    "\n",
    "    for j in range(2):\n",
    "        line.append(0)     # 안쪽 리스트에 0 추가\n",
    "    a.append(line)         # 전체 리스트에 안쪽 리스트를 추가\n",
    "여기서는 append에 리스트를 넣으면 리스트 안에 리스트가 들어가는 특성을 이용했습니다.\n",
    "\n",
    "23.3.3  리스트 표현식으로 2차원 리스트 만들기\n",
    "for 반복문을 두 번 사용하니 코드가 좀 길어졌죠? 리스트 표현식을 활용하면 코드 한 줄로 2차원 리스트를 만들 수 있습니다.\n",
    "\n",
    ">>> a = [[0 for j in range(2)] for i in range(3)]\n",
    ">>> a\n",
    "[[0, 0], [0, 0], [0, 0]]\n",
    "리스트 표현식 안에서 리스트 표현식을 사용했습니다.\n",
    " 먼저 [0 for j in range(2)]로 0을 2번 반복하여 [0, 0]으로 만들고\n",
    "  다시 for i in range(3)으로 [0, 0]을 3번 반복하여 [[0, 0], [0, 0], [0, 0]]으로 만듭니다.\n",
    "\n",
    "만약 for 반복문을 한 번만 사용하고 싶다면 다음과 같이 식 부분에서 리스트 자체를 곱해주면 됩니다.\n",
    "\n",
    ">>> a = [[0] * 2 for i in range(3)]\n",
    ">>> a\n",
    "[[0, 0], [0, 0], [0, 0]]\n",
    "즉, 0이 1개 들어있는 리스트 [0]에 2를 곱하면 [0, 0]이 되는데, 이걸 for i in range(3)으로 3번 반복해주면 [[0, 0], [0, 0], [0, 0]]이 됩니다.\n",
    "\n",
    "23.3.4  톱니형 리스트 만들기\n",
    "지금까지 만든 2차원 리스트는 사각형 리스트였습니다.\n",
    " 그럼 가로 크기가 불규칙한 톱니형 리스트(jagged list)는 어떻게 만들면 될까요? \n",
    " 여기서는 가로 크기를 알고 있다고 가정하고, 리스트를 만들어보겠습니다.\n",
    "\n",
    "jagged_list_create.py\n",
    "a = [3, 1, 3, 2, 5]    # 가로 크기를 저장한 리스트\n",
    "b = []    # 빈 리스트 생성\n",
    " \n",
    "for i in a:      # 가로 크기를 저장한 리스트로 반복\n",
    "    line = []    # 안쪽 리스트로 사용할 빈 리스트 생성\n",
    "    for j in range(i):    # 리스트 a에 저장된 가로 크기만큼 반복\n",
    "        line.append(0)\n",
    "    b.append(line)        # 리스트 b에 안쪽 리스트를 추가\n",
    " \n",
    "print(b)\n",
    "실행 결과\n",
    "[[0, 0, 0], [0], [0, 0, 0], [0, 0], [0, 0, 0, 0, 0]]\n",
    "먼저 리스트 a에 톱니형 리스트의 가로 크기를 미리 저장해 놓았습니다. \n",
    "이 리스트 a를 for로 반복하면 가로 크기를 꺼내면서 5번 반복하겠죠? \n",
    "for 반복문 안에서 다시 for로 꺼낸 가로 크기 i만큼 반복하면서 append로 요소를 추가해줍니다. \n",
    "그리고 바깥쪽 반복문에서 리스트 b에 안쪽 리스트 line을 추가하면 됩니다.\n",
    "\n",
    "사실 이것도 그냥 리스트 표현식을 활용하면 간단하게 만들 수 있습니다.\n",
    "\n",
    ">>> a = [[0] * i for i in [3, 1, 3, 2, 5]]\n",
    ">>> a\n",
    "[[0, 0, 0], [0], [0, 0, 0], [0, 0], [0, 0, 0, 0, 0]]\n",
    "가로 크기가 들어있는 리스트 [3, 1, 3, 2, 5]에서 꺼낸 숫자만큼 리스트 [0]을 곱해서 톱니형 리스트를 만들었습니다.\n",
    "\n",
    "이처럼 리스트 표현식은 다양한 방식으로 응용할 수 있으므로 눈에 익혀 두는 것이 좋습니다.\n",
    "\n",
    "참고 | sorted로 2차원 리스트 정렬하기\n",
    "2차원 리스트를 정렬할 때는 sorted 함수를 사용합니다.\n",
    "\n",
    "sorted(반복가능한객체, key=정렬함수, reverse=True 또는 False)\n",
    "\n",
    "다음은 학생 정보가 저장된 2차원 리스트를 정렬합니다.\n",
    "\n",
    "students = [\n",
    "    ['john', 'C', 19],\n",
    "    ['maria', 'A', 25],\n",
    "    ['andrew', 'B', 7]\n",
    "]\n",
    " \n",
    "print(sorted(students, key=lambda student: student[1]))  # 안쪽 리스트의 인덱스 1을 기준으로 정렬\n",
    "print(sorted(students, key=lambda student: student[2]))  # 안쪽 리스트의 인덱스 2를 기준으로 정렬\n",
    "실행 결과\n",
    "[['maria', 'A', 25], ['andrew', 'B', 7], ['john', 'C', 19]]\n",
    "[['andrew', 'B', 7], ['john', 'C', 19], ['maria', 'A', 25]]\n",
    "sorted의 key에 정렬 함수를 지정하여 안쪽 리스트의 요소를 기준으로 정렬했습니다.\n",
    " student[1]은 안쪽 리스트의 인덱스 1을 뜻하며 'A', 'B', 'C' 순으로 정렬합니다. \n",
    " 마찬가지로 student[2]는 안쪽 리스트의 인덱스 2를 뜻하며 7, 19, 25 순으로 정렬합니다.\n",
    "  여기서는 정렬 함수를 람다 표현식으로 작성했는데 람다 표현식은 'Unit 32 람다 표현식 사용하기'에서 자세히 설명하겠습니다.\n"
   ]
  },
  {
   "cell_type": "code",
   "execution_count": null,
   "id": "b9ade5e4",
   "metadata": {},
   "outputs": [],
   "source": [
    "이번에는 2차원 리스트의 할당과 복사에 대해 알아보겠습니다. \n",
    "'22.2 리스트의 할당과 복사'에서 리스트를 다른 변수에 할당해도 변수 이름만 달라질 뿐 같은 리스트(객체)라고 했죠? 2차원 리스트도 마찬가지입니다.\n",
    "\n",
    "다음과 같이 2차원 리스트를 만든 뒤 다른 변수에 할당하고, 요소를 변경해보면 두 리스트에 모두 반영됩니다.\n",
    "\n",
    ">>> a = [[10, 20], [30, 40]]\n",
    ">>> b = a\n",
    ">>> b[0][0] = 500\n",
    ">>> a\n",
    "[[500, 20], [30, 40]]\n",
    ">>> b\n",
    "[[500, 20], [30, 40]]\n",
    "그런데 리스트 a를 copy 메서드로 b에 복사한 뒤 b의 요소를 변경해보면 리스트 a와 b에 모두 반영됩니다.\n",
    "\n",
    ">>> a = [[10, 20], [30, 40]]\n",
    ">>> b = a.copy()\n",
    ">>> b[0][0] = 500\n",
    ">>> a\n",
    "[[500, 20], [30, 40]]\n",
    ">>> b\n",
    "[[500, 20], [30, 40]]\n",
    "2차원 이상의 다차원 리스트는 리스트를 완전히 복사하려면 copy 메서드 대신 copy 모듈의 deepcopy 함수를 사용해야 합니다.\n",
    "\n",
    ">>> a = [[10, 20], [30, 40]]\n",
    ">>> import copy             # copy 모듈을 가져옴\n",
    ">>> b = copy.deepcopy(a)    # copy.deepcopy 함수를 사용하여 깊은 복사\n",
    ">>> b[0][0] = 500\n",
    ">>> a\n",
    "[[10, 20], [30, 40]]\n",
    ">>> b\n",
    "[[500, 20], [30, 40]]\n",
    "이제 리스트 b의 요소를 변경해도 리스트 a에는 영향을 미치지 않습니다.\n",
    " copy.deepcopy 함수는 중첩된 리스트(튜플)에 들어있는 모든 리스트(튜플)를 복사하는 깊은 복사(deep copy)를 해줍니다.\n",
    "\n",
    "지금까지 2차원 리스트에 대해 배웠는데 문법이 조금 복잡했습니다. \n",
    "다차원 리스트는 어려운 주제이므로 당장 이해가 되지 않는다면 그냥 넘어가도 됩니다.\n",
    " 일단 2차원 리스트는 세로, 가로 순으로 접근한다는 점만 기억하면 됩니다."
   ]
  },
  {
   "cell_type": "markdown",
   "id": "be344221",
   "metadata": {},
   "source": [
    "##### 정리\n",
    "함수(function): 불려진 시점에 특정한 작업을 수행하며, 입력값과 출력값(반환값)을 가질 수 있습니다.\n",
    "\n",
    "인자(argument): 함수를 호출할 때 전달하는 입력값입니다.\n",
    "매개변수(parameter): 함수가 실행될 때 입력값이 들어올 변수입니다.\n",
    "반환값(return value): 함수가 종료될 때 호출 지점으로 전달할 출력값입니다.\n",
    "변수(variable): 값을 가리키는 이름입니다.\n",
    "\n",
    "스코프(scope): 변수가 유효한 범위입니다.\n",
    "연산자(operator): 주어진 값들에 대해 정해진 연산을 수행합니다.\n",
    "\n",
    "수리 연산자(mathematical operator): +, -, , /, //, *\n",
    "비교 연산자(comparison operator): ==, !=, <, >, <=, >=, is\n",
    "논리 연산자(logical operator): and, or\n",
    "소속 연산자(membership operator): in\n",
    "제어문(control statements): 코드 블록의 흐름(실행 여부, 반복)을 제어합니다.\n",
    "\n",
    "if: 명제가 참이면 실행합니다.\n",
    "else: if 명제 이외의 경우에 실행합니다.\n",
    "elif: if 명제 이외의 경우에 또 다른 명제가 참일 경우에 실행합니다.\n",
    "while: 명제가 참일 동안 반복합니다.\n",
    "for: 주어진 값들 하나씩 반복합니다.\n",
    "자료형(data types): 값들의 종류를 나타냅니다.\n",
    "\n",
    "정수(int), 부동소수점 수(float), 불리언(bool), 문자열(str), 튜플(tuple), 리스트(list), 딕셔너리(dict)"
   ]
  },
  {
   "cell_type": "code",
   "execution_count": null,
   "id": "ceb2bdba",
   "metadata": {},
   "outputs": [],
   "source": [
    "핵심 정리\n",
    "불\n",
    "\n",
    "불은 True, False로 표현합니다. 특히 비교 연산자, 논리 연산자의 판단 결과로 True, False를 사용합니다.\n",
    "\n",
    "비교 연산자\n",
    "\n",
    "▼ 표 12-1 파이썬 비교 연산자\n",
    "연산자 / 문법 / 설명\n",
    "\n",
    "== a == b 같음\n",
    "\n",
    "!= a != b 같지 않음, 다름\n",
    "\n",
    "> a > b 큼, 초과\n",
    "\n",
    "< a < b 작음, 미만\n",
    "\n",
    ">= a >= b 크거나 같음, 이상\n",
    "\n",
    "<= a <= b 작거나 같음, 이하\n",
    "\n",
    "is a is b 같음(객체 비교)\n",
    "\n",
    "is not a is not b 같지 않음, 다름(객체 비교)\n",
    "\n",
    "논리 연산자\n",
    "\n",
    "연산자 / 문법 / 설명\n",
    "\n",
    "and a and b AND(논리곱), 양쪽 모두 참일 때 참\n",
    "\n",
    "or a or b OR(논리합), 양쪽 중 한쪽만 참이라도 참\n",
    "\n",
    "not not x NOT(논리 부정), 참과 거짓을 뒤집음\n",
    "\n",
    "문자열\n",
    "\n",
    "문자열은 ' '(작은따옴표) 또는 \" \"(큰따옴표)로 묶어서 표현합니다.\n",
    "\n",
    "'Hello, world!'\n",
    "\"Hello, world!\"\n",
    "여러 줄로 된 문자열\n",
    "\n",
    "여러 줄로 된 문자열은 '''(작은따옴표 3개)로 시작해서 '''로 닫거나 \"\"\"(큰따옴표 3개)로 시작해서 \"\"\"로 닫아서 표현합니다.\n",
    "\n",
    "'''Hello, world!\n",
    "안녕하세요.\n",
    "Python입니다.'''\n",
    " \n",
    "\"\"\"Hello, world!\n",
    "안녕하세요.\n",
    "Python입니다.\"\"\"\n",
    "리스트\n",
    "\n",
    "리스트는 여러 개의 값(요소)을 일렬로 늘어놓은 형태입니다. \n",
    "변수에 값을 저장할 때 [ ](대괄호)로 묶어주면 리스트가 되며 각 값은 ,(콤마)로 구분합니다. \n",
    "리스트에 저장된 요소에 접근할 때는 [ ] 안에 인덱스를 지정해줍니다. 특히 리스트의 인덱스는 0부터 시작합니다.\n",
    "\n",
    "리스트 = [값, 값, 값]         # 리스트 만들기\n",
    "리스트 = []                   # 빈 리스트 만들기\n",
    "리스트 = list()               # 빈 리스트 만들기\n",
    "리스트 = list(range(횟수))    # range로 리스트 만들기\n",
    " \n",
    "리스트[인덱스]                # 리스트의 요소에 접근\n",
    "리스트[0]                     # 리스트의 인덱스는 0부터 시작하므로 첫 번째 요소\n",
    "리스트[인덱스] = 값           # 리스트의 요소에 값 저장\n",
    "range\n",
    "\n",
    "range는 연속된 숫자를 생성합니다. 이때 지정한 횟수는 생성되는 숫자에 포함되지 않습니다. \n",
    "그리고 시작하는 숫자와 끝나는 숫자를 지정했을 때 끝나는 숫자는 생성되는 숫자에 포함되지 않습니다.\n",
    "\n",
    "range(횟수)\n",
    "range(시작, 끝)\n",
    "range(시작, 끝, 증가폭)\n",
    "튜플\n",
    "\n",
    "튜플은 여러 개의 값(요소)을 일렬로 늘어놓은 형태입니다. \n",
    "단, 요소의 값을 변경하거나 추가할 수 없습니다(읽기 전용). \n",
    "변수에 값을 저장할 때 ( )(괄호)로 묶어주면 튜플이 되며 각 값은 콤마로 구분합니다. \n",
    "또는, 괄호로 묶지 않고 값만 콤마로 구분해도 튜플이 됩니다. \n",
    "튜플에 저장된 요소에 접근할 때는 [ ]안에 인덱스를 지정해줍니다. \n",
    "그리고 리스트와 마찬가지로 튜플의 인덱스도 0부터 시작합니다.\n",
    "\n",
    "튜플 = (값, 값, 값)          # 튜플 만들기\n",
    "튜플 = 값, 값, 값            # 괄호 없이 튜플 만들기\n",
    "튜플 = ()                    # 빈 튜플 만들기\n",
    "튜플 = tuple()               # 빈 튜플 만들기\n",
    "튜플 = tuple(list())         # tuple에 list()를 넣어서 빈 튜플 만들기\n",
    "튜플 = tuple(리스트)         # tuple에 리스트를 넣어서 튜플 만들기\n",
    "튜플 = tuple(range(횟수))    # range로 튜플 만들기\n",
    " \n",
    "튜플[인덱스]                 # 튜플의 요소에 접근\n",
    "튜플[0]                      # 튜플의 인덱스는 0부터 시작하므로 첫 번째 요소\n",
    " \n",
    "튜플 = (값, )                # 요소가 한 개인 튜플 만들기\n",
    "튜플 = 값,                   # 요소가 한 개인 튜플 만들기\n",
    "시퀀스 자료형\n",
    "\n",
    "파이썬에서 리스트(list), 튜플(tuple), range, 문자열(str)과 같이 값이 연속적으로 이어진 자료형을 시퀀스 자료형(sequence types)이라고 합니다. \n",
    "그리고 시퀀스 자료형으로 만든 객체를 시퀀스 객체라고 하며, 시퀀스 객체에 들어있는 각 값을 요소(element)라고 부릅니다.\n",
    "\n",
    "시퀀스 자료형의 공통 기능\n",
    "\n",
    "파이썬의 시퀀스 자료형은 공통된 동작과 기능을 제공합니다. \n",
    "따라서 리스트, 튜플, range, 문자열 등의 시퀀스 자료형은 같은 문법을 사용합니다.\n",
    "\n",
    "값 in 시퀀스객체             # 시퀀스 객체에 특정 값이 있는지 확인\n",
    "값 not in 시퀀스객체         # 시퀀스 객체에 특정 값이 없는지 확인\n",
    " \n",
    "시퀀스객체1 + 시퀀스객체2    # 시퀀스 객체를 서로 연결하여 새 시퀀스 객체를 만듦\n",
    "시퀀스객체 * 정수            # 시퀀스 객체를 특정 횟수만큼 반복하여 새 시퀀스 객체를 만듦\n",
    "정수 * 시퀀스객체            # 시퀀스 객체를 특정 횟수만큼 반복하여 새 시퀀스 객체를 만듦\n",
    " \n",
    "len(시퀀스객체)              # 시퀀스 객체의 요소 개수(길이) 구하기\n",
    " \n",
    "시퀀스객체[인덱스]           # 시퀀스 객체의 요소에 접근\n",
    "시퀀스객체[0]                # 시퀀스 객체의 인덱스는 0부터 시작하므로 첫 번째 요소\n",
    "시퀀스객체[-음수]            # 인덱스를 음수로 지정하면 뒤에서부터 요소에 접근, -1은 뒤에서 첫 번째\n",
    "시퀀스객체[인덱스] = 값      # 시퀀스 객체의 요소에 값 저장\n",
    " \n",
    "del 시퀀스객체[인덱스]       # 시퀀스 객체의 요소를 삭제\n",
    "시퀀스 자료형의 슬라이스\n",
    "\n",
    "시퀀스 자료형은 시퀀스 객체의 일부를 잘라내서 가져오는 슬라이스(slice)를 사용할 수 있습니다. \n",
    "[ ](대괄호) 안에 시작 인덱스와 끝 인덱스를 지정하면 해당 범위의 요소를 잘라서 새 시퀀스 객체를 만듭니다.\n",
    " 단, 끝 인덱스는 가져오려는 범위에 포함되지 않습니다.\n",
    "\n",
    "시퀀스객체[시작인덱스:끝인덱스]                 # 지정된 범위의 요소를 잘라서 새 시퀀스 객체를 만듦\n",
    "시퀀스객체[시작인덱스:끝인덱스:인덱스증가폭]    # 인덱스 증가폭을 지정하면 해당 값만큼 \n",
    "                                                # 인덱스를 증가시키면서 요소를 가져옴\n",
    " \n",
    "시퀀스객체[:끝인덱스]      # 시작 인덱스를 생략하여 객체의 처음부터 끝 인덱스 - 1까지 가져옴\n",
    "시퀀스객체[시작인덱스:]    # 끝 인덱스를 생략하여 시작 인덱스부터 마지막 요소까지 가져옴\n",
    "시퀀스객체[:]              # 시작 인덱스와 끝 인덱스를 생략하여 객체 전체를 가져옴\n",
    " \n",
    "시퀀스객체[0:len(시퀀스객체)]     # len을 응용하여 객체 전체를 가져옴\n",
    "시퀀스객체[:len(시퀀스객체)]      # 시작 인덱스 생략, len을 응용하여 객체 전체를 가져옴\n",
    " \n",
    "시퀀스객체[:끝인덱스:증가폭]      # 객체의 처음부터 증가폭만큼 인덱스를 증가시키면서 \n",
    "                                  # 끝 인덱스 - 1까지 요소를 가져옴\n",
    "시퀀스객체[시작인덱스::증가폭]    # 시작 인덱스부터 증가폭만큼 인덱스를 증가시키면서 \n",
    "                                  # 마지막 요소까지 가져옴\n",
    "시퀀스객체[::증가폭]              # 객체 전체에서 증가폭만큼 인덱스를 증가시키면서 요소를 가져옴\n",
    " \n",
    "시퀀스객체[::]                    # 객체 전체를 가져옴, 시퀀스객체[:]와 같음\n",
    " \n",
    "시퀀스객체[시작인덱스:끝인덱스] = 시퀀스객체                 # 범위를 지정하여 여러 요소에 값 할당\n",
    "시퀀스객체[시작인덱스:끝인덱스:인덱스증가폭] = 시퀀스객체    # 증가폭만큼 인덱스를 건너뛰면서 할당\n",
    " \n",
    "del 시퀀스객체[시작인덱스:끝인덱스]    # 특정 범위의 요소를 삭제(원본 객체가 변경됨)\n",
    "딕셔너리\n",
    "\n",
    "딕셔너리는 연관된 값을 묶어서 저장하는 자료형입니다. \n",
    "{ }(중괄호) 안에 키: 값 형식으로 저장하며 각 키와 값은 ,(콤마)로 구분합니다. \n",
    "딕셔너리에 저장된 값에 접근할 때는 [ ](대괄호) 안에 키를 지정해줍니다.\n",
    "\n",
    "딕셔너리 = {키1: 값1, 키2: 값2}    # 딕셔너리 만들기\n",
    "딕셔너리 = {}                      # 빈 딕셔너리 만들기\n",
    "딕셔너리 = dict()                  # 빈 딕셔너리 만들기\n",
    " \n",
    "딕셔너리[키]                       # 딕셔너리에서 키로 값에 접근\n",
    "딕셔너리[키] = 값                  # 딕셔너리에서 키에 값 할당\n",
    " \n",
    "키 in 딕셔너리                     # 딕셔너리에 특정 키가 있는지 확인\n",
    "키 not in 딕셔너리                 # 딕셔너리에 특정 키가 없는지 확인\n",
    " \n",
    "len(딕셔너리)                      # 딕셔너리의 키 개수(길이) 구하기"
   ]
  },
  {
   "cell_type": "markdown",
   "id": "e041f3b3",
   "metadata": {},
   "source": []
  },
  {
   "cell_type": "markdown",
   "id": "c34ca538",
   "metadata": {},
   "source": [
    "#### "
   ]
  },
  {
   "cell_type": "markdown",
   "id": "4672af9f",
   "metadata": {
    "heading_collapsed": true
   },
   "source": [
    "### 05 Control Statement 제어문"
   ]
  },
  {
   "cell_type": "markdown",
   "id": "7ed98685",
   "metadata": {
    "heading_collapsed": true,
    "hidden": true
   },
   "source": [
    "#### 각 자료 형태와 자료 구조를 제어문(Control Statement)를 이용해 여러가지 연산을 수행하고 있습니다"
   ]
  },
  {
   "cell_type": "markdown",
   "id": "f8974e14",
   "metadata": {
    "heading_collapsed": true,
    "hidden": true
   },
   "source": [
    "#### 제어문(Control Statement) 은 자료형태와 자료구조를 이용해 다양한 조건을 대입하고 조건에 따른 연산을 수행할 수 있게 합니다.\n",
    "- if\n",
    "- for\n",
    "- while"
   ]
  },
  {
   "cell_type": "markdown",
   "id": "8d628025",
   "metadata": {
    "hidden": true
   },
   "source": [
    "##### if\n",
    "어떤 명제가 참인지 거짓인지에 따라 코드의 실행 여부를 결정할 수 있습니다. logical operator\n",
    "if else, elif"
   ]
  },
  {
   "cell_type": "code",
   "execution_count": null,
   "id": "c01aca54",
   "metadata": {
    "hidden": true
   },
   "outputs": [],
   "source": [
    "조건문 if\n",
    "\n",
    "if 조건문에 조건식을 지정하고 해당 조건이 참일 때 코드를 실행할 수 있습니다.\n",
    "if 조건식:\n",
    "    코드    # 조건식을 만족할 때 코드 실행\n",
    "\n",
    "두 방향으로 분기하기\n",
    "if와 else를 사용하여 조건식을 참일 때와 거짓일 때 각각 다른 코드를 실행.\n",
    "\n",
    "if 조건식:\n",
    "    코드1    # 조건식을 만족할 때 코드 실행\n",
    "else:\n",
    "    코드2    # 조건식을 만족하지 않을 때 코드 실행\n",
    "\n",
    "여러 방향으로 분기하기\n",
    "elif는 여러 개의 조건식을 지정하여 각각 다른 코드를 실행.\n",
    "\n",
    "if 조건식1:\n",
    "    코드1    # 조건식1을 만족할 때 코드 실행\n",
    "elif 조건식2:\n",
    "    코드2    # 조건식2을 만족할 때 코드 실행\n",
    "elif 조건식3:\n",
    "    코드3    # 조건식3을 만족할 때 코드 실행\n",
    "else:\n",
    "    코드4    # 어떤 조건도 만족하지 않을 때 코드 실행"
   ]
  },
  {
   "cell_type": "code",
   "execution_count": null,
   "id": "43f53f91",
   "metadata": {
    "hidden": true
   },
   "outputs": [],
   "source": [
    "if 조건문은 특정 조건일 때 코드를 실행하는 문법입니다. \n",
    "if 조건식을 지정하고 :(콜론)을 붙이고 다음 줄에 들여쓰기(indent)를 하고 실행할 코드 작성.\n",
    "   조건식이 만족할 때 실행할 코드를 if 본문(if body)이라고 부릅니다.\n",
    "\n",
    "if 조건식:\n",
    "     코드\n",
    "x = 10\n",
    "if x == 10:\n",
    "    print('10입니다.')\n",
    "\n",
    "if 조건문의 실행 흐름\n",
    "조건식이 만족하면 참( True), 만족하지 않으면 거짓(False)이라고 부릅니다.\n",
    "True로 취급: 0이 아닌 숫자, 내용이 있는 문자열, 리스트, 튜플, 딕셔너리, 세트\n",
    "False로 취급: 0, None, 비어 있는 문자열, 리스트, 튜플, 딕셔너리, 세트\n",
    "\n",
    "참고 | 0, None, 빈 문자열을 not으로 뒤집으면?\n",
    "0, None, 빈 문자열 ''을 not으로 뒤집으면 참(True)이 되므로 if를 동작시킬 수 있습니다.\n",
    "\n",
    "if 조건문에 조건식만 작성하고 코드를 생략하는 방법을 알아보겠습니다.\n",
    "x = 10\n",
    "if x == 10:\n",
    "    pass\n",
    "if 본문에 pass라는 특별한 키워드를 사용하면 아무 일도 하지 않고 그냥 넘어간다는 뜻입니다. \n",
    "(pass만 넣고 주석으로 할일을 남겨놓을 때 주로 사용)\n",
    "\n",
    "참고 | TODO\n",
    "TODO는 해야 할 일이라는 뜻인데 보통 주석에 넣습니다. 이렇게 TODO를 넣어 두면 검색으로 쉽게 찾을 수 있죠. \n",
    "그래서 프로그래머들은 주석에 TODO 이외에도 FIXME, BUG, NOTE 등과 같이 코드는 아니지만 일관된 주석을 사용합니다.\n",
    "\n",
    "참고 | 의사 코드(pseudo code), (알고리즘이나 컴퓨터 명령을 기술할 때 사용)\n",
    "의사 코드는 실제 프로그래밍 언어가 아닌 사람의 언어로 프로그래밍 언어를 표현한 것.\n",
    "x = 10    # 파이썬 코드,   변수 x에 10 할당    # 한글로 표현한 의사 코드\n"
   ]
  },
  {
   "cell_type": "code",
   "execution_count": null,
   "id": "1cdd0dab",
   "metadata": {
    "hidden": true
   },
   "outputs": [],
   "source": [
    "중첩 if 조건문을 사용해보겠습니다.\n",
    "x = 15 \n",
    "if x >= 10:                   # 1번째 if문\n",
    "     print('10 이상입니다.')\n",
    " \n",
    "     if x == 15:              # 1번째 if문이 만족할때 사용 할 수 있는 2번째 if문\n",
    "         print('15입니다.')\n",
    " \n",
    "     if x == 20:              # 1번째 if문이 참이고 2번째 if문이 거짓일 때 사용할 수 있는 3번째 if문\n",
    "         print('20입니다.')\n",
    "10 이상입니다.\n",
    "15입니다.\n"
   ]
  },
  {
   "cell_type": "code",
   "execution_count": null,
   "id": "0d00748f",
   "metadata": {
    "hidden": true
   },
   "outputs": [],
   "source": [
    "input을 사용하여 사용자가 입력한 값을 변수에 저장하고, if 조건문으로 값을 비교하기\n",
    "x = int(input())          # 입력받은 값을 변수에 저장\n",
    "\n",
    "if x == 10:               # x가 10이면\n",
    "    print('10입니다.')    # 조건이 참 - '10입니다.'를 출력 실행\n",
    " \n",
    "if x == 20:               # x가 20이면 \n",
    "    print('20입니다.')    # 조건이 거짓 - '20입니다.'를 출력 실행 안함.\n",
    "10 (입력)                 # 10을 입력하고 엔터\n",
    "10입니다.\n"
   ]
  },
  {
   "cell_type": "code",
   "execution_count": null,
   "id": "c8943658",
   "metadata": {
    "hidden": true
   },
   "outputs": [],
   "source": [
    "if 조건문은 분기(branch-둘 이상으로 갈라지다)를 위한 문법입니다.\n",
    "if에 else를 사용하면 조건식이 만족할 때와 만족하지 않을 때 각각 다른 코드를 실행할 수 있습니다. \n",
    "\n",
    "else는 if 조건문 뒤에 오며 단독으로 사용할 수 없다.\n",
    "else도 :(콜론)을 붙이고 다음 줄에 들여쓰기(indent)를 하고 실행할 코드 작성\n",
    "조건식이 참(True)이면 if의 코드(if 본문)가 실행되고, 거짓(False)이면 else의 코드(else 본문)가 실행.\n",
    "\n",
    "if 조건식:\n",
    "     코드1\n",
    "else:\n",
    "     코드2\n",
    "     \n",
    "x = 5\n",
    "if x == 10:\n",
    "    print('10입니다.')\n",
    "else:\n",
    "    print('10이 아닙니다.')\n",
    "10이 아닙니다.\n",
    "\n",
    "참고 | 변수에 값 할당을 if, else로 축약하기(조건식이 참이면 y에 x를 할당, 거짓이면 y에 0을 할당)\n",
    "x = 5\n",
    "y = None\n",
    "if x == 10:\n",
    "    y = x\n",
    "else:\n",
    "    y = 0\n",
    "\n",
    "if, else에서 변수에 값을 할당할 때(변수 = 값) if 조건문 else 값 형식으로 축약한 것을 조건부 표현식(conditional expression)라함.\n",
    "x = 5\n",
    "y = x if x == 10 else 0       # 보통 조건부 표현식은 람다 표현식에서 자주 사용.\n"
   ]
  },
  {
   "cell_type": "code",
   "execution_count": null,
   "id": "2a633856",
   "metadata": {
    "hidden": true
   },
   "outputs": [],
   "source": [
    "중첩 if 조건문과 논리 연산자\n",
    "x = 15\n",
    "y = 15\n",
    "if x > 10:\n",
    "    if x < 20:\n",
    "        print('20보다 작은 양수입니다.')\n",
    "\n",
    "중첩 if 조건문은 논리 연산자를 사용해서 if 하나로 줄일 수 있습니다.\n",
    "if x > 10 and y < 20:     # 논리 연산자 and사용 x가 10이면서 y가 20일 때\n",
    "    print('참')\n",
    "else:\n",
    "    print('거짓')\n",
    "\n",
    "if 조건문에는 논리 연산자를 사용하여 조건식을 여러 개 지정할 수 있습니다. \n"
   ]
  },
  {
   "cell_type": "code",
   "execution_count": null,
   "id": "bcb2f59e",
   "metadata": {
    "hidden": true
   },
   "outputs": [],
   "source": [
    "elif는 if 조건문 뒤에 오며 단독으로 사용할 수 없다.\n",
    "elif에 조건식을 지정하고 끝에 :(콜론)을 붙이고 다음 줄에 들여쓰기(indent)를 하고 실행할 코드 작성\n",
    "\n",
    "if 조건식:\n",
    "    코드1     # if 조건이 참이면 실행\n",
    "elif 조건식:\n",
    "    코드2     # 앞의 조건식이 거짓이고 elif 조건이 참이면 실행\n",
    "else:         # else은 맨 마지막 조건문으로 사용해야 한다.(중간 조건으로 사용 불가)\n",
    "    코드3     # 앞의 조건식에 모두 거짓일때 실행,\n",
    " \n",
    "if x == 10:             # x가 10일 때\n",
    "    print('10입니다.')\n",
    "elif x == 20:           # x가 20일 때\n",
    "    print('20입니다.')\n",
    "else:                   # 앞의 조건식에 모두 만족하지 않을 때\n",
    "    print('10도 20도 아닙니다.')\n",
    "\n",
    "참고로 if와 else는 한 번만 사용할 수 있지만, elif는 여러 번 사용할 수 있습니다.\n"
   ]
  },
  {
   "cell_type": "code",
   "execution_count": null,
   "id": "6bc7cf81",
   "metadata": {
    "hidden": true
   },
   "outputs": [],
   "source": []
  },
  {
   "cell_type": "markdown",
   "id": "1dbd4bcf",
   "metadata": {
    "hidden": true
   },
   "source": [
    "##### for\n",
    "for 뒤에는 a in A의 형태로, 값이 여러 개 들어있는 목록 A에서 값을 하나씩 꺼내서 a 변수에 담아 반복문을 실행합니다\n",
    "for문을 더욱 효과적으로 쓰는 방법\n",
    "\n",
    "enumerate()\n",
    "이중for문\n",
    "list Comprehension\n",
    "Generator 총 4가지 개념"
   ]
  },
  {
   "cell_type": "code",
   "execution_count": null,
   "id": "0c91f1e1",
   "metadata": {
    "hidden": true
   },
   "outputs": [],
   "source": [
    "반복문은 반복 횟수, 반복 및 정지 조건을 자유자재로 제어할 수 있습니다.\n",
    "\n",
    "for와 range 사용하기(for 반복문은 range()에서 in으로 숫자를 하나하나 꺼내서 반복하는 방식)\n",
    "for은 변수와 in 적고 range()에 반복할 횟수를 지정하고 끝에 :(콜론)을 붙인 뒤 다음 줄에 들여쓰기 후 반복할 코드를 작성.\n",
    "\n",
    "range() 활용 하기{range(횟수):, range(시작, 끝):, range(시작, 끝, 증가폭):}\n",
    "\n",
    "for 변수 in range(횟수):\n",
    "     반복할 코드\n",
    "\n",
    "for i in range(100):             # for는 in으로 숫자를 하나씩 꺼내서 변수 i에 저장하고, print를 실행\n",
    "    print('Hello, world!', i)    # 'Hello, world!'를 100번 출력, 반복할 때 마다 i값의 변화를 볼수 있다\n",
    "\n",
    "for i in range(0, 10, 2):    # 0부터 8까지 2씩 증가\n",
    "    print('Hello, world!', i)\n",
    "\n",
    "숫자를 감소시키기\n",
    "for i in range(10, 0, -1):    # 10에서 1까지 1씩 감소\n",
    "    print('Hello, world!', i)\n",
    "\n",
    "range에 reversed를 사용하여 숫자의 순서를 반대로 뒤집음\n",
    "for 변수 in reversed(range(횟수))\n",
    "for 변수 in reversed(range(시작, 끝))\n",
    "for 변수 in reversed(range(시작, 끝, 증가폭))\n",
    "\n",
    "for i in reversed(range(10)):    # range에 reversed를 사용하여 숫자의 순서를 반대로 뒤집음\n",
    "    print('Hello, world!', i)    # 9부터 0까지 10번 반복\n",
    "\n",
    "range(10)으로 0부터 9까지 숫자를 생성한 뒤 reversed를 사용하여 숫자의 순서를 반대로 뒤집었습니다.\n",
    "\n",
    "for에 range 대신 시퀀스 객체를 사용할 수 있다(리스트, 튜플, 문자열 등 시퀀스 객체)\n",
    "for에 range 대신 리스트를 넣으면 리스트의 요소를 꺼내면서 반복.\n",
    "a = [10, 20, 30, 40, 50]\n",
    "for i in a:\n",
    "    print(i)    # len(a) 길이 만큼 반복(a 객체의 요소를 출력)\n",
    "\n",
    "튜플도 마찬가지로 튜플의 요소를 꺼내면서 반복\n",
    "fruits = ('apple', 'orange', 'grape')\n",
    "for i in fruits:\n",
    "    print(i)    # len(fruit) 길이 만큼 반복(fruit 객체의 요소를 출력)\n",
    "\n",
    "문자열 시퀀스 객체를 사용(for에 문자열을 지정하면 문자를 하나씩 꺼내면서 반복)\n",
    "응용 문자열 'Python'을 뒤집어서 문자를 출력하기(reversed를 활용)\n",
    "a = 'Python'\n",
    "for i in reversed(a):\n",
    "    print(i, end='')    # nohtyP 출력\n",
    "\n",
    "참고 | 반복문의 변수 i\n",
    "변수 i를 루프 인덱스라고도 부르며 index의 첫 머리글자를 따서 i를 주로 사용\n",
    "\n",
    "참고 | 반복문의 변수 i를 변경할 경우\n",
    "for i in range(10):\n",
    "    print(i, end=' ')\n",
    "    i = 10             # 0 1 2 3 4 5 6 7 8 9\n",
    "반복할 코드에서 변수 i에 10을 할당하여 10이 출력될 것 같은데, 0부터 9까지 출력된다.\n",
    "변수 i는 반복할 때마다 다음 값으로 덮어써지기 때문에 값을 할당해도 변수에 영향을 주지 못한다.\n",
    "\n",
    "참고 | 버전별 range의 차이점\n",
    "파이썬 2.7에서는 range는 실제로 연속된 숫자가 들어있는 리스트를 만든다(range(10) => [0, 1, 2, 3, 4, 5, 6, 7, 8, 9])\n",
    "파이썬 3에서는 range 객체(반복 가능한 객체)를 만들어냅니다.(range(10) => range(0, 10))\n",
    "\n",
    "파이썬 2.7의 range는 리스트를 만들어내므로 아주 큰 숫자를 지정하면 메모리를 많이 사용.\n",
    "파이썬 2.7에서 리스트 대신 객체를 생성할 때는 xrange를 사용. 그래서 파이썬 3에서는 range가 객체를 생성하는 방식으로 바꿈."
   ]
  },
  {
   "cell_type": "code",
   "execution_count": null,
   "id": "ed45c235",
   "metadata": {
    "hidden": true
   },
   "outputs": [],
   "source": []
  },
  {
   "cell_type": "code",
   "execution_count": null,
   "id": "2b364dab",
   "metadata": {
    "hidden": true
   },
   "outputs": [],
   "source": []
  },
  {
   "cell_type": "code",
   "execution_count": null,
   "id": "ba1198b8",
   "metadata": {
    "hidden": true
   },
   "outputs": [],
   "source": []
  },
  {
   "cell_type": "code",
   "execution_count": null,
   "id": "72d5f8f9",
   "metadata": {
    "hidden": true
   },
   "outputs": [],
   "source": []
  },
  {
   "cell_type": "code",
   "execution_count": null,
   "id": "04da2d17",
   "metadata": {
    "hidden": true
   },
   "outputs": [],
   "source": []
  },
  {
   "cell_type": "code",
   "execution_count": null,
   "id": "aae42a66",
   "metadata": {
    "hidden": true
   },
   "outputs": [],
   "source": []
  },
  {
   "cell_type": "code",
   "execution_count": null,
   "id": "faa02f7b",
   "metadata": {
    "hidden": true
   },
   "outputs": [],
   "source": []
  },
  {
   "cell_type": "markdown",
   "id": "fe7386db",
   "metadata": {
    "hidden": true
   },
   "source": [
    "##### while\n",
    "while 문은 코드 블록을 실행하기 전 가장 먼저 조건문을 검사해서, 조건문이 참이면 코드 블록을 실행합니다."
   ]
  },
  {
   "cell_type": "code",
   "execution_count": null,
   "id": "57281f51",
   "metadata": {
    "hidden": true
   },
   "outputs": [],
   "source": [
    "while 반복문은 조건식으로만 동작하며 반복할 코드 안에 조건식에 영향을 주는 변화식이 들어 있다.\n",
    "초기식\n",
    "while 조건식:\n",
    "    반복할 코드\n",
    "    변화식\n",
    "\n",
    "i = 0                          # 초기식\n",
    "while i < 100:                 # while 조건식 : 조건식이 참, 거짓인지 판별\n",
    "    print('Hello, world!')     # 반복할 코드  : 조건식이 참이면 실행('Hello, world!'를 100번 출력)\n",
    "    i += 1                     # 변화식       : 조건값을 수정(조건식이 거짓이 나오는 값으로 변화, 값이 계속 참이면 무한 루프에 걸림)\n",
    "\n",
    "while 반복문으로 무한 루프를 만들기\n",
    "\n",
    "while True:                   # while에 True를 지정하면 무한 루프(True로 취급하는 값을 사용해도 무한 루프)\n",
    "    print('Hello, world!')    # 'Hello, world!' 무한 반복(Ctrl+C를 입력하여 무한 루프 종료)\n",
    "\n",
    "random함수 응용\n",
    "random.randint(a, b) : a ~ b 범위를 지정하며, 범위중 숫자를 생성\n",
    "\n",
    "import random                   # random 모듈을 가져옴\n",
    "i = 0\n",
    "while i != 3:                   # 3이 아닐 때 계속 반복\n",
    "    i = random.randint(1, 6)    # randint를 사용하여 1과 6 사이의 난수를 생성 후 i에 할당\n",
    "    print(i)                    # i값이 3이 나올 때 까지 반복.\n"
   ]
  },
  {
   "cell_type": "code",
   "execution_count": null,
   "id": "efc66e18",
   "metadata": {
    "hidden": true
   },
   "outputs": [],
   "source": []
  },
  {
   "cell_type": "markdown",
   "id": "d60bcd21",
   "metadata": {
    "hidden": true
   },
   "source": [
    "##### brak, continue"
   ]
  },
  {
   "cell_type": "code",
   "execution_count": null,
   "id": "33503733",
   "metadata": {
    "hidden": true
   },
   "outputs": [],
   "source": [
    "break : for, while 조건이 맞으면 반복을 중단하는 기능\n",
    "\n",
    "break로 for 반복문 끝내기\n",
    "for i in range(10000):    # 0부터 9999까지 반복\n",
    "    print(i)\n",
    "    if i == 100:    # i가 100일 때\n",
    "        break       # if문의 조건이 참이면 반복문을 종료\n",
    "\n",
    "break로 while 반복문 끝내기\n",
    "i = 0\n",
    "while True:    # 무한 루프\n",
    "    print(i)\n",
    "    i += 1          # i를 1씩 증가시킴\n",
    "    if i == 100:    # i가 100일 때\n",
    "        break       # if문의 조건이 참이면 반복문을 종료\n"
   ]
  },
  {
   "cell_type": "code",
   "execution_count": null,
   "id": "e12ee6c6",
   "metadata": {
    "hidden": true
   },
   "outputs": [],
   "source": [
    "continue : 반복을 유지한 상태에서 조건이 맞으면 코드를 건너뛰는 기능\n",
    "\n",
    "for에서 continue로 코드 실행 건너뛰기\n",
    "for i in range(100):       # 0부터 99까지 증가하면서 100번 반복\n",
    "    if i % 2 == 0:         # i를 2로 나누었을 때 나머지가 0이면\n",
    "        continue           # if 조건이 맞으면 if문과 같은 indent block에 있는 코드들를 실행하지 않고 건너뜀\n",
    "    print(i)               # 1 ~ 99까지 홀수만 출력\n",
    "\n",
    "while 반복문에서 continue로 코드 실행 건너뛰기\n",
    "i = 0\n",
    "while i < 100:        # i가 100보다 작을 때 반복. 0부터 99까지 증가하면서 100번 반복\n",
    "    i += 1            # i를 1씩 증가시킴\n",
    "    if i % 2 == 0:    # i를 2로 나누었을 때 나머지가 0이면\n",
    "        continue      # if 조건이 맞으면 if문과 같은 indent block에 있는 코드들를 실행하지 않고 건너뜀\n",
    "    print(i)          # 1 ~ 99까지 홀수만 출력\n",
    "\n",
    "\n",
    "참고 | 반복문과 pass\n",
    "for, while의 반복할 코드에서 아무 일도 하지 않고, 반복문의 형태를 유지하고 싶을 때 pass 사용\n",
    "\n",
    "for i in range(10):    # 10번 반복\n",
    "    pass               # 아무 일도 하지 않음\n",
    "\n",
    "while True:    # 무한 루프\n",
    "    pass       # 아무 일도 하지 않음\n"
   ]
  },
  {
   "cell_type": "code",
   "execution_count": null,
   "id": "96fdb556",
   "metadata": {
    "hidden": true
   },
   "outputs": [],
   "source": []
  },
  {
   "cell_type": "code",
   "execution_count": null,
   "id": "19fa0b00",
   "metadata": {
    "hidden": true
   },
   "outputs": [],
   "source": []
  },
  {
   "cell_type": "code",
   "execution_count": null,
   "id": "c0a75ada",
   "metadata": {
    "hidden": true
   },
   "outputs": [],
   "source": []
  },
  {
   "cell_type": "markdown",
   "id": "f4c89272",
   "metadata": {
    "hidden": true
   },
   "source": [
    "##### 반복문 정리"
   ]
  },
  {
   "cell_type": "code",
   "execution_count": null,
   "id": "98359521",
   "metadata": {
    "hidden": true
   },
   "outputs": [],
   "source": [
    "반복할 횟수를 지정하여 반복하기\n",
    "for 반복문은 반복할 횟수를 지정하여 반복할 수 있습니다. range()함수 사용\n",
    "for 변수 in range(횟수):\n",
    "    반복할 코드\n",
    "\n",
    "반복할 횟수가 정해져 있지 않을 때 반복하기\n",
    "while 논리 조건에 따라 반복 여부를 결정할 때 사용.(조건식이 만족하면 계속 반복하고, 만족하지 않으면 반복을 끝남)\n",
    "초기식\n",
    "while 조건식:\n",
    "    반복할 코드\n",
    "    조건 변환식(조건식의 결과에 영향을 주는 코드)\n",
    "\n",
    "반복문 실행중 끝내기\n",
    "반복문에서 break를 사용하면 반복문을 끝낼 수 있다.\n",
    "while 조건식1:\n",
    "    if 조건식2:\n",
    "        break    # 반복문을 끝냄\n",
    "\n",
    "반복문 실행중 코드 건너뛰기\n",
    "반복문에서 continue를 사용하면 반복문의 일부 코드를 건너뛸 수 있다.(반복문을 끝내지 않고 계속 반복)\n",
    "while 조건식1:\n",
    "    if 조건식2:\n",
    "        continue    # 아래 코드를 건너뛴 뒤 계속 반복함\n",
    "    코드\n",
    "\n",
    "중첩 루프\n",
    "반복문 안에 반복문이 들어 있는 형태(중첩 루프) 루프 인덱스 변수는 보통 i, j, k 순서대로 짓는다.\n",
    "중첩 루프는 주로 가로×세로 형태로 된 2차원 평면을 다룰 때 사용\n",
    "for i in range(10):        # 바깥쪽 루프\n",
    "    for j in range(10):    # 안쪽 루프\n",
    "        pass\n",
    "\n",
    "반복문과 들여쓰기\n",
    "for, while 다음에 오는 코드는 반드시 들여쓰기를 해야 하고, 깊이가 같아야 한다.\n",
    "for i in range(10):\n",
    "    print(i)    # 올바른 코드\n",
    "\n",
    "while i < 10:\n",
    "    print(i)     # 올바른 코드\n",
    "    i += 1       # 올바른 코드\n"
   ]
  },
  {
   "cell_type": "code",
   "execution_count": null,
   "id": "44b4f63c",
   "metadata": {
    "hidden": true
   },
   "outputs": [],
   "source": []
  },
  {
   "cell_type": "markdown",
   "id": "7772ad96",
   "metadata": {
    "hidden": true
   },
   "source": [
    "##### 반복문 응용"
   ]
  },
  {
   "cell_type": "code",
   "execution_count": null,
   "id": "f112e670",
   "metadata": {
    "hidden": true
   },
   "outputs": [],
   "source": [
    "중첩된 반복문을 사용하여 3×7 사각형 형태로 별그리기\n",
    "*******\n",
    "*******\n",
    "*******\n",
    "\n",
    "for i in range(3):            # 3번 반복. 세로 방향\n",
    "    for j in range(7):        # 7번 반복. 가로 방향\n",
    "        print('*', end='')    # 별 출력. end에 ''를 지정하여 줄바꿈을 하지 않음\n",
    "    print()    # 가로 방향으로 별을 다 그린 뒤 다음 줄로 넘어감\n",
    "               # (print는 출력 후 기본적으로 다음 줄로 넘어감)\n"
   ]
  },
  {
   "cell_type": "code",
   "execution_count": null,
   "id": "49b9f28d",
   "metadata": {
    "hidden": true
   },
   "outputs": [],
   "source": [
    "계단식으로 별 출력하기\n",
    "*\n",
    "**\n",
    "***\n",
    "****\n",
    "*****\n",
    "\n",
    "for i in range(5):        # 0부터 4까지 5번 반복. 세로 방향\n",
    "    for j in range(5):    # 0부터 4까지 5번 반복. 가로 방향\n",
    "        if j <= i:                # 세로 방향 변수 i만큼\n",
    "            print('*', end='')    # 별 출력. end에 ''를 지정하여 줄바꿈을 하지 않음\n",
    "    print()    # 가로 방향으로 별을 다 그린 뒤 다음 줄로 넘어감\n",
    "               # (print는 출력 후 기본적으로 다음 줄로 넘어감)\n"
   ]
  },
  {
   "cell_type": "code",
   "execution_count": null,
   "id": "625aaf57",
   "metadata": {
    "hidden": true
   },
   "outputs": [],
   "source": [
    "대각선으로 별 출력하기\n",
    "*\n",
    " *\n",
    "  *\n",
    "   *\n",
    "    *\n",
    "\n",
    "for i in range(5):        # 0부터 4까지 5번 반복. 세로 방향\n",
    "    for j in range(5):    # 0부터 4까지 5번 반복. 가로 방향\n",
    "        if j == i:                # 세로 방향 변수와 같을 때\n",
    "            print('*', end='')    # 별 출력. end에 ''를 지정하여 줄바꿈을 하지 않음\n",
    "        else:                     # 세로 방향 변수와 다를 때\n",
    "            print(' ', end='')    # 공백 출력. end에 ''를 지정하여 줄바꿈을 하지 않음\n",
    "    print()    # 가로 방향으로 별을 다 그린 뒤 다음 줄로 넘어감\n",
    "               # (print는 출력 후 기본적으로 다음 줄로 넘어감)\n",
    "               "
   ]
  },
  {
   "cell_type": "code",
   "execution_count": null,
   "id": "4740bc06",
   "metadata": {
    "hidden": true
   },
   "outputs": [],
   "source": [
    "x = int(input('별 몇개 : '))\n",
    "\n",
    "for i in range(x):\n",
    "  for j in range(x):\n",
    "    if j == i:\n",
    "      print('* ', end='')\n",
    "    print('  ', end='')\n",
    "  print()"
   ]
  },
  {
   "cell_type": "code",
   "execution_count": null,
   "id": "ae6216a5",
   "metadata": {
    "hidden": true
   },
   "outputs": [],
   "source": [
    "x = int(input('별 몇개 : '))\n",
    "\n",
    "for j in range(x):\n",
    "  for i in range(x-1):\n",
    "    if i < x:\n",
    "      print(\"  \", end='')\n",
    "  print('*')\n",
    "  x -= 1\n",
    "print()"
   ]
  },
  {
   "cell_type": "code",
   "execution_count": null,
   "id": "695229c9",
   "metadata": {
    "hidden": true
   },
   "outputs": [],
   "source": [
    "FizzBuzz 문제는 매우 간단한 프로그래밍 문제이며 규칙은 다음과 같습니다.\n",
    "\n",
    "1에서 100까지 출력\n",
    "3의 배수는 Fizz 출력\n",
    "5의 배수는 Buzz 출력\n",
    "3과 5의 공배수는 FizzBuzz 출력\n",
    "\n",
    "1부터 100까지 숫자를 출력하면서 3의 배수는 숫자 대신 'Fizz', \n",
    "5의 배수는 숫자 대신 'Buzz', \n",
    "3과 5의 공배수는 숫자 대신 'FizzBuzz'를 출력하면 됩니다.\n",
    "\n",
    "특히 FizzBuzz 문제는 프로그래밍 면접에 자주 등장하는 문제입니다.\n",
    "문제 조건을 꼼꼼히 따지지 않으면 경력자도 실수하기 쉽고, 면접에서 탈락하기도 합니다.\n",
    "그만큼 기초실력을 가늠하는 문제이기 때문에 잘 알아 두면 좋습니다.\n",
    "\n",
    "FizzBuzz 문제는 반복문, 조건문, 나머지 연산자, 비교 연산자를 모두 동원해야 풀 수 있습니다.\n",
    "\n",
    "1부터 100까지 숫자를 출력\n",
    "for i in range(1, 101):    # 1부터 100까지 100번 반복\n",
    "    print(i)\n",
    "\n",
    "3의 배수와 5의 배수일 때 숫자 대신 'Fizz', 'Buzz'를 출력해보겠습니다.\n",
    "for i in range(1, 101):    # 1부터 100까지 100번 반복\n",
    "    if i % 3 == 0:         # 3의 배수일 때\n",
    "        print('Fizz')      # Fizz 출력\n",
    "    elif i % 5 == 0:       # 5의 배수일 때\n",
    "        print('Buzz')      # Buzz 출력\n",
    "    else:\n",
    "        print(i)           # 아무것도 해당되지 않을 때 숫자 출력\n",
    "\n",
    "3과 5의 공배수는 출력\n",
    "for i in range(1, 101):              # 1부터 100까지 100번 반복\n",
    "    if i % 3 == 0 and i % 5 == 0:    # 3과 5의 공배수일 때(조건이 아래에 위치하면 3과 5의 공배 검출를 실패한다)\n",
    "        print('FizzBuzz')            # FizzBuzz 출력\n",
    "    elif i % 3 == 0:                 # 3의 배수일 때\n",
    "        print('Fizz')                # Fizz 출력\n",
    "    elif i % 5 == 0:                 # 5의 배수일 때\n",
    "        print('Buzz')                # Buzz 출력\n",
    "    else:\n",
    "        print(i)                     # 아무것도 해당되지 않을 때 숫자 출력\n",
    "\n",
    "and를 사용하지 않고 3과 5의 공배수를 검사\n",
    "3 * 5 = 15는 3과 5의 최소공배수이므로 15로 나눴을 때 나머지가 0인 값들은 3과 5의 공배수\n",
    "for i in range(1, 101):      # 1부터 100까지 100번 반복\n",
    "    if i % 15 == 0:          # 15의 배수(3과 5의 공배수)일 때\n",
    "        print('FizzBuzz')    # FizzBuzz 출력\n",
    "    elif i % 3 == 0:         # 3의 배수일 때\n",
    "        print('Fizz')        # Fizz 출력\n",
    "    elif i % 5 == 0:         # 5의 배수일 때\n",
    "        print('Buzz')        # Buzz 출력\n",
    "    else:\n",
    "        print(i)             # 아무것도 해당되지 않을 때 숫자 출력\n",
    "\n",
    "\n",
    "코드를 매우 단축하여 FizzBuzz 문제 풀기\n",
    "for i in range(1, 101):\n",
    "    print('Fizz' * (i % 3 == 0) + 'Buzz' * (i % 5 == 0) or i)    # 문자열 곱셈과 덧셈을 이용하여 print 안에서 처리\n",
    "\n",
    "'Fizz' * (i % 3 == 0)\n",
    "i가 3의 배수이면 i % 3 == 0은 True이므로 'Fizz'가 출력되고, 3의 배수가 아니면 False이므로 'Fizz'가 출력되지 않습니다.\n",
    "\n",
    "'Buzz' * (i % 5 == 0)\n",
    "마찬가지로 'Buzz'도 문자열 곱셈을 이용하여 5의 배수일 때 출력합니다.\n",
    "\n",
    "'Fizz' * (i % 3 == 0) + 'Buzz' * (i % 5 == 0)\n",
    "3과 5의 공배수이면 'Fizz' * True + 'Buzz' * True가 되므로 'Fizz' + 'Buzz'로 'FizzBuzz'를 출력합니다. \n",
    "\n",
    "print('Fizz' * (i % 3 == 0) + 'Buzz' * (i % 5 == 0) or i)\n",
    "3 또는 5의 배수가 아닐 때는 'Fizz' * False + 'Buzz' * False가 되고 결과는 빈 문자열 ''이 되는데, \n",
    "빈 문자열은 False로 취급하고, i는 항상 1 이상의 숫자이므로 or로 연산하면 i만 남게 되어 숫자가 그대로 출력됩니다.\n",
    "\n",
    "하지만 코드가 읽기 어려워 진다면 이해하기 쉽도록 풀어서 작성하는 것이 좋습니다.\n",
    "\n",
    "\n",
    "참고 | 가독성\n",
    "읽기 쉽고 이해하기 쉬운 코드를 가독성이 좋다고 말합니다.\n",
    "복잡한 로직을 간단하고 쉽게 작성할 수록 프로그래밍 실력이 뛰어나다고 할 수 있습니다.\n",
    "\n",
    "프로그래밍은 만드는 것으로 끝나지 않고, 항상 유지보수가 뒤따릅니다. \n",
    "특히 규모가 큰 프로젝트는 여러 사람이 협업하여 기능을 만들고 내가 작성한 코드를 다른 사람이 수정하거나,\n",
    "내가 다른 사람의 코드를 수정하기도 합니다(실무에서는 내가 다른 사람의 코드를 수정해야 하는 일이 대부분입니다).\n",
    "따라서 다른 사람이 내 코드를 유지보수하기 쉽도록 코드를 작성해야 하고, \n",
    "내가 만든 코드를 나중에 내가 봤을 때도 이해하기 쉽도록 작성해야 한다."
   ]
  },
  {
   "cell_type": "code",
   "execution_count": null,
   "id": "f253e0c4",
   "metadata": {
    "hidden": true
   },
   "outputs": [],
   "source": []
  },
  {
   "cell_type": "code",
   "execution_count": null,
   "id": "cddff47e",
   "metadata": {
    "hidden": true
   },
   "outputs": [],
   "source": []
  },
  {
   "cell_type": "markdown",
   "id": "f0e76253",
   "metadata": {
    "hidden": true
   },
   "source": [
    "##### enumerate()와 이중 for문 : for문을 잘 쓰면 반복적으로 코드를 쓰지 않아도 돼 간결한 코드를 만드는 데 큰 도움이 됩니다\n",
    "\n",
    "enumerate()는 리스트, 문자열, 튜플 등이 있는 경우 순서와 리스트의 값을 함께 반환해 주는 기능입니다\n",
    "\n",
    "for i, value in enumerate(my_list)를 이용하면 i에 순번이, value에 해당 순번의 데이터 값이 나오게 됩니다.\n",
    "즉, enumerate()를 통해 단순 for문이 아니라 순서에 대한 결괏값도 함께 추가되었다고 생각하시면 됩니다."
   ]
  },
  {
   "cell_type": "markdown",
   "id": "e0998438",
   "metadata": {
    "hidden": true
   },
   "source": [
    "##### for 안에 또 for를 쓴 것을 이중 for문이라고 합니다(for i in range(2): for j in my_list)\n",
    "\n",
    "i안에 j가 있기 때문에 j가 다 돌 때까지 i는 0에서 고정되고 j가 순서대로 a,b,c,d로 나오게 됩니다.\n",
    "j가 전체 다 돌면 i는 다음으로 넘어갑니다. 이런 방식으로 [0, 1]과 ['a','b','c','d'] 두 리스트를 조합해서 만든 새로운 리스트가 생성됩니다"
   ]
  },
  {
   "cell_type": "markdown",
   "id": "e08122e9",
   "metadata": {
    "hidden": true
   },
   "source": [
    "##### range() range(start, stop, step) : range(2)와 같이 정수가 들어가야 합니다.\n",
    "\n",
    "list() 함수를 통해 값을 뽑아오면 0부터 시작해서 2개인 list ([0, 1]) 를 만듭니다. 즉, stop 까지 포함하지는 않습니다.\n",
    "하지만 실제로 반환하는 타입은 range이며, 리스트로 받아오고 싶다면 list(range(1, 10, 2))를 하시면 됩니다."
   ]
  },
  {
   "cell_type": "markdown",
   "id": "c0496224",
   "metadata": {
    "hidden": true
   },
   "source": [
    "##### 리스트 컴프리헨션(list Comprehension) : 파이썬이 제공하는 편리한 기능 중에 리스트 컴프리헨션이 있습니다.\n",
    "\n",
    "이것은 리스트 등 순회형 컨테이너 객체로부터 이를 가공한 새로운 리스트를 생성하는 아주 간결하고 편리한 방법입니다.\n",
    "컴프리헨션 기능은 비단 리스트뿐 아니라 셋(Set), 딕셔너리(Dict)에 대해서도 적용 가능합니다.\n",
    "my_list = ['a','b','c','d'] result_list = [(i, j) for i in range(2) for j in my_list] print(result_list)\n",
    "\n",
    "=> [(0, 'a'), (0, 'b'), (0, 'c'), (0, 'd'), (1, 'a'), (1, 'b'), (1, 'c'), (1, 'd')]"
   ]
  },
  {
   "cell_type": "markdown",
   "id": "21fbbb86",
   "metadata": {
    "hidden": true
   },
   "source": [
    "##### 제너레이터(Generator) - 머신러닝을 하면 매우 많은 데이터를 다루게 됩니다.\n",
    "\n",
    "단순히 for문을 사용해서 데이터를 공급해 보도록 하는 첫 번째 코드와, Generator의 개념을 이용하여 데이터를 공급하는 두 번째 코드를 비교\n",
    "for문을 사용해서 데이터를 공급해주는 경우 : 엄청난 양의 데이터를 전부 메모리에 올려놔야 한다\n",
    "Generator의 개념을 이용하여 데이터를 공급하는 경우 : yield를 사용한 반복문이 사용하지 않은 반복문보다 메모리 사용량이 적다.\n",
    "제너레이터를 활용할 때는 1억 개의 데이터를 전부 메모리에 올려놓을 필요가 없이 현재 처리해야 할 데이터를 1개씩 로드해서 사용할 수 있다.\n",
    "이것은 빅데이터를 처리해야 할 머신러닝 상황에서 매우 요긴합니다"
   ]
  },
  {
   "cell_type": "markdown",
   "id": "44ab1179",
   "metadata": {
    "hidden": true
   },
   "source": [
    "##### 반복문과 들여쓰기"
   ]
  },
  {
   "cell_type": "code",
   "execution_count": null,
   "id": "8c9c25d9",
   "metadata": {
    "hidden": true
   },
   "outputs": [],
   "source": [
    "반복문과 들여쓰기\n",
    "\n",
    "▼ 표 24-1 리스트 메서드\n",
    "메서드\n",
    "\n",
    "설명\n",
    "\n",
    "append(값)\n",
    "\n",
    "append(리스트)\n",
    "\n",
    "리스트 끝에 값을 추가, 리스트[len(리스트):] = [값]과 같음\n",
    "\n",
    "리스트를 넣으면 리스트 안에 리스트가 들어감\n",
    "\n",
    "extend(리스트)\n",
    "\n",
    "리스트 끝에 다른 리스트 연결, 리스트[len(리스트):] = [값, 값]과 같음\n",
    "\n",
    "insert(인덱스, 값)\n",
    "\n",
    "리스트의 특정 인덱스에 값을 추가\n",
    "\n",
    "pop()\n",
    "\n",
    "pop(인덱스)\n",
    "\n",
    "리스트의 마지막 값을 삭제한 뒤 삭제한 값을 반환\n",
    "\n",
    "인덱스를 지정하면 해당 인덱스의 값을 삭제한 뒤 삭제한 값을 반환, del 리스트[인덱스]와 같음\n",
    "\n",
    "remove(값)\n",
    "\n",
    "리스트에서 특정 값을 삭제\n",
    "\n",
    "index(값)\n",
    "\n",
    "리스트에서 특정 값의 인덱스를 구함\n",
    "\n",
    "count(값)\n",
    "\n",
    "리스트에서 특정 값의 개수를 구함\n",
    "\n",
    "reverse()\n",
    "\n",
    "리스트에서 값의 순서를 반대로 뒤집음\n",
    "\n",
    "sort()\n",
    "\n",
    "sort(reverse=True)\n",
    "\n",
    "리스트의 값을 작은 순서대로 정렬(오름차순)\n",
    "\n",
    "reverse=True는 큰 순서대로 정렬(내림차순)\n",
    "\n",
    "clear()\n",
    "\n",
    "리스트의 모든 값을 삭제, del a[:]와 같음\n",
    "\n",
    "copy()\n",
    "\n",
    "리스트를 복사하여 새 리스트 생성\n",
    "\n",
    "튜플은 값의 정보를 구하는 index, count 메서드만 사용할 수 있습니다.\n",
    "\n",
    "인덱스로 범위를 지정하여 리스트 조작하기\n",
    "\n",
    "리스트는 메서드를 사용하지 않고, 인덱스로 범위를 지정하여 조작할 수 있습니다.\n",
    "\n",
    "리스트[len(리스트):] = [값]        # 리스트 끝에 값이 한 개 들어있는 리스트 추가\n",
    "                                   # 리스트.append(값)과 같음\n",
    "리스트[len(리스트):] = [값, 값]    # 리스트 끝에 다른 리스트 연결\n",
    "                                   # 리스트.extend([값, 값])과 같음\n",
    "del 리스트[인덱스]    # 특정 인덱스의 값 삭제, 리스트.pop(인덱스)와 같음\n",
    "del 리스트[:]   # 시작 인덱스와 끝 인덱스를 생략하여 리스트의 모든 값을 삭제, 리스트.clear()와 같음\n",
    "리스트(튜플)와 반복문\n",
    "\n",
    "for 변수 in 뒤에 리스트(튜플)를 지정하면 반복하면서 모든 요소를 꺼내옵니다. \n",
    "특히 enumerate(리스트)를 지정하면 인덱스와 요소를 동시에 꺼내올 수 있습니다.\n",
    "\n",
    "for 변수 in 리스트:    # 반복하면서 요소를 꺼내옴\n",
    "    반복할 코드\n",
    " \n",
    "for 인덱스, 요소 in enumerate(리스트):    # 반복하면서 인덱스와 요소를 꺼내옴\n",
    "    반복할 코드\n",
    " \n",
    "for 인덱스 in range(len(리스트)):    # 리스트의 길이로 반복\n",
    "    리스트[인덱스]                   # 인덱스로 요소에 접근\n",
    " \n",
    "while 인덱스 < len(리스트):    # 리스트의 길이로 반복\n",
    "    리스트[인덱스]             # 인덱스로 요소에 접근\n",
    "    인덱스 += 1\n",
    "min, max, sum 함수\n",
    "\n",
    "min은 리스트(튜플)에서 가장 작은 값, max는 가장 큰 값, sum은 요소의 합계를 구합니다.\n",
    "\n",
    "리스트(튜플) 표현식\n",
    "\n",
    "리스트(튜플) 표현식은 리스트 안에 식, for 반복문, if 조건문 등을 지정하여 리스트(튜플)를 생성합니다.\n",
    "\n",
    "# 리스트 표현식\n",
    "\n",
    "[식 for 변수 in 리스트]\n",
    "\n",
    "[i for i in range(10)]\n",
    "\n",
    "list(식 for 변수 in 리스트)\n",
    "\n",
    " \n",
    "\n",
    "# 튜플 표현식\n",
    "\n",
    "tuple(식 for 변수 in 리스트 if 조건식)\n",
    "\n",
    " \n",
    "\n",
    "# if 조건문 사용\n",
    "\n",
    "[식 for 변수 in 리스트 if 조건식]\n",
    "\n",
    "[i for i in range(10) if i % 2 == 0]\n",
    "\n",
    "list(식 for 변수 in 리스트 if 조건식)\n",
    "\n",
    "# for와 if를 여러 번 사용\n",
    "\n",
    "[식 for 변수1 in 리스트1 if 조건식1\n",
    "\n",
    "    for 변수2 in 리스트2 if 조건식2\n",
    "\n",
    "    ...\n",
    "\n",
    "    for 변수n in 리스트n if 조건식n]\n",
    "\n",
    "[i * j for j in range(2, 10) for i in range(1, 10)]\n",
    "\n",
    " \n",
    "\n",
    "list(식 for 변수1 in 리스트1 if 조건식1\n",
    "\n",
    "        for 변수2 in 리스트2 if 조건식2\n",
    "\n",
    "        ...\n",
    "\n",
    "        for 변수n in 리스트n if 조건식n]\n",
    "\n",
    "리스트(튜플)에 map 함수 사용\n",
    "\n",
    "map은 리스트(튜플)의 요소를 지정된 함수로 처리해주는 함수입니다.\n",
    "\n",
    "리스트 = list(map(함수, 리스트))\n",
    "a = list(map(int, a))\n",
    "튜플 = tuple(map(함수, 튜플))\n",
    " \n",
    "변수1, 변수2 = list(map(함수, 리스트))    # 언패킹 사용\n",
    "a, b = list(map(str, range(2)))\n",
    " \n",
    "변수1, 변수2 = map(함수, 리스트)          # 언패킹 사용\n",
    "a, b = map(int, input().split())\n",
    "2차원 리스트\n",
    "\n",
    "2차원 리스트는 가로×세로의 평면 구조로 이루어져 있습니다.\n",
    " 2차원 리스트는 리스트 안에 리스트를 넣어서 만들 수 있으며 안쪽의 각 리스트는 ,(콤마)로 구분해줍니다.\n",
    "  2차원 리스트의 요소에 접근하거나 할당할 때는 리스트에 [ ](대괄호)를 두 번 사용하며 [ ] 안에 세로 인덱스와 가로 인덱스를 지정해줍니다.\n",
    "   일반적으로 2차원 공간은 가로×세로로 표기하지만 리스트로 만들 때는 세로×가로로 표기합니다.\n",
    "\n",
    "리스트 = [[값, 값], [값, 값], [값, 값]]    # 2차원 리스트 만들기\n",
    " \n",
    "리스트[세로인덱스][가로인덱스]         # 2차원 리스트의 요소에 접근\n",
    "리스트[세로인덱스][가로인덱스] = 값    # 2차원 리스트의 요소에 값 저장\n",
    " \n",
    "리스트 = [(값, 값), (값, 값), (값, 값)]    # 리스트 안에 튜플을 넣음\n",
    "튜플 = ([값, 값], [값, 값], [값, 값])      # 튜플 안에 리스트를 넣음\n",
    "튜플 = ((값, 값), (값, 값), (값, 값))      # 튜플 안에 튜플을 넣음\n",
    "3차원 리스트\n",
    "\n",
    "3차원 리스트는 높이×세로×가로 형태로 이루어져 있습니다.\n",
    " 3차원 공간은 가로×세로×높이로 표기하지만 리스트로 만들 때는 높이×세로×가로로 표기합니다.\n",
    "\n",
    "리스트 = [[[값, 값], [값, 값]], [[값, 값], [값, 값]], [[값, 값], [값, 값]]]    # 3차원 리스트 만들기\n",
    " \n",
    "리스트[높이인덱스][세로인덱스][가로인덱스]         # 3차원 리스트의 요소에 접근\n",
    "리스트[높이인덱스][세로인덱스][가로인덱스] = 값    # 3차원 리스트의 요소에 값 저장\n",
    "문자열 메서드\n"
   ]
  },
  {
   "cell_type": "markdown",
   "id": "f3f63b78",
   "metadata": {
    "heading_collapsed": true,
    "hidden": true
   },
   "source": [
    "#### 시퀀스(sequence) 자료형"
   ]
  },
  {
   "cell_type": "markdown",
   "id": "60135162",
   "metadata": {
    "heading_collapsed": true,
    "hidden": true
   },
   "source": [
    "##### Sequence"
   ]
  },
  {
   "cell_type": "code",
   "execution_count": null,
   "id": "06132422",
   "metadata": {
    "hidden": true
   },
   "outputs": [],
   "source": [
    "시퀀스 자료형(sequence types) : 값이 연속적(sequence)으로 이어져 있는 자료형.\n",
    "list, tuple, range, str에 주로 사용하며 bytes, bytearray라는 자료형도 있습니다\n",
    "\n",
    "시퀀스 자료형의 공통 기능\n",
    "시퀀스 자료형으로 만든 객체를 시퀀스 객체\n",
    "시퀀스 객체에 들어있는 각 값을 요소(element)라고 부릅니다.\n",
    "\n",
    "값 in 시퀀스객체 : 시퀀스 객체 안에 특정 값이 있는지 확인(있으면 True, 없으면 False)(튜플, range, 문자열도 동일함)\n",
    "a = [0, 10, 20, 30, 40, 50, 60, 70, 80, 90]\n",
    "30 in a                       # True\n",
    "100 in a                      # False\n",
    "43 in (38, 76, 43, 62, 19)    # True (튜풀) \n",
    "1 in range(10)                # True (range)\n",
    "'P' in 'Hello, Python'        # True (문자열)\n",
    "\n",
    "값 not in 시퀀스객체 : 반대로 특정 값이 없으면 True, 있으면 False\n",
    "100 not in a                  # True\n",
    "\n",
    "시퀀스 객체 연결하기 : 시퀀스객체1 + 시퀀스객체2 (+ 연산자로 객체를 서로 연결하여 새 객체를 만들 수 있다)\n",
    "a = [0, 10, 20, 30]\n",
    "b = [9, 8, 7, 6]\n",
    "a + b                 # [0, 10, 20, 30, 9, 8, 7, 6]\n",
    "\n",
    "문자열은 + 연산자로 여러 문자열을 연결할 수 있습니다.\n",
    "'Hello, ' + 'world!'   # 'Hello, world!'\n",
    "\n",
    "참고 | 문자열에 숫자 연결하기 - str()을 사용하여 숫자를 문자열로 변환.\n",
    "'문자열' + str(숫자)\n",
    "'Hello, ' + str(10)      # 'Hello, 10'  str을 사용하여 정수를 문자열로 변환\n",
    "\n",
    "range는 + 연산자로 객체를 연결할 수 없다. 이때는 range를 리스트 또는 튜플로 만들어서 연결하면 됩니다.\n",
    "list(range(0, 10)) + list(range(10, 20))\n",
    "[0, 1, 2, 3, 4, 5, 6, 7, 8, 9, 10, 11, 12, 13, 14, 15, 16, 17, 18, 19]\n",
    "\n",
    "시퀀스 객체 반복하기\n",
    "* 연산자는 시퀀스 객체를 특정 횟수만큼 반복하여 새 시퀀스 객체를 만듬(0, 음수는 빈 객체 생성 실수는 사용불가)\n",
    "list(range(0, 5, 2)) * 3    # [0, 2, 4, 0, 2, 4, 0, 2, 4]"
   ]
  },
  {
   "cell_type": "code",
   "execution_count": null,
   "id": "dd16b200",
   "metadata": {
    "hidden": true
   },
   "outputs": [],
   "source": []
  },
  {
   "cell_type": "markdown",
   "id": "a27f3125",
   "metadata": {
    "heading_collapsed": true,
    "hidden": true
   },
   "source": [
    "##### index"
   ]
  },
  {
   "cell_type": "code",
   "execution_count": null,
   "id": "ddcb3544",
   "metadata": {
    "hidden": true
   },
   "outputs": [],
   "source": [
    "인덱스 : 시퀀스 객체 요소들의 순서(인덱스은 0번 부터 시작한다)\n",
    "\n",
    "시퀀스객체[인덱스] : [ ] 안에 접근할 요소의 인덱스를 지정하면 해당 요소에 접근(인덱스의 위치 값)\n",
    "a = [38, 21, 53, 62, 19]\n",
    "a[0]    # 리스트의 첫 번째(인덱스 0) 요소 38출력\n",
    "a[2]    # 리스트의 세 번째(인덱스 2) 요소 53출력\n",
    "\n",
    "시퀀스 객체에 인덱스를 지정하지 않으면 해당 객체 전체를 뜻한다. \n",
    "a      # [38, 21, 53, 62, 19] 시퀀스 객체에 인덱스를 지정하지 않으면 전체를 호출\n",
    "\n",
    "음수로 인덱스 지정하기 : 시퀀스 객체에 인덱스를 음수로 지정하면 뒤에서부터 요소에 접근\n",
    "(-1은 뒤에서 첫 번째(마지막 요소), -5는 뒤에서 다섯 번째 요소)\n",
    "len(a) - 1로 시퀀스 객체의 마지막 인덱스의 위치를 구할 수 있다\n",
    "a[-1]  # 19\n",
    "\n",
    "요소에 값 할당하기 : 시퀀스 객체는 [ ]로 요소에 접근한 뒤 =로 값을 할당.\n",
    "시퀀스객체[인덱스] = 값\n",
    "a[-2] = 111   # [38, 21, 53, 111, 19] a시퀀스의 마지막 2번째의 요소 값(62 -> 111)을 새로 할당\n",
    "\n",
    "del로 요소 삭제하기 : 시퀀스 객체의 [ ]로 요소에 접근한 뒤 요소를 삭제\n",
    "del 시퀀스객체[인덱스] (del은 함수가 아니라 예약어이다.  예약어 뒤에 한 칸을 띄고서 사용)\n",
    "del a[0]    # [21, 53, 62, 19] a시퀀스의 인덱스0번 값 삭제\n",
    "\n",
    "주의 - 튜플, range, 문자열은 읽기 전용으로 값을 할당, 삭제 할수 없다\n",
    "\n",
    "참고 | __getitem__ 메서드\n",
    "시퀀스 객체에서 [ ]를 사용는 실제로 __getitem__ 메서드를 호출하는 기능으로 객체의 요소를 가져옴\n",
    "\n",
    "시퀀스객체.__getitem__(인덱스) : 인덱스로 접근할 수 있는 이터레이터 이다\n",
    "a.__getitem__(1)    # a시퀀스 객체의 1번 인덱스 21호출\n",
    "a[1]                # a시퀀스 객체의 1번 인덱스 21호출"
   ]
  },
  {
   "cell_type": "code",
   "execution_count": null,
   "id": "b770adb1",
   "metadata": {
    "hidden": true
   },
   "outputs": [],
   "source": []
  },
  {
   "cell_type": "markdown",
   "id": "217b3dd9",
   "metadata": {
    "heading_collapsed": true,
    "hidden": true
   },
   "source": [
    "##### Slice"
   ]
  },
  {
   "cell_type": "code",
   "execution_count": null,
   "id": "b1737d2e",
   "metadata": {
    "hidden": true
   },
   "outputs": [],
   "source": [
    "슬라이스(slice) : 시퀀스 객체의 일부를 잘라내기 - 인덱스의 시작위치와 끝위치로 지정한 범위를 추출\n",
    "시퀀스객체[A:B:C] - A:시작인덱스, B:끝인덱스, C:인덱스증가폭\n",
    "시퀀스객체[:] = a = a[:] = a[::] = 인덱스생략 = 시작인덱스(0인텍스) 끝인덱스(len(a)) 증가폭(1)와 같다) = a전체\n",
    "\n",
    "len() 응용하기 - 인덱스의 범위를 알수 없을 때 유용함.\n",
    "a[:len(a)]     # 시작 인덱스 생략, 끝 인덱스에 len(a) 지정하여 리스트 전체를 가져옴\n",
    "\n",
    "인덱스 증가폭을 음수로 지정하면 요소를 뒤에서부터 가져올 수 있습니다. \n",
    "a[::-1]     # 인덱스 증가폭만 -1로 지정하면 객체 전체를 반대로 가져온다\n",
    "            # 주의 - 시작인덱스가 증가폭만큼(-1) 감소하므로 끝 인덱스보다 시작 인덱스를 더 크게 지정해야 한다.\n",
    "\n",
    "시퀀스 객체는 슬라이스로 범위를 지정하여 여러 요소에 값을 할당할 수 있다.\n",
    "시퀀스객체[시작인덱스:끝인덱스] = 시퀀스객체\n",
    "a = list(range(0,100,10))\n",
    "a[2:5] = ['a', 'b', 'c']    # 인덱스 2, 3, 4에 'a', 'b', 'c'값을 할당\n",
    "print(a)                    # [0, 10, 'a', 'b', 'c', 50, 60, 70, 80, 90]\n",
    "\n",
    "슬라이스 범위와 할당할 리스트의 요소 개수 다른 경우\n",
    "할당할 요소 개수가 적으면 그만큼 리스트의 요소 개수도 줄어듭니다.\n",
    "a[2:5] = ['a']    # 인덱스 2부터 4까지에 값 1개를 할당하여 요소의 개수가 줄어듦\n",
    "a                 # [0, 10, 'a', 50, 60, 70, 80, 90]\n",
    "\n",
    "할당할 요소 개수가 많으면 그만큼 리스트의 요소 개수도 늘어남.\n",
    "a[2:5] = ['a', 'b', 'c', 'd', 'e'] # 인덱스 2부터 4까지 값 5개를 할당하여 요소의 개수가 늘어남\n",
    "a                                  # [0, 10, 'a', 'b', 'c', 'd', 'e', 50, 60, 70, 80, 90]\n",
    "\n",
    "인덱스 증가폭을 지정하여 인덱스를 건너뛰면서 할당.(범위의 요소와 할당할 요소 개수가 정확히 일치해야 한다)\n",
    "시퀀스객체[시작인덱스:끝인덱스:인덱스증가폭] = 시퀀스객체 \n",
    "a[2:8:2] = ['a', 'b', 'c']    # 인덱스 2부터 2씩 증가시키면서 인덱스 7까지 값 할당\n",
    "a                             # [0, 10, 'a', 30, 'b', 50, 'c', 70, 80, 90]\n",
    "\n",
    "del로 슬라이스 삭제하기(원본 리스트값 변경) del은 함수가 아니라 예약어이다.  예약어 뒤에 한 칸을 띄고서 사용\n",
    "del 시퀀스객체[시작인덱스:끝인덱스]\n",
    "a = [0, 10, 20, 30, 40, 50, 60, 70, 80, 90]\n",
    "del a[2:5]    # 인덱스 2부터 4까지 요소를 삭제\n",
    "a             # [0, 10, 50, 60, 70, 80, 90]\n",
    "\n",
    "인덱스 증가폭을 지정하면 인덱스를 건너뛰면서 삭제\n",
    "a = [0, 10, 20, 30, 40, 50, 60, 70, 80, 90]\n",
    "del a[2:8:2]    # 인덱스 2부터 2씩 증가시키면서 인덱스 6까지 삭제\n",
    "a               # [0, 10, 30, 50, 70, 80, 90]\n",
    "\n",
    "remove( ) 함수 : 값으로 삭제\n",
    "numbers = [0, 1, 2, 3, 4, 5, 6]\n",
    "numbers.remove(1)\n",
    "print(numbers)     # [0, 2, 3, 4, 5, 6] 인덱스1의 값 삭제\n",
    "\n",
    "------------  이런게 사용도 할 수 있음 ----------------\n",
    "range()에 슬라이스를 사용하면 지정된 범위의 숫자를 생성하는 range 객체를 새로 만듭니다.\n",
    "range객체[시작인덱스:끝인덱스:인덱스증가폭]\n",
    "\n",
    "r1 = range(10)           # r1에 range(10) 객체를 생성 (이후 r1은 range(10)와 동일한 기능을 한다)\n",
    "r2 = list(r1[::2])       # r2에 r1객체에서 [::2] 범위만큼 리스트로 만들어서 r2에 저장\n",
    "print(r2)                # [0, 2, 4, 6, 8] 객체 생성. r2는 list(range(0, 10, 2))와 같다.\n",
    "\n",
    "-------------- ps : 별루 인거 같음 ---------------------\n",
    "시퀀스객체[슬라이스객체] - slice() 객체를 사용하여 시퀀스객체(시퀀스 자료형으로 만든 변수)를 잘라낼 수도 있다.\n",
    "슬라이스객체 = slice(시작인덱스, 끝인덱스, 인덱스증가폭) - 슬라이스 범위가 [A:B:C]가 아닌 (A, B, C)의 형식주의\n",
    "시퀀스 객체의 [ ] 또는 __getitem__ 메서드에 slice 객체를 넣어주면 지정된 범위만큼 잘라내서 새 객체를 만듭니다.\n",
    "시퀀스객체.__getitem__(슬라이스객체)\n",
    "a[4:7] = range(4, 7) == range(10)[slice(4, 7)] == range(10).__getitem__(slice(4, 7)) 같은 기능\n",
    "\n",
    "a  = list(range(10))\n",
    "\n",
    "a1 = a[4:7]\n",
    "a2 = list(range(4, 7))\n",
    "a3 = list(range(10)[slice(4, 7)])\n",
    "a4 = list(range(10).__getitem__(slice(4, 7)))\n",
    "\n",
    "print('a = ', a)     # a =  [0, 1, 2, 3, 4, 5, 6, 7, 8, 9]\n",
    "print('1 = ', a1)    # 1 =  [4, 5, 6]\n",
    "print('2 = ', a2)    # 2 =  [4, 5, 6]\n",
    "print('3 = ', a3)    # 3 =  [4, 5, 6]\n",
    "print('4 = ', a4)    # 4 =  [4, 5, 6]\n",
    "\n",
    "range() 슬라이스와 slice() 객체를 만든 뒤 여러 시퀀스 객체에 사용하는 방법도 가능.\n",
    "a = [0, 10, 20, 30, 40, 50, 60, 70, 80, 90]\n",
    "s = slice(4, 7)    # 인덱스 4부터 6까지 자르는 slice 기능 객체 생성\n",
    "print(a[s])        # [40, 50, 60] - s에 slice()기능을 저장 후 a객체에 적용하는 방식."
   ]
  },
  {
   "cell_type": "code",
   "execution_count": null,
   "id": "369dbed7",
   "metadata": {
    "hidden": true
   },
   "outputs": [],
   "source": []
  },
  {
   "cell_type": "markdown",
   "id": "519348d0",
   "metadata": {
    "heading_collapsed": true,
    "hidden": true
   },
   "source": [
    "#####  iterator"
   ]
  },
  {
   "cell_type": "code",
   "execution_count": null,
   "id": "a77e3386",
   "metadata": {
    "hidden": true
   },
   "outputs": [],
   "source": [
    "이터레이터(iterator) : 시퀀스객체(list, tuple, range)의 요소를 하나씩 꺼낼 수 있는 객체(object)\n",
    "(시퀀스 객체 말고도 딕셔너리,세트도 반복 가능한 객체이기 때문에 이터레이터가 가능 합니다) \n",
    "\n",
    "for i in range(100)는 0부터 99까지 값을 차례대로 꺼낼 수 있는 이터레이터를 하나만 만들어냅니다. \n",
    "이후 반복할 때마다 이터레이터에서 숫자를 하나씩 꺼내서 100이전 까지 반복합니다.\n",
    "\n",
    "미리 숫자들을 만들면 메모리를 많이 사용하게 되므로 성능에도 불리합니다. \n",
    "그래서 이터레이터만 생성하고 값이 필요한 시점이 되었을 때 값을 만드는 방식을 사용합니다. \n",
    "(데이터 생성을 뒤로 미루는 방식 - 지연 평가(lazy evaluation)라고함) 이터레이터 = 반복자\n",
    "\n",
    "__iter__ 메소드를 사용하여 이터레이터를 사용할 수 있도록 정의하고난 후 __next__ 메소드로 요소 하나씩 출력.\n",
    "요소를 전분 출력하고 마지막 4번째의 __next__는 더이상 꺼내올 요소가 없기에 StopIteration 에러를 발생\n",
    "(__iter__와 __next__말고도 __getitem__도 있습니다)\n",
    "\n",
    "반복 가능한 객체(iterable) : 요소가 여러 개 들어있고, 한 번에 하나씩 꺼낼 수 있는 객체\n",
    "반복 가능한 객체인지 알아보는 방법 : dir(객체)로 객체에 __iter__ 메서드가 들어있는지 확인\n",
    "반복 가능한 객체 : [dict, set, (시퀀스 객체 - list, tuple, str, range)]\n",
    "\n",
    "이터레이터 객체를 변수에 저장한 뒤 __next__ 메서드를 호출해보면 요소를 차례대로 꺼낼 수 있습니다.\n",
    "it = [1, 2, 3].__iter__()\n",
    "it.__next__()    # 1\n",
    "it.__next__()    # 2\n",
    "it.__next__()    # 3\n",
    "it.__next__()    # StopIteration 에러 발생\n",
    "\n",
    "test = [10, 20, 30]\n",
    "A = iter(test)        # iter(test) = test.__iter__() 메서드를 사용과 같음.\n",
    "print(A.__next__())   # 10 __next__() 메서드를 사용하여 다음 요소 하나를 불러옴\n",
    "print(A.__next__())   # 20 __next__() 메서드를 사용하여 다음 요소 하나를 불러옴\n",
    "print(A.__next__())   # 30 __next__() 메서드를 사용하여 다음 요소 하나를 불러옴\n",
    "print(A.__next__())   # StopIteration 에러 발생 (다음 요소가 없어 에러 발생)"
   ]
  },
  {
   "cell_type": "code",
   "execution_count": null,
   "id": "eb692cd3",
   "metadata": {
    "hidden": true
   },
   "outputs": [],
   "source": []
  },
  {
   "cell_type": "markdown",
   "id": "26c50a0c",
   "metadata": {
    "heading_collapsed": true,
    "hidden": true
   },
   "source": [
    "#####  (\\_iter_, \\_next_)"
   ]
  },
  {
   "cell_type": "code",
   "execution_count": null,
   "id": "485e9866",
   "metadata": {
    "hidden": true
   },
   "outputs": [],
   "source": [
    "iter는 반복 가능한 객체에서 이터레이터를 반환하고, next는 이터레이터에서 값을 차례대로 꺼냅니다. \n",
    "\n",
    "iter는 반복을 끝낼 값을 지정하면 특정 값(호출 가능한 객체 - callable)이 나올 때 반복을 끝냄(반복 종료을 sentinel이라함)\n",
    "->  반복하다 callable이 나오면 반복을 sentinel(종료)함.\n",
    "\n",
    "iter(호출가능한객체, 반복을끝낼값)\n",
    "호출가능한객체 : random.randint(0, 5)와 반복을끝낼값 2가 나오면 반복을 끝내도록 만들기\n",
    "(호출 가능한 객체를 넣어야 하므로 매개변수가 없는 함수 또는 람다 표현식 사용)\n",
    "\n",
    "import random\n",
    "it = iter(lambda : random.randint(0, 5), 2)\n",
    "next(it)     # 0\n",
    "next(it)     # 3\n",
    "next(it)     # 1\n",
    "next(it)     # 값 2(callable)가 나와서 더이상 호출할 값이 없어 StopIteration 에러 발생"
   ]
  },
  {
   "cell_type": "code",
   "execution_count": null,
   "id": "fd5418be",
   "metadata": {
    "hidden": true
   },
   "outputs": [],
   "source": [
    "#  for 반복문에 iter 함수 넣어서 사용할 경우 if 조건문으로 매번 숫자가 2인지 검사하지 않아도 되므로 코드가 좀 더 간단해짐\n",
    "import random\n",
    "for i in iter(lambda : random.randint(0, 5), 2):\n",
    "  print(i, end=' ')"
   ]
  },
  {
   "cell_type": "code",
   "execution_count": null,
   "id": "2e870b95",
   "metadata": {
    "hidden": true
   },
   "outputs": [],
   "source": [
    "#  위와 동일한 코드\n",
    "import random\n",
    " \n",
    "while True:\n",
    "    i = random.randint(0, 5)\n",
    "    if i == 2:\n",
    "        break\n",
    "    print(i, end=' ')"
   ]
  },
  {
   "cell_type": "code",
   "execution_count": null,
   "id": "8bc1b8cd",
   "metadata": {
    "hidden": true
   },
   "outputs": [],
   "source": [
    "next(반복가능한객체, 기본값)\n",
    "next는 기본값을 지정하면 반복이 끝났을 때 StopIteration이 발생하지 않고 기본값을 출력합니다. \n",
    "\n",
    "it = iter(range(3))  # range(3)으로 0, 1, 2 세 번 반복하는데 next에 기본값으로 10을 지정\n",
    "next(it, 10)         # 0\n",
    "next(it, 10)         # 1\n",
    "next(it, 10)         # 2\n",
    "next(it, 10)         # 10 반복이 끝나도 next(it, 10)을 호출하면 예외가 발생하지 않고 계속 기본값(10) 출력\n",
    "next(it, 10)         # 10 반복이 끝나도 next(it, 10)을 호출하면 예외가 발생하지 않고 계속 기본값(10) 출력"
   ]
  },
  {
   "cell_type": "code",
   "execution_count": null,
   "id": "5bdbfd46",
   "metadata": {
    "hidden": true
   },
   "outputs": [],
   "source": []
  },
  {
   "cell_type": "code",
   "execution_count": null,
   "id": "2418fbfb",
   "metadata": {
    "hidden": true
   },
   "outputs": [],
   "source": []
  },
  {
   "cell_type": "markdown",
   "id": "0242a0ec",
   "metadata": {
    "hidden": true
   },
   "source": [
    "#####  (\\_iter_, \\_next_) 메서드를 사용해 iterator 구현"
   ]
  },
  {
   "cell_type": "code",
   "execution_count": null,
   "id": "9d45da61",
   "metadata": {
    "hidden": true
   },
   "outputs": [],
   "source": [
    "''' __iter__, __next__ 메서드를 사용해 range(횟수)처럼 동작하는 이터레이터 클래스 구현\n",
    "  --- 구현 형식---\n",
    "class 이터레이터이름:\n",
    "    def __iter__(self):\n",
    "        코드\n",
    " \n",
    "    def __next__(self):\n",
    "        코드 '''\n",
    "\n",
    "class range2:                  # A ~ B까지 연속 숫자 생성(스탬 기능 없음)\n",
    "    def __init__(self, stop):\n",
    "        # self.i = 0             # 현재 숫자 유지, 0부터 시작 반복\n",
    "        self.i = 1             # 현재 숫자 유지, 1부터 시작 반복\n",
    "        # self.stop = stop       # 반복을 끝낼 숫자(끝낼 숫자전까지 출력)\n",
    "        self.stop = stop + 1   # 반복을 끝낼 숫자(끝낼 숫자까지   출력)\n",
    " \n",
    "    def __iter__(self):\n",
    "        return self            # 현재 인스턴스를 반환\n",
    " \n",
    "    def __next__(self):\n",
    "        if self.i < self.stop:    # 현재 숫자가 반복을 끝낼 숫자보다 작을 때\n",
    "            r = self.i            # 반환할 숫자를 변수에 저장\n",
    "            self.i += 1           # 현재 숫자를 1 증가시킴\n",
    "            return r                    # 숫자를 반환\n",
    "        else:                           # 현재 숫자가 반복을 끝낼 숫자보다 크거나 같을 때\n",
    "            raise StopIteration         # 예외 발생"
   ]
  },
  {
   "cell_type": "code",
   "execution_count": null,
   "id": "8d236953",
   "metadata": {
    "hidden": true
   },
   "outputs": [],
   "source": [
    "A = list(range2(9))    # 0 ~ 8 [self.i = 0][self.stop = stop]일 때\n",
    "print(A)"
   ]
  },
  {
   "cell_type": "code",
   "execution_count": null,
   "id": "e307484e",
   "metadata": {
    "hidden": true
   },
   "outputs": [],
   "source": [
    "for i in range2(9):   # 1 ~ 9 [self.i = 1][self.stop = stop + 1]일 때\n",
    "    print(i, end=' ')"
   ]
  },
  {
   "cell_type": "code",
   "execution_count": null,
   "id": "9ac16401",
   "metadata": {
    "hidden": true
   },
   "outputs": [],
   "source": [
    "A = range2(4)\n",
    "print(A[0])    # index로 접근 불가 에러 발생"
   ]
  },
  {
   "cell_type": "markdown",
   "id": "a5d6c810",
   "metadata": {
    "hidden": true
   },
   "source": [
    "#####  iterator에 \\_getitem_ 메서드로 인텍스 접근 구현"
   ]
  },
  {
   "cell_type": "code",
   "execution_count": null,
   "id": "8ebea23e",
   "metadata": {
    "hidden": true
   },
   "outputs": [],
   "source": [
    "''' __getitem__ 메서드를 구현하여 인덱스로 접근할 수 있는 이터레이터를 만들기\n",
    "  --- 구현 형식---\n",
    "class 이터레이터이름:\n",
    "    def __getitem__(self, 인덱스):\n",
    "        코드'''\n",
    "\n",
    "class range3:                  # A ~ B까지 연속 숫자 생성(스탬 기능 없음)\n",
    "    def __init__(self, stop):\n",
    "        self.i = 0             # 현재 숫자 유지, 0부터 시작 반복\n",
    "        # self.i = 1             # 현재 숫자 유지, 1부터 시작 반복\n",
    "        self.stop = stop       # 반복을 끝낼 숫자(끝낼 숫자전까지 출력)\n",
    "        # self.stop = stop + 1   # 반복을 끝낼 숫자(끝낼 숫자까지   출력)\n",
    " \n",
    "    def __iter__(self):\n",
    "        return self            # 현재 인스턴스를 반환\n",
    " \n",
    "    def __next__(self):\n",
    "        if self.i < self.stop:    # 현재 숫자가 반복을 끝낼 숫자보다 작을 때\n",
    "            r = self.i            # 반환할 숫자를 변수에 저장\n",
    "            self.i += 1           # 현재 숫자를 1 증가시킴\n",
    "            return r                    # 숫자를 반환\n",
    "        else:                           # 현재 숫자가 반복을 끝낼 숫자보다 크거나 같을 때\n",
    "            raise StopIteration         # 예외 발생\n",
    "\n",
    "    def __getitem__(self, index):\n",
    "        if index < self.stop:\n",
    "            return index\n",
    "        else:\n",
    "            raise IndexError"
   ]
  },
  {
   "cell_type": "code",
   "execution_count": null,
   "id": "0082acd6",
   "metadata": {
    "hidden": true
   },
   "outputs": [],
   "source": [
    "A = range3(4)\n",
    "print('A[0] = ', A[0], '/ A[1] = ', A[1], '/ A[2] = ', A[2], '/ A[3] = ', A[3]) # index로 접근 가능\n",
    "\n",
    "for i in A:\n",
    "  print(f'A[{i}] = ', i, end=' / ')"
   ]
  },
  {
   "cell_type": "markdown",
   "id": "5da18e7b",
   "metadata": {
    "hidden": true
   },
   "source": [
    "#####  iterator unpacking(a, _, c, d = range(4))"
   ]
  },
  {
   "cell_type": "code",
   "execution_count": null,
   "id": "11b3f89e",
   "metadata": {
    "hidden": true
   },
   "outputs": [],
   "source": [
    "이터레이터는 언패킹(unpacking)이 가능. - 이터레이터가 반복하는 횟수와 변수의 개수는 같아함\n",
    "a, b, c = range2(3)\n",
    "print(a, b, c)       # 0 1 2\n",
    "\n",
    "map도 이터레이터입니다. 그래서 a, b, c = map(int, input().split())처럼 언패킹으로 변수 여러 개에 값을 할당할 수 있음\n",
    "\n",
    "참고 | 반환값을 _에 저장하는 이유\n",
    "함수를 호출한 뒤 반환값을 저장할 때 _(밑줄 문자)를 사용하는 경우가 있습니다.\n",
    "_, b = range(2)  # 이 코드는 a, b = range(2)와 같음\n",
    "b                # 1\n",
    "\n",
    "반환값을 언패킹했을 때 _에 할당하는 것은 특정 순서의 반환값를 사용하지 않고 무시하겠다는 관례적 표현입니다. \n",
    "예를 들어 다음과 같은 코드는 언패킹 했을 때 두 번째 변수는 사용하지 않겠다는 뜻입니다.\n",
    "a, _, c, d =  range(4)\n",
    "a, c, d       # (0, 2, 3)"
   ]
  },
  {
   "cell_type": "code",
   "execution_count": null,
   "id": "87576a76",
   "metadata": {
    "hidden": true
   },
   "outputs": [],
   "source": []
  },
  {
   "cell_type": "markdown",
   "id": "d9294510",
   "metadata": {
    "hidden": true
   },
   "source": [
    "##### generator (yield 키워드)"
   ]
  },
  {
   "cell_type": "code",
   "execution_count": null,
   "id": "82f24343",
   "metadata": {
    "hidden": true
   },
   "outputs": [],
   "source": [
    "제너레이터는 이터레이터를 생성하는 함수(이터레이터는 클래스에 __iter__, __next__,or __getitem__를 구현해야 하다)\n",
    "제너레이터는 함수 안에서 yield 키워드만 사용하면됨(메모리 방식이 iterrator와 차이가 남). \n",
    "yield 값 : 함수 안에서 yield를 사용하면 해당 함수는 제너레이터가 되고 yield 값(변수)을 반환해줌.\n",
    "\n",
    "yield를 사용해서 제너레이터를 만들고 for 반복문에서 0, 1, 2 숫자 세 개를 출력하기\n",
    "def number_gener1():\n",
    "    yield 0\n",
    "    yield 1\n",
    "    yield 2\n",
    " \n",
    "for i in number_gener1():\n",
    "    print(i, end=' ')       # 0 1 2   __iter__, __next__,or __getitem__ 동일한 기능)\n",
    "g = number_gener1()\n",
    "print(g)                    # <generator object gener1 at 0x00000200BA989890> dir(g)로 확인하면 __iter__, __next__가 있음\n",
    "\n",
    "제너레이터 객체에서 __next__ 메서드를 호출할 때마다 함수 안의 yield까지 코드를 실행하며 yield의 값을 발생(generate)한다."
   ]
  },
  {
   "cell_type": "code",
   "execution_count": null,
   "id": "1312d144",
   "metadata": {
    "hidden": true
   },
   "outputs": [],
   "source": [
    "yield를 사용하면 값을 함수 바깥으로 전달하면서 코드 실행을 함수 바깥에 양보합니다. \n",
    "따라서 yield는 현재 함수를 잠시 중단하고 함수 바깥의 코드가 실행되도록 만듭니다.\n",
    "\n",
    "yield의 동작 과정 알아보기(for 반복문 대신 next 함수로 __next__ 메서드를 직접 호출)\n",
    "\n",
    "def number_generator():\n",
    "    yield 0    # 0을 함수 바깥으로 전달하면서 코드 실행을 함수 바깥에 양보\n",
    "    yield 1    # 1을 함수 바깥으로 전달하면서 코드 실행을 함수 바깥에 양보\n",
    "    yield 2    # 2를 함수 바깥으로 전달하면서 코드 실행을 함수 바깥에 양보\n",
    " \n",
    "g = number_generator()\n",
    "a = next(g)    # yield를 사용하여 값을 함수 바깥으로 전달하고 next는 이 값을 반환값으로 전달\n",
    "print(a)       # 0\n",
    "b = next(g)\n",
    "print(b)       # 1\n",
    "c = next(g)\n",
    "print(c)       # 2"
   ]
  },
  {
   "attachments": {
    "image.png": {
     "image/png": "[encoded data removed]"
    }
   },
   "cell_type": "markdown",
   "id": "1ae63034",
   "metadata": {
    "hidden": true
   },
   "source": [
    "##### yield의 동작 과정\n",
    "![image.png](attachment:image.png)"
   ]
  },
  {
   "cell_type": "code",
   "execution_count": null,
   "id": "51eac036",
   "metadata": {
    "hidden": true
   },
   "outputs": [],
   "source": [
    " g = number_generator()와 같이 제너레이터 객체생성. \n",
    "\n",
    " 1. next(g)를 호출하면 제너레이터 안의 yield 0이 실행되어 숫자 0을 발생시켜서 바깥으로 전달 바깥코드가 실행되도록 양보. \n",
    " 함수 바깥에서는 print(a)로 next(g)에서 반환된 값을 출력합니다\n",
    "\n",
    " 2. 값을 출력했으면 next(g)로 다시 제너레이터 안의 yield 1이 실행되고 숫자 1을 발생시켜서 바깥으로 전달 바깥코드가 실행되도록 양보. \n",
    " 그리고 함수 바깥에서는 print(b)로 next(g)에서 반환된 값을 출력\n",
    "\n",
    " 3. 마찬가지로 과정으로 yield 2도 숫자를 발생시키고 print(c)로 제너레이터에서 나온 값을 출력\n",
    "\n",
    "이렇게 제너레이터는 함수를 끝내지 않은 상태에서 yield를 사용하여 값을 바깥으로 전달할 수 있다(return은 반환 즉시 함수 종료)\n",
    "yield는 잠시 함수 바깥의 코드가 실행되도록 양보하여 값을 가져가게 한 뒤 다시 제너레이터 안의 코드를 계속 실행하는 방식이다.\n",
    "\n",
    "참고 | 제너레이터와 return\n",
    "제너레이터는 함수 끝까지 도달하면 StopIteration 예외가 발생합니다.\n",
    "return도 함수를 끝내므로 return을 사용해서 함수 중간에 빠져나오면 StopIteration 예외가 발생합니다."
   ]
  },
  {
   "cell_type": "code",
   "execution_count": null,
   "id": "35288705",
   "metadata": {
    "hidden": true
   },
   "outputs": [],
   "source": []
  },
  {
   "cell_type": "markdown",
   "id": "0d75b9a6",
   "metadata": {
    "hidden": true
   },
   "source": [
    "##### yield로 range기능 구현"
   ]
  },
  {
   "cell_type": "code",
   "execution_count": null,
   "id": "3363d5ba",
   "metadata": {
    "hidden": true
   },
   "outputs": [],
   "source": [
    "제너레이터 안에서 변수 n을 만들고 0으로 초기화 그리고 while n < stop:로 반복 (n이 stop이상이면 종료)\n",
    "반복문 안에서는 yield n으로 숫자를 바깥으로 전달한 뒤 n을 1씩 증가(yield가 3번 나오므로 for 반복문도 3번 반복)"
   ]
  },
  {
   "cell_type": "code",
   "execution_count": null,
   "id": "dbf7704f",
   "metadata": {
    "hidden": true
   },
   "outputs": [],
   "source": [
    "def range_generator(stop):\n",
    "    n = 0              # 숫자는 0부터 시작\n",
    "    while n < stop:    # 현재 숫자가 반복을 끝낼 숫자보다 작을 때 반복\n",
    "        yield n        # 현재 숫자를 바깥으로 전달\n",
    "        n += 1         # 현재 숫자를 증가시킴\n",
    " \n",
    "for i in range_generator(3):\n",
    "    print(i, end=' ')         # 0 1 2 출력"
   ]
  },
  {
   "cell_type": "code",
   "execution_count": null,
   "id": "1cb46fc3",
   "metadata": {
    "hidden": true
   },
   "outputs": [],
   "source": [
    "yield에서 함수 호출하기 (리스트에 들어있는 문자열을 대문자로 변환하여 함수 바깥으로 전달하기)\n",
    "\n",
    "def upper_generator(x):\n",
    "    for i in x:\n",
    "        # yield i              # i값을 바깥으로 전달\n",
    "        yield i.upper()      # i값을 대문자로 변환해서 바깥으로 전달\n",
    "\n",
    "fruits = ['apple', 'pear', 'grape', 'pineapple', 'orange']\n",
    "for i in upper_generator(fruits):\n",
    "    print(i, end=' ')        #  APPLE PEAR GRAPE PINEAPPLE ORANGE 출력\n",
    "\n",
    "yield i.upper()와 같이 yield에서 함수(메서드)를 호출하면 해당 함수의 반환값을 바깥으로 전달합니다\n",
    "yield에 무엇을 지정하든 결과만 바깥으로 전달합니다(함수의 반환값, 식의 결과).\n",
    "yield의 동작 방식만 이해하면 이터레이터보다 훨씬 간단하게 만들 수 있습니다."
   ]
  },
  {
   "cell_type": "markdown",
   "id": "ada3380a",
   "metadata": {
    "hidden": true
   },
   "source": [
    "#####  generator (yield from 키워드)"
   ]
  },
  {
   "cell_type": "code",
   "execution_count": null,
   "id": "d234bc77",
   "metadata": {
    "hidden": true
   },
   "outputs": [],
   "source": [
    "yield from에 반복 가능한 객체(리스트)를 지정하면 리스트에 들어있는 요소를 한 개씩 바깥으로 전달\n",
    "yield from을 한 번 사용하여 값을 세 번 바깥으로 전달(__next__ 메서드를 리스트 길이만큼 호출)\n",
    "\n",
    "yield from 반복가능한객체\n",
    "yield from 이터레이터\n",
    "yield from 제너레이터객체\n",
    "\n",
    "def number_generator():\n",
    "    x = [1, 2, 3]\n",
    "    yield from x             # 리스트에 들어있는 요소를 한 개씩 바깥으로 전달(__next__ 메서드호출)\n",
    " \n",
    "for i in number_generator():\n",
    "    print(i, end=' ')         # 1 2 3\n",
    "    \n",
    "\n",
    "\n",
    "yield from에 제너레이터 객체를 지정(이터레이터는 제너레이터와 동작이 같음)\n",
    "\n",
    "def number_generator(stop):           # 매개변수로 받은 숫자 직전까지 숫자를 생성\n",
    "    n = 0\n",
    "    while n < stop:\n",
    "        yield n\n",
    "        n += 1\n",
    " \n",
    "def three_generator():\n",
    "    yield from number_generator(9)   # 제너레이터 객체를 지정 - 숫자를 9번 바깥으로 전달(__next__ 메서드호출)\n",
    " \n",
    "for i in three_generator():\n",
    "    print(i, end=' ')                 # 0 1 2 3 4 5 6 7 8 \n",
    "    \n",
    "\n",
    "참고 | 제너레이터 표현식\n",
    "리스트 표현식을 사용할 때 [ ]를 사용했습니다. 같은 리스트 표현식을 ( )로 묶으면 제너레이터 표현식이 됩니다. \n",
    "리스트 표현식은 처음부터 리스트의 요소를 만들어내지만 제너레이터 표현식은 필요할 때 요소를 만들어내므로 메모리를 절약할 수 있습니다.\n",
    "\n",
    "(식 for 변수 in 반복가능한객체)\n",
    "AA = [i for i in range(20) if i % 2 == 0]    # [0, 2, 4, 6, 8, 10, 12, 14, 16, 18]\n",
    "BB =(i for i in range(20) if i % 2 == 0)     # <generator object <genexpr> at 0x024F02A0>"
   ]
  },
  {
   "cell_type": "code",
   "execution_count": null,
   "id": "9add8b7c",
   "metadata": {
    "hidden": true
   },
   "outputs": [],
   "source": []
  },
  {
   "cell_type": "markdown",
   "id": "e381257e",
   "metadata": {
    "hidden": true
   },
   "source": [
    "##### 이터레이터와 제너레이터의 차이"
   ]
  },
  {
   "cell_type": "code",
   "execution_count": null,
   "id": "8a989e3d",
   "metadata": {
    "hidden": true
   },
   "outputs": [],
   "source": [
    "\n",
    "단순히 yield를 쓰냐 안쓰냐의 차이도 있지만 가장 큰 차이점은 이터레이터는 모든 동작을 완료한 후 결과를 한번에 메모리 적재 시키는것에 반해, \n",
    "제너레이터는 각각의 yield에서 한번 실행 시킨 후 대기 상태에 들어가 결과를 반환, \n",
    "이후 다음 코드를 진행하여 또다시 yield를 만날 경우 대기 상태에 들어가 결과를 반환하는 방식입니다.\n",
    "# 이너레이터\n",
    "def test_iter():\n",
    "    start = 1\n",
    "    x = iter(range(1, 4))\n",
    "    for i in x:\n",
    "        print(i)\n",
    "\n",
    "test_iter()\n",
    "\n",
    " \n",
    "아래는 제너레이터의 코드와 실행 흐름 입니다. yield가 호출될때마다 함수가 잠시 대기 상태에 들어가고 결과값을 출력 후 다시 함수가 실행 상태로 되돌아 갑니다. \n",
    "이렇게 yield를 만날때마다 함수는 잠시 대기 상태에 들어가고 바깥에 값을 전달하며 실행 순서를 양보 합니다.\n",
    "# 제너레이터\n",
    "def gen(count):\n",
    "    start = 1\n",
    "    while start <= count:\n",
    "        yield start\n",
    "        start += 1\n",
    "\n",
    "for i in gen(3):\n",
    "    print(i)\n",
    " \n",
    "아래는 제너레이터의 실행 흐름 입니다. 빨간색 화살표 → 파란색 화살표 순으로 보시면 됩니다.\n",
    "\n",
    "아래 코드처럼 time.sleep을 이용하여 확실히 밖에 값을 전달하고 출력 후 함수로 되돌아온다는걸 알 수 있습니다. \n",
    "아래 코드를 실행하면 1 출력 후 2초간 대기, 2 출력 후 2초간 대기, 3 출력 후 2초간 대기가 되는데, 함수엔 결과를 yield를 이용해 밖으로 보내주기만하고 출력하는 기능은 없습니다.\n",
    "즉, yield를 이용해 값을 함수 밖으로 보내고 대기 상태에 들어간 후 실행 순서를 양보하여 함수 밖의 print(i)가 출력 후 실행 순서가 함수로 다시 되돌아온다는 것을 알 수 있습니다.\n",
    "import time\n",
    "\n",
    "def gen(count):\n",
    "    start = 1\n",
    "    while start <= count:\n",
    "        yield start\n",
    "        time.sleep(2) # yield start 실행 후 2초간 대기\n",
    "        start += 1\n",
    "\n",
    "for i in gen(3):\n",
    "    print(i)"
   ]
  },
  {
   "cell_type": "code",
   "execution_count": null,
   "id": "68c301f4",
   "metadata": {
    "hidden": true
   },
   "outputs": [],
   "source": []
  },
  {
   "cell_type": "markdown",
   "id": "ad3f1c01",
   "metadata": {
    "hidden": true
   },
   "source": [
    "##### 코루틴(coroutine)"
   ]
  },
  {
   "cell_type": "code",
   "execution_count": null,
   "id": "c1216cc9",
   "metadata": {
    "hidden": true
   },
   "outputs": [],
   "source": []
  },
  {
   "cell_type": "code",
   "execution_count": null,
   "id": "8da2cd43",
   "metadata": {
    "hidden": true
   },
   "outputs": [],
   "source": []
  },
  {
   "cell_type": "markdown",
   "id": "2aaba887",
   "metadata": {
    "hidden": true
   },
   "source": [
    "##### "
   ]
  },
  {
   "cell_type": "markdown",
   "id": "549a4849",
   "metadata": {
    "hidden": true
   },
   "source": [
    "##### "
   ]
  },
  {
   "cell_type": "markdown",
   "id": "f3136dfd",
   "metadata": {
    "heading_collapsed": true
   },
   "source": [
    "### 06 Function 함수"
   ]
  },
  {
   "cell_type": "markdown",
   "id": "61c5b341",
   "metadata": {
    "hidden": true
   },
   "source": [
    "#### Function :\n",
    "\n",
    "코드의 효율성을 높여줄 뿐만 아니라\n",
    "코드의 재사용성을 높여줘 개발하는 시간이 적게 걸리게 되고\n",
    "뭘 하고자 하는지 누구나 알기 쉬워 코드의 가독성도 좋아집니다."
   ]
  },
  {
   "cell_type": "markdown",
   "id": "de145b47",
   "metadata": {
    "hidden": true
   },
   "source": [
    "#### y=f(x) 함수에는 어떤 것이 있죠?\n",
    "\n",
    "x : 입력 (정의역)\n",
    "f(x) : 수식\n",
    "y : 결과(치역)"
   ]
  },
  {
   "cell_type": "markdown",
   "id": "21e18fa9",
   "metadata": {
    "hidden": true
   },
   "source": [
    "#### function define\n",
    "\n",
    "def 줄의 다음 줄부터 함수 정의가 끝날 때까지는 들여쓰기를 유지해야 하며, 이 들여쓰기가 유지되는 구간을 블럭(block)이라고 합니다.\n",
    "함수가 받을 매개변수의 기본값을 지정해 주면, 입력값이 없을 경우 해당 기본값을 사용하게 됩니다\n",
    "참고로, 함수를 정의할 때 쓰인 인자의 이름을 알고 있다면, 함수를 호출할 때 직접 붙여줄 수도 있습니다. 인자를 전달할 때는 순서가 상관없기 때문에, 거꾸로 뒤집을 수도 있습니다\n",
    "기본값(default)이 없는 인자가 기본값이 있는 인자 뒤에 오면 SyntaxError에 해당한다고 합니다\n",
    "함수 실행뒤 결과를 가지고 무언가를 하고 싶다면, return으로 이 값을 출력값(output)으로 반환(return)하라고 명시적으로 표시해 줘야 합니다"
   ]
  },
  {
   "cell_type": "markdown",
   "id": "3038b297",
   "metadata": {
    "hidden": true
   },
   "source": [
    "#### (argument) (parameter)"
   ]
  },
  {
   "cell_type": "markdown",
   "id": "c9409530",
   "metadata": {
    "hidden": true
   },
   "source": [
    "#### pass : 함수를 만들기 전에 함수 이름과 입력 정도만 먼저 만들어 놓는 경우\n",
    "\n",
    "'이런 이런 동작을 하는 함수를 만들 거지만 먼저 일단 이름만 작성해놓고 함수 내부 구현은 나중에 해야겠다~'라는 겁니다.\n",
    "pass문은 기타 제어 흐름 도구입니다. pass가 하는 일은.. 놀랍게도 아무것도 하지 않는 일입니다.\n",
    "즉 문법적으로 해당 문장이 필요하지만, 프로그램이 특별히 할 일이 없을 때 사용할 수 있습니다.\n",
    "사용 가능한 곳은 다양하며 대표적으로 위에서 사용한 함수 내부, if 내부, while 내부 등 다양한 곳에서 쓸 수 있습니다."
   ]
  },
  {
   "cell_type": "markdown",
   "id": "bfcbf2fe",
   "metadata": {
    "hidden": true
   },
   "source": [
    "#### 함수를 연달아 사용할 수도 있습니다\n",
    "\n"
   ]
  },
  {
   "cell_type": "markdown",
   "id": "9177432c",
   "metadata": {
    "hidden": true
   },
   "source": [
    "#### 함수 안의 함수 & 2개 이상의 return\n",
    "\n",
    "함수 안에 또 함수를 만들어서 쓸 수 있습니다. 하지만 함수 안에서 만든 함수는 해당 함수 내부에서만 사용할 수 있습니다.\n",
    "return 되는 것은 minmax_list 1개이지만 그 안에 2개의 값을 넣어놨기 때문에 2개 이상을 반환하는 것과 같은 효과를 보게 되는 것입니다.\n",
    "값을 각각 보고 싶다면 minmax_function(list_data)[0]처럼 인덱싱을 활용하시면 됩니다\n",
    "return x_min, x_max 이처럼 ,(콤마)를 이용해 여러 개의 값을 반환하고, 이를 받아 각각을 활용할 수도 있습니다"
   ]
  },
  {
   "cell_type": "markdown",
   "id": "e29d60c4",
   "metadata": {
    "hidden": true
   },
   "source": [
    "#### scope\n",
    "global scope\n",
    "\n",
    "local scope"
   ]
  },
  {
   "cell_type": "markdown",
   "id": "9c0d3c4d",
   "metadata": {
    "hidden": true
   },
   "source": [
    "#### 재귀함수(recursive function)\n",
    "함수 내에서 그 함수 스스로를 사용하는 인셉션 같은 함수 종류. 즉, def f(): 안의 코드 블럭에서 f()를 호출한다면, 그 함수는 재귀 함수입니다.\n",
    "이 재귀 함수가 유용한 한 가지 예제는 피보나치 수열의 n번째 숫자를 찾는 작업입니다.\n",
    "피보나치 수열은 앞의 두 숫자를 더한 수가 다음 수가 되는 무한수열이며, 황금비율로도 잘 알려져 있습니다.\n",
    "fibonacci 수열 기능 이해\n",
    "피보나치 함수에 한 가지 문제\n",
    "\n",
    "최초의 n이 커질수록 속도는 기하급수적으로 느려지는 점\n",
    "결국 입력값 n에 대해 fibonacci()함수를 대략 2의 n 제곱 번 불러야 합니다\n",
    "한 번 불린 함수/입력값 조합이 반복적으로 불리기 때문에 이미 계산한 값을 다시 계산해야 한다는 비효율성도 있습니다\n",
    "한 번 계산된 값은 또 계산하지 않도록, 값을 기억해 두고 처음 한 번만 계산하는 방법은\n",
    "\n",
    "변수의 스코프를 활용하면 가능합니다.\n",
    "함수 밖에서 딕셔너리를 만들어서 한 번 계산된 값들을 기억하도록 만들어봅시다. 딕셔너리의 이름은 memory로 하겠습니다\n",
    "피보나치 순서 n이 키, 그 순서에 해당하는 피보나치 숫자가 값이 되도록 합니다.\n",
    "여기에 일단 우리가 알고 있는 1번째 피보나치 수 1, 2번째 피보나치 수 1을 알려줍니다.\n",
    "이미 기억에 있는 숫자 n이 들어올 경우 계산하지 말고 기억에 있는 그대로 읽어서 내보내라고 합시다\n",
    "if n in memory를 통해 입력값 n이라는 키가 memory 딕셔너리에 이미 있는 경우, 그 값 memory[n]을 바로 number로써 반환하라는 이야기입니다\n",
    "이제 fibonacci(n-1) + fibonacci(n-2)를 통해 구한 값은 memory에 저장됩니다.\n",
    "memory 변수를 새로 정의하는 것이 아니라 이미 있는 딕셔너리에 새로운 값을 추가하는 것이니,\n",
    "함수 내부에서 똑같은 이름의 변수가 새로 만들어지는 문제도 피할 수 있습니다.\n",
    "프로그래밍에서 이렇게 중간 계산 값을 기억해놓고, 다시 계산하는 대신 값을 바로 읽어 쓰는 방식으로 계산 시간을 줄이는 기법을 메모이제이션(memoization) 이라고 합니다."
   ]
  },
  {
   "cell_type": "markdown",
   "id": "32e265b9",
   "metadata": {
    "hidden": true
   },
   "source": [
    "#### 람다 표현식\n",
    "람다는 런타임에 생성해서 사용할 수 있는 익명 함수입니다. 쉽게 말하자면, 함수 이름이 없는 함수라고 생각하시면 됩니다.\n",
    "람다 표현식은 식 형태로 되어 있어 람다 표현식(lambda expression)이라 부릅니다.\n",
    "람다 표현식을 사용하는 가장 중요한 이유는 함수의 인수 부분을 간단히 하기 위함입니다. 이런 방식으로 사용하는 대표적인 예가 map()입니다\n",
    "map() 함수는 입력받은 자료형의 각 요소가 함수에 의해 수행된 결과를 묶어서 map iterator 객체로 출력하는 역할을 합니다\n",
    "map() 이외에도 filter(), reduce() 등 람다 표현식과 자주 쓰이는 함수가 많이 있습니다\n",
    "위키독스: 람다 - https://wikidocs.net/64"
   ]
  },
  {
   "cell_type": "markdown",
   "id": "4fd78ae2",
   "metadata": {
    "heading_collapsed": true
   },
   "source": [
    "### 07 Class 클래스"
   ]
  },
  {
   "cell_type": "markdown",
   "id": "91dbcfc4",
   "metadata": {
    "hidden": true
   },
   "source": [
    "#### 클래스(Class)\n",
    "클래스(Class) :클래스는 비슷한 역할을 하는 함수들의 집합이라고 볼 수 있습니다."
   ]
  },
  {
   "cell_type": "markdown",
   "id": "59dbed1f",
   "metadata": {
    "hidden": true
   },
   "source": [
    "#### 코드 스타일 - PEP8\n",
    "PEP는 Python Enhancement Proposals의 약자로 파이썬 개선사항을 위한 공식 문서입니다\n",
    "\n",
    "함수와 클래스는 다른 코드와 빈 줄 두 개로 구분합니다"
   ]
  },
  {
   "cell_type": "markdown",
   "id": "5e66173c",
   "metadata": {
    "hidden": true
   },
   "source": [
    "코드 스타일 - PEP8\n",
    "PEP는 Python Enhancement Proposals의 약자로 파이썬 개선사항을 위한 공식 문서입니다"
   ]
  },
  {
   "cell_type": "markdown",
   "id": "32b5b90d",
   "metadata": {
    "hidden": true
   },
   "source": [
    "함수와 클래스는 다른 코드와 빈 줄 두 개로 구분합니다"
   ]
  },
  {
   "cell_type": "code",
   "execution_count": null,
   "id": "f4be9d4d",
   "metadata": {
    "hidden": true
   },
   "outputs": [],
   "source": [
    "# class a():\n",
    "#     pass\n",
    "# # 빈 줄\n",
    "# # 빈 줄\n",
    "# class b():\n",
    "#     pass\n",
    "# # 빈 줄\n",
    "# # 빈 줄\n",
    "# def c():\n",
    "#     pass\n",
    "# # 빈 줄\n",
    "# # 빈 줄"
   ]
  },
  {
   "cell_type": "markdown",
   "id": "6a31d874",
   "metadata": {
    "hidden": true
   },
   "source": [
    "클래스에서 함수는 빈 줄 하나로 구분합니다."
   ]
  },
  {
   "cell_type": "code",
   "execution_count": null,
   "id": "b42be6af",
   "metadata": {
    "hidden": true
   },
   "outputs": [],
   "source": [
    "# class a():\n",
    "\t\n",
    "# \tdef b():\n",
    "# \t\tpass\n",
    "\t\n",
    "# \tdef c():\n",
    "# \t\tpass"
   ]
  },
  {
   "cell_type": "markdown",
   "id": "37ed3861",
   "metadata": {
    "hidden": true
   },
   "source": [
    "변수 할당 앞뒤에 스페이스를 하나만 사용합니다"
   ]
  },
  {
   "cell_type": "code",
   "execution_count": null,
   "id": "cea69d2a",
   "metadata": {
    "hidden": true
   },
   "outputs": [],
   "source": [
    "# y = 1"
   ]
  },
  {
   "cell_type": "markdown",
   "id": "270ac122",
   "metadata": {
    "hidden": true
   },
   "source": [
    "리스트 인덱스, 함수 호출에는 스페이스를 사용하지 않습니다."
   ]
  },
  {
   "cell_type": "code",
   "execution_count": null,
   "id": "23b4f24a",
   "metadata": {
    "hidden": true
   },
   "outputs": [],
   "source": [
    "# my_list = [1, 2, 3]\n",
    "# my_list[0] # 리스트 인덱스 호출\n",
    "\n",
    "# my_function(0) # 함수 호출"
   ]
  },
  {
   "cell_type": "markdown",
   "id": "b9e84ccc",
   "metadata": {
    "hidden": true
   },
   "source": [
    "쉼표(,), 쌍점(:), 쌍반점(;) 앞에서는 스페이스를 사용하지 않습니다."
   ]
  },
  {
   "cell_type": "code",
   "execution_count": null,
   "id": "4a341324",
   "metadata": {
    "hidden": true
   },
   "outputs": [],
   "source": [
    "# my_list = [1, 2, 3]; my_list[0:1]\n",
    "# if len(my_list) == 3: print my_list"
   ]
  },
  {
   "cell_type": "markdown",
   "id": "4a95ec8f",
   "metadata": {
    "hidden": true
   },
   "source": [
    "클래스의 속성은 상태(state)를 표현합니다.\n",
    "\n",
    "속성은 변수로 나타냅니다."
   ]
  },
  {
   "cell_type": "code",
   "execution_count": null,
   "id": "a24c6156",
   "metadata": {
    "hidden": true
   },
   "outputs": [],
   "source": [
    "클래스의 메서드는 동작(behavior)을 표현합니다.\n",
    "\n",
    "메서드는 def 키워드로 나타냅니다.\n",
    "그럼 Car 클래스를 코딩하도록 하겠습니다.\n",
    "\n",
    "색상은 \"red\", 종류는 \"sports car\"라는 속성을 갖고\n",
    "주행과 가속이라는 동작을 갖는 클래스를 정의해 보겠습니다.\n",
    "속성 은 변수로 선언한다고 했으니 아래와 같이 선언하겠습니다.\n",
    "\n",
    "color = 'red'\n",
    "category = 'sports car'\n",
    "동작은 다른 말로 메서드이고, 메서드는 def 키워드를 사용한다고 했습니다. 다음과 같이 선언해 봅시다.\n",
    "\n",
    "def driving():\n",
    "\n",
    "pass\n",
    "def accel():\n",
    "\n",
    "pass"
   ]
  },
  {
   "cell_type": "markdown",
   "id": "35670ad5",
   "metadata": {
    "hidden": true
   },
   "source": [
    "속성\n",
    "\n",
    "클래스의 상태는 속성이라고 부르며, 변수로 선언합니다.\n",
    "color에는 'red'를 category에는 'sports car'를 할당합니다."
   ]
  },
  {
   "cell_type": "markdown",
   "id": "935fb148",
   "metadata": {
    "hidden": true
   },
   "source": [
    "메서드\n",
    "\n",
    "동작은 메서드로 나타내고 메서드 선언은 함수와 똑같이 def 키워드를 이용합니다.\n",
    "클래스의 메서드는 첫 번째 인자는 self 값을 적어 주어야 합니다. (self 에 대한 설명은 나중에 하겠습니다)\n",
    "주행은 drive() 라는 메서드명으로 정의하고 self외에 인자는 없습니다.\n",
    "가속은 accel() 라는 메서드명으로 정의하고 현재 속도와 가속할 값을 인자로 받습니다.\n",
    "현재속도 인자명 = current_speed, 가속 인자명 = speed_up\n",
    "accel 메서드에 self.speed_up, self.current_speed 를 인자로 줍니다."
   ]
  },
  {
   "cell_type": "markdown",
   "id": "021abdf7",
   "metadata": {
    "hidden": true
   },
   "source": [
    "#### 클래스의 속성과 메서드 사용"
   ]
  },
  {
   "cell_type": "markdown",
   "id": "7b8c31ce",
   "metadata": {
    "hidden": true
   },
   "source": [
    "#### 객체¶\n",
    "객체 - Everything in Python is an object, and almost everything has attributes and methods.\n",
    "\n",
    "\"파이썬(Python)에서 모든 것은 객체(object)다. 그래서 거의 모든 것이 속성(attributes)과 메서드(methods)를 갖는다.\" 고 하는데요.\n",
    "변수의 묶음이 되는 속성과 연관된 함수를 엮어 놓은 메서드로 이루어졌다는 말입니다."
   ]
  },
  {
   "cell_type": "markdown",
   "id": "3b7048dc",
   "metadata": {
    "hidden": true
   },
   "source": [
    "객체 안에서 변수는 속성이 되고, 함수는 메서드가 된다는 점만 알면 됩니다. 이 용어들은 혼용되기도 합니다.\n",
    "속성 대신 변수라는 말을 써도 괜찮고, 메서드 대신 함수라는 말을 써도 큰일나지 않습니다. 컴퓨터의 세상은 생각보다 엄밀하게 정의하지 않아요.\n",
    "파이썬에서는 부울(bool), 정수, 실수, 문자열, 배열, 딕셔너리, 함수, 모듈, 프로그램.. 등 모든 것이 객체입니다.\n",
    "이 말을 이해하지 못했다 하더라도 좋습니다. 어쨌든 객체라는 점만 확인하고 넘어갑시다.\n",
    "\n",
    "파이썬에서는 모든 것(부울, 정수, 실수, 데이터구조(list,tuple,dict,set...), 함수, 프로그램, 모듈)이 객체다.\n",
    "객체는 상태(state)를 나타내는 속성(attribute)과 동작(behavior)을 나타내는 메서드(method)가 있다.\n",
    "객체의 속성은 변수로 구현된다. 객체의 메서드는 함수로 구현된다."
   ]
  },
  {
   "cell_type": "markdown",
   "id": "f61edfbd",
   "metadata": {
    "hidden": true
   },
   "source": [
    "객체를 활용한 프로그래밍을 객체 지향 프로그래밍(OOP: Object Oriented Programming) 이라고 합니다.\n",
    "\n",
    "파이썬에서 개발자가 객체를 직접 설계하기 위해서는 class 키워드를 이용\n",
    "\n",
    "클래스 사용 - 객체 인스턴스화\n",
    "\n",
    "클래스를 이용하려면 클래스로 객체를 만들어 주어야 하는데요. 이를 인스턴스화라고 합니다.\n",
    "인스턴스화는 어떻게 할까요? 선언한 클래스 이름에 괄호를 적어 줍니다. 그리고 생성된 인스턴스를 적당한 변수에 할당해서 사용합니다.\n",
    "self 요약 self는 초보자에게는 조금 어려운 개념입니다.\n",
    "\n",
    "self는 자기 자신입니다.\n",
    "클래스에 의해 생성된 객체(인스턴스)를 가리킵니다.\n",
    "클래스의 메서드는 인자로 해당 인스턴스(self)를 받아야 합니다.\n",
    "메서드를 호출할 때는 self 인자를 전달하지 않습니다. self의 값은 인터프리터가 제공합니다.\n",
    "인스턴스 변수를 정의할 때에는 접두사 self.을 붙여줍니다."
   ]
  },
  {
   "cell_type": "markdown",
   "id": "7ee1132a",
   "metadata": {
    "hidden": true
   },
   "source": []
  },
  {
   "cell_type": "markdown",
   "id": "4c32e6c8",
   "metadata": {
    "hidden": true
   },
   "source": []
  },
  {
   "cell_type": "markdown",
   "id": "a35c0601",
   "metadata": {
    "hidden": true
   },
   "source": []
  },
  {
   "cell_type": "markdown",
   "id": "0057ea25",
   "metadata": {
    "hidden": true
   },
   "source": [
    "#### 생성자 _init_\n",
    "코드 설명\n",
    "\n",
    "_init_ 메서드 안에 인자를 전달함으로써 인스턴스 객체의 속성을 초기화할 수 있습니다.\n",
    "즉, _init_ 메서드 안에 정의된 속성(변수) color와 category는 클래스를 인스턴스화할 때 값을 설정할 수 있습니다.\n",
    "이를 인스턴스 객체의 초기화 (initializing instance) 라고 히고, __init__함수는 생성자(constructor)라고 합니다.\n",
    "_init_ 역시 def 키워드로 정의합니다. 즉, 클래스 안의 메서드이므로 self 문법 잊지 마세요!"
   ]
  },
  {
   "cell_type": "markdown",
   "id": "17c4a783",
   "metadata": {
    "hidden": true
   },
   "source": [
    "#### 생성자 요약\n",
    "\n",
    "__init__이라고 쓰고, \"던더(Double Under) 이닛\"이라고 발음합니다.\n",
    "다른 객체 지향 언어를 알고 있는 독자라면 생성자라는 말을 들으면 객체 인스턴스화와 초기화 2가지 작업을 생각할 수 있습니다.\n",
    "그러나 파이썬의 생성자는 초기화만 수행합니다. 그럼 객체 인스턴스화는 누가 할까요? 네, 바로 클래스 사용 시 변수 할당을 통해 이루어집니다.\n",
    "그리고 이 _init__처럼 앞뒤에 언더바()가 두 개씩 있는 메서드를 매직 메서드 라고 합니다.\n",
    "매직 메서드에 대해 더 알아보고 싶은 분은 여기 링크를 참고해 보세요."
   ]
  },
  {
   "cell_type": "markdown",
   "id": "7f7eab71",
   "metadata": {
    "hidden": true
   },
   "source": [
    "#### 클래스 변수와 인스턴스 변수\n",
    "클래스에서 변수를 선언하는 방법은 2가지가 있었습니다.\n",
    "\n",
    "하나는 보통 변수와 동일하게 변수명을 쓰고 값을 할당하는 방법,\n",
    "두 번째는 init 메서드 안에 self.와 함께 설정하는 방법"
   ]
  },
  {
   "cell_type": "markdown",
   "id": "6e1085e3",
   "metadata": {
    "hidden": true
   },
   "source": [
    "#### 클래스 변수\n",
    "\n",
    "클래스에 바로 선언된 속성을 클래스 변수라고 하며 클래스에 의해 생성된 모든 객체에서 같은 값을 조회할 때 가능합니다.\n",
    "Manufacture는 클래스 변수에요.\n",
    "Manufacture 속성은 car1과 car2가 공유합니다.\n",
    "인스턴스 변수\n",
    "\n",
    "_init_() 안에서 self를 사용해 선언된 변수를 인스턴스 변수.\n",
    "객체가 인스턴스화될 때마다 새로운 값이 할당되며 서로 다른 객체 간에는 값을 공유할 수 없습니다.\n",
    "color와 category는 인스턴스 변수에요.\n",
    "color와 category 속성은 car1과 car2가 공유하지 않습니다.\n",
    "Car 클래스에 만들어진 car 객체의 제조사는 항상 같은 곳인데 색상과 종류가 각각 다를 수 있다면, 제조사는 클래스 변수로 선언하고 색상과 종류 속성은 인스턴스 변수로 선언하여 초기화가 가능하게 구현합니다.\n",
    "\n",
    "즉! 객체 단위로 변경되는 변수는 인스턴스 변수로 선언하세요!!!"
   ]
  },
  {
   "cell_type": "markdown",
   "id": "be72e23c",
   "metadata": {
    "hidden": true
   },
   "source": [
    "#### 상속\n",
    "상속은 기존에 있는 코드를 재사용(상속) 하기 위한 기능입니다.\n",
    "\n",
    "전체 요약 - 내용이 조금 많을 수 있습니다. 지금까지 배운 클래스 문법을 정리해 보겠습니다.\n",
    "\n",
    "1 클래스 선언\n",
    "2 클래스 사용\n",
    "\n",
    "\"객체의 인스턴스\"\n",
    "3 클래스는 동작과 상태를 갖는다.\n",
    "\n",
    "상태(State): 속성(Attribute)로 표현, 일명 변수\n",
    "동작(Behavior): Methode로 표현, 일명 함수\n",
    "객체는 동작은 공유하지만 상태는 공유하지 않는다.\n",
    "4 생성자 _init_\n",
    "5 클래스 변수와 인스턴스 변수\n",
    "\n",
    "클래스에 선언된 속성은 클래스 변수라고 하며 이 클래스에 의해 생성된 모든 객체에 대해 같은 속성(값)을 갖는다.\n",
    "객체가 인스턴스화될 때마다 새로운 값이 할당되며 서로 다른 객체 간에는 속성(값)을 공유할 수 없다.\n",
    "6 상속\n",
    "\n",
    "메서드 추가, 메서드 오버라이드, 부모 메서드 호출하기"
   ]
  },
  {
   "cell_type": "code",
   "execution_count": null,
   "id": "9761b3f8",
   "metadata": {
    "hidden": true
   },
   "outputs": [],
   "source": []
  },
  {
   "cell_type": "code",
   "execution_count": null,
   "id": "b1d08dbe",
   "metadata": {
    "hidden": true
   },
   "outputs": [],
   "source": []
  },
  {
   "cell_type": "code",
   "execution_count": null,
   "id": "ffe95144",
   "metadata": {
    "hidden": true
   },
   "outputs": [],
   "source": [
    "클래스"
   ]
  },
  {
   "cell_type": "code",
   "execution_count": null,
   "id": "e31f956a",
   "metadata": {
    "hidden": true
   },
   "outputs": [],
   "source": [
    "# 빈 클래스 만들기\n",
    "\n",
    "class Person:\n",
    "    pass"
   ]
  },
  {
   "cell_type": "code",
   "execution_count": null,
   "id": "f4b20824",
   "metadata": {
    "hidden": true
   },
   "outputs": [],
   "source": [
    "# 클래스속성(attribute)\n",
    "\n",
    "class 클래스이름:\n",
    "    속성 = 값\n",
    "\n",
    "# 클래스 속성은 클래스로 생성한 모든 인스턴스에서 공유\n",
    "# 클래스 속성에 접근할 때 - 클래스.속성\n",
    "# 속성, 메서드 이름을 찾는 순서.  인스턴스.__dict__ , 클래스.__dict__"
   ]
  },
  {
   "cell_type": "code",
   "execution_count": null,
   "id": "7108811b",
   "metadata": {
    "hidden": true
   },
   "outputs": [],
   "source": [
    "# 클래스 만들기\n",
    "\n",
    "class 클래스이름:\n",
    "    def 메서드(self):\n",
    "        코드"
   ]
  },
  {
   "cell_type": "code",
   "execution_count": null,
   "id": "b2cbfd0e",
   "metadata": {
    "hidden": true
   },
   "outputs": [],
   "source": [
    "# 인스턴스속성(매개변수 없음)\n",
    "\n",
    "class 클래스이름:\n",
    "    def __init__(self):     \n",
    "        self.속성 = 값\n",
    "\n",
    "# 클래스 안에서 속성에 접근할 때는 - self.속성\n",
    "# 클래스 바깥에서 속성에 접근할 때는 - 인스턴스.속성"
   ]
  },
  {
   "cell_type": "code",
   "execution_count": null,
   "id": "811bb10a",
   "metadata": {
    "hidden": true
   },
   "outputs": [],
   "source": [
    "# 인스턴스속성(매개변수 있음)\n",
    "\n",
    "class 클래스이름:\n",
    "    def __init__(self, 매개변수1, 매개변수2):\n",
    "        self.속성1 = 매개변수1\n",
    "        self.속성2 = 매개변수2"
   ]
  },
  {
   "cell_type": "code",
   "execution_count": null,
   "id": "d8cd5f90",
   "metadata": {
    "hidden": true
   },
   "outputs": [],
   "source": [
    "# 비공개속성(private attribute) 만들기\n",
    "\n",
    "class 클래스이름:\n",
    "    def __init__(self, 매개변수1, 매개변수2)\n",
    "        self.__속성1 = 매개변수1\n",
    "        self.속성2 = 매개변수2\n",
    "\n",
    "# self.__속성은 클래스 안의 메서드에서만 접근할 수 있다"
   ]
  },
  {
   "cell_type": "code",
   "execution_count": null,
   "id": "6205b409",
   "metadata": {
    "hidden": true
   },
   "outputs": [],
   "source": [
    "class Person:    \n",
    "    def __init__(self):               # 클래스속성(attribute)을 만드는 메서드\n",
    "        self.hello = '안녕하세요.'    # 클래스속성에 값을 할당\n",
    " \n",
    "    def greeting(self):\n",
    "        print(self.hello)\n",
    "        \n",
    "    def hello_print(self):\n",
    "        self.greeting()                # self.메서드() - 클래스 안의 메서드를 호출\n",
    " \n",
    "james = Person()                       # 인스턴스 = 클래스() - 인스턴스 만들기\n",
    "james.hello_print()                    # 인스턴스.메서드() - 인스턴스를 통해 호출하는 메서드\n",
    "print(isinstance(james, Person))              # isinstance(인스턴스, 클래스) - 특정 클래스의 인스턴스인지 확인하기\n",
    "\n",
    "# def __init__(self): 인스턴스를 만들 때 호출되는 특별한 메서드 - 인스턴스(객체)를 초기화(initialize)\n",
    "# self의 의미 - self는 인스턴스 자기 자신을 의미\n",
    "#__가 붙은 메서드는 자동으로 호출해주는 메서드 - 스페셜 메서드(special method), 매직 메서드(magic method)"
   ]
  },
  {
   "cell_type": "code",
   "execution_count": null,
   "id": "582f08ca",
   "metadata": {
    "hidden": true
   },
   "outputs": [],
   "source": [
    "# 클래스로 인스턴스를 만든 뒤에도 (인스턴스.속성 = 값) 형식으로 속성을 계속 추가할 수 있다. \n",
    "\n",
    "class Person:    \n",
    "    def __init__(self):               # 클래스속성(attribute)을 만드는 메서드\n",
    "        self.hello = '안녕하세요.'    # 클래스속성에 값을 할당\n",
    " \n",
    "    def greeting(self):\n",
    "        print(self.hello)\n",
    "        \n",
    "    def hello_print(self):\n",
    "        self.greeting()                # self.메서드() - 클래스 안의 메서드를 호출\n",
    " \n",
    "james = Person()                       # 인스턴스 = 클래스() - 인스턴스 만들기\n",
    "james.hello_print()                    # 인스턴스.메서드() - 인스턴스를 통해 호출하는 메서드\n",
    "\n",
    "maria = Person()         # 인스턴스 생성\n",
    "maria.name = '마리아'    # 인스턴스를 만든 뒤 속성 추가\n",
    "maria.name               # maria인스턴스 전용 속성으로 다른 인스턴스에서는 사용 불가\n",
    "\n",
    "\n",
    "# 추가한 속성은 해당 인스턴스에만 생성\n",
    "# 인스턴스는 생성한 뒤에 속성을 추가할 수 있다.\n",
    "# 단 __init__ 메서드가 아닌 다른 메서드에서도 속성을 추가할 수 있습니다. \n",
    "# 단 이때는 메서드를 호출해야 속성이 생성"
   ]
  },
  {
   "cell_type": "code",
   "execution_count": null,
   "id": "cc92ba86",
   "metadata": {
    "hidden": true
   },
   "outputs": [],
   "source": [
    "# 클래스의 위치 인수와 리스트 언패킹을 사용하려면 *args를 사용하면 됩니다. \n",
    "# 매개변수에서 값을 가져오려면 args[0]처럼 사용해야 합니다.\n",
    "\n",
    "class Person:\n",
    "    def __init__(self, *args):    # 위치 인수\n",
    "        self.name = args[0]\n",
    "        self.age = args[1]\n",
    "        self.address = args[2]\n",
    "\n",
    "# maria = Person(*['마리아', 20, '서울시 서초구 반포동'])"
   ]
  },
  {
   "cell_type": "code",
   "execution_count": null,
   "id": "703625e7",
   "metadata": {
    "hidden": true
   },
   "outputs": [],
   "source": [
    "# 키워드 인수와 딕셔너리 언패킹을 사용하려면 **kwargs를 사용하면 됩니다\n",
    "# 매개변수에서 값을 가져오려면 kwargs['name']처럼 사용해야 합니다.\n",
    "\n",
    "class Person:\n",
    "    def __init__(self, **kwargs):    # 키워드 인수\n",
    "        self.name = kwargs['name']\n",
    "        self.age = kwargs['age']\n",
    "        self.address = kwargs['address']\n",
    "\n",
    "# maria1 = Person(name='마리아', age=20, address='서울시 서초구 반포동')\n",
    "# maria2 = Person(**{'name': '마리아', 'age': 20, 'address': '서울시 서초구 반포동'})"
   ]
  },
  {
   "cell_type": "code",
   "execution_count": null,
   "id": "b41bede5",
   "metadata": {
    "hidden": true
   },
   "outputs": [],
   "source": [
    "class Person:\n",
    "     def greeting(self):\n",
    "         self.hello = '안녕하세요'    # greeting 메서드에서 hello 속성 추가\n",
    "\n",
    "maria = Person()\n",
    "#maria.hello    # 아직 hello 속성이 없음 AttributeError: 발생\n",
    "maria.greeting()    # greeting 메서드를 호출해야\n",
    "maria.hello         # hello 속성이 생성됨"
   ]
  },
  {
   "cell_type": "code",
   "execution_count": null,
   "id": "90b6b49c",
   "metadata": {
    "hidden": true
   },
   "outputs": [],
   "source": [
    "특정 속성만 허용하고 다른 속성은 제한하고 싶을 때\n",
    "__slots__ = ['속성이름1, '속성이름2']"
   ]
  },
  {
   "cell_type": "code",
   "execution_count": null,
   "id": "5a9dcf9a",
   "metadata": {
    "hidden": true
   },
   "outputs": [],
   "source": [
    "class Person:\n",
    "     __slots__ = ['name', 'age']    # name, age만 허용(다른 속성은 생성 제한)\n",
    "\n",
    "maria = Person()\n",
    "maria.name = '마리아'                     # 허용된 속성\n",
    "maria.age = 20                            # 허용된 속성\n",
    "#maria.address = '서울시 서초구 반포동'   # 허용되지 않은 속성은 추가하면 AttributeError:발생"
   ]
  },
  {
   "cell_type": "code",
   "execution_count": null,
   "id": "3a998a17",
   "metadata": {
    "hidden": true
   },
   "outputs": [],
   "source": [
    "클래스 바깥에서는 접근할 수 없고 클래스 안에서만 사용할 수 있는 비공개 속성(private attribute)을 사용\n",
    "비공개 속성은 클래스 안의 메서드에서만 접근할 수 있다\n",
    "\n",
    "class 클래스이름:\n",
    "    def __init__(self, 매개변수)\n",
    "        self.__속성 = 값"
   ]
  },
  {
   "cell_type": "code",
   "execution_count": null,
   "id": "a9f555f4",
   "metadata": {
    "hidden": true
   },
   "outputs": [],
   "source": [
    "class Person:\n",
    "    def __init__(self, name, age, address, wallet):\n",
    "        self.name = name\n",
    "        self.age = age\n",
    "        self.address = address\n",
    "        self.__wallet = wallet    # 변수 앞에 __를 붙여서 비공개 속성으로 만듦\n",
    " \n",
    "    def pay(self, amount):\n",
    "        self.__wallet -= amount   # 비공개 속성은 클래스 안의 메서드에서만 접근할 수 있음\n",
    "        print('이제 {0}원 남았네요.'.format(self.__wallet))\n",
    " \n",
    "maria = Person('마리아', 20, '서울시 서초구 반포동', 10000)\n",
    "maria.pay(3000)"
   ]
  },
  {
   "cell_type": "code",
   "execution_count": null,
   "id": "64a089ec",
   "metadata": {
    "hidden": true
   },
   "outputs": [],
   "source": [
    "비공개 메서드 사용하기\n",
    "속성뿐만 아니라 메서드도 이름이 __(밑줄 두 개)로 시작하면 클래스 안에서만 호출할 수 있는 비공개 메서드가 됩니다\n",
    "비공개 메서드도 메서드를 클래스 바깥으로 드러내고 싶지 않을 때 사용합니다. \n",
    "보통 내부에서만 호출되어야 하는 메서드를 비공개 메서드로 만듭니다."
   ]
  },
  {
   "cell_type": "code",
   "execution_count": null,
   "id": "0868f75e",
   "metadata": {
    "hidden": true
   },
   "outputs": [],
   "source": [
    "class Person:\n",
    "    def __greeting(self):\n",
    "        print('Hello')\n",
    " \n",
    "    def hello(self):\n",
    "        self.__greeting()    # 클래스 안에서는 비공개 메서드를 호출할 수 있음\n",
    " \n",
    "james = Person()\n",
    "james.__greeting()    # 에러: 클래스 바깥에서는 비공개 메서드를 호출할 수 없음"
   ]
  },
  {
   "cell_type": "code",
   "execution_count": null,
   "id": "41eb5e92",
   "metadata": {
    "hidden": true
   },
   "outputs": [],
   "source": [
    "클래스 속성과 정적, 클래스 메서드 사용하기"
   ]
  },
  {
   "cell_type": "code",
   "execution_count": null,
   "id": "e4194594",
   "metadata": {
    "hidden": true
   },
   "outputs": [],
   "source": [
    "클래스 속성 사용하기\n",
    "\n",
    "class 클래스이름:\n",
    "    속성 = 값\n",
    "\n",
    "- 클래스 속성은 클래스에 속해 있으며 모든 인스턴스에서 공유\n",
    "\n",
    "클래스 속성에 접근할 때\n",
    "클래스.속성\n",
    "\n",
    "속성, 메서드 이름을 찾는 순서\n",
    "인스턴스.__dict__\n",
    "클래스.__dict__"
   ]
  },
  {
   "cell_type": "code",
   "execution_count": null,
   "id": "553cadc8",
   "metadata": {
    "hidden": true
   },
   "outputs": [],
   "source": [
    "class Person:\n",
    "    bag = []\n",
    " \n",
    "    def put_bag(self, stuff):\n",
    "        self.bag.append(stuff)\n",
    " \n",
    "james = Person()\n",
    "james.put_bag('책')\n",
    " \n",
    "maria = Person()\n",
    "maria.put_bag('열쇠')\n",
    " \n",
    "print(james.bag)\n",
    "print(maria.bag)"
   ]
  },
  {
   "cell_type": "code",
   "execution_count": null,
   "id": "5dfd345b",
   "metadata": {
    "hidden": true
   },
   "outputs": [],
   "source": [
    "maria.bag = '돈', '가방', '폰'\n",
    "print(maria.bag)"
   ]
  },
  {
   "cell_type": "code",
   "execution_count": null,
   "id": "3e2eb2a5",
   "metadata": {
    "hidden": true
   },
   "outputs": [],
   "source": [
    "인스턴스 속성 사용하기"
   ]
  },
  {
   "cell_type": "code",
   "execution_count": null,
   "id": "4030714f",
   "metadata": {
    "hidden": true
   },
   "outputs": [],
   "source": [
    "#@title\n",
    " class Person:\n",
    "    def __init__(self):\n",
    "        self.bag = []\n",
    " \n",
    "    def put_bag(self, stuff):\n",
    "        self.bag.append(stuff)\n",
    " \n",
    "james = Person()\n",
    "james.put_bag('책')\n",
    " \n",
    "maria = Person()\n",
    "maria.put_bag('열쇠')\n",
    " \n",
    "print(james.bag)\n",
    "print(maria.bag)"
   ]
  },
  {
   "cell_type": "code",
   "execution_count": null,
   "id": "c18e3f8e",
   "metadata": {
    "hidden": true
   },
   "outputs": [],
   "source": [
    "maria.bag = '돈', '가방', '폰'\n",
    "print(maria.bag)"
   ]
  },
  {
   "cell_type": "code",
   "execution_count": null,
   "id": "fd1b8768",
   "metadata": {
    "hidden": true
   },
   "outputs": [],
   "source": [
    "비공개 클래스 속성 사용하기\n",
    "\n",
    "class 클래스이름:\n",
    "    __속성 = 값    # 비공개 클래스 속성"
   ]
  },
  {
   "cell_type": "code",
   "execution_count": null,
   "id": "b0b21536",
   "metadata": {
    "hidden": true
   },
   "outputs": [],
   "source": [
    "class Knight:\n",
    "    __item_limit = 10    # 비공개 클래스 속성\n",
    " \n",
    "    def print_item_limit(self):\n",
    "        print(Knight.__item_limit)    # 클래스 안에서만 접근할 수 있음\n",
    " \n",
    " \n",
    "x = Knight()\n",
    "x.print_item_limit()    # 10\n",
    " \n",
    "#print(Knight.__item_limit)    # 클래스 바깥에서는 접근할 수 없음 AttributeError발생"
   ]
  },
  {
   "cell_type": "code",
   "execution_count": null,
   "id": "6680da9a",
   "metadata": {
    "hidden": true
   },
   "outputs": [],
   "source": [
    "클래스와 메서드의 독스트링 사용하기\n",
    "클래스와 메서드를 만들 때 :(콜론) 바로 다음 줄에 \n",
    "\"\"\" \"\"\"(큰따옴표 세 개) 또는 ''' '''(작은따옴표 세 개)로 문자열을 입력하면 됩니다. \n",
    "클래스의 독스트링은 클래스.__doc__ 형식으로 사용하고, \n",
    "메서드의 독스트링은 클래스.메서드.__doc__ 또는 인스턴스.메서드.__doc__ 형식으로 사용합니다."
   ]
  },
  {
   "cell_type": "code",
   "execution_count": null,
   "id": "37f9a4a5",
   "metadata": {
    "hidden": true
   },
   "outputs": [],
   "source": [
    "class Person:\n",
    "    '''사람 클래스입니다.'''\n",
    "    \n",
    "    def greeting(self):\n",
    "        '''인사 메서드입니다.'''\n",
    "        print('Hello')\n",
    " \n",
    "print(Person.__doc__)             # 사람 클래스입니다.\n",
    "print(Person.greeting.__doc__)    # 인사 메서드입니다.\n",
    " \n",
    "maria = Person()\n",
    "print(maria.greeting.__doc__)     # 인사 메서드입니다."
   ]
  },
  {
   "cell_type": "code",
   "execution_count": null,
   "id": "14984a79",
   "metadata": {
    "hidden": true
   },
   "outputs": [],
   "source": [
    "정적 메서드 사용하기"
   ]
  },
  {
   "cell_type": "code",
   "execution_count": null,
   "id": "516c32e2",
   "metadata": {
    "hidden": true
   },
   "outputs": [],
   "source": [
    "정적 메서드는 메서드 위에 @staticmethod를 사용 \n",
    "이때 정적 메서드는 매개변수에 self를 지정하지 않습니다\n",
    "\n",
    "class 클래스이름:\n",
    "    @staticmethod\n",
    "    def 메서드(매개변수1, 매개변수2):\n",
    "        코드\n",
    "\n",
    "@staticmethod처럼 앞에 @이 붙은 것을 데코레이터라고 하며 메서드(함수)에 추가 기능을 구현할 때 사용"
   ]
  },
  {
   "cell_type": "code",
   "execution_count": null,
   "id": "82c05a4d",
   "metadata": {
    "hidden": true
   },
   "outputs": [],
   "source": [
    "class Calc:\n",
    "    @staticmethod\n",
    "    def add(a, b):\n",
    "        print(a + b)\n",
    " \n",
    "    @staticmethod\n",
    "    def mul(a, b):\n",
    "        print(a * b)"
   ]
  },
  {
   "cell_type": "code",
   "execution_count": null,
   "id": "a1dd943b",
   "metadata": {
    "hidden": true
   },
   "outputs": [],
   "source": [
    "정적 메서드를 호출\n",
    "클래스.메서드()"
   ]
  },
  {
   "cell_type": "code",
   "execution_count": null,
   "id": "bf85ecc7",
   "metadata": {
    "hidden": true
   },
   "outputs": [],
   "source": [
    "Calc.add(10, 20)    # 클래스에서 바로 메서드 호출\n",
    "Calc.mul(10, 20)    # 클래스에서 바로 메서드 호출"
   ]
  },
  {
   "cell_type": "code",
   "execution_count": null,
   "id": "1cc53fab",
   "metadata": {
    "hidden": true
   },
   "outputs": [],
   "source": [
    "인스턴스 메서드와 정적 메서드\n",
    "\n",
    "세트에 요소를 더할 때는 인스턴스 메서드를 사용하고, \n",
    "합집합을 구할 때는 정적 메서드를 사용하도록 만들어져 있습니다"
   ]
  },
  {
   "cell_type": "code",
   "execution_count": null,
   "id": "70c85f2f",
   "metadata": {
    "hidden": true
   },
   "outputs": [],
   "source": [
    "a = {1, 2, 3, 4}\n",
    "a.update({5})    # 인스턴스 메서드\n",
    "set.union({1, 2, 3, 4}, {5})    # 정적(클래스) 메서드"
   ]
  },
  {
   "cell_type": "code",
   "execution_count": null,
   "id": "45907396",
   "metadata": {
    "hidden": true
   },
   "outputs": [],
   "source": [
    "인스턴스의 내용을 변경해야 할 때는 update와 같이 인스턴스 메서드로 작성\n",
    "인스턴스 내용과는 상관없이 결과만 구하면 될 때는 set.union과 같이 정적 메서드로 작성"
   ]
  },
  {
   "cell_type": "code",
   "execution_count": null,
   "id": "b2f37e81",
   "metadata": {
    "hidden": true
   },
   "outputs": [],
   "source": [
    "클래스 메서드 사용하기"
   ]
  },
  {
   "cell_type": "code",
   "execution_count": null,
   "id": "601775a2",
   "metadata": {
    "hidden": true
   },
   "outputs": [],
   "source": [
    "클래스 메서드는 메서드 위에 @classmethod를 붙입니다. \n",
    "이때 클래스 메서드는 첫 번째 매개변수에 cls를 지정해야 합니다(cls는 class에서 따왔습니다).\n",
    "\n",
    "class 클래스이름:\n",
    "    @classmethod\n",
    "    def 메서드(cls, 매개변수1, 매개변수2):\n",
    "        코드"
   ]
  },
  {
   "cell_type": "code",
   "execution_count": null,
   "id": "97427b63",
   "metadata": {
    "hidden": true
   },
   "outputs": [],
   "source": [
    "class Person:\n",
    "    count = 0    # 클래스 속성\n",
    " \n",
    "    def __init__(self):\n",
    "        Person.count += 1    # 인스턴스가 만들어질 때\n",
    "                             # 클래스 속성 count에 1을 더함\n",
    " \n",
    "    @classmethod\n",
    "    def print_count(cls):\n",
    "        print('{0}명 생성되었습니다.'.format(cls.count))    # cls로 클래스 속성에 접근"
   ]
  },
  {
   "cell_type": "code",
   "execution_count": null,
   "id": "2592bf59",
   "metadata": {
    "hidden": true
   },
   "outputs": [],
   "source": [
    "james = Person()\n",
    "maria = Person()\n",
    " \n",
    "Person.print_count()    # 2명 생성되었습니다."
   ]
  },
  {
   "cell_type": "code",
   "execution_count": null,
   "id": "559a8599",
   "metadata": {
    "hidden": true
   },
   "outputs": [],
   "source": [
    "Person.count = 77\n",
    "Person.print_count()"
   ]
  },
  {
   "cell_type": "code",
   "execution_count": null,
   "id": "b955f8d7",
   "metadata": {
    "hidden": true
   },
   "outputs": [],
   "source": [
    "클래스 메서드는 정적 메서드처럼 인스턴스 없이 호출할 수 있다는 점은 같습니다. \n",
    "하지만 클래스 메서드는 메서드 안에서 클래스 속성, 클래스 메서드에 접근해야 할 때 사용합니다.\n",
    "특히 cls를 사용하면 메서드 안에서 현재 클래스의 인스턴스를 만들 수도 있습니다. \n",
    "즉, cls는 클래스이므로 cls()는 Person()과 같습니다.\n",
    "\n",
    "@classmethod\n",
    "    def create(cls):\n",
    "        p = cls()    # cls()로 인스턴스 생성\n",
    "        return p"
   ]
  },
  {
   "cell_type": "code",
   "execution_count": null,
   "id": "87bf1878",
   "metadata": {
    "hidden": true
   },
   "outputs": [],
   "source": [
    "클래스 상속(inheritance) 사용하기"
   ]
  },
  {
   "cell_type": "code",
   "execution_count": null,
   "id": "127d4216",
   "metadata": {
    "hidden": true
   },
   "outputs": [],
   "source": [
    "클래스 상속은 물려받은 기능을 유지한채로 다른 기능을 추가할 때 사용하는 기능\n",
    "상속은 기존 기능을 재사용할 수 있어서 효율적\n",
    "\n",
    "class 기반클래스이름:\n",
    "    코드\n",
    " \n",
    "class 파생클래스이름(기반클래스이름):\n",
    "    코드"
   ]
  },
  {
   "cell_type": "code",
   "execution_count": null,
   "id": "8761374f",
   "metadata": {
    "hidden": true
   },
   "outputs": [],
   "source": [
    "상속 관계 확인하기\n",
    "issubclass(파생클래스, 기반클래스)"
   ]
  },
  {
   "cell_type": "code",
   "execution_count": null,
   "id": "be94d526",
   "metadata": {
    "hidden": true
   },
   "outputs": [],
   "source": [
    "class Person:\n",
    "    def greeting(self):\n",
    "        print('안녕하세요.')\n",
    " \n",
    "class Student(Person):\n",
    "    def study(self):\n",
    "        print('공부하기')\n",
    " \n",
    "james = Student()\n",
    "james.greeting()    # 안녕하세요.: 기반 클래스 Person의 메서드 호출\n",
    "james.study()       # 공부하기: 파생 클래스 Student에 추가한 study 메서드\n",
    "issubclass(Student, Person)"
   ]
  },
  {
   "cell_type": "code",
   "execution_count": null,
   "id": "f9ec29a0",
   "metadata": {
    "hidden": true
   },
   "outputs": [],
   "source": [
    "상속 관계"
   ]
  },
  {
   "cell_type": "code",
   "execution_count": null,
   "id": "bf5d7269",
   "metadata": {
    "hidden": true
   },
   "outputs": [],
   "source": [
    " is-a 관계(Student is a Person)\n",
    " 상속은 명확하게 같은 종류이며 동등한 관계일 때\n",
    "\n",
    " has-a 관계(PersonList has a Person)\n",
    " 상속을 사용하지 않고 속성에 인스턴스를 넣어서 관리(PersonList가 Person을 포함하고 있습니다)"
   ]
  },
  {
   "cell_type": "code",
   "execution_count": null,
   "id": "106ea218",
   "metadata": {
    "hidden": true
   },
   "outputs": [],
   "source": [
    "class Person:\n",
    "    def greeting(self):\n",
    "        print('안녕하세요.')\n",
    " \n",
    "class PersonList:\n",
    "    def __init__(self):\n",
    "        self.person_list = []    # 리스트 속성에 Person 인스턴스를 넣어서 관리\n",
    " \n",
    "    def append_person(self, person):    # 리스트 속성에 Person 인스턴스를 추가하는 함수\n",
    "        self.person_list.append(person)"
   ]
  },
  {
   "cell_type": "code",
   "execution_count": null,
   "id": "6ad8c708",
   "metadata": {
    "hidden": true
   },
   "outputs": [],
   "source": [
    "기반 클래스의 속성 사용하기\n",
    "Person 클래스에 hello 속성이 있고, \n",
    "Person 클래스를 상속받아 Student 클래스를 만듭니다. \n",
    "그다음에 Student로 인스턴스를 만들고 hello 속성에 접근해봅니다\n",
    "\n",
    "super()로 기반 클래스 초기화하기\n",
    "super().메서드()"
   ]
  },
  {
   "cell_type": "code",
   "execution_count": null,
   "id": "673cccab",
   "metadata": {
    "hidden": true
   },
   "outputs": [],
   "source": [
    "class Person:\n",
    "    def __init__(self):\n",
    "        print('Person __init__')\n",
    "        self.hello = '안녕하세요.'\n",
    " \n",
    "class Student(Person):\n",
    "    def __init__(self):\n",
    "        print('Student __init__')\n",
    "        # super().__init__()                # super()로 기반 클래스의 __init__ 메서드 호출\n",
    "        self.school = '파이썬 코딩 도장'\n",
    " \n",
    "james = Student()\n",
    "print(james.school)\n",
    "print(james.hello)    # 기반 클래스의 속성을 출력하려고 하면 에러가 발생함\n",
    "# AttributeError: 'Student' object has no attribute 'hello'\n",
    "# 기반 클래스 Person의 __init__ 메서드가 호출되지 않았기 때문입니다. \n",
    "# 실행 결과를 잘 보면 'Student __init__'만 출력되었습니다.\n",
    "# Person의 __init__ 메서드가 호출되지 않으면 기반클레서의 메서드도 실행되지 않아 속성이 만들어지지 않습니다."
   ]
  },
  {
   "cell_type": "code",
   "execution_count": null,
   "id": "2617f37b",
   "metadata": {
    "hidden": true
   },
   "outputs": [],
   "source": [
    "기반 클래스를 초기화하지 않아도 되는 경우\n",
    "파생 클래스에서 __init__ 메서드를 생략한다면 \n",
    "기반 클래스의 __init__이 자동으로 호출되므로 super()는 사용하지 않아도 됩니다"
   ]
  },
  {
   "cell_type": "code",
   "execution_count": null,
   "id": "755bf7c2",
   "metadata": {
    "hidden": true
   },
   "outputs": [],
   "source": [
    "class Person:\n",
    "    def __init__(self):\n",
    "        print('Person __init__')\n",
    "        self.hello = '안녕하세요.'\n",
    " \n",
    "class Student(Person):\n",
    "    pass\n",
    " \n",
    "james = Student()\n",
    "print(james.hello)"
   ]
  },
  {
   "cell_type": "code",
   "execution_count": null,
   "id": "919dddf5",
   "metadata": {
    "hidden": true
   },
   "outputs": [],
   "source": [
    "좀 더 명확하게 super 사용하기 (super()와 같은 기능)\n",
    "super(파생클래스, self).메서드"
   ]
  },
  {
   "cell_type": "code",
   "execution_count": null,
   "id": "582b944d",
   "metadata": {
    "hidden": true
   },
   "outputs": [],
   "source": [
    "class Student(Person):\n",
    "    def __init__(self):\n",
    "        print('Student __init__')\n",
    "        super(Student, self).__init__()     # super(파생클래스, self)로 기반 클래스의 메서드 호출\n",
    "        self.school = '파이썬 코딩 도장'"
   ]
  },
  {
   "cell_type": "code",
   "execution_count": null,
   "id": "2aacb87c",
   "metadata": {
    "hidden": true
   },
   "outputs": [],
   "source": [
    "메서드 오버라이딩 사용하기 (파생 클래스에서 기반 클래스의 메서드를 새로 정의하기)\n",
    "보통 프로그램에서 어떤 기능이 같은 메서드 이름으로 계속 사용되어야 할 때 메서드 오버라이딩을 활용"
   ]
  },
  {
   "cell_type": "code",
   "execution_count": null,
   "id": "4e0f8857",
   "metadata": {
    "hidden": true
   },
   "outputs": [],
   "source": [
    "class Person:\n",
    "    def greeting(self):\n",
    "        print('안녕하세요.')\n",
    " \n",
    "class Student(Person):\n",
    "    def greeting(self):\n",
    "        print('안녕하세요. 저는 파이썬 코딩 도장 학생입니다.')\n",
    " \n",
    "james = Student()\n",
    "james.greeting()"
   ]
  },
  {
   "cell_type": "code",
   "execution_count": null,
   "id": "ec90e693",
   "metadata": {
    "hidden": true
   },
   "outputs": [],
   "source": [
    "# 기반 클래스의 메서드를 재활용하여 중복을 줄일 수 있습니다. \n",
    "# 오버라이딩된 메서드에서 super()로 기반 클래스의 메서드를 호출해봅니다.\n",
    "class Person:\n",
    "    def greeting(self):\n",
    "        print('안녕하세요.')\n",
    " \n",
    "class Student(Person):\n",
    "    def greeting(self):\n",
    "        super().greeting()    # 기반 클래스의 메서드 호출하여 중복을 줄임\n",
    "        print('저는 파이썬 코딩 도장 학생입니다.')\n",
    " \n",
    "james = Student()\n",
    "james.greeting()\n",
    "# 메서드 오버라이딩은 원래 기능을 유지하면서 새로운 기능을 덧붙일 때 사용"
   ]
  },
  {
   "cell_type": "code",
   "execution_count": null,
   "id": "08dd992a",
   "metadata": {
    "hidden": true
   },
   "outputs": [],
   "source": [
    "다중 상속 사용하기 (여러 기반 클래스로부터 상속을 받아서 파생 클래스를 만드는 방법)\n",
    "클래스를 만들 때 ( )(괄호) 안에 클래스 이름을 ,(콤마)로 구분해서 넣습니다.\n",
    "\n",
    "class 기반클래스이름1:\n",
    "    코드\n",
    " \n",
    "class 기반클래스이름2:\n",
    "    코드\n",
    " \n",
    "class 파생클래스이름(기반클래스이름1, 기반클래스이름2):\n",
    "    코드"
   ]
  },
  {
   "cell_type": "code",
   "execution_count": null,
   "id": "d9607a8b",
   "metadata": {
    "hidden": true
   },
   "outputs": [],
   "source": [
    "class Person:\n",
    "    def greeting(self):\n",
    "        print('안녕하세요.')\n",
    " \n",
    "class University:\n",
    "    def manage_credit(self):\n",
    "        print('학점 관리')\n",
    " \n",
    "class Undergraduate(Person, University):\n",
    "    def study(self):\n",
    "        print('공부하기')\n",
    " \n",
    "james = Undergraduate()\n",
    "james.greeting()         # 안녕하세요.: 기반 클래스 Person의 메서드 호출\n",
    "james.manage_credit()    # 학점 관리: 기반 클래스 University의 메서드 호출\n",
    "james.study()            # 공부하기: 파생 클래스 Undergraduate에 추가한 study 메서드"
   ]
  },
  {
   "cell_type": "code",
   "execution_count": null,
   "id": "a6fe5d7d",
   "metadata": {
    "hidden": true
   },
   "outputs": [],
   "source": [
    "다이아몬드 상속 - 비추천 사용상 주의 필요\n",
    "조금 복잡한 클래스 상속을 해보겠습니다. 여기서는 편의상 클래스 이름을 A, B, C, D로 만들겠습니다"
   ]
  },
  {
   "cell_type": "code",
   "execution_count": null,
   "id": "4fcc5baa",
   "metadata": {
    "hidden": true
   },
   "outputs": [],
   "source": [
    "class A:\n",
    "    def greeting(self):\n",
    "        print('안녕하세요. A입니다.')\n",
    " \n",
    "class B(A):\n",
    "    def greeting(self):\n",
    "        print('안녕하세요. B입니다.')\n",
    " \n",
    "class C(A):\n",
    "    def greeting(self):\n",
    "        print('안녕하세요. C입니다.')\n",
    " \n",
    "class D(B, C):\n",
    "    pass\n",
    " \n",
    "x = D()\n",
    "x.greeting()    # 안녕하세요. B입니다.\n",
    "D.mro()\n",
    "\n",
    "#기반 클래스 A가 있고, B, C는 A를 상속받습니다. 그리고 다시 D는 B, C를 상속받습니다. 이 관계를 다이아몬드 상속"
   ]
  },
  {
   "cell_type": "code",
   "execution_count": null,
   "id": "ffa72654",
   "metadata": {
    "hidden": true
   },
   "outputs": [],
   "source": [
    "메서드 탐색 순서 확인하기\n",
    "다이아몬드 상속에 대한 해결책을 제시 메서드 탐색 순서(Method Resolution Order, MRO)를 따릅니다.\n",
    "클래스.mro()\n",
    "다중 상속을 한면 class D(B, C):의 클래스 목록 중 왼쪽에서 오른쪽 순서로 메서드를 찾음"
   ]
  },
  {
   "cell_type": "code",
   "execution_count": null,
   "id": "68eac0b1",
   "metadata": {
    "hidden": true
   },
   "outputs": [],
   "source": [
    "object 클래스\n",
    "object는 모든 클래스의 조상입니다. 그래서 int의 MRO를 출력해보면 int 자기 자신과 object가 출력\n",
    "\n",
    "int.mro()\n",
    "[<class 'int'>, <class 'object'>]"
   ]
  },
  {
   "cell_type": "code",
   "execution_count": null,
   "id": "b347cbb7",
   "metadata": {
    "hidden": true
   },
   "outputs": [],
   "source": [
    "추상 클래스(abstract class) \n",
    "추상 클래스는 메서드의 목록만 가진 클래스이며 상속받는 클래스에서 메서드 구현을 강제하기 위해 사용\n",
    "추상 클래스를 만들려면 import로 abc 모듈을 가져와야 합니다( abc는 abstract base class의 약자입니다).\n",
    "클래스의 ( )(괄호) 안에 metaclass=ABCMeta를 지정하고, \n",
    "메서드를 만들 때 위에 @abstractmethod를 붙여서 추상 메서드로 지정합니다.\n",
    "만약 import abc로 모듈을 가져왔다면 abc.ABCMeta, @abc.abstractmethod로 사용\n",
    "\n",
    "from abc import *\n",
    " \n",
    "class 추상클래스이름(metaclass=ABCMeta):\n",
    "    @abstractmethod\n",
    "    def 메서드이름(self):\n",
    "        코드\n",
    "\n",
    "추상 클래스는 인스턴스로 만들 수가 없다 (추상 클래스로 인스턴스를 만들면 에러가 발생)\n",
    "추상 메서드를 만들 때 pass만 넣어서 빈 메서드로 만든 것은 추상 클래스로 인스턴스를 만들 수 없으니 추상 메서드도 호출할 일이 없기 때문\n",
    "추상 클래스는 인스턴스로 만들 때는 사용하지 않으며 오로지 상속에만 사용\n",
    "파생 클래스에서 반드시 구현해야 할 메서드를 정해 줄 때 사용"
   ]
  },
  {
   "cell_type": "code",
   "execution_count": null,
   "id": "9c2307b4",
   "metadata": {
    "hidden": true
   },
   "outputs": [],
   "source": [
    "from abc import *\n",
    " \n",
    "class StudentBase(metaclass=ABCMeta):\n",
    "    @abstractmethod\n",
    "    def study(self):\n",
    "        pass\n",
    " \n",
    "    @abstractmethod\n",
    "    def go_to_school(self):\n",
    "        pass\n",
    " \n",
    "class Student(StudentBase):     # 추상 클래스를 상속받음\n",
    "    def study(self):            # @abstractmethod는 모두 구현해야함\n",
    "        print('공부하기')\n",
    " \n",
    "    def go_to_school(self):     # @abstractmethod는 모두 구현해야함\n",
    "        print('학교가기')\n",
    " \n",
    "james = Student()\n",
    "james.study()\n",
    "james.go_to_school()\n",
    "\n",
    "# 추상 클래스를 상속받았다면 @abstractmethod가 붙은 추상 메서드를 모두 구현해야 합니다"
   ]
  },
  {
   "cell_type": "code",
   "execution_count": null,
   "id": "e22c0b86",
   "metadata": {
    "hidden": true
   },
   "outputs": [],
   "source": [
    "import numpy as np\n",
    "\n",
    "def AND(x1, x2):\n",
    "  x = np.array([x1, x2])\n",
    "  w = np.array([0.5, 0.5])\n",
    "  b = -0.7\n",
    "  tmp = np.sum(w*x) + b\n",
    "\n",
    "  print('x = ', x, 'w = ', w, 'b = ', b)\n",
    "    \n",
    "  if tmp <= 0:\n",
    "    return 0\n",
    "  else:\n",
    "    return 1\n",
    "\n",
    "a1 = AND(0, 0)\n",
    "print('a1(0, 0) = ', a1)\n",
    "a1 = AND(0, 1)\n",
    "print('a1(0, 1) = ', a1)\n",
    "a1 = AND(1, 0)\n",
    "print('a1(1, 0) = ', a1)\n",
    "a1 = AND(1, 1)\n",
    "print('a1(1, 1) = ', a1)\n",
    "print()\n"
   ]
  },
  {
   "cell_type": "code",
   "execution_count": null,
   "id": "b00a8b58",
   "metadata": {
    "hidden": true
   },
   "outputs": [],
   "source": []
  },
  {
   "cell_type": "code",
   "execution_count": null,
   "id": "53796ed5",
   "metadata": {
    "hidden": true
   },
   "outputs": [],
   "source": []
  },
  {
   "cell_type": "code",
   "execution_count": null,
   "id": "069347a3",
   "metadata": {
    "hidden": true
   },
   "outputs": [],
   "source": []
  },
  {
   "cell_type": "code",
   "execution_count": null,
   "id": "5f42cdfb",
   "metadata": {
    "hidden": true
   },
   "outputs": [],
   "source": []
  },
  {
   "cell_type": "code",
   "execution_count": null,
   "id": "16c11006",
   "metadata": {
    "hidden": true
   },
   "outputs": [],
   "source": []
  },
  {
   "cell_type": "code",
   "execution_count": null,
   "id": "4c559cc0",
   "metadata": {
    "hidden": true
   },
   "outputs": [],
   "source": []
  },
  {
   "cell_type": "code",
   "execution_count": null,
   "id": "6e81a76c",
   "metadata": {
    "hidden": true
   },
   "outputs": [],
   "source": []
  },
  {
   "cell_type": "code",
   "execution_count": null,
   "id": "e33290dd",
   "metadata": {
    "hidden": true
   },
   "outputs": [],
   "source": []
  },
  {
   "cell_type": "code",
   "execution_count": null,
   "id": "6277d4a6",
   "metadata": {
    "hidden": true
   },
   "outputs": [],
   "source": []
  },
  {
   "cell_type": "code",
   "execution_count": null,
   "id": "1fe82654",
   "metadata": {
    "hidden": true
   },
   "outputs": [],
   "source": []
  },
  {
   "cell_type": "code",
   "execution_count": null,
   "id": "2d73b75a",
   "metadata": {
    "hidden": true
   },
   "outputs": [],
   "source": []
  },
  {
   "cell_type": "code",
   "execution_count": null,
   "id": "8d7f37d9",
   "metadata": {
    "hidden": true
   },
   "outputs": [],
   "source": []
  },
  {
   "cell_type": "markdown",
   "id": "a1e4cd45",
   "metadata": {
    "heading_collapsed": true
   },
   "source": [
    "### 08 Module, Package 모듈 패키지"
   ]
  },
  {
   "cell_type": "markdown",
   "id": "597a3d1b",
   "metadata": {
    "hidden": true
   },
   "source": [
    "#### 모듈(Module) : 모듈은 함수, 변수, 클래스를 모아 놓은 파일을 말합니다\n",
    "\n",
    "모듈이름.py 라는 파일로 저장하여 import 하기만 하면 됩니다\n",
    "모듈이름.py 안에 있는 함수들을 사용하고 싶으면 아래와 같이 사용하시면 됩니다\n",
    "모듈이름.함수이름()"
   ]
  },
  {
   "cell_type": "markdown",
   "id": "0fdb18a4",
   "metadata": {
    "hidden": true
   },
   "source": [
    "#### "
   ]
  },
  {
   "cell_type": "markdown",
   "id": "3d679f5e",
   "metadata": {
    "hidden": true
   },
   "source": [
    "#### "
   ]
  },
  {
   "cell_type": "markdown",
   "id": "46c119b4",
   "metadata": {
    "heading_collapsed": true
   },
   "source": [
    "### 09 Try - Except 예외 처리"
   ]
  },
  {
   "cell_type": "markdown",
   "id": "4877c735",
   "metadata": {
    "hidden": true
   },
   "source": [
    "#### Try - Except\n",
    "에러를 잡기 위한 수많은 노력들 중 하나가 바로 Try - Except 입니다. 이것을 예외 처리를 위한 방법이라고 합니다\n",
    "예외(exception)란 코드를 실행하는 중에 발생한 에러를 뜻합니다.\n",
    "코드를 수행하다가 예외(에러)가 발생했을 때 그 예외(에러)를 무시하거나 예외(에러) 대신 적절한 처리를 해주게 하는 등의 작업을 의미합니다"
   ]
  },
  {
   "cell_type": "markdown",
   "id": "05f3fc82",
   "metadata": {
    "hidden": true
   },
   "source": [
    "#### "
   ]
  },
  {
   "cell_type": "markdown",
   "id": "74209a4a",
   "metadata": {
    "hidden": true
   },
   "source": [
    "#### "
   ]
  },
  {
   "cell_type": "markdown",
   "id": "cb18302c",
   "metadata": {},
   "source": [
    "### 10 Error 오류"
   ]
  },
  {
   "cell_type": "markdown",
   "id": "9ab39f1f",
   "metadata": {},
   "source": [
    "#### TypeError : unsupported operand type,"
   ]
  },
  {
   "cell_type": "markdown",
   "id": "fd1d8330",
   "metadata": {},
   "source": [
    "#### NameError : name 'something' is not defined,"
   ]
  },
  {
   "cell_type": "markdown",
   "id": "1c2fef13",
   "metadata": {},
   "source": [
    "#### IndentationError : expected an indented block"
   ]
  },
  {
   "cell_type": "markdown",
   "id": "94720fbc",
   "metadata": {},
   "source": [
    "#### SyntaxError : non-default argument follows default argument, \n",
    "- 기본값(default)이 없는 인자가 기본값이 있는 인자 뒤에 오면 SyntaxError에 해당한다고 합니다"
   ]
  },
  {
   "cell_type": "markdown",
   "id": "d1a4d097",
   "metadata": {},
   "source": [
    "#### ZeroDivisionError: division by zero"
   ]
  },
  {
   "cell_type": "markdown",
   "id": "7c10333c",
   "metadata": {},
   "source": [
    "#### AttributeError : 'Car' object has no attribute 'price'"
   ]
  },
  {
   "cell_type": "markdown",
   "id": "06142ece",
   "metadata": {
    "heading_collapsed": true
   },
   "source": [
    "#### UnicodeDecodeError: 'cp949' codec can't decode byte 0xe2 in position 1922: illegal multibyte sequence"
   ]
  },
  {
   "cell_type": "code",
   "execution_count": null,
   "id": "53552e39",
   "metadata": {
    "hidden": true
   },
   "outputs": [],
   "source": [
    "# f = open('.\\\\Data\\\\EXPLORATION_SO3\\\\16. 다음에 볼 영화 예측하기\\\\data\\\\dataset-README.txt', 'r')\n",
    "# encoding = 'utf-8'추가 수정.\n",
    "# f = open('.\\\\Data\\\\EXPLORATION_SO3\\\\16. 다음에 볼 영화 예측하기\\\\data\\\\dataset-README.txt', 'r', encoding = 'utf-8')"
   ]
  },
  {
   "cell_type": "markdown",
   "id": "296c36a6",
   "metadata": {
    "heading_collapsed": true
   },
   "source": [
    "### 11 File I/O"
   ]
  },
  {
   "cell_type": "code",
   "execution_count": null,
   "id": "42838861",
   "metadata": {
    "hidden": true
   },
   "outputs": [],
   "source": [
    "파일 사용하기\n",
    "프로그래밍에서 중요한 축을 차지하는 부분이 파일 처리입니다. \n",
    "이번에는 파일에서 문자열을 읽고 쓰는 방법과 파이썬 객체를 파일에 읽고 쓰는 방법을 알아보겠습니다.\n",
    "\n",
    "27.1 파일에 문자열 쓰기, 읽기\n",
    "이제부터 파일에 문자열을 써서 파일을 만든 뒤에 만든 파일을 읽는 순서로 진행하겠습니다.\n",
    "\n",
    "27.1.1  파일에 문자열 쓰기\n",
    "파일에 문자열을 쓸 때는 open 함수로 파일을 열어서 파일 객체(file object)를 얻은 뒤에 write 메서드를 사용합니다.\n",
    "\n",
    "파일객체 = open(파일이름, 파일모드)\n",
    "파일객체.write('문자열')\n",
    "파일객체.close()\n",
    "다음 내용을 IDLE의 소스 코드 편집 창에 입력한 뒤 실행해보세요.\n",
    "\n",
    "file_write_string.py\n",
    "file = open('hello.txt', 'w')    # hello.txt 파일을 쓰기 모드(w)로 열기. 파일 객체 반환\n",
    "file.write('Hello, world!')      # 파일에 문자열 저장\n",
    "file.close()                     # 파일 객체 닫기\n",
    "소스 코드를 실행하면 .py 파일이 있는 폴더에 hello.txt 파일이 생성됩니다. \n",
    "메모장이나 기타 텍스트 편집기를 사용하여 hello.txt 파일을 열어보면 다음과 같이 'Hello, world!' 문자열이 저장된 것을 볼 수 있습니다.\n",
    "\n",
    "hello.txt\n",
    "Hello, world!\n",
    "파일을 사용하기 위해서는 먼저 open 함수로 파일을 열어서 파일 객체를 얻어야 합니다.\n",
    " 다음과 같이 파일 이름은 'hello.txt'로 지정하고, 파일에 내용을 쓸 것이므로 파일 모드를 'w'로 지정해줍니다. 여기서 'w'는 쓰다( write)의 w입니다.\n",
    "\n",
    "file  = open('hello.txt' , 'w' )    # hello.txt 파일을 쓰기 모드(w)로 열기. 파일 객체 반환\n",
    "이제 파일 객체를 얻었으니 write로 파일에 문자열을 씁니다.\n",
    "\n",
    "file.write('Hello, world!')      # 파일에 문자열 저장\n",
    "파일 쓰기가 끝났으면 반드시 close로 파일 객체를 닫아줍니다.\n",
    "\n",
    "file.close()                     # 파일 객체 닫기\n",
    "파일에 문자열을 쓰는 과정은 다음과 같습니다.\n",
    "\n",
    "▼ 그림 27-1 파일에 문자열 쓰기\n",
    "\n",
    "27.1.2  파일에서 문자열 읽기\n",
    "이번에는 앞에서 만든 hello.txt 파일의 문자열을 읽어보겠습니다. \n",
    "파일을 읽을 때도 open 함수로 파일을 열어서 파일 객체를 얻은 뒤 read 메서드로 파일의 내용을 읽습니다\n",
    ". 단, 이때는 파일 모드를 읽기 모드 'r'로 지정합니다.\n",
    "\n",
    "변수 = 파일객체.read()\n",
    "다음 내용을 IDLE의 소스 코드 편집 창에 입력한 뒤 실행해보세요.\n",
    "\n",
    "file_read_string.py\n",
    "file = open('hello.txt', 'r')    # hello.txt 파일을 읽기 모드(r)로 열기. 파일 객체 반환\n",
    "s = file.read()                  # 파일에서 문자열 읽기\n",
    "print(s)                         # Hello, world!\n",
    "file.close()                     # 파일 객체 닫기\n",
    "실행 결과\n",
    "Hello, world!\n",
    "먼저 open을 사용하여 hello.txt 파일을 읽기 모드 'r'로 엽니다. 여기서 'r'은 읽다(read)의 r입니다.\n",
    "\n",
    "file = open('hello.txt', 'r')    # hello.txt 파일을 읽기 모드(r)로 열기. 파일 객체 반환\n",
    "이제 read의 반환값을 변수에 저장해주면 파일의 내용을 읽을 수 있습니다. \n",
    "그리고 print로 변수의 값을 출력해보면 'Hello, world!'가 출력됩니다.\n",
    "\n",
    "s = file.read()                  # 파일에서 문자열 읽기\n",
    "print(s)                         # Hello, world!\n",
    "마찬가지로 파일 읽기 작업이 끝났다면 close로 파일 객체를 닫아줍니다.\n",
    "\n",
    "file.close()                     # 파일 객체 닫기\n",
    "파일에서 문자열을 읽는 과정은 다음과 같습니다.\n",
    "\n",
    "▼ 그림 27-2 파일에서 문자열 읽기\n",
    "\n",
    "27.1.3  자동으로 파일 객체 닫기\n",
    "파일을 열 때마다 매번 close로 닫으려니 좀 귀찮습니다. \n",
    "파이썬에서는 with as를 사용하면 파일을 사용한 뒤 자동으로 파일 객체를 닫아줍니다. \n",
    "다음과 같이 with 다음에 open으로 파일을 열고 as 뒤에 파일 객체를 지정합니다.\n",
    "\n",
    "with open(파일이름, 파일모드) as 파일객체:\n",
    "    코드\n",
    "그럼 앞에서 만든 hello.txt 파일을 읽어보겠습니다.\n",
    "\n",
    "file_with_as_read_string.py\n",
    "with open('hello.txt', 'r') as file:    # hello.txt 파일을 읽기 모드(r)로 열기\n",
    "    s = file.read()                     # 파일에서 문자열 읽기\n",
    "    print(s)                            # Hello, world!\n",
    "실행 결과\n",
    "Hello, world!\n",
    "read로 파일을 읽고나서 close를 사용하지 않았습니다. 이처럼 with as를 사용하면 파일 객체를 자동으로 닫아줍니다."
   ]
  },
  {
   "cell_type": "code",
   "execution_count": null,
   "id": "bef71b6a",
   "metadata": {
    "hidden": true
   },
   "outputs": [],
   "source": [
    "이번에는 문자열 여러 줄을 파일에 쓰고 읽는 방법을 알아보겠습니다.\n",
    "\n",
    "27.2.1  반복문으로 문자열 여러 줄을 파일에 쓰기\n",
    "앞에서 문자열 한 줄을 파일에 썼는데 문자열 여러 줄은 어떻게 쓰면 될까요? 간단하게 반복문을 사용하면 됩니다.\n",
    "\n",
    "file_for_write_string.py\n",
    "with open('hello.txt', 'w') as file:    # hello.txt 파일을 쓰기 모드(w)로 열기\n",
    "    for i in range(3):\n",
    "        file.write('Hello, world! {0}\\n'.format(i))\n",
    ".py 파일이 있는 폴더의 hello.txt 파일을 열어보면 다음과 같은 내용이 저장되어 있습니다.\n",
    "\n",
    "Hello, world! 0\n",
    "Hello, world! 1\n",
    "Hello, world! 2\n",
    "파일에 문자열 여러 줄을 저장할 때 주의할 부분은 개행 문자 부분입니다.\n",
    " 'Hello, world! {0}\\n'와 같이 문자열 끝에 개행 문자 \\n를 지정해주어야 줄바꿈이 됩니다.\n",
    "  만약 \\n을 붙이지 않으면 문자열이 모두 한 줄로 붙어서 저장되므로 주의해야 합니다.\n",
    "\n",
    "27.2.2  리스트에 들어있는 문자열을 파일에 쓰기\n",
    "이번에는 리스트에 들어있는 문자열을 파일에 써보겠습니다.\n",
    "\n",
    "파일객체.writelines(문자열리스트)\n",
    "file_writelines.py\n",
    "lines = ['안녕하세요.\\n', '파이썬\\n', '코딩 도장입니다.\\n']\n",
    " \n",
    "with open('hello.txt', 'w') as file:    # hello.txt 파일을 쓰기 모드(w)로 열기\n",
    "    file.writelines(lines)\n",
    "hello.txt\n",
    "안녕하세요.\n",
    "파이썬\n",
    "코딩 도장입니다.\n",
    "writelines는 리스트에 들어있는 문자열을 파일에 씁니다. \n",
    "특히 writelines를 사용할 때는 반드시 리스트의 각 문자열 끝에 개행 문자 \\n을 붙여주어야 합니다. \n",
    "그렇지 않으면 문자열이 모두 한 줄로 붙어서 저장되므로 주의해야 합니다.\n",
    "\n",
    "27.2.3  파일의 내용을 한 줄씩 리스트로 가져오기\n",
    "그럼 앞에서 만든 hello.txt 파일의 내용을 한 줄씩 읽어보겠습니다.\n",
    " read는 파일의 내용을 읽어서 문자열로 가져오지만 readlines는 파일의 내용을 한 줄씩 리스트 형태로 가져옵니다..\n",
    "\n",
    "변수 = 파일객체.readlines()\n",
    "file_readlines.py\n",
    "with open('hello.txt', 'r') as file:    # hello.txt 파일을 읽기 모드(r)로 열기\n",
    "    lines = file.readlines()\n",
    "    print(lines)\n",
    "실행 결과\n",
    "['안녕하세요.\\n', '파이썬\\n', '코딩 도장입니다.\\n']\n",
    "파일의 내용을 한 줄씩 리스트 형태로 가져왔습니다.\n",
    "\n",
    "27.2.4  파일의 내용을 한 줄씩 읽기\n",
    "만약 파일의 내용을 한 줄씩 순차적으로 읽으려면 readline을 사용합니다.\n",
    "\n",
    "변수 = 파일객체.readline()\n",
    "file_readlines_while.py\n",
    "with open('hello.txt', 'r') as file:    # hello.txt 파일을 읽기 모드(r)로 열기\n",
    "    line = None    # 변수 line을 None으로 초기화\n",
    "    while line != '':\n",
    "        line = file.readline()\n",
    "        print(line.strip('\\n'))    # 파일에서 읽어온 문자열에서 \\n 삭제하여 출력\n",
    "실행 결과\n",
    "안녕하세요.\n",
    "파이썬\n",
    "코딩 도장입니다.\n",
    "readline으로 파일을 읽을 때는 while 반복문을 활용해야 합니다.\n",
    " 왜냐하면 파일에 문자열이 몇 줄이나 있는지 모르기 때문입니다.\n",
    "  while은 특정 조건이 만족할 때 계속 반복하므로 파일의 크기에 상관없이 문자열을 읽어올 수 있습니다.\n",
    "\n",
    "readline은 더 이상 읽을 줄이 없을 때는 빈 문자열을 반환하는데, while에는 이런 특성을 이용하여 조건식을 만들어줍니다.\n",
    " 즉, line != ''와 같이 빈 문자열이 아닐 때 계속 반복하도록 만듭니다. \n",
    " 그리고 반복문 안에서는 line = file.readline()과 같이 문자열 한 줄을 읽어서 변수 line에 저장해주면 됩니다.\n",
    "\n",
    "특히 변수 line은 while로 반복하기 전에 None으로 초기화해줍니다.\n",
    " 만약 변수 line을 만들지 않고 while을 실행하면 없는 변수와 빈 문자열 ''을 비교하게 되므로 에러가 발생합니다.\n",
    "  또는, line을 None이 아닌 ''로 초기화하면 처음부터 line != ''는 거짓이 되므로 반복을 하지 않고 코드가 그냥 끝나버립니다.\n",
    "   while을 사용할 때는 이 부분을 주의해주세요.\n",
    "\n",
    "    line = None    # 변수 line을 None으로 초기화\n",
    "    while line != '':\n",
    "문자열을 출력할 때는 print(line.strip('\\n')와 같이 strip 메서드로 \\n을 삭제했습니다.\n",
    "                  왜냐하면 파일에서 읽어온 문자열에는 '안녕하세요.\\n'와 같이 \\n이 이미 들어있기 때문입니다.\n",
    "                  만약 strip('\\n')을 생략하면 문자열 한 줄을 출력할 때마다 빈 줄이 계속 출력됩니다.\n",
    "                  즉, 문자열 안에 든 \\n과 print가 출력하는 \\n 때문에 줄바꿈이 두 번 일어납니다.\n",
    "\n",
    "27.2.5  for 반복문으로 파일의 내용을 줄 단위로 읽기\n",
    "while 반복문에서 readline을 사용하니 동작 방식이 조금 헷갈리죠?\n",
    " 파이썬에서는 for 반복문으로 좀 더 간단하게 파일의 내용을 읽을 수 있습니다.\n",
    "  다음은 for 반복문에 파일 객체를 지정하여 줄 단위로 파일의 내용을 읽습니다.\n",
    "\n",
    "file_for.py\n",
    "with open('hello.txt', 'r') as file:    # hello.txt 파일을 읽기 모드(r)로 열기\n",
    "    for line in file:    # for에 파일 객체를 지정하면 파일의 내용을 한 줄씩 읽어서 변수에 저장함\n",
    "        print(line.strip('\\n'))    # 파일에서 읽어온 문자열에서 \\n 삭제하여 출력\n",
    "실행 결과\n",
    "안녕하세요.\n",
    "파이썬\n",
    "코딩 도장입니다.\n",
    "for line in file:로 간단하게 파일의 내용을 한 줄씩 읽었습니다.\n",
    " 이렇게 for 반복문에 파일 객체를 지정하면 반복을 할 때마다 파일의 내용을 한 줄씩 읽어서 변수에 저장해줍니다.\n",
    "\n",
    "참고 | 파일 객체는 이터레이터\n",
    "파일 객체는 이터레이터입니다. 따라서 변수 여러 개에 저장하는 언패킹(unpacking)도 가능합니다\n",
    "(이터레이터는 'Unit 39 이터레이터 사용하기' 참조).\n",
    "\n",
    ">>> file = open('hello.txt', 'r')\n",
    ">>> a, b, c = file\n",
    ">>> a, b, c\n",
    "('안녕하세요.\\n', '파이썬\\n', '코딩 도장입니다.\\n')\n",
    "물론 a, b, c = file과 같이 사용하려면 hello.txt에는 문자열 3줄이 들어있어야 합니다. \n",
    "즉, 할당할 변수의 개수와 파일에 저장된 문자열의 줄 수가 일치해야 합니다."
   ]
  },
  {
   "cell_type": "code",
   "execution_count": null,
   "id": "64bb2fbf",
   "metadata": {
    "hidden": true
   },
   "outputs": [],
   "source": [
    "파일에서 문자열만 읽고 쓴다면 조금 불편하겠죠? 파이썬은 객체를 파일에 저장하는 pickle 모듈을 제공합니다.\n",
    "\n",
    "다음과 같이 파이썬 객체를 파일에 저장하는 과정을 피클링(pickling)이라고 하고, \n",
    "파일에서 객체를 읽어오는 과정을 언피클링(unpickling)이라고 합니다.\n",
    "\n",
    "27.3.1  파이썬 객체를 파일에 저장하기\n",
    "그럼 파이썬 객체를 파일에 저장하는 피클링을 해보겠습니다. 피클링은 pickle 모듈의 dump 메서드를 사용합니다.\n",
    "\n",
    "pickle_dump.py\n",
    "import pickle\n",
    " \n",
    "name = 'james'\n",
    "age = 17\n",
    "address = '서울시 서초구 반포동'\n",
    "scores = {'korean': 90, 'english': 95, 'mathematics': 85, 'science': 82}\n",
    " \n",
    "with open('james.p', 'wb') as file:    # james.p 파일을 바이너리 쓰기 모드(wb)로 열기\n",
    "    pickle.dump(name, file)\n",
    "    pickle.dump(age, file)\n",
    "    pickle.dump(address, file)\n",
    "    pickle.dump(scores, file)\n",
    "소스 코드를 실행하면 .py 파일이 있는 폴더에 james.p 파일이 생성됩니다. \n",
    "여기서는 확장자를 pickle의 p를 사용했지만 다른 확장자를 사용해도 상관없습니다.\n",
    "\n",
    "특히 pickle.dump로 객체(값)를 저장할 때는 open('james.p', 'wb')와 같이 파일 모드를 'wb'로 지정해야 합니다.\n",
    " b는 바이너리(binary)를 뜻하는데, 바이너리 파일은 컴퓨터가 처리하는 파일 형식입니다.\n",
    "  따라서 메모장 같은 텍스트 편집기로 열어도 사람이 알아보기 어렵습니다.\n",
    "\n",
    "참고로 지금까지 사용한 .txt 파일은 사람이 알아보기 쉽도록 만든 파일 형식이며 텍스트(text) 파일이라고 부릅니다.\n",
    "\n",
    "27.3.2  파일에서 파이썬 객체 읽기\n",
    "이제 파일에서 파이썬 객체를 읽어오는 언피클링을 해보겠습니다. 언피클링은 pickle 모듈의 load를 사용합니다. \n",
    "그리고 언피클링을 할 때는 반드시 파일 모드를 바이너리 읽기 모드 'rb'로 지정해야 합니다.\n",
    "\n",
    "pickle_load.py\n",
    "import pickle\n",
    " \n",
    "with open('james.p', 'rb') as file:    # james.p 파일을 바이너리 읽기 모드(rb)로 열기\n",
    "    name = pickle.load(file)\n",
    "    age = pickle.load(file)\n",
    "    address = pickle.load(file)\n",
    "    scores = pickle.load(file)\n",
    "    print(name)\n",
    "    print(age)\n",
    "    print(address)\n",
    "    print(scores)\n",
    "실행 결과\n",
    "james\n",
    "17\n",
    "서울시 서초구 반포동\n",
    "{'korean': 90, 'english': 95, 'mathematics': 85, 'science': 82}\n",
    "앞에서 james.p 파일을 저장할 때 pickle.dump를 네 번 사용했습니다.\n",
    " 마찬가지로 파일에서 객체(값)를 가져올 때도 pickle.load를 네 번 사용해야 합니다.\n",
    "  즉, name, age, address, scores 순으로 저장했으므로 가져올 때도 같은 순서로 가져오면 됩니다.\n",
    "\n",
    "지금까지 파일을 읽고 쓰는 방법을 배웠습니다. 파일 처리는 프로그램을 만들 때 자주 사용되므로 사용 방법을 정확히 익히는 것이 좋습니다.\n",
    "\n",
    "참고 | 다른 파일 모드는 없나요?\n",
    "사실 파일 모드는 조합에 따라 여러 종류가 있습니다.\n",
    " 읽기 'r', 쓰기 'w' 이외에 추가 'a', 배타적 생성 'x'도 있습니다.\n",
    "  추가 모드는 이미 있는 파일에서 끝에 새로운 내용을 추가할 때 사용하고,\n",
    "   배타적 생성 모드는 파일이 이미 있으면 에러(FileExistsError)를 발생시키고 없으면 파일을 만듭니다.\n",
    "    'x'는 베타적 생성(exclusive creation)의 x입니다\n",
    "\n",
    "또한, 파일의 형식도 함께 지정할 수 있는데, 텍스트 모드 't'와 바이너리 모드 'b'가 있습니다.\n",
    " 이 파일 형식과 읽기, 쓰기 모드를 조합한 텍스트 모드 'rt', 'wt'는 파일을 텍스트 모드로 엽니다. \n",
    " 특히 텍스트 모드는 생략할 수 있어서 그냥 'r', 'w'도 텍스트 모드입니다. \n",
    " 그리고 바이너리 모드 'rb', 'wb' 등은 피클링을 사용하거나 바이너리 데이터를 직접 저장할 때 사용합니다.\n",
    "\n",
    "그다음에 '+'가 있는데 파일을 읽기/쓰기 모드로 엽니다. \n",
    "이 모드는 'r+t', 'w+t', 'r+', 'w+', 'r+b', 'w+b' 등으로 조합할 수 있으며 읽기/쓰기 모드인 것은 같지만 파일 처리 방법이 조금씩 다릅니다.\n",
    "\n",
    "지금까지 나온 파일 모드 조합을 그림으로 정리하면 다음과 같은 구조가 됩니다.\n",
    "\n",
    "▼ 그림 27-4 파일 모드 조합\n",
    "\n"
   ]
  },
  {
   "cell_type": "code",
   "execution_count": null,
   "id": "81cc75aa",
   "metadata": {
    "hidden": true
   },
   "outputs": [],
   "source": [
    "회문 판별과 N-gram 만들기\n",
    "이번에는 문자열을 응용해서 회문을 판별하는 방법과 N-gram을 만드는 방법을 알아보겠습니다.\n",
    "\n",
    "회문은 유전자 염기서열 분석에서 많이 쓰고, N-gram은 빅 데이터 분석, 검색 엔진에서 많이 쓰입니다.\n",
    " 특히 구글은 책들을 스캔해서 N-gram viewer를 만들었는데 사람들의 언어 패턴을 시대별로 분석하기도 했습니다.\n",
    "\n",
    "28.1 회문 판별하기\n",
    "회문(palindrome)은 순서를 거꾸로 읽어도 제대로 읽은 것과 같은 단어와 문장을 말합니다.\n",
    " 예를 들면 \"level\", \"SOS\", \"rotator\", \"nurses run\"과 같은 단어와 문장이 있지요.\n",
    "\n",
    "그럼 문자열이 회문인지 판별하려면 어떻게 해야 할까요? \n",
    "먼저 회문을 잘 살펴보면 첫 번째 글자와 마지막 글자가 같습니다. \n",
    "그리고 안쪽으로 한 글자씩 좁혔을 때 글자가 서로 같으면 회문입니다.\n",
    "\n",
    "회문\n",
    "\n",
    "즉, 가운데 문자 v를 기준으로 왼쪽과 오른쪽의 문자가 같습니다.\n",
    "\n",
    "예제 코드를 보기 전에 스스로 고민해보고 코드를 작성해보세요. 고민하는 만큼 실력이 늡니다.\n",
    "\n",
    "28.1.1  반복문으로 문자 검사하기\n",
    "이제 반복문으로 문자열의 각 문자를 검사해보겠습니다.\n",
    "\n",
    "palindrome.py\n",
    "word = input('단어를 입력하세요: ')\n",
    " \n",
    "is_palindrome = True                 # 회문 판별값을 저장할 변수, 초깃값은 True\n",
    "for i in range(len(word) // 2):      # 0부터 문자열 길이의 절반만큼 반복\n",
    "    if word[i] != word[-1 - i]:      # 왼쪽 문자와 오른쪽 문자를 비교하여 문자가 다르면\n",
    "        is_palindrome = False        # 회문이 아님\n",
    "        break\n",
    " \n",
    "print(is_palindrome)                 # 회문 판별값 출력\n",
    "소스 코드를 실행한 뒤 level을 입력하고 엔터 키를 누르세요.\n",
    "\n",
    "실행 결과\n",
    "단어를 입력하세요: level (입력)\n",
    "True\n",
    "문자열 'level'은 회문이므로 True가 출력됩니다. 만약 'hello'처럼 회문이 아닌 단어들을 입력하면 False가 출력됩니다.\n",
    "\n",
    "실행 결과\n",
    "단어를 입력하세요: hello (입력)\n",
    "False\n",
    "회문 판별에서 가장 중요한 부분은 문자열(단어)의 길이입니다.\n",
    " 왜냐하면 회문 판별은 문자열의 길이를 기준으로 하기 때문입니다. \n",
    " 즉, 문자열을 절반으로 나누어서 왼쪽 문자와 오른쪽 문자가 같은지 검사해야 합니다.\n",
    "\n",
    "다음과 같이 반복을 할 때 문자열 길이의 절반만큼만 반복하도록 만듭니다.\n",
    " 예를 들어 문자열의 길이가 5라면 5 // 2 = 2(버림 나눗셈)이므로 가운데 글자 바로 앞까지만 검사하게 됩니다.\n",
    "\n",
    "for i in range(len(word) // 2):      # 0부터 문자열 길이의 절반만큼 반복\n",
    "반복문 안에서는 왼쪽 문자 word[i]와 오른쪽 문자 word[-1 - i]를 비교하여 \n",
    "문자가 다르면 회문이 아니므로 is_palindrome에 False를 넣어주고 break로 반복문을 끝냅니다. \n",
    "어차피 회문이 아니므로 더 검사할 필요가 없습니다.\n",
    "\n",
    "    if word[i] != word[-1 - i]:      # 왼쪽 문자와 오른쪽 문자를 비교하여 문자가 다르면\n",
    "        is_palindrome = False        # 회문이 아님\n",
    "        break\n",
    "for 반복문의 i가 0부터 1씩 증가하므로 word[i]는 왼쪽에서 오른쪽으로 진행하고,\n",
    " word[-1 - i]는 오른쪽에서 왼쪽으로 진행합니다. \n",
    " 즉, 문자열의 마지막 문자는 word[-1]이므로 여기서 인덱스를 i만큼 계속 빼주면 오른쪽에서 왼쪽으로 진행합니다. \n",
    " 이 부분은 파이썬에서 음수 인덱스를 지정하면 뒤에서부터 요소에 접근할 수 있다는 점을 이용한 것입니다.\n",
    "  음수 -1에서 숫자를 빼면 -2, -3, -4처럼 되므로 i가 커질 수록 더 왼쪽으로 옵니다.\n",
    "\n",
    "▼ 그림 28-2 회문 판별 과정\n",
    "\n",
    "참고로 word[-1 - i]는 word[-(1 + i)]와 같이 숫자를 i만큼 증가시킨 뒤 음수로 바꾸는 방식으로도 표현할 수 있습니다.\n",
    "\n",
    "28.1.2  시퀀스 뒤집기로 문자 검사하기\n",
    "반복문으로 문자열의 각 문자를 일일이 비교하려니 다소 번거롭습니다. \n",
    "그럼 좀 더 간단한 방법은 없을까요? 회문은 시퀀스 객체의 슬라이스를 활용하면 간단하게 판별할 수 있습니다.\n",
    "\n",
    "palindrome_slice.py\n",
    "word = input('단어를 입력하세요: ')\n",
    " \n",
    "print(word == word[::-1])    # 원래 문자열과 반대로 뒤집은 문자열을 비교\n",
    "실행 결과\n",
    "단어를 입력하세요: level (입력)\n",
    "True\n",
    "단어를 입력하세요: hello (입력)\n",
    "False\n",
    "word == word[::-1] 한 줄로 간단하게 끝났습니다. \n",
    "너무 쉽죠? word[::-1]은 문자열 전체에서 인덱스를 1씩 감소시키면서 요소를 가져오므로 문자열을 반대로 뒤집습니다. \n",
    "회문은 순서를 거꾸로 읽어도 제대로 읽은 것과 같은 문자열이므로 원래 문자열 word와 뒤집은 문자열 word[::-1]이 같으면 회문입니다.\n",
    "\n",
    "28.1.3  리스트와 reversed 사용하기\n",
    "사실 파이썬에서는 이 방법이외에도 다양한 방법으로 회문을 판별할 수 있습니다.\n",
    " 다음과 같이 반복 가능한 객체의 요소 순서를 반대로 뒤집는 reversed를 사용해도 됩니다.\n",
    "\n",
    ">>> word = 'level'\n",
    ">>> list(word) == list(reversed(word))\n",
    "True\n",
    "list에 문자열을 넣으면 문자 하나 하나가 리스트의 요소로 들어갑니다. \n",
    "여기서 reversed로 문자열을 반대로 뒤집어서 list에 넣으면 문자 순서가 반대로 된 리스트를 구할 수 있죠?\n",
    "\n",
    ">>> list(word)\n",
    "['l', 'e', 'v', 'e', 'l']\n",
    ">>> list(reversed(word))\n",
    "['l', 'e', 'v', 'e', 'l']\n",
    "이 두 리스트를 ==로 비교하면 문자열이 회문인지 판별할 수 있습니다.\n",
    "\n",
    "28.1.4  문자열의 join 메서드와 reversed 사용하기\n",
    "리스트와 reversed를 사용하는 방법 말고도 문자열의 join 메서드를 사용해서 회문을 판별할 수도 있습니다.\n",
    "\n",
    ">>> word = 'level'\n",
    ">>> word == ''.join(reversed(word))\n",
    "True\n",
    "join은 구분자 문자열과 문자열 리스트의 요소를 연결합니다. \n",
    "여기서는 빈 문자열 ''에 reversed(word)의 요소를 연결했으므로 문자 순서가 반대로 된 문자열을 얻을 수 있습니다.\n",
    " 즉, join은 요소 사이에 구분자를 넣지만 빈 문자열 ''을 활용하여 각 문자를 그대로 연결하는 방식입니다.\n",
    "\n",
    ">>> word\n",
    "'level'\n",
    ">>> ''.join(reversed(word))\n",
    "'level'\n",
    "이 두 문자열을 ==로 비교하면 문자열이 회문인지 판별할 수 있습니다."
   ]
  },
  {
   "cell_type": "code",
   "execution_count": null,
   "id": "50b69202",
   "metadata": {
    "hidden": true
   },
   "outputs": [],
   "source": [
    "N-gram은 문자열에서 N개의 연속된 요소를 추출하는 방법입니다. \n",
    "만약 'Hello'라는 문자열을 문자(글자) 단위 2-gram으로 추출하면 다음과 같이 됩니다.\n",
    "\n",
    "He\n",
    "el\n",
    "ll\n",
    "lo\n",
    "즉, 문자열의 처음부터 문자열 끝까지 한 글자씩 이동하면서 2글자를 추출합니다. 3-gram은 3글자, 4-gram은 4글자를 추출하겠죠?\n",
    "\n",
    "28.2.1  반복문으로 N-gram 출력하기\n",
    "이제 반복문으로 문자 단위 2-gram을 출력해보겠습니다.\n",
    "\n",
    "2_gram_character.py\n",
    "text = 'Hello'\n",
    " \n",
    "for i in range(len(text) - 1):             # 2-gram이므로 문자열의 끝에서 한 글자 앞까지만 반복함\n",
    "    print(text[i], text[i + 1], sep='')    # 현재 문자와 그다음 문자 출력\n",
    "실행 결과\n",
    "He\n",
    "el\n",
    "ll\n",
    "lo\n",
    "생각보다 간단하죠? 2-gram이므로 문자열의 끝에서 한 글자 앞까지만 반복하면서 현재 문자와 그다음 문자 두 글자씩 출력합니다.\n",
    "\n",
    "▼ 그림 28-3 2-gram\n",
    "\n",
    "만약 3-gram이라면 반복 횟수는 range(len(text) - 2))와 같이 되고, 문자열 끝에서 두 글자 앞까지 반복하면 됩니다.\n",
    " 문자열을 출력할 때는 print(text[i], text[i + 1], text[i + 2], sep='')가 되겠죠? \n",
    " 여기서 문자열의 끝까지 반복하면 text[i + 1], text[i + 2]는 문자열의 범위를 벗어난 접근을 하게 되므로 주의해야 합니다.\n",
    "\n",
    "글자 단위 N-gram이 있다면 단어 단위 N-gram도 있겠죠? \n",
    "다음은 문자열을 공백으로 구분하여 단어 단위 2-gram을 출력합니다. \n",
    "예를 들어 'this is python script'는 'this is', 'is python', 'python script'가 됩니다.\n",
    "\n",
    "2_gram_word.py\n",
    "text = 'this is python script'\n",
    "words = text.split()                 # 공백을 기준으로 문자열을 분리하여 리스트로 만듦\n",
    " \n",
    "for i in range(len(words) - 1):      # 2-gram이므로 리스트의 마지막에서 요소 한 개 앞까지만 반복함\n",
    "    print(words[i], words[i + 1])    # 현재 문자열과 그다음 문자열 출력\n",
    "실행 결과\n",
    "this is\n",
    "is python\n",
    "python script\n",
    "단어 단위 2-gram도 간단합니다. split을 사용하여 공백을 기준으로 문자열을 분리하여 리스트로 만듭니다.\n",
    " 그리고 2-gram이므로 words 리스트의 마지막에서 요소 한 개 앞까지만 반복하면서 현재 문자열과 그다음 문자열을 출력하면 됩니다.\n",
    "\n",
    "28.2.2  zip으로 2-gram 만들기\n",
    "이번에는 zip 함수로 2-gram을 만드는 방법을 알아보겠습니다.\n",
    "\n",
    "2_gram_character_zip.py\n",
    "text = 'hello'\n",
    " \n",
    "two_gram = zip(text, text[1:])\n",
    "for i in two_gram:\n",
    "    print(i[0], i[1], sep='')\n",
    "실행 결과\n",
    "He\n",
    "el\n",
    "ll\n",
    "lo\n",
    "지금까지 zip 함수는 리스트 두 개를 딕셔너리로 만들 때 사용했는데, zip 함수는 반복 가능한 객체의 각 요소를 튜플로 묶어줍니다.\n",
    "\n",
    "zip(text, text[1:])은 문자열 text와 text[1:]의 각 요소를 묶어서 튜플로 만듭니다. \n",
    "text[1:]은 인덱스 1(두 번째 문자)부터 마지막 문자까지 가져오죠? \n",
    "따라서 text와 text[1:]을 zip으로 묶으면 문자 하나가 밀린 상태로 각 문자를 묶게 됩니다.\n",
    "\n",
    ">>> text = 'hello'\n",
    ">>> list(zip(text, text[1:]))\n",
    "[('h', 'e'), ('e', 'l'), ('l', 'l'), ('l', 'o')]\n",
    "2-gram 리스트가 만들어졌죠?\n",
    " 이 리스트를 출력할 때는 for i in two_gram:와 같이 for로 반복하면서 print(i[0], i[1], sep='')로 튜플의 요소를 출력해주면 됩니다.\n",
    "\n",
    "단어 단위 2-gram도 같은 방법으로 만들면 됩니다. \n",
    "문자열을 공백으로 분리하여 리스트로 만드는 것 말고는 앞과 같습니다.\n",
    "\n",
    ">>> text = 'this is python script'\n",
    ">>> words = text.split()\n",
    ">>> list(zip(words, words[1:]))\n",
    "[('this', 'is'), ('is', 'python'), ('python', 'script')]\n",
    "만약 3-gram을 만들고 싶다면 zip(words, words[1:], words[2:])와 같이 word, word[1:], word[2:] 3개의 리스트를 넣으면 되겠죠?\n",
    "\n",
    "28.2.3  zip과 리스트 표현식으로 N-gram 만들기\n",
    "N-gram을 만들 때 zip에 일일이 [1:], [2:]같은 슬라이스를 넣자니 상당히 번거롭습니다.\n",
    " 만약 N-gram의 숫자가 늘어나면 그만큼 슬라이스도 여러 개 입력해줘야 합니다. \n",
    " 그러면 이 과정을 코드로 만들 수는 없을까요? 다음과 같이 리스트 표현식을 사용하면 됩니다.\n",
    "\n",
    ">>> text = 'hello'\n",
    ">>> [text[i:] for i in range(3)]\n",
    "['hello', 'ello', 'llo']\n",
    "[text[i:] for i in range(3)]처럼 for로 3번 반복하면서 text[i:]로 리스트를 생성했습니다.\n",
    " 여기서 for i in range(3)는 0, 1, 2까지 반복하므로 text[i:]는 text[0:], text[1:], text[2:]가 되죠? 즉, 3-gram에 필요한 슬라이스입니다.\n",
    "  text[0:]은 text와 같으므로 지금까지 zip에 넣었던 모양입니다.\n",
    "\n",
    "이제 리스트 ['hello', 'ello', 'llo']를 zip에 넣어보겠습니다.\n",
    "\n",
    ">>> list(zip(['hello', 'ello', 'llo']))\n",
    "[('hello',), ('ello',), ('llo',)]\n",
    "결과를 보면 원하는 3-gram이 아닙니다. 왜 그럴까요? \n",
    "zip은 반복 가능한 객체 여러 개를 콤마로 구분해서 넣어줘야 합니다. \n",
    "하지만 ['hello', 'ello', 'llo']은 요소가 3개 들어있는 리스트 1개이기 때문입니다.\n",
    "\n",
    "zip에 리스트의 각 요소를 콤마로 구분해서 넣어주려면 리스트 앞에 *를 붙여야 합니다.\n",
    "\n",
    ">>> list(zip(*['hello', 'ello', 'llo']))\n",
    "[('h', 'e', 'l'), ('e', 'l', 'l'), ('l', 'l', 'o')]\n",
    "이제 3-gram 리스트가 만들어졌습니다. \n",
    "물론 리스트 표현식을 바로 zip에 넣어주려면 리스트 표현식 앞에 *를 붙이면 됩니다.\n",
    "\n",
    ">>> list(zip(*[text[i:] for i in range(3)]))\n",
    "[('h', 'e', 'l'), ('e', 'l', 'l'), ('l', 'l', 'o')]\n",
    "리스트에 *를 붙이는 방법은 리스트 언패킹(list unpacking)이라고 하는데 \n",
    "이 부분은 '30.1 위치 인수와 리스트 언패킹 사용하기'에서 자세히 설명하겠습니다.\n",
    "\n",
    "지금까지 회문 판별과 N-gram을 만들어보았습니다. \n",
    "여기서는 인덱스로 문자열을 다루는 방법과 reversed, zip을 활용하는 방법을 눈여겨 보는 것이 좋습니다.\n",
    " 그리고 reversed, zip으로 문제를 쉽게 해결할 수 있다고 해도 인덱스를 사용하는 방법은 꼭 익혀두기 바랍니다.\n",
    "  문제가 조금 변형되거나 예외가 생길 때는 인덱스를 활용해야 하는 경우도 있기 때문입니다.\n",
    "\n",
    "읽을거리 | N-gram의 활용\n",
    "4-gram을 쓰면 picked, picks, picking에서 pick만 추출하여 단어의 빈도를 세는데 이용됩니다. \n",
    "이런 특성 때문에 검색엔진, 빅데이터, 법언어학 분야에서 주로 활용됩니다.\n",
    "\n",
    "해리포터의 작가 조앤 롤링은 가명으로 <더 쿠쿠스 콜링>이라는 소설을 출간한 적이 있었습니다.\n",
    " 재미있는 점은 <더 쿠쿠스 콜링>의 작가가 조앤 롤링이라는 것을 밝혀내는데 N-gram을 비롯하여 다양한 기법이 동원되었습니다.\n",
    "  즉, 사람마다 사용하는 문장에 패턴이 있지요. \n",
    "  그래서 같은 의미라 하더라도 사람마다 단어 선택이 다르다는 것을 통계적으로 분석해낸 사례입니다.\n",
    "\n",
    "조앤 롤링을 고백하게 만든 기술, 법언어학: http://yoonjiman.net/2013/07/23/how-forensic-linguistics-outed-j-k-rowling/\n",
    "\n"
   ]
  },
  {
   "cell_type": "code",
   "execution_count": null,
   "id": "04a662f6",
   "metadata": {
    "hidden": true
   },
   "outputs": [],
   "source": [
    "파일 열기, 닫기\n",
    "\n",
    "파일 읽기/쓰기를 하기 전에는 open 함수로 파일을 열어서 파일 객체를 얻어야 합니다.\n",
    " 그다음에 파일 읽기/쓰기 작업이 끝났다면 반드시 close로 파일 객체를 닫아줍니다.\n",
    "\n",
    "파일객체 = open(파일이름, 파일모드)    # 파일 열기\n",
    "파일객체.close()                       # 파일 객체 닫기\n",
    " \n",
    "with open(파일이름, 파일모드) as 파일객체:    # 파일을 사용한 뒤 자동으로 파일 객체를 닫아줌\n",
    "    코드\n",
    "파일 모드\n",
    "\n",
    "파일을 열 때는 용도에 따라 다양한 파일 모드를 지정해야 합니다.\n",
    "\n",
    "▼ 표 28-1 파일 모드\n",
    "파일 모드\n",
    "\n",
    "기능\n",
    "\n",
    "설명\n",
    "\n",
    "'r'\n",
    "\n",
    "읽기 전용\n",
    "\n",
    "파일을 읽기 전용으로 열기. 단, 파일이 반드시 있어야 하며 파일이 없으면 에러 발생\n",
    "\n",
    "'w'\n",
    "\n",
    "쓰기 전용\n",
    "\n",
    "쓰기 전용으로 새 파일을 생성. 만약 파일이 있으면 내용을 덮어씀\n",
    "\n",
    "'a'\n",
    "\n",
    "추가\n",
    "\n",
    "파일을 열어 파일 끝에 값을 이어 씀. 만약 파일이 없으면 파일을 생성\n",
    "\n",
    "'x'\n",
    "\n",
    "배타적 생성(쓰기)\n",
    "\n",
    "파일을 쓰기 모드로 생성. 파일이 이미 있으면 에러 발생\n",
    "\n",
    "'r+'\n",
    "\n",
    "읽기/쓰기\n",
    "\n",
    "파일을 읽기/쓰기용으로 열기. 단, 파일이 반드시 있어야 하며 파일이 없으면 에러 발생\n",
    "\n",
    "'w+'\n",
    "\n",
    "읽기/쓰기\n",
    "\n",
    "파일을 읽기/쓰기용으로 열기. 파일이 없으면 파일을 생성하고, 파일이 있으면 내용을 덮어씀\n",
    "\n",
    "'a+'\n",
    "\n",
    "추가(읽기/쓰기)\n",
    "\n",
    "파일을 열어 파일 끝에 값을 이어 씀. 만약 파일이 없으면 파일을 생성. 읽기는 파일의 모든 구간에서 가능하지만, 쓰기는 파일의 끝에서만 가능함\n",
    "\n",
    "'x+'\n",
    "\n",
    "배타적 생성(읽기/쓰기)\n",
    "\n",
    "파일을 읽기/쓰기 모드로 생성. 파일이 이미 있으면 에러 발생\n",
    "\n",
    "t\n",
    "\n",
    "텍스트 모드\n",
    "\n",
    "파일을 읽거나 쓸 때 개행 문자 \\n과 \\r\\n을 서로 변환\n",
    "\n",
    "t를 생략하면 텍스트 모드\n",
    "\n",
    "b\n",
    "\n",
    "바이너리 모드\n",
    "\n",
    "파일의 내용을 그대로 읽고, 값을 그대로 씀\n",
    "\n",
    "파일 메서드\n",
    "\n",
    "▼ 표 28-2 파일 메서드\n",
    "메서드\n",
    "\n",
    "설명\n",
    "\n",
    "read()\n",
    "\n",
    "파일에서 문자열을 읽음\n",
    "\n",
    "write('문자열')\n",
    "\n",
    "파일에 문자열을 씀\n",
    "\n",
    "readline()\n",
    "\n",
    "파일의 내용을 한 줄 읽음\n",
    "\n",
    "readlines()\n",
    "\n",
    "파일의 내용을 한 줄씩 리스트 형태로 가져옴\n",
    "\n",
    "writelines(문자열리스트)\n",
    "\n",
    "파일에 리스트의 문자열을 씀, 리스트의 각 문자열에는 \\n을 붙여주어야 함\n",
    "\n",
    "pickle.load(파일객체)\n",
    "\n",
    "파일에서 파이썬 객체를 읽음\n",
    "\n",
    "pickle.dump(객체, 파일객체)\n",
    "\n",
    "파이썬 객체를 파일에 저장"
   ]
  },
  {
   "cell_type": "markdown",
   "id": "f01b1c5d",
   "metadata": {
    "heading_collapsed": true
   },
   "source": [
    "### 11 추가 자료"
   ]
  },
  {
   "cell_type": "markdown",
   "id": "942ce5e2",
   "metadata": {
    "hidden": true
   },
   "source": [
    "#### Multiprocessing\n",
    "Multiprocessing(멀티프로세싱) : 컴퓨터가 작업을 처리하는 속도를 높여주는 방법 중 하나입니다\n",
    "\n",
    "parallel processing은 병렬 처리로\n",
    "serial processing은 순차 처리로\n",
    "코어의 개수는 터미널에 grep -c processor /proc/cpuinfo 명령어를 입력하여 확인할 수 있습니다.\n",
    "pool = multiprocessing.Pool(processes = 2) : 병렬 처리 시, 2개의 프로세스를 사용하도록 합니다\n",
    "코어의 개수는 터미널에 grep -c processor /proc/cpuinfo 명령어를 입력하여 확인할 수 있습니다\n",
    "pool.map(count, num_list) : 병렬화를 시키는 함수로, count 함수에 num_list의 원소들을 하나씩 넣어 놓습니다\n",
    "pool.close() : 일반적으로 병렬화 부분이 끝나면 나옵니다. 더 이상 pool을 통해서 새로운 작업을 추가하지 않을 때 사용합니다.\n",
    "pool.join() : 프로세스가 종료될 때까지 대기하도록 지시하는 구문으로써 병렬처리 작업이 끝날 때까지 기다리도록 합니다."
   ]
  },
  {
   "cell_type": "markdown",
   "id": "0cd9c88b",
   "metadata": {
    "hidden": true
   },
   "source": [
    "#### "
   ]
  },
  {
   "cell_type": "markdown",
   "id": "6474eca1",
   "metadata": {
    "hidden": true
   },
   "source": [
    "#### "
   ]
  },
  {
   "cell_type": "markdown",
   "id": "29482c2f",
   "metadata": {
    "hidden": true
   },
   "source": [
    "#### "
   ]
  },
  {
   "cell_type": "markdown",
   "id": "024caa11",
   "metadata": {
    "hidden": true
   },
   "source": [
    "#### "
   ]
  },
  {
   "cell_type": "markdown",
   "id": "6bd286d2",
   "metadata": {
    "hidden": true
   },
   "source": [
    "#### "
   ]
  },
  {
   "cell_type": "markdown",
   "id": "424aadfd",
   "metadata": {},
   "source": [
    "### "
   ]
  },
  {
   "cell_type": "markdown",
   "id": "d6a20691",
   "metadata": {},
   "source": [
    "### "
   ]
  }
 ],
 "metadata": {
  "hide_input": false,
  "kernelspec": {
   "display_name": "Python 3 (ipykernel)",
   "language": "python",
   "name": "python3"
  },
  "language_info": {
   "codemirror_mode": {
    "name": "ipython",
    "version": 3
   },
   "file_extension": ".py",
   "mimetype": "text/x-python",
   "name": "python",
   "nbconvert_exporter": "python",
   "pygments_lexer": "ipython3",
   "version": "3.9.12"
  },
  "toc": {
   "base_numbering": 1,
   "nav_menu": {},
   "number_sections": false,
   "sideBar": false,
   "skip_h1_title": false,
   "title_cell": "",
   "title_sidebar": "",
   "toc_cell": false,
   "toc_position": {
    "height": "844px",
    "left": "1589px",
    "top": "107px",
    "width": "331px"
   },
   "toc_section_display": false,
   "toc_window_display": true
  }
 },
 "nbformat": 4,
 "nbformat_minor": 5
}
